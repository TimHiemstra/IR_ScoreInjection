{
  "metadata": {
    "colab": {
      "provenance": [],
      "gpuType": "T4"
    },
    "kernelspec": {
      "name": "python3",
      "display_name": "Python 3"
    },
    "language_info": {
      "name": "python",
      "version": "3.10.12",
      "mimetype": "text/x-python",
      "codemirror_mode": {
        "name": "ipython",
        "version": 3
      },
      "pygments_lexer": "ipython3",
      "nbconvert_exporter": "python",
      "file_extension": ".py"
    },
    "kaggle": {
      "accelerator": "gpu",
      "dataSources": [],
      "dockerImageVersionId": 30587,
      "isInternetEnabled": true,
      "language": "python",
      "sourceType": "notebook",
      "isGpuEnabled": true
    },
    "accelerator": "GPU",
    "widgets": {
      "application/vnd.jupyter.widget-state+json": {
        "91ba2db19a3640c484c28ee8b1dc8319": {
          "model_module": "@jupyter-widgets/controls",
          "model_name": "HBoxModel",
          "model_module_version": "1.5.0",
          "state": {
            "_dom_classes": [],
            "_model_module": "@jupyter-widgets/controls",
            "_model_module_version": "1.5.0",
            "_model_name": "HBoxModel",
            "_view_count": null,
            "_view_module": "@jupyter-widgets/controls",
            "_view_module_version": "1.5.0",
            "_view_name": "HBoxView",
            "box_style": "",
            "children": [
              "IPY_MODEL_878d27540dbd418caab27d41045cfcc1",
              "IPY_MODEL_9dac095c16304b9484183055a8100e54",
              "IPY_MODEL_1452a59f0efe48bc92f2889506f599e0"
            ],
            "layout": "IPY_MODEL_9647ee5edc494784ba5a6e4885dabb16"
          }
        },
        "878d27540dbd418caab27d41045cfcc1": {
          "model_module": "@jupyter-widgets/controls",
          "model_name": "HTMLModel",
          "model_module_version": "1.5.0",
          "state": {
            "_dom_classes": [],
            "_model_module": "@jupyter-widgets/controls",
            "_model_module_version": "1.5.0",
            "_model_name": "HTMLModel",
            "_view_count": null,
            "_view_module": "@jupyter-widgets/controls",
            "_view_module_version": "1.5.0",
            "_view_name": "HTMLView",
            "description": "",
            "description_tooltip": null,
            "layout": "IPY_MODEL_64c539180b214743be9d8c4e00b69313",
            "placeholder": "​",
            "style": "IPY_MODEL_392228dbfa104c7593914ce21f373ebd",
            "value": "100%"
          }
        },
        "9dac095c16304b9484183055a8100e54": {
          "model_module": "@jupyter-widgets/controls",
          "model_name": "FloatProgressModel",
          "model_module_version": "1.5.0",
          "state": {
            "_dom_classes": [],
            "_model_module": "@jupyter-widgets/controls",
            "_model_module_version": "1.5.0",
            "_model_name": "FloatProgressModel",
            "_view_count": null,
            "_view_module": "@jupyter-widgets/controls",
            "_view_module_version": "1.5.0",
            "_view_name": "ProgressView",
            "bar_style": "success",
            "description": "",
            "description_tooltip": null,
            "layout": "IPY_MODEL_f4dbaaca85de43889226cfb5b732a3ff",
            "max": 187092,
            "min": 0,
            "orientation": "horizontal",
            "style": "IPY_MODEL_582b29ec26184bbbae41d95b7e656fb6",
            "value": 187092
          }
        },
        "1452a59f0efe48bc92f2889506f599e0": {
          "model_module": "@jupyter-widgets/controls",
          "model_name": "HTMLModel",
          "model_module_version": "1.5.0",
          "state": {
            "_dom_classes": [],
            "_model_module": "@jupyter-widgets/controls",
            "_model_module_version": "1.5.0",
            "_model_name": "HTMLModel",
            "_view_count": null,
            "_view_module": "@jupyter-widgets/controls",
            "_view_module_version": "1.5.0",
            "_view_name": "HTMLView",
            "description": "",
            "description_tooltip": null,
            "layout": "IPY_MODEL_73520a6a23a4433d9f47836db248df04",
            "placeholder": "​",
            "style": "IPY_MODEL_e9800a3426ab4756957fded6c539ab03",
            "value": " 187k/187k [00:00&lt;00:00, 161kB/s]"
          }
        },
        "9647ee5edc494784ba5a6e4885dabb16": {
          "model_module": "@jupyter-widgets/base",
          "model_name": "LayoutModel",
          "model_module_version": "1.2.0",
          "state": {
            "_model_module": "@jupyter-widgets/base",
            "_model_module_version": "1.2.0",
            "_model_name": "LayoutModel",
            "_view_count": null,
            "_view_module": "@jupyter-widgets/base",
            "_view_module_version": "1.2.0",
            "_view_name": "LayoutView",
            "align_content": null,
            "align_items": null,
            "align_self": null,
            "border": null,
            "bottom": null,
            "display": null,
            "flex": null,
            "flex_flow": null,
            "grid_area": null,
            "grid_auto_columns": null,
            "grid_auto_flow": null,
            "grid_auto_rows": null,
            "grid_column": null,
            "grid_gap": null,
            "grid_row": null,
            "grid_template_areas": null,
            "grid_template_columns": null,
            "grid_template_rows": null,
            "height": null,
            "justify_content": null,
            "justify_items": null,
            "left": null,
            "margin": null,
            "max_height": null,
            "max_width": null,
            "min_height": null,
            "min_width": null,
            "object_fit": null,
            "object_position": null,
            "order": null,
            "overflow": null,
            "overflow_x": null,
            "overflow_y": null,
            "padding": null,
            "right": null,
            "top": null,
            "visibility": null,
            "width": null
          }
        },
        "64c539180b214743be9d8c4e00b69313": {
          "model_module": "@jupyter-widgets/base",
          "model_name": "LayoutModel",
          "model_module_version": "1.2.0",
          "state": {
            "_model_module": "@jupyter-widgets/base",
            "_model_module_version": "1.2.0",
            "_model_name": "LayoutModel",
            "_view_count": null,
            "_view_module": "@jupyter-widgets/base",
            "_view_module_version": "1.2.0",
            "_view_name": "LayoutView",
            "align_content": null,
            "align_items": null,
            "align_self": null,
            "border": null,
            "bottom": null,
            "display": null,
            "flex": null,
            "flex_flow": null,
            "grid_area": null,
            "grid_auto_columns": null,
            "grid_auto_flow": null,
            "grid_auto_rows": null,
            "grid_column": null,
            "grid_gap": null,
            "grid_row": null,
            "grid_template_areas": null,
            "grid_template_columns": null,
            "grid_template_rows": null,
            "height": null,
            "justify_content": null,
            "justify_items": null,
            "left": null,
            "margin": null,
            "max_height": null,
            "max_width": null,
            "min_height": null,
            "min_width": null,
            "object_fit": null,
            "object_position": null,
            "order": null,
            "overflow": null,
            "overflow_x": null,
            "overflow_y": null,
            "padding": null,
            "right": null,
            "top": null,
            "visibility": null,
            "width": null
          }
        },
        "392228dbfa104c7593914ce21f373ebd": {
          "model_module": "@jupyter-widgets/controls",
          "model_name": "DescriptionStyleModel",
          "model_module_version": "1.5.0",
          "state": {
            "_model_module": "@jupyter-widgets/controls",
            "_model_module_version": "1.5.0",
            "_model_name": "DescriptionStyleModel",
            "_view_count": null,
            "_view_module": "@jupyter-widgets/base",
            "_view_module_version": "1.2.0",
            "_view_name": "StyleView",
            "description_width": ""
          }
        },
        "f4dbaaca85de43889226cfb5b732a3ff": {
          "model_module": "@jupyter-widgets/base",
          "model_name": "LayoutModel",
          "model_module_version": "1.2.0",
          "state": {
            "_model_module": "@jupyter-widgets/base",
            "_model_module_version": "1.2.0",
            "_model_name": "LayoutModel",
            "_view_count": null,
            "_view_module": "@jupyter-widgets/base",
            "_view_module_version": "1.2.0",
            "_view_name": "LayoutView",
            "align_content": null,
            "align_items": null,
            "align_self": null,
            "border": null,
            "bottom": null,
            "display": null,
            "flex": null,
            "flex_flow": null,
            "grid_area": null,
            "grid_auto_columns": null,
            "grid_auto_flow": null,
            "grid_auto_rows": null,
            "grid_column": null,
            "grid_gap": null,
            "grid_row": null,
            "grid_template_areas": null,
            "grid_template_columns": null,
            "grid_template_rows": null,
            "height": null,
            "justify_content": null,
            "justify_items": null,
            "left": null,
            "margin": null,
            "max_height": null,
            "max_width": null,
            "min_height": null,
            "min_width": null,
            "object_fit": null,
            "object_position": null,
            "order": null,
            "overflow": null,
            "overflow_x": null,
            "overflow_y": null,
            "padding": null,
            "right": null,
            "top": null,
            "visibility": null,
            "width": null
          }
        },
        "582b29ec26184bbbae41d95b7e656fb6": {
          "model_module": "@jupyter-widgets/controls",
          "model_name": "ProgressStyleModel",
          "model_module_version": "1.5.0",
          "state": {
            "_model_module": "@jupyter-widgets/controls",
            "_model_module_version": "1.5.0",
            "_model_name": "ProgressStyleModel",
            "_view_count": null,
            "_view_module": "@jupyter-widgets/base",
            "_view_module_version": "1.2.0",
            "_view_name": "StyleView",
            "bar_color": null,
            "description_width": ""
          }
        },
        "73520a6a23a4433d9f47836db248df04": {
          "model_module": "@jupyter-widgets/base",
          "model_name": "LayoutModel",
          "model_module_version": "1.2.0",
          "state": {
            "_model_module": "@jupyter-widgets/base",
            "_model_module_version": "1.2.0",
            "_model_name": "LayoutModel",
            "_view_count": null,
            "_view_module": "@jupyter-widgets/base",
            "_view_module_version": "1.2.0",
            "_view_name": "LayoutView",
            "align_content": null,
            "align_items": null,
            "align_self": null,
            "border": null,
            "bottom": null,
            "display": null,
            "flex": null,
            "flex_flow": null,
            "grid_area": null,
            "grid_auto_columns": null,
            "grid_auto_flow": null,
            "grid_auto_rows": null,
            "grid_column": null,
            "grid_gap": null,
            "grid_row": null,
            "grid_template_areas": null,
            "grid_template_columns": null,
            "grid_template_rows": null,
            "height": null,
            "justify_content": null,
            "justify_items": null,
            "left": null,
            "margin": null,
            "max_height": null,
            "max_width": null,
            "min_height": null,
            "min_width": null,
            "object_fit": null,
            "object_position": null,
            "order": null,
            "overflow": null,
            "overflow_x": null,
            "overflow_y": null,
            "padding": null,
            "right": null,
            "top": null,
            "visibility": null,
            "width": null
          }
        },
        "e9800a3426ab4756957fded6c539ab03": {
          "model_module": "@jupyter-widgets/controls",
          "model_name": "DescriptionStyleModel",
          "model_module_version": "1.5.0",
          "state": {
            "_model_module": "@jupyter-widgets/controls",
            "_model_module_version": "1.5.0",
            "_model_name": "DescriptionStyleModel",
            "_view_count": null,
            "_view_module": "@jupyter-widgets/base",
            "_view_module_version": "1.2.0",
            "_view_name": "StyleView",
            "description_width": ""
          }
        },
        "18fc037d187841fea5b30fd3a6ae492d": {
          "model_module": "@jupyter-widgets/controls",
          "model_name": "HBoxModel",
          "model_module_version": "1.5.0",
          "state": {
            "_dom_classes": [],
            "_model_module": "@jupyter-widgets/controls",
            "_model_module_version": "1.5.0",
            "_model_name": "HBoxModel",
            "_view_count": null,
            "_view_module": "@jupyter-widgets/controls",
            "_view_module_version": "1.5.0",
            "_view_name": "HBoxView",
            "box_style": "",
            "children": [
              "IPY_MODEL_8e1d9186bf3c4cf199882f5079f48f51",
              "IPY_MODEL_706c624ad79148059e32477b56eacd11",
              "IPY_MODEL_a204fd8fc213411ea5d2332a123f70a6"
            ],
            "layout": "IPY_MODEL_11095ebedf8146a1a0ed478e917aa105"
          }
        },
        "8e1d9186bf3c4cf199882f5079f48f51": {
          "model_module": "@jupyter-widgets/controls",
          "model_name": "HTMLModel",
          "model_module_version": "1.5.0",
          "state": {
            "_dom_classes": [],
            "_model_module": "@jupyter-widgets/controls",
            "_model_module_version": "1.5.0",
            "_model_name": "HTMLModel",
            "_view_count": null,
            "_view_module": "@jupyter-widgets/controls",
            "_view_module_version": "1.5.0",
            "_view_name": "HTMLView",
            "description": "",
            "description_tooltip": null,
            "layout": "IPY_MODEL_eff8229bb58843e884f898fbc6dfbd80",
            "placeholder": "​",
            "style": "IPY_MODEL_6f5b9e024b4245d48c721cf73087da7c",
            "value": "100%"
          }
        },
        "706c624ad79148059e32477b56eacd11": {
          "model_module": "@jupyter-widgets/controls",
          "model_name": "FloatProgressModel",
          "model_module_version": "1.5.0",
          "state": {
            "_dom_classes": [],
            "_model_module": "@jupyter-widgets/controls",
            "_model_module_version": "1.5.0",
            "_model_name": "FloatProgressModel",
            "_view_count": null,
            "_view_module": "@jupyter-widgets/controls",
            "_view_module_version": "1.5.0",
            "_view_name": "ProgressView",
            "bar_style": "success",
            "description": "",
            "description_tooltip": null,
            "layout": "IPY_MODEL_0bef3fe3c44d440091d9c8558b2d1dad",
            "max": 26634062,
            "min": 0,
            "orientation": "horizontal",
            "style": "IPY_MODEL_a2e8b2b605ea41dcb105e45c42edf0d7",
            "value": 26634062
          }
        },
        "a204fd8fc213411ea5d2332a123f70a6": {
          "model_module": "@jupyter-widgets/controls",
          "model_name": "HTMLModel",
          "model_module_version": "1.5.0",
          "state": {
            "_dom_classes": [],
            "_model_module": "@jupyter-widgets/controls",
            "_model_module_version": "1.5.0",
            "_model_name": "HTMLModel",
            "_view_count": null,
            "_view_module": "@jupyter-widgets/controls",
            "_view_module_version": "1.5.0",
            "_view_name": "HTMLView",
            "description": "",
            "description_tooltip": null,
            "layout": "IPY_MODEL_6d4026ca15744a019dd1d1f33b00fce8",
            "placeholder": "​",
            "style": "IPY_MODEL_229400fca1f4493f84422b6a1857ad44",
            "value": " 26.6M/26.6M [00:05&lt;00:00, 12.2MB/s]"
          }
        },
        "11095ebedf8146a1a0ed478e917aa105": {
          "model_module": "@jupyter-widgets/base",
          "model_name": "LayoutModel",
          "model_module_version": "1.2.0",
          "state": {
            "_model_module": "@jupyter-widgets/base",
            "_model_module_version": "1.2.0",
            "_model_name": "LayoutModel",
            "_view_count": null,
            "_view_module": "@jupyter-widgets/base",
            "_view_module_version": "1.2.0",
            "_view_name": "LayoutView",
            "align_content": null,
            "align_items": null,
            "align_self": null,
            "border": null,
            "bottom": null,
            "display": null,
            "flex": null,
            "flex_flow": null,
            "grid_area": null,
            "grid_auto_columns": null,
            "grid_auto_flow": null,
            "grid_auto_rows": null,
            "grid_column": null,
            "grid_gap": null,
            "grid_row": null,
            "grid_template_areas": null,
            "grid_template_columns": null,
            "grid_template_rows": null,
            "height": null,
            "justify_content": null,
            "justify_items": null,
            "left": null,
            "margin": null,
            "max_height": null,
            "max_width": null,
            "min_height": null,
            "min_width": null,
            "object_fit": null,
            "object_position": null,
            "order": null,
            "overflow": null,
            "overflow_x": null,
            "overflow_y": null,
            "padding": null,
            "right": null,
            "top": null,
            "visibility": null,
            "width": null
          }
        },
        "eff8229bb58843e884f898fbc6dfbd80": {
          "model_module": "@jupyter-widgets/base",
          "model_name": "LayoutModel",
          "model_module_version": "1.2.0",
          "state": {
            "_model_module": "@jupyter-widgets/base",
            "_model_module_version": "1.2.0",
            "_model_name": "LayoutModel",
            "_view_count": null,
            "_view_module": "@jupyter-widgets/base",
            "_view_module_version": "1.2.0",
            "_view_name": "LayoutView",
            "align_content": null,
            "align_items": null,
            "align_self": null,
            "border": null,
            "bottom": null,
            "display": null,
            "flex": null,
            "flex_flow": null,
            "grid_area": null,
            "grid_auto_columns": null,
            "grid_auto_flow": null,
            "grid_auto_rows": null,
            "grid_column": null,
            "grid_gap": null,
            "grid_row": null,
            "grid_template_areas": null,
            "grid_template_columns": null,
            "grid_template_rows": null,
            "height": null,
            "justify_content": null,
            "justify_items": null,
            "left": null,
            "margin": null,
            "max_height": null,
            "max_width": null,
            "min_height": null,
            "min_width": null,
            "object_fit": null,
            "object_position": null,
            "order": null,
            "overflow": null,
            "overflow_x": null,
            "overflow_y": null,
            "padding": null,
            "right": null,
            "top": null,
            "visibility": null,
            "width": null
          }
        },
        "6f5b9e024b4245d48c721cf73087da7c": {
          "model_module": "@jupyter-widgets/controls",
          "model_name": "DescriptionStyleModel",
          "model_module_version": "1.5.0",
          "state": {
            "_model_module": "@jupyter-widgets/controls",
            "_model_module_version": "1.5.0",
            "_model_name": "DescriptionStyleModel",
            "_view_count": null,
            "_view_module": "@jupyter-widgets/base",
            "_view_module_version": "1.2.0",
            "_view_name": "StyleView",
            "description_width": ""
          }
        },
        "0bef3fe3c44d440091d9c8558b2d1dad": {
          "model_module": "@jupyter-widgets/base",
          "model_name": "LayoutModel",
          "model_module_version": "1.2.0",
          "state": {
            "_model_module": "@jupyter-widgets/base",
            "_model_module_version": "1.2.0",
            "_model_name": "LayoutModel",
            "_view_count": null,
            "_view_module": "@jupyter-widgets/base",
            "_view_module_version": "1.2.0",
            "_view_name": "LayoutView",
            "align_content": null,
            "align_items": null,
            "align_self": null,
            "border": null,
            "bottom": null,
            "display": null,
            "flex": null,
            "flex_flow": null,
            "grid_area": null,
            "grid_auto_columns": null,
            "grid_auto_flow": null,
            "grid_auto_rows": null,
            "grid_column": null,
            "grid_gap": null,
            "grid_row": null,
            "grid_template_areas": null,
            "grid_template_columns": null,
            "grid_template_rows": null,
            "height": null,
            "justify_content": null,
            "justify_items": null,
            "left": null,
            "margin": null,
            "max_height": null,
            "max_width": null,
            "min_height": null,
            "min_width": null,
            "object_fit": null,
            "object_position": null,
            "order": null,
            "overflow": null,
            "overflow_x": null,
            "overflow_y": null,
            "padding": null,
            "right": null,
            "top": null,
            "visibility": null,
            "width": null
          }
        },
        "a2e8b2b605ea41dcb105e45c42edf0d7": {
          "model_module": "@jupyter-widgets/controls",
          "model_name": "ProgressStyleModel",
          "model_module_version": "1.5.0",
          "state": {
            "_model_module": "@jupyter-widgets/controls",
            "_model_module_version": "1.5.0",
            "_model_name": "ProgressStyleModel",
            "_view_count": null,
            "_view_module": "@jupyter-widgets/base",
            "_view_module_version": "1.2.0",
            "_view_name": "StyleView",
            "bar_color": null,
            "description_width": ""
          }
        },
        "6d4026ca15744a019dd1d1f33b00fce8": {
          "model_module": "@jupyter-widgets/base",
          "model_name": "LayoutModel",
          "model_module_version": "1.2.0",
          "state": {
            "_model_module": "@jupyter-widgets/base",
            "_model_module_version": "1.2.0",
            "_model_name": "LayoutModel",
            "_view_count": null,
            "_view_module": "@jupyter-widgets/base",
            "_view_module_version": "1.2.0",
            "_view_name": "LayoutView",
            "align_content": null,
            "align_items": null,
            "align_self": null,
            "border": null,
            "bottom": null,
            "display": null,
            "flex": null,
            "flex_flow": null,
            "grid_area": null,
            "grid_auto_columns": null,
            "grid_auto_flow": null,
            "grid_auto_rows": null,
            "grid_column": null,
            "grid_gap": null,
            "grid_row": null,
            "grid_template_areas": null,
            "grid_template_columns": null,
            "grid_template_rows": null,
            "height": null,
            "justify_content": null,
            "justify_items": null,
            "left": null,
            "margin": null,
            "max_height": null,
            "max_width": null,
            "min_height": null,
            "min_width": null,
            "object_fit": null,
            "object_position": null,
            "order": null,
            "overflow": null,
            "overflow_x": null,
            "overflow_y": null,
            "padding": null,
            "right": null,
            "top": null,
            "visibility": null,
            "width": null
          }
        },
        "229400fca1f4493f84422b6a1857ad44": {
          "model_module": "@jupyter-widgets/controls",
          "model_name": "DescriptionStyleModel",
          "model_module_version": "1.5.0",
          "state": {
            "_model_module": "@jupyter-widgets/controls",
            "_model_module_version": "1.5.0",
            "_model_name": "DescriptionStyleModel",
            "_view_count": null,
            "_view_module": "@jupyter-widgets/base",
            "_view_module_version": "1.2.0",
            "_view_name": "StyleView",
            "description_width": ""
          }
        },
        "4dd963ad8d2b46be937383cc30d5e0b9": {
          "model_module": "@jupyter-widgets/controls",
          "model_name": "HBoxModel",
          "model_module_version": "1.5.0",
          "state": {
            "_dom_classes": [],
            "_model_module": "@jupyter-widgets/controls",
            "_model_module_version": "1.5.0",
            "_model_name": "HBoxModel",
            "_view_count": null,
            "_view_module": "@jupyter-widgets/controls",
            "_view_module_version": "1.5.0",
            "_view_name": "HBoxView",
            "box_style": "",
            "children": [
              "IPY_MODEL_4a3d10ffc24f4b50a075e1b3ab1b5a12",
              "IPY_MODEL_3eb8ee7110f0406bb1ffcc9f563c2723",
              "IPY_MODEL_4166a61e179a4020b5dc334699bf0daa"
            ],
            "layout": "IPY_MODEL_983e9b4e035e4f0088be3da0798d6929"
          }
        },
        "4a3d10ffc24f4b50a075e1b3ab1b5a12": {
          "model_module": "@jupyter-widgets/controls",
          "model_name": "HTMLModel",
          "model_module_version": "1.5.0",
          "state": {
            "_dom_classes": [],
            "_model_module": "@jupyter-widgets/controls",
            "_model_module_version": "1.5.0",
            "_model_name": "HTMLModel",
            "_view_count": null,
            "_view_module": "@jupyter-widgets/controls",
            "_view_module_version": "1.5.0",
            "_view_name": "HTMLView",
            "description": "",
            "description_tooltip": null,
            "layout": "IPY_MODEL_a79bb8f52808497496c18bc60ee2e6f3",
            "placeholder": "​",
            "style": "IPY_MODEL_3f5f3f58c80f487784c02a9ea3fcffeb",
            "value": "100%"
          }
        },
        "3eb8ee7110f0406bb1ffcc9f563c2723": {
          "model_module": "@jupyter-widgets/controls",
          "model_name": "FloatProgressModel",
          "model_module_version": "1.5.0",
          "state": {
            "_dom_classes": [],
            "_model_module": "@jupyter-widgets/controls",
            "_model_module_version": "1.5.0",
            "_model_name": "FloatProgressModel",
            "_view_count": null,
            "_view_module": "@jupyter-widgets/controls",
            "_view_module_version": "1.5.0",
            "_view_name": "ProgressView",
            "bar_style": "success",
            "description": "",
            "description_tooltip": null,
            "layout": "IPY_MODEL_af4628dd2ce9475a869b631be426e017",
            "max": 4276,
            "min": 0,
            "orientation": "horizontal",
            "style": "IPY_MODEL_3d6e12717fa74e548aa1ef6c3e113063",
            "value": 4276
          }
        },
        "4166a61e179a4020b5dc334699bf0daa": {
          "model_module": "@jupyter-widgets/controls",
          "model_name": "HTMLModel",
          "model_module_version": "1.5.0",
          "state": {
            "_dom_classes": [],
            "_model_module": "@jupyter-widgets/controls",
            "_model_module_version": "1.5.0",
            "_model_name": "HTMLModel",
            "_view_count": null,
            "_view_module": "@jupyter-widgets/controls",
            "_view_module_version": "1.5.0",
            "_view_name": "HTMLView",
            "description": "",
            "description_tooltip": null,
            "layout": "IPY_MODEL_92b8623dcdd14e988f7c76479a52e0e8",
            "placeholder": "​",
            "style": "IPY_MODEL_8152a330cb3d4c1ea310942f96499c08",
            "value": " 4.28k/4.28k [00:00&lt;00:00, 90.8kB/s]"
          }
        },
        "983e9b4e035e4f0088be3da0798d6929": {
          "model_module": "@jupyter-widgets/base",
          "model_name": "LayoutModel",
          "model_module_version": "1.2.0",
          "state": {
            "_model_module": "@jupyter-widgets/base",
            "_model_module_version": "1.2.0",
            "_model_name": "LayoutModel",
            "_view_count": null,
            "_view_module": "@jupyter-widgets/base",
            "_view_module_version": "1.2.0",
            "_view_name": "LayoutView",
            "align_content": null,
            "align_items": null,
            "align_self": null,
            "border": null,
            "bottom": null,
            "display": null,
            "flex": null,
            "flex_flow": null,
            "grid_area": null,
            "grid_auto_columns": null,
            "grid_auto_flow": null,
            "grid_auto_rows": null,
            "grid_column": null,
            "grid_gap": null,
            "grid_row": null,
            "grid_template_areas": null,
            "grid_template_columns": null,
            "grid_template_rows": null,
            "height": null,
            "justify_content": null,
            "justify_items": null,
            "left": null,
            "margin": null,
            "max_height": null,
            "max_width": null,
            "min_height": null,
            "min_width": null,
            "object_fit": null,
            "object_position": null,
            "order": null,
            "overflow": null,
            "overflow_x": null,
            "overflow_y": null,
            "padding": null,
            "right": null,
            "top": null,
            "visibility": null,
            "width": null
          }
        },
        "a79bb8f52808497496c18bc60ee2e6f3": {
          "model_module": "@jupyter-widgets/base",
          "model_name": "LayoutModel",
          "model_module_version": "1.2.0",
          "state": {
            "_model_module": "@jupyter-widgets/base",
            "_model_module_version": "1.2.0",
            "_model_name": "LayoutModel",
            "_view_count": null,
            "_view_module": "@jupyter-widgets/base",
            "_view_module_version": "1.2.0",
            "_view_name": "LayoutView",
            "align_content": null,
            "align_items": null,
            "align_self": null,
            "border": null,
            "bottom": null,
            "display": null,
            "flex": null,
            "flex_flow": null,
            "grid_area": null,
            "grid_auto_columns": null,
            "grid_auto_flow": null,
            "grid_auto_rows": null,
            "grid_column": null,
            "grid_gap": null,
            "grid_row": null,
            "grid_template_areas": null,
            "grid_template_columns": null,
            "grid_template_rows": null,
            "height": null,
            "justify_content": null,
            "justify_items": null,
            "left": null,
            "margin": null,
            "max_height": null,
            "max_width": null,
            "min_height": null,
            "min_width": null,
            "object_fit": null,
            "object_position": null,
            "order": null,
            "overflow": null,
            "overflow_x": null,
            "overflow_y": null,
            "padding": null,
            "right": null,
            "top": null,
            "visibility": null,
            "width": null
          }
        },
        "3f5f3f58c80f487784c02a9ea3fcffeb": {
          "model_module": "@jupyter-widgets/controls",
          "model_name": "DescriptionStyleModel",
          "model_module_version": "1.5.0",
          "state": {
            "_model_module": "@jupyter-widgets/controls",
            "_model_module_version": "1.5.0",
            "_model_name": "DescriptionStyleModel",
            "_view_count": null,
            "_view_module": "@jupyter-widgets/base",
            "_view_module_version": "1.2.0",
            "_view_name": "StyleView",
            "description_width": ""
          }
        },
        "af4628dd2ce9475a869b631be426e017": {
          "model_module": "@jupyter-widgets/base",
          "model_name": "LayoutModel",
          "model_module_version": "1.2.0",
          "state": {
            "_model_module": "@jupyter-widgets/base",
            "_model_module_version": "1.2.0",
            "_model_name": "LayoutModel",
            "_view_count": null,
            "_view_module": "@jupyter-widgets/base",
            "_view_module_version": "1.2.0",
            "_view_name": "LayoutView",
            "align_content": null,
            "align_items": null,
            "align_self": null,
            "border": null,
            "bottom": null,
            "display": null,
            "flex": null,
            "flex_flow": null,
            "grid_area": null,
            "grid_auto_columns": null,
            "grid_auto_flow": null,
            "grid_auto_rows": null,
            "grid_column": null,
            "grid_gap": null,
            "grid_row": null,
            "grid_template_areas": null,
            "grid_template_columns": null,
            "grid_template_rows": null,
            "height": null,
            "justify_content": null,
            "justify_items": null,
            "left": null,
            "margin": null,
            "max_height": null,
            "max_width": null,
            "min_height": null,
            "min_width": null,
            "object_fit": null,
            "object_position": null,
            "order": null,
            "overflow": null,
            "overflow_x": null,
            "overflow_y": null,
            "padding": null,
            "right": null,
            "top": null,
            "visibility": null,
            "width": null
          }
        },
        "3d6e12717fa74e548aa1ef6c3e113063": {
          "model_module": "@jupyter-widgets/controls",
          "model_name": "ProgressStyleModel",
          "model_module_version": "1.5.0",
          "state": {
            "_model_module": "@jupyter-widgets/controls",
            "_model_module_version": "1.5.0",
            "_model_name": "ProgressStyleModel",
            "_view_count": null,
            "_view_module": "@jupyter-widgets/base",
            "_view_module_version": "1.2.0",
            "_view_name": "StyleView",
            "bar_color": null,
            "description_width": ""
          }
        },
        "92b8623dcdd14e988f7c76479a52e0e8": {
          "model_module": "@jupyter-widgets/base",
          "model_name": "LayoutModel",
          "model_module_version": "1.2.0",
          "state": {
            "_model_module": "@jupyter-widgets/base",
            "_model_module_version": "1.2.0",
            "_model_name": "LayoutModel",
            "_view_count": null,
            "_view_module": "@jupyter-widgets/base",
            "_view_module_version": "1.2.0",
            "_view_name": "LayoutView",
            "align_content": null,
            "align_items": null,
            "align_self": null,
            "border": null,
            "bottom": null,
            "display": null,
            "flex": null,
            "flex_flow": null,
            "grid_area": null,
            "grid_auto_columns": null,
            "grid_auto_flow": null,
            "grid_auto_rows": null,
            "grid_column": null,
            "grid_gap": null,
            "grid_row": null,
            "grid_template_areas": null,
            "grid_template_columns": null,
            "grid_template_rows": null,
            "height": null,
            "justify_content": null,
            "justify_items": null,
            "left": null,
            "margin": null,
            "max_height": null,
            "max_width": null,
            "min_height": null,
            "min_width": null,
            "object_fit": null,
            "object_position": null,
            "order": null,
            "overflow": null,
            "overflow_x": null,
            "overflow_y": null,
            "padding": null,
            "right": null,
            "top": null,
            "visibility": null,
            "width": null
          }
        },
        "8152a330cb3d4c1ea310942f96499c08": {
          "model_module": "@jupyter-widgets/controls",
          "model_name": "DescriptionStyleModel",
          "model_module_version": "1.5.0",
          "state": {
            "_model_module": "@jupyter-widgets/controls",
            "_model_module_version": "1.5.0",
            "_model_name": "DescriptionStyleModel",
            "_view_count": null,
            "_view_module": "@jupyter-widgets/base",
            "_view_module_version": "1.2.0",
            "_view_name": "StyleView",
            "description_width": ""
          }
        },
        "ea73aa6242194da48e6f79efee0d9777": {
          "model_module": "@jupyter-widgets/controls",
          "model_name": "HBoxModel",
          "model_module_version": "1.5.0",
          "state": {
            "_dom_classes": [],
            "_model_module": "@jupyter-widgets/controls",
            "_model_module_version": "1.5.0",
            "_model_name": "HBoxModel",
            "_view_count": null,
            "_view_module": "@jupyter-widgets/controls",
            "_view_module_version": "1.5.0",
            "_view_name": "HBoxView",
            "box_style": "",
            "children": [
              "IPY_MODEL_b14ad472fec04674982b93f9dd84b23e",
              "IPY_MODEL_2ccc3f2a20c1448b918234a1bb6ebea7",
              "IPY_MODEL_c2912fa7c78741d695eacc6e1647fc8f"
            ],
            "layout": "IPY_MODEL_36acf3f2abac4a958b22826d1c4c30f4"
          }
        },
        "b14ad472fec04674982b93f9dd84b23e": {
          "model_module": "@jupyter-widgets/controls",
          "model_name": "HTMLModel",
          "model_module_version": "1.5.0",
          "state": {
            "_dom_classes": [],
            "_model_module": "@jupyter-widgets/controls",
            "_model_module_version": "1.5.0",
            "_model_name": "HTMLModel",
            "_view_count": null,
            "_view_module": "@jupyter-widgets/controls",
            "_view_module_version": "1.5.0",
            "_view_name": "HTMLView",
            "description": "",
            "description_tooltip": null,
            "layout": "IPY_MODEL_b46f3e04084241669a80fdae83ba4cde",
            "placeholder": "​",
            "style": "IPY_MODEL_119305bdc14a4c818c708d658ac31959",
            "value": "100%"
          }
        },
        "2ccc3f2a20c1448b918234a1bb6ebea7": {
          "model_module": "@jupyter-widgets/controls",
          "model_name": "FloatProgressModel",
          "model_module_version": "1.5.0",
          "state": {
            "_dom_classes": [],
            "_model_module": "@jupyter-widgets/controls",
            "_model_module_version": "1.5.0",
            "_model_name": "FloatProgressModel",
            "_view_count": null,
            "_view_module": "@jupyter-widgets/controls",
            "_view_module_version": "1.5.0",
            "_view_name": "ProgressView",
            "bar_style": "success",
            "description": "",
            "description_tooltip": null,
            "layout": "IPY_MODEL_1e64141220134da4ae436a704b00d763",
            "max": 1035009698,
            "min": 0,
            "orientation": "horizontal",
            "style": "IPY_MODEL_a46e417fe4a54cfc965364c83d45711c",
            "value": 1035009698
          }
        },
        "c2912fa7c78741d695eacc6e1647fc8f": {
          "model_module": "@jupyter-widgets/controls",
          "model_name": "HTMLModel",
          "model_module_version": "1.5.0",
          "state": {
            "_dom_classes": [],
            "_model_module": "@jupyter-widgets/controls",
            "_model_module_version": "1.5.0",
            "_model_name": "HTMLModel",
            "_view_count": null,
            "_view_module": "@jupyter-widgets/controls",
            "_view_module_version": "1.5.0",
            "_view_name": "HTMLView",
            "description": "",
            "description_tooltip": null,
            "layout": "IPY_MODEL_63792c7f3f964fa29342d35ece6d73af",
            "placeholder": "​",
            "style": "IPY_MODEL_51f3090e929c4facb4e4564d657a6e5a",
            "value": " 1.04G/1.04G [01:42&lt;00:00, 7.75MB/s]"
          }
        },
        "36acf3f2abac4a958b22826d1c4c30f4": {
          "model_module": "@jupyter-widgets/base",
          "model_name": "LayoutModel",
          "model_module_version": "1.2.0",
          "state": {
            "_model_module": "@jupyter-widgets/base",
            "_model_module_version": "1.2.0",
            "_model_name": "LayoutModel",
            "_view_count": null,
            "_view_module": "@jupyter-widgets/base",
            "_view_module_version": "1.2.0",
            "_view_name": "LayoutView",
            "align_content": null,
            "align_items": null,
            "align_self": null,
            "border": null,
            "bottom": null,
            "display": null,
            "flex": null,
            "flex_flow": null,
            "grid_area": null,
            "grid_auto_columns": null,
            "grid_auto_flow": null,
            "grid_auto_rows": null,
            "grid_column": null,
            "grid_gap": null,
            "grid_row": null,
            "grid_template_areas": null,
            "grid_template_columns": null,
            "grid_template_rows": null,
            "height": null,
            "justify_content": null,
            "justify_items": null,
            "left": null,
            "margin": null,
            "max_height": null,
            "max_width": null,
            "min_height": null,
            "min_width": null,
            "object_fit": null,
            "object_position": null,
            "order": null,
            "overflow": null,
            "overflow_x": null,
            "overflow_y": null,
            "padding": null,
            "right": null,
            "top": null,
            "visibility": null,
            "width": null
          }
        },
        "b46f3e04084241669a80fdae83ba4cde": {
          "model_module": "@jupyter-widgets/base",
          "model_name": "LayoutModel",
          "model_module_version": "1.2.0",
          "state": {
            "_model_module": "@jupyter-widgets/base",
            "_model_module_version": "1.2.0",
            "_model_name": "LayoutModel",
            "_view_count": null,
            "_view_module": "@jupyter-widgets/base",
            "_view_module_version": "1.2.0",
            "_view_name": "LayoutView",
            "align_content": null,
            "align_items": null,
            "align_self": null,
            "border": null,
            "bottom": null,
            "display": null,
            "flex": null,
            "flex_flow": null,
            "grid_area": null,
            "grid_auto_columns": null,
            "grid_auto_flow": null,
            "grid_auto_rows": null,
            "grid_column": null,
            "grid_gap": null,
            "grid_row": null,
            "grid_template_areas": null,
            "grid_template_columns": null,
            "grid_template_rows": null,
            "height": null,
            "justify_content": null,
            "justify_items": null,
            "left": null,
            "margin": null,
            "max_height": null,
            "max_width": null,
            "min_height": null,
            "min_width": null,
            "object_fit": null,
            "object_position": null,
            "order": null,
            "overflow": null,
            "overflow_x": null,
            "overflow_y": null,
            "padding": null,
            "right": null,
            "top": null,
            "visibility": null,
            "width": null
          }
        },
        "119305bdc14a4c818c708d658ac31959": {
          "model_module": "@jupyter-widgets/controls",
          "model_name": "DescriptionStyleModel",
          "model_module_version": "1.5.0",
          "state": {
            "_model_module": "@jupyter-widgets/controls",
            "_model_module_version": "1.5.0",
            "_model_name": "DescriptionStyleModel",
            "_view_count": null,
            "_view_module": "@jupyter-widgets/base",
            "_view_module_version": "1.2.0",
            "_view_name": "StyleView",
            "description_width": ""
          }
        },
        "1e64141220134da4ae436a704b00d763": {
          "model_module": "@jupyter-widgets/base",
          "model_name": "LayoutModel",
          "model_module_version": "1.2.0",
          "state": {
            "_model_module": "@jupyter-widgets/base",
            "_model_module_version": "1.2.0",
            "_model_name": "LayoutModel",
            "_view_count": null,
            "_view_module": "@jupyter-widgets/base",
            "_view_module_version": "1.2.0",
            "_view_name": "LayoutView",
            "align_content": null,
            "align_items": null,
            "align_self": null,
            "border": null,
            "bottom": null,
            "display": null,
            "flex": null,
            "flex_flow": null,
            "grid_area": null,
            "grid_auto_columns": null,
            "grid_auto_flow": null,
            "grid_auto_rows": null,
            "grid_column": null,
            "grid_gap": null,
            "grid_row": null,
            "grid_template_areas": null,
            "grid_template_columns": null,
            "grid_template_rows": null,
            "height": null,
            "justify_content": null,
            "justify_items": null,
            "left": null,
            "margin": null,
            "max_height": null,
            "max_width": null,
            "min_height": null,
            "min_width": null,
            "object_fit": null,
            "object_position": null,
            "order": null,
            "overflow": null,
            "overflow_x": null,
            "overflow_y": null,
            "padding": null,
            "right": null,
            "top": null,
            "visibility": null,
            "width": null
          }
        },
        "a46e417fe4a54cfc965364c83d45711c": {
          "model_module": "@jupyter-widgets/controls",
          "model_name": "ProgressStyleModel",
          "model_module_version": "1.5.0",
          "state": {
            "_model_module": "@jupyter-widgets/controls",
            "_model_module_version": "1.5.0",
            "_model_name": "ProgressStyleModel",
            "_view_count": null,
            "_view_module": "@jupyter-widgets/base",
            "_view_module_version": "1.2.0",
            "_view_name": "StyleView",
            "bar_color": null,
            "description_width": ""
          }
        },
        "63792c7f3f964fa29342d35ece6d73af": {
          "model_module": "@jupyter-widgets/base",
          "model_name": "LayoutModel",
          "model_module_version": "1.2.0",
          "state": {
            "_model_module": "@jupyter-widgets/base",
            "_model_module_version": "1.2.0",
            "_model_name": "LayoutModel",
            "_view_count": null,
            "_view_module": "@jupyter-widgets/base",
            "_view_module_version": "1.2.0",
            "_view_name": "LayoutView",
            "align_content": null,
            "align_items": null,
            "align_self": null,
            "border": null,
            "bottom": null,
            "display": null,
            "flex": null,
            "flex_flow": null,
            "grid_area": null,
            "grid_auto_columns": null,
            "grid_auto_flow": null,
            "grid_auto_rows": null,
            "grid_column": null,
            "grid_gap": null,
            "grid_row": null,
            "grid_template_areas": null,
            "grid_template_columns": null,
            "grid_template_rows": null,
            "height": null,
            "justify_content": null,
            "justify_items": null,
            "left": null,
            "margin": null,
            "max_height": null,
            "max_width": null,
            "min_height": null,
            "min_width": null,
            "object_fit": null,
            "object_position": null,
            "order": null,
            "overflow": null,
            "overflow_x": null,
            "overflow_y": null,
            "padding": null,
            "right": null,
            "top": null,
            "visibility": null,
            "width": null
          }
        },
        "51f3090e929c4facb4e4564d657a6e5a": {
          "model_module": "@jupyter-widgets/controls",
          "model_name": "DescriptionStyleModel",
          "model_module_version": "1.5.0",
          "state": {
            "_model_module": "@jupyter-widgets/controls",
            "_model_module_version": "1.5.0",
            "_model_name": "DescriptionStyleModel",
            "_view_count": null,
            "_view_module": "@jupyter-widgets/base",
            "_view_module_version": "1.2.0",
            "_view_name": "StyleView",
            "description_width": ""
          }
        }
      }
    }
  },
  "nbformat_minor": 0,
  "nbformat": 4,
  "cells": [
    {
      "cell_type": "code",
      "source": [
        "!pip install pytrec_eval\n",
        "!pip install sentence_transformers\n",
        "!pip install gdown\n",
        "!pip install safetensors"
      ],
      "metadata": {
        "id": "5P3AKbYCaVRG",
        "outputId": "bed8236d-4e88-41c8-e361-191ecaea5674",
        "execution": {
          "iopub.status.busy": "2023-12-03T13:13:27.010657Z",
          "iopub.execute_input": "2023-12-03T13:13:27.011039Z",
          "iopub.status.idle": "2023-12-03T13:14:07.410531Z",
          "shell.execute_reply.started": "2023-12-03T13:13:27.011008Z",
          "shell.execute_reply": "2023-12-03T13:14:07.409228Z"
        },
        "trusted": true,
        "colab": {
          "base_uri": "https://localhost:8080/"
        }
      },
      "execution_count": null,
      "outputs": [
        {
          "output_type": "stream",
          "name": "stdout",
          "text": [
            "Collecting pytrec_eval\n",
            "  Downloading pytrec_eval-0.5.tar.gz (15 kB)\n",
            "  Preparing metadata (setup.py) ... \u001b[?25l\u001b[?25hdone\n",
            "Building wheels for collected packages: pytrec_eval\n",
            "  Building wheel for pytrec_eval (setup.py) ... \u001b[?25l\u001b[?25hdone\n",
            "  Created wheel for pytrec_eval: filename=pytrec_eval-0.5-cp310-cp310-linux_x86_64.whl size=308204 sha256=c171249faac9d4f9b8c202f044a60ed0f876e1ba4f5c15b23e8813be3d00344d\n",
            "  Stored in directory: /root/.cache/pip/wheels/51/3a/cd/dcc1ddfc763987d5cb237165d8ac249aa98a23ab90f67317a8\n",
            "Successfully built pytrec_eval\n",
            "Installing collected packages: pytrec_eval\n",
            "Successfully installed pytrec_eval-0.5\n",
            "Collecting sentence_transformers\n",
            "  Downloading sentence-transformers-2.2.2.tar.gz (85 kB)\n",
            "\u001b[2K     \u001b[90m━━━━━━━━━━━━━━━━━━━━━━━━━━━━━━━━━━━━━━━━\u001b[0m \u001b[32m86.0/86.0 kB\u001b[0m \u001b[31m2.5 MB/s\u001b[0m eta \u001b[36m0:00:00\u001b[0m\n",
            "\u001b[?25h  Preparing metadata (setup.py) ... \u001b[?25l\u001b[?25hdone\n",
            "Requirement already satisfied: transformers<5.0.0,>=4.6.0 in /usr/local/lib/python3.10/dist-packages (from sentence_transformers) (4.35.2)\n",
            "Requirement already satisfied: tqdm in /usr/local/lib/python3.10/dist-packages (from sentence_transformers) (4.66.1)\n",
            "Requirement already satisfied: torch>=1.6.0 in /usr/local/lib/python3.10/dist-packages (from sentence_transformers) (2.1.0+cu118)\n",
            "Requirement already satisfied: torchvision in /usr/local/lib/python3.10/dist-packages (from sentence_transformers) (0.16.0+cu118)\n",
            "Requirement already satisfied: numpy in /usr/local/lib/python3.10/dist-packages (from sentence_transformers) (1.23.5)\n",
            "Requirement already satisfied: scikit-learn in /usr/local/lib/python3.10/dist-packages (from sentence_transformers) (1.2.2)\n",
            "Requirement already satisfied: scipy in /usr/local/lib/python3.10/dist-packages (from sentence_transformers) (1.11.4)\n",
            "Requirement already satisfied: nltk in /usr/local/lib/python3.10/dist-packages (from sentence_transformers) (3.8.1)\n",
            "Collecting sentencepiece (from sentence_transformers)\n",
            "  Downloading sentencepiece-0.1.99-cp310-cp310-manylinux_2_17_x86_64.manylinux2014_x86_64.whl (1.3 MB)\n",
            "\u001b[2K     \u001b[90m━━━━━━━━━━━━━━━━━━━━━━━━━━━━━━━━━━━━━━━━\u001b[0m \u001b[32m1.3/1.3 MB\u001b[0m \u001b[31m45.1 MB/s\u001b[0m eta \u001b[36m0:00:00\u001b[0m\n",
            "\u001b[?25hRequirement already satisfied: huggingface-hub>=0.4.0 in /usr/local/lib/python3.10/dist-packages (from sentence_transformers) (0.19.4)\n",
            "Requirement already satisfied: filelock in /usr/local/lib/python3.10/dist-packages (from huggingface-hub>=0.4.0->sentence_transformers) (3.13.1)\n",
            "Requirement already satisfied: fsspec>=2023.5.0 in /usr/local/lib/python3.10/dist-packages (from huggingface-hub>=0.4.0->sentence_transformers) (2023.6.0)\n",
            "Requirement already satisfied: requests in /usr/local/lib/python3.10/dist-packages (from huggingface-hub>=0.4.0->sentence_transformers) (2.31.0)\n",
            "Requirement already satisfied: pyyaml>=5.1 in /usr/local/lib/python3.10/dist-packages (from huggingface-hub>=0.4.0->sentence_transformers) (6.0.1)\n",
            "Requirement already satisfied: typing-extensions>=3.7.4.3 in /usr/local/lib/python3.10/dist-packages (from huggingface-hub>=0.4.0->sentence_transformers) (4.5.0)\n",
            "Requirement already satisfied: packaging>=20.9 in /usr/local/lib/python3.10/dist-packages (from huggingface-hub>=0.4.0->sentence_transformers) (23.2)\n",
            "Requirement already satisfied: sympy in /usr/local/lib/python3.10/dist-packages (from torch>=1.6.0->sentence_transformers) (1.12)\n",
            "Requirement already satisfied: networkx in /usr/local/lib/python3.10/dist-packages (from torch>=1.6.0->sentence_transformers) (3.2.1)\n",
            "Requirement already satisfied: jinja2 in /usr/local/lib/python3.10/dist-packages (from torch>=1.6.0->sentence_transformers) (3.1.2)\n",
            "Requirement already satisfied: triton==2.1.0 in /usr/local/lib/python3.10/dist-packages (from torch>=1.6.0->sentence_transformers) (2.1.0)\n",
            "Requirement already satisfied: regex!=2019.12.17 in /usr/local/lib/python3.10/dist-packages (from transformers<5.0.0,>=4.6.0->sentence_transformers) (2023.6.3)\n",
            "Requirement already satisfied: tokenizers<0.19,>=0.14 in /usr/local/lib/python3.10/dist-packages (from transformers<5.0.0,>=4.6.0->sentence_transformers) (0.15.0)\n",
            "Requirement already satisfied: safetensors>=0.3.1 in /usr/local/lib/python3.10/dist-packages (from transformers<5.0.0,>=4.6.0->sentence_transformers) (0.4.1)\n",
            "Requirement already satisfied: click in /usr/local/lib/python3.10/dist-packages (from nltk->sentence_transformers) (8.1.7)\n",
            "Requirement already satisfied: joblib in /usr/local/lib/python3.10/dist-packages (from nltk->sentence_transformers) (1.3.2)\n",
            "Requirement already satisfied: threadpoolctl>=2.0.0 in /usr/local/lib/python3.10/dist-packages (from scikit-learn->sentence_transformers) (3.2.0)\n",
            "Requirement already satisfied: pillow!=8.3.*,>=5.3.0 in /usr/local/lib/python3.10/dist-packages (from torchvision->sentence_transformers) (9.4.0)\n",
            "Requirement already satisfied: MarkupSafe>=2.0 in /usr/local/lib/python3.10/dist-packages (from jinja2->torch>=1.6.0->sentence_transformers) (2.1.3)\n",
            "Requirement already satisfied: charset-normalizer<4,>=2 in /usr/local/lib/python3.10/dist-packages (from requests->huggingface-hub>=0.4.0->sentence_transformers) (3.3.2)\n",
            "Requirement already satisfied: idna<4,>=2.5 in /usr/local/lib/python3.10/dist-packages (from requests->huggingface-hub>=0.4.0->sentence_transformers) (3.6)\n",
            "Requirement already satisfied: urllib3<3,>=1.21.1 in /usr/local/lib/python3.10/dist-packages (from requests->huggingface-hub>=0.4.0->sentence_transformers) (2.0.7)\n",
            "Requirement already satisfied: certifi>=2017.4.17 in /usr/local/lib/python3.10/dist-packages (from requests->huggingface-hub>=0.4.0->sentence_transformers) (2023.11.17)\n",
            "Requirement already satisfied: mpmath>=0.19 in /usr/local/lib/python3.10/dist-packages (from sympy->torch>=1.6.0->sentence_transformers) (1.3.0)\n",
            "Building wheels for collected packages: sentence_transformers\n",
            "  Building wheel for sentence_transformers (setup.py) ... \u001b[?25l\u001b[?25hdone\n",
            "  Created wheel for sentence_transformers: filename=sentence_transformers-2.2.2-py3-none-any.whl size=125923 sha256=d4955c4171422962e6f333be7ff488ce89e25ca354c5dfdd2e6628f858eb9d59\n",
            "  Stored in directory: /root/.cache/pip/wheels/62/f2/10/1e606fd5f02395388f74e7462910fe851042f97238cbbd902f\n",
            "Successfully built sentence_transformers\n",
            "Installing collected packages: sentencepiece, sentence_transformers\n",
            "Successfully installed sentence_transformers-2.2.2 sentencepiece-0.1.99\n",
            "Requirement already satisfied: gdown in /usr/local/lib/python3.10/dist-packages (4.6.6)\n",
            "Requirement already satisfied: filelock in /usr/local/lib/python3.10/dist-packages (from gdown) (3.13.1)\n",
            "Requirement already satisfied: requests[socks] in /usr/local/lib/python3.10/dist-packages (from gdown) (2.31.0)\n",
            "Requirement already satisfied: six in /usr/local/lib/python3.10/dist-packages (from gdown) (1.16.0)\n",
            "Requirement already satisfied: tqdm in /usr/local/lib/python3.10/dist-packages (from gdown) (4.66.1)\n",
            "Requirement already satisfied: beautifulsoup4 in /usr/local/lib/python3.10/dist-packages (from gdown) (4.11.2)\n",
            "Requirement already satisfied: soupsieve>1.2 in /usr/local/lib/python3.10/dist-packages (from beautifulsoup4->gdown) (2.5)\n",
            "Requirement already satisfied: charset-normalizer<4,>=2 in /usr/local/lib/python3.10/dist-packages (from requests[socks]->gdown) (3.3.2)\n",
            "Requirement already satisfied: idna<4,>=2.5 in /usr/local/lib/python3.10/dist-packages (from requests[socks]->gdown) (3.6)\n",
            "Requirement already satisfied: urllib3<3,>=1.21.1 in /usr/local/lib/python3.10/dist-packages (from requests[socks]->gdown) (2.0.7)\n",
            "Requirement already satisfied: certifi>=2017.4.17 in /usr/local/lib/python3.10/dist-packages (from requests[socks]->gdown) (2023.11.17)\n",
            "Requirement already satisfied: PySocks!=1.5.7,>=1.5.6 in /usr/local/lib/python3.10/dist-packages (from requests[socks]->gdown) (1.7.1)\n",
            "Requirement already satisfied: safetensors in /usr/local/lib/python3.10/dist-packages (0.4.1)\n"
          ]
        }
      ]
    },
    {
      "cell_type": "markdown",
      "source": [
        "# Large parts of the code under here are taken from https://github.com/arian-askari/RelevanceCAT/tree/main"
      ],
      "metadata": {
        "id": "0GVwn2qYLblq"
      }
    },
    {
      "cell_type": "code",
      "source": [
        "import sys, math, tqdm, json, pytrec_eval, gzip, os, tarfile, logging\n",
        "import numpy as np\n",
        "from datetime import datetime\n",
        "from torch.utils.data import DataLoader\n",
        "from sentence_transformers import LoggingHandler, util\n",
        "from sentence_transformers import InputExample\n",
        "import gdown\n",
        "import gzip\n",
        "import shutil\n",
        "import logging\n",
        "logger = logging.getLogger()\n",
        "logger.setLevel(logging.DEBUG)"
      ],
      "metadata": {
        "id": "9ddogY7_IJyd"
      },
      "execution_count": null,
      "outputs": []
    },
    {
      "cell_type": "code",
      "source": [
        "\n",
        "\"\"\"# Initializing variables\n",
        "\"\"\"\n",
        "base_write_path = \"\"\n",
        "base_path = base_write_path + \"msmarco-data/\"\n",
        "model_path = base_write_path + \"model/\"\n",
        "if not os.path.exists(model_path):\n",
        "  os.mkdir(model_path)\n",
        "model_name = model_path + \"model_no_score.safetensors\"\n",
        "ranking_output_path = model_name + \"trec19_errorfixed.ranking\"\n",
        "fine_tuned_model_path = model_name\n",
        "logging.info(\"Download \"+os.path.basename(fine_tuned_model_path))\n",
        "if not os.path.exists(fine_tuned_model_path):\n",
        "  url = \"https://drive.google.com/file/d/1I0fVspubYV7hBOxxt6ApH95cFinU1F4n/view?usp=drive_link\"\n",
        "  gdown.download(url, output=fine_tuned_model_path, fuzzy=True)\n",
        "\n",
        "qrel_path = base_path + \"2019qrels-pass.txt\"\n",
        "if not os.path.exists(qrel_path):\n",
        "    util.http_get('https://trec.nist.gov/data/deep/2019qrels-pass.txt', qrel_path)\n",
        "\n",
        "top100_run_path = base_path + \"msmarco-passagetest2019-top1000.tsv\"\n",
        "if not os.path.exists(top100_run_path):\n",
        "    tar_filepath = os.path.join(base_path, 'msmarco--passagetest2019-top1000.tsv')\n",
        "    if not os.path.exists(tar_filepath):\n",
        "        logging.info(\"Download \"+os.path.basename(top100_run_path))\n",
        "        util.http_get('https://msmarco.z22.web.core.windows.net/msmarcoranking/msmarco-passagetest2019-top1000.tsv.gz', top100_run_path)\n",
        "\n",
        "    with gzip.open(top100_run_path, \"rb\") as f_in:\n",
        "        with open(tar_filepath, \"wb\") as f_out:\n",
        "            shutil.copyfileobj(f_in, f_out)\n",
        "    os.rename(tar_filepath, top100_run_path)\n",
        "\n",
        "\n",
        "queries_path = base_path + \"msmarco-test2019-queries.tsv\"\n",
        "if not os.path.exists(queries_path):\n",
        "    tar_filepath = os.path.join(base_path, 'msmarco--test2019-queries.tsv')\n",
        "    if not os.path.exists(tar_filepath):\n",
        "        logging.info(\"Download \"+os.path.basename(queries_path))\n",
        "        util.http_get('https://msmarco.z22.web.core.windows.net/msmarcoranking/msmarco-test2019-queries.tsv.gz', queries_path)\n",
        "\n",
        "    with gzip.open(queries_path, \"rb\") as f_in:\n",
        "        with open(tar_filepath, \"wb\") as f_out:\n",
        "            shutil.copyfileobj(f_in, f_out)\n",
        "    os.rename(tar_filepath, queries_path)\n",
        "\n",
        "# corpus_path = base_path + \"collection_truncated.tsv\"\n",
        "corpus_path = base_path + \"collection.tsv\"\n",
        "if not os.path.exists(corpus_path):\n",
        "    tar_filepath = os.path.join(base_path, 'collection.tar.gz')\n",
        "    if not os.path.exists(tar_filepath):\n",
        "        logging.info(\"Download collection.tar.gz\")\n",
        "        util.http_get('https://msmarco.blob.core.windows.net/msmarcoranking/collection.tar.gz', tar_filepath)\n",
        "\n",
        "    with tarfile.open(tar_filepath, \"r:gz\") as tar:\n",
        "        tar.extractall(path=base_path)\n",
        "\n",
        "max_length_query = 30\n",
        "max_length_passage= 200\n",
        "model_max_length = 230 + 3 + 3"
      ],
      "metadata": {
        "id": "PmCD15hHN4GP",
        "execution": {
          "iopub.status.busy": "2023-12-03T13:19:57.508420Z",
          "iopub.execute_input": "2023-12-03T13:19:57.508726Z",
          "iopub.status.idle": "2023-12-03T13:19:59.680738Z",
          "shell.execute_reply.started": "2023-12-03T13:19:57.508700Z",
          "shell.execute_reply": "2023-12-03T13:19:59.679742Z"
        },
        "trusted": true,
        "colab": {
          "base_uri": "https://localhost:8080/",
          "height": 529,
          "referenced_widgets": [
            "91ba2db19a3640c484c28ee8b1dc8319",
            "878d27540dbd418caab27d41045cfcc1",
            "9dac095c16304b9484183055a8100e54",
            "1452a59f0efe48bc92f2889506f599e0",
            "9647ee5edc494784ba5a6e4885dabb16",
            "64c539180b214743be9d8c4e00b69313",
            "392228dbfa104c7593914ce21f373ebd",
            "f4dbaaca85de43889226cfb5b732a3ff",
            "582b29ec26184bbbae41d95b7e656fb6",
            "73520a6a23a4433d9f47836db248df04",
            "e9800a3426ab4756957fded6c539ab03",
            "18fc037d187841fea5b30fd3a6ae492d",
            "8e1d9186bf3c4cf199882f5079f48f51",
            "706c624ad79148059e32477b56eacd11",
            "a204fd8fc213411ea5d2332a123f70a6",
            "11095ebedf8146a1a0ed478e917aa105",
            "eff8229bb58843e884f898fbc6dfbd80",
            "6f5b9e024b4245d48c721cf73087da7c",
            "0bef3fe3c44d440091d9c8558b2d1dad",
            "a2e8b2b605ea41dcb105e45c42edf0d7",
            "6d4026ca15744a019dd1d1f33b00fce8",
            "229400fca1f4493f84422b6a1857ad44",
            "4dd963ad8d2b46be937383cc30d5e0b9",
            "4a3d10ffc24f4b50a075e1b3ab1b5a12",
            "3eb8ee7110f0406bb1ffcc9f563c2723",
            "4166a61e179a4020b5dc334699bf0daa",
            "983e9b4e035e4f0088be3da0798d6929",
            "a79bb8f52808497496c18bc60ee2e6f3",
            "3f5f3f58c80f487784c02a9ea3fcffeb",
            "af4628dd2ce9475a869b631be426e017",
            "3d6e12717fa74e548aa1ef6c3e113063",
            "92b8623dcdd14e988f7c76479a52e0e8",
            "8152a330cb3d4c1ea310942f96499c08",
            "ea73aa6242194da48e6f79efee0d9777",
            "b14ad472fec04674982b93f9dd84b23e",
            "2ccc3f2a20c1448b918234a1bb6ebea7",
            "c2912fa7c78741d695eacc6e1647fc8f",
            "36acf3f2abac4a958b22826d1c4c30f4",
            "b46f3e04084241669a80fdae83ba4cde",
            "119305bdc14a4c818c708d658ac31959",
            "1e64141220134da4ae436a704b00d763",
            "a46e417fe4a54cfc965364c83d45711c",
            "63792c7f3f964fa29342d35ece6d73af",
            "51f3090e929c4facb4e4564d657a6e5a"
          ]
        },
        "outputId": "1c974000-c3f7-4da1-cfb7-2463f3b96b6d"
      },
      "execution_count": null,
      "outputs": [
        {
          "output_type": "stream",
          "name": "stderr",
          "text": [
            "INFO:root:Download model_no_score.safetensors\n",
            "DEBUG:urllib3.connectionpool:Starting new HTTPS connection (1): drive.google.com:443\n",
            "DEBUG:urllib3.connectionpool:https://drive.google.com:443 \"GET /uc?id=1I0fVspubYV7hBOxxt6ApH95cFinU1F4n HTTP/1.1\" 200 None\n",
            "DEBUG:urllib3.connectionpool:https://drive.google.com:443 \"GET /uc?id=1I0fVspubYV7hBOxxt6ApH95cFinU1F4n&confirm=t&uuid=e4bccdf1-c961-4528-a2c3-cba4aa7a3649 HTTP/1.1\" 303 0\n",
            "DEBUG:urllib3.connectionpool:Starting new HTTPS connection (1): doc-0o-3k-docs.googleusercontent.com:443\n",
            "DEBUG:urllib3.connectionpool:https://doc-0o-3k-docs.googleusercontent.com:443 \"GET /docs/securesc/ha0ro937gcuc7l7deffksulhg5h7mbp1/5fknon4vv53s6n4gjcg5o84sqnfnda99/1701809175000/12136901671550775046/*/1I0fVspubYV7hBOxxt6ApH95cFinU1F4n?uuid=e4bccdf1-c961-4528-a2c3-cba4aa7a3649 HTTP/1.1\" 200 133464836\n",
            "Downloading...\n",
            "From: https://drive.google.com/uc?id=1I0fVspubYV7hBOxxt6ApH95cFinU1F4n\n",
            "To: /content/model/model_no_score.safetensors\n",
            "100%|██████████| 133M/133M [00:03<00:00, 42.8MB/s]\n",
            "DEBUG:urllib3.connectionpool:Starting new HTTPS connection (1): trec.nist.gov:443\n",
            "DEBUG:urllib3.connectionpool:https://trec.nist.gov:443 \"GET /data/deep/2019qrels-pass.txt HTTP/1.1\" 200 187092\n"
          ]
        },
        {
          "output_type": "display_data",
          "data": {
            "text/plain": [
              "  0%|          | 0.00/187k [00:00<?, ?B/s]"
            ],
            "application/vnd.jupyter.widget-view+json": {
              "version_major": 2,
              "version_minor": 0,
              "model_id": "91ba2db19a3640c484c28ee8b1dc8319"
            }
          },
          "metadata": {}
        },
        {
          "output_type": "stream",
          "name": "stderr",
          "text": [
            "INFO:root:Download msmarco-passagetest2019-top1000.tsv\n",
            "DEBUG:urllib3.connectionpool:Starting new HTTPS connection (1): msmarco.z22.web.core.windows.net:443\n",
            "DEBUG:urllib3.connectionpool:https://msmarco.z22.web.core.windows.net:443 \"GET /msmarcoranking/msmarco-passagetest2019-top1000.tsv.gz HTTP/1.1\" 200 26634062\n"
          ]
        },
        {
          "output_type": "display_data",
          "data": {
            "text/plain": [
              "  0%|          | 0.00/26.6M [00:00<?, ?B/s]"
            ],
            "application/vnd.jupyter.widget-view+json": {
              "version_major": 2,
              "version_minor": 0,
              "model_id": "18fc037d187841fea5b30fd3a6ae492d"
            }
          },
          "metadata": {}
        },
        {
          "output_type": "stream",
          "name": "stderr",
          "text": [
            "INFO:root:Download msmarco-test2019-queries.tsv\n",
            "DEBUG:urllib3.connectionpool:Starting new HTTPS connection (1): msmarco.z22.web.core.windows.net:443\n",
            "DEBUG:urllib3.connectionpool:https://msmarco.z22.web.core.windows.net:443 \"GET /msmarcoranking/msmarco-test2019-queries.tsv.gz HTTP/1.1\" 200 4276\n"
          ]
        },
        {
          "output_type": "display_data",
          "data": {
            "text/plain": [
              "  0%|          | 0.00/4.28k [00:00<?, ?B/s]"
            ],
            "application/vnd.jupyter.widget-view+json": {
              "version_major": 2,
              "version_minor": 0,
              "model_id": "4dd963ad8d2b46be937383cc30d5e0b9"
            }
          },
          "metadata": {}
        },
        {
          "output_type": "stream",
          "name": "stderr",
          "text": [
            "INFO:root:Download collection.tar.gz\n",
            "DEBUG:urllib3.connectionpool:Starting new HTTPS connection (1): msmarco.blob.core.windows.net:443\n",
            "DEBUG:urllib3.connectionpool:https://msmarco.blob.core.windows.net:443 \"GET /msmarcoranking/collection.tar.gz HTTP/1.1\" 200 1035009698\n"
          ]
        },
        {
          "output_type": "display_data",
          "data": {
            "text/plain": [
              "  0%|          | 0.00/1.04G [00:00<?, ?B/s]"
            ],
            "application/vnd.jupyter.widget-view+json": {
              "version_major": 2,
              "version_minor": 0,
              "model_id": "ea73aa6242194da48e6f79efee0d9777"
            }
          },
          "metadata": {}
        }
      ]
    },
    {
      "cell_type": "code",
      "source": [
        "# almost all of this is taken from https://github.com/arian-askari/RelevanceCAT/blob/main/train/train_ms-marco-MiniLM-L-12_v3_bm25.py\n",
        "\n",
        "\"\"\"# CrossEncoder Class\n",
        "\"\"\"\n",
        "\n",
        "from transformers import AutoModelForSequenceClassification, AutoTokenizer, AutoConfig\n",
        "import numpy as np\n",
        "import logging\n",
        "import os\n",
        "from typing import Dict, Type, Callable, List\n",
        "import transformers\n",
        "import torch\n",
        "from torch import nn\n",
        "from torch.optim import Optimizer\n",
        "from torch.utils.data import DataLoader\n",
        "from sentence_transformers import SentenceTransformer, util\n",
        "from sentence_transformers.evaluation import SentenceEvaluator\n",
        "class CrossEncoder():\n",
        "    def __init__(self, model_name:str = 'microsoft/MiniLM-L12-H384-uncased', model_path:str = None, num_labels:int = None, max_length:int = None, device:str = None, tokenizer_args:Dict = {},\n",
        "                 default_activation_function = None):\n",
        "        \"\"\"\n",
        "        A CrossEncoder takes exactly two sentences / texts as input and either predicts\n",
        "        a score or label for this sentence pair. It can for example predict the similarity of the sentence pair\n",
        "        on a scale of 0 ... 1.\n",
        "\n",
        "        It does not yield a sentence embedding and does not work for individually sentences.\n",
        "\n",
        "        :param model_name: Any model name from Huggingface Models Repository that can be loaded with AutoModel. We provide several pre-trained CrossEncoder models that can be used for common tasks\n",
        "        :param num_labels: Number of labels of the classifier. If 1, the CrossEncoder is a regression model that outputs a continous score 0...1. If > 1, it output several scores that can be soft-maxed to get probability scores for the different classes.\n",
        "        :param max_length: Max length for input sequences. Longer sequences will be truncated. If None, max length of the model will be used\n",
        "        :param device: Device that should be used for the model. If None, it will use CUDA if available.\n",
        "        :param tokenizer_args: Arguments passed to AutoTokenizer\n",
        "        :param default_activation_function: Callable (like nn.Sigmoid) about the default activation function that should be used on-top of model.predict(). If None. nn.Sigmoid() will be used if num_labels=1, else nn.Identity()\n",
        "        \"\"\"\n",
        "\n",
        "        self.config = AutoConfig.from_pretrained(model_name)\n",
        "        classifier_trained = True\n",
        "        if self.config.architectures is not None:\n",
        "            classifier_trained = any([arch.endswith('ForSequenceClassification') for arch in self.config.architectures])\n",
        "\n",
        "        if num_labels is None and not classifier_trained:\n",
        "            num_labels = 1\n",
        "\n",
        "        if num_labels is not None:\n",
        "            self.config.num_labels = num_labels\n",
        "\n",
        "        self.model = AutoModelForSequenceClassification.from_pretrained(model_path, config=self.config, ignore_mismatched_sizes = True) # ignore_mismatched_sizes = True for transfer learning. first post_training, then using it for binary classification\n",
        "        self.tokenizer = AutoTokenizer.from_pretrained(model_name, **tokenizer_args)\n",
        "        self.max_length = max_length\n",
        "\n",
        "        if device is None:\n",
        "            device = \"cuda\" if torch.cuda.is_available() else \"cpu\"\n",
        "            logger.info(\"Use pytorch device: {}\".format(device))\n",
        "\n",
        "        self._target_device = torch.device(device)\n",
        "\n",
        "        if default_activation_function is not None:\n",
        "            self.default_activation_function = default_activation_function\n",
        "            try:\n",
        "                self.config.sbert_ce_default_activation_function = util.fullname(self.default_activation_function)\n",
        "            except Exception as e:\n",
        "                logger.warning(\"Was not able to update config about the default_activation_function: {}\".format(str(e)) )\n",
        "        elif hasattr(self.config, 'sbert_ce_default_activation_function') and self.config.sbert_ce_default_activation_function is not None:\n",
        "            self.default_activation_function = util.import_from_string(self.config.sbert_ce_default_activation_function)()\n",
        "        else:\n",
        "            self.default_activation_function = nn.Sigmoid() if self.config.num_labels == 1 else nn.Identity()\n",
        "\n",
        "    def smart_batching_collate(self, batch):\n",
        "        texts = [[] for _ in range(len(batch[0].texts))]\n",
        "        labels = []\n",
        "\n",
        "        for example in batch:\n",
        "            for idx, text in enumerate(example.texts):\n",
        "                texts[idx].append(text.strip())\n",
        "\n",
        "            labels.append(example.label)\n",
        "\n",
        "        tokenized = self.tokenizer(*texts, padding=True, truncation='longest_first', return_tensors=\"pt\", max_length=self.max_length)\n",
        "        labels = torch.tensor(labels, dtype=torch.float if self.config.num_labels == 1 else torch.long).to(self._target_device)\n",
        "\n",
        "        for name in tokenized:\n",
        "            tokenized[name] = tokenized[name].to(self._target_device)\n",
        "\n",
        "        return tokenized, labels\n",
        "\n",
        "    def smart_batching_collate_text_only(self, batch):\n",
        "        texts = [[] for _ in range(len(batch[0]))]\n",
        "\n",
        "        for example in batch:\n",
        "            for idx, text in enumerate(example):\n",
        "                texts[idx].append(text.strip())\n",
        "\n",
        "        tokenized = self.tokenizer(*texts, padding=True, truncation='longest_first', return_tensors=\"pt\", max_length=self.max_length)\n",
        "\n",
        "        for name in tokenized:\n",
        "            tokenized[name] = tokenized[name].to(self._target_device)\n",
        "\n",
        "        return tokenized\n",
        "\n",
        "    def fit(self,\n",
        "            train_dataloader: DataLoader,\n",
        "            evaluator: SentenceEvaluator = None,\n",
        "            epochs: int = 1,\n",
        "            loss_fct = None,\n",
        "            activation_fct = nn.Identity(),\n",
        "            scheduler: str = 'WarmupLinear',\n",
        "            warmup_steps: int = 10000,\n",
        "            accumulation_steps: int = 1,\n",
        "            optimizer_class: Type[Optimizer] = transformers.AdamW,\n",
        "            optimizer_params: Dict[str, object] = {'lr': 2e-5},\n",
        "            weight_decay: float = 0.01,\n",
        "            evaluation_steps: int = 0,\n",
        "            output_path: str = None,\n",
        "            save_best_model: bool = True,\n",
        "            max_grad_norm: float = 1,\n",
        "            use_amp: bool = False,\n",
        "            callback: Callable[[float, int, int], None] = None,\n",
        "            ):\n",
        "        \"\"\"\n",
        "        Train the model with the given training objective\n",
        "        Each training objective is sampled in turn for one batch.\n",
        "        We sample only as many batches from each objective as there are in the smallest one\n",
        "        to make sure of equal training with each dataset.\n",
        "\n",
        "        :param train_dataloader: DataLoader with training InputExamples\n",
        "        :param evaluator: An evaluator (sentence_transformers.evaluation) evaluates the model performance during training on held-out dev data. It is used to determine the best model that is saved to disc.\n",
        "        :param epochs: Number of epochs for training\n",
        "        :param loss_fct: Which loss function to use for training. If None, will use nn.BCEWithLogitsLoss() if self.config.num_labels == 1 else nn.CrossEntropyLoss()\n",
        "        :param activation_fct: Activation function applied on top of logits output of model.\n",
        "        :param scheduler: Learning rate scheduler. Available schedulers: constantlr, warmupconstant, warmuplinear, warmupcosine, warmupcosinewithhardrestarts\n",
        "        :param warmup_steps: Behavior depends on the scheduler. For WarmupLinear (default), the learning rate is increased from o up to the maximal learning rate. After these many training steps, the learning rate is decreased linearly back to zero.\n",
        "        :param accumulation_steps: Number of steps to accumulate before performing a backward pass\n",
        "        :param optimizer_class: Optimizer\n",
        "        :param optimizer_params: Optimizer parameters\n",
        "        :param weight_decay: Weight decay for model parameters\n",
        "        :param evaluation_steps: If > 0, evaluate the model using evaluator after each number of training steps\n",
        "        :param output_path: Storage path for the model and evaluation files\n",
        "        :param save_best_model: If true, the best model (according to evaluator) is stored at output_path\n",
        "        :param max_grad_norm: Used for gradient normalization.\n",
        "        :param use_amp: Use Automatic Mixed Precision (AMP). Only for Pytorch >= 1.6.0\n",
        "        :param callback: Callback function that is invoked after each evaluation.\n",
        "                It must accept the following three parameters in this order:\n",
        "                `score`, `epoch`, `steps`\n",
        "        \"\"\"\n",
        "        train_dataloader.collate_fn = self.smart_batching_collate\n",
        "\n",
        "        if use_amp:\n",
        "            from torch.cuda.amp import autocast\n",
        "            scaler = torch.cuda.amp.GradScaler()\n",
        "\n",
        "        self.model.to(self._target_device)\n",
        "\n",
        "        if output_path is not None:\n",
        "            os.makedirs(output_path, exist_ok=True)\n",
        "\n",
        "        self.best_score = -9999999\n",
        "        num_train_steps = int(len(train_dataloader) * epochs)\n",
        "\n",
        "        # Prepare optimizers\n",
        "        param_optimizer = list(self.model.named_parameters())\n",
        "\n",
        "        no_decay = ['bias', 'LayerNorm.bias', 'LayerNorm.weight']\n",
        "        optimizer_grouped_parameters = [\n",
        "            {'params': [p for n, p in param_optimizer if not any(nd in n for nd in no_decay)], 'weight_decay': weight_decay},\n",
        "            {'params': [p for n, p in param_optimizer if any(nd in n for nd in no_decay)], 'weight_decay': 0.0}\n",
        "        ]\n",
        "\n",
        "        optimizer = optimizer_class(optimizer_grouped_parameters, **optimizer_params)\n",
        "\n",
        "        if isinstance(scheduler, str):\n",
        "            scheduler = SentenceTransformer._get_scheduler(optimizer, scheduler=scheduler, warmup_steps=warmup_steps, t_total=num_train_steps)\n",
        "\n",
        "        if loss_fct is None:\n",
        "            loss_fct = nn.BCEWithLogitsLoss() if self.config.num_labels == 1 else nn.CrossEntropyLoss()\n",
        "\n",
        "\n",
        "        skip_scheduler = False\n",
        "        for epoch in tqdm.trange(epochs, desc=\"Epoch\"):\n",
        "            training_steps = 0\n",
        "            self.model.zero_grad()\n",
        "            self.model.train()\n",
        "            for i, (features, labels) in tqdm.tqdm(enumerate(train_dataloader), total=(len(train_dataloader) // accumulation_steps), desc=\"Iteration\", smoothing=0.05):\n",
        "                if use_amp:\n",
        "                    with autocast():\n",
        "                        model_predictions = self.model(**features, return_dict=True)\n",
        "                        logits = activation_fct(model_predictions.logits)\n",
        "                        if self.config.num_labels == 1:\n",
        "                            logits = logits.view(-1)\n",
        "                        loss_value = loss_fct(logits, labels)\n",
        "                        loss_value /= accumulation_steps\n",
        "\n",
        "                    scale_before_step = scaler.get_scale()\n",
        "                    scaler.scale(loss_value).backward()\n",
        "                    if (i + 1) % accumulation_steps == 0:\n",
        "                        scaler.unscale_(optimizer)\n",
        "                        torch.nn.utils.clip_grad_norm_(self.model.parameters(), max_grad_norm)\n",
        "                        scaler.step(optimizer)\n",
        "                        scaler.update()\n",
        "                        optimizer.zero_grad()\n",
        "\n",
        "                    skip_scheduler = scaler.get_scale() != scale_before_step\n",
        "                else:\n",
        "                    model_predictions = self.model(**features, return_dict=True)\n",
        "                    logits = activation_fct(model_predictions.logits)\n",
        "                    if self.config.num_labels == 1:\n",
        "                        logits = logits.view(-1)\n",
        "                    loss_value = loss_fct(logits, labels)\n",
        "                    loss_value /= accumulation_steps\n",
        "                    loss_value.backward()\n",
        "                    if (i + 1) % accumulation_steps == 0:\n",
        "                        torch.nn.utils.clip_grad_norm_(self.model.parameters(), max_grad_norm)\n",
        "                        optimizer.step()\n",
        "                        optimizer.zero_grad()\n",
        "\n",
        "                if not skip_scheduler and (i + 1) % accumulation_steps == 0:\n",
        "                    scheduler.step()\n",
        "\n",
        "                training_steps += 1\n",
        "\n",
        "                if evaluator is not None and evaluation_steps > 0 and training_steps % evaluation_steps == 0:\n",
        "                    self._eval_during_training(evaluator, output_path, save_best_model, epoch, training_steps, callback)\n",
        "\n",
        "                    self.model.zero_grad()\n",
        "                    self.model.train()\n",
        "\n",
        "            if evaluator is not None:\n",
        "                self._eval_during_training(evaluator, output_path, save_best_model, epoch, -1, callback)\n",
        "\n",
        "\n",
        "\n",
        "    def predict(self, sentences: List[List[str]],\n",
        "               batch_size: int = 32,\n",
        "               show_progress_bar: bool = None,\n",
        "               num_workers: int = 0,\n",
        "               activation_fct = None,\n",
        "               apply_softmax = False,\n",
        "               convert_to_numpy: bool = True,\n",
        "               convert_to_tensor: bool = False\n",
        "               ):\n",
        "        \"\"\"\n",
        "        Performs predicts with the CrossEncoder on the given sentence pairs.\n",
        "\n",
        "        :param sentences: A list of sentence pairs [[Sent1, Sent2], [Sent3, Sent4]]\n",
        "        :param batch_size: Batch size for encoding\n",
        "        :param show_progress_bar: Output progress bar\n",
        "        :param num_workers: Number of workers for tokenization\n",
        "        :param activation_fct: Activation function applied on the logits output of the CrossEncoder. If None, nn.Sigmoid() will be used if num_labels=1, else nn.Identity\n",
        "        :param convert_to_numpy: Convert the output to a numpy matrix.\n",
        "        :param apply_softmax: If there are more than 2 dimensions and apply_softmax=True, applies softmax on the logits output\n",
        "        :param convert_to_tensor:  Conver the output to a tensor.\n",
        "        :return: Predictions for the passed sentence pairs\n",
        "        \"\"\"\n",
        "        input_was_string = False\n",
        "        if isinstance(sentences[0], str):  # Cast an individual sentence to a list with length 1\n",
        "            sentences = [sentences]\n",
        "            input_was_string = True\n",
        "\n",
        "        inp_dataloader = DataLoader(sentences, batch_size=batch_size, collate_fn=self.smart_batching_collate_text_only, num_workers=num_workers, shuffle=False)\n",
        "\n",
        "        if show_progress_bar is None:\n",
        "            show_progress_bar = (logger.getEffectiveLevel() == logging.INFO or logger.getEffectiveLevel() == logging.DEBUG)\n",
        "\n",
        "        iterator = inp_dataloader\n",
        "        if show_progress_bar:\n",
        "            iterator = tqdm.tqdm(inp_dataloader, desc=\"Batches\")\n",
        "\n",
        "        if activation_fct is None:\n",
        "            activation_fct = self.default_activation_function\n",
        "\n",
        "        pred_scores = []\n",
        "        self.model.eval()\n",
        "        self.model.to(self._target_device)\n",
        "        with torch.no_grad():\n",
        "            for features in iterator:\n",
        "                model_predictions = self.model(**features, return_dict=True)\n",
        "                logits = activation_fct(model_predictions.logits)\n",
        "\n",
        "                if apply_softmax and len(logits[0]) > 1:\n",
        "                    logits = torch.nn.functional.softmax(logits, dim=1)\n",
        "                pred_scores.extend(logits)\n",
        "\n",
        "        if self.config.num_labels == 1:\n",
        "            pred_scores = [score[0] for score in pred_scores]\n",
        "\n",
        "        if convert_to_tensor:\n",
        "            pred_scores = torch.stack(pred_scores)\n",
        "        elif convert_to_numpy:\n",
        "            pred_scores = np.asarray([score.cpu().detach().numpy() for score in pred_scores])\n",
        "\n",
        "        if input_was_string:\n",
        "            pred_scores = pred_scores[0]\n",
        "\n",
        "        return pred_scores\n",
        "\n",
        "\n",
        "    def _eval_during_training(self, evaluator, output_path, save_best_model, epoch, steps, callback):\n",
        "        \"\"\"Runs evaluation during the training\"\"\"\n",
        "        if evaluator is not None:\n",
        "            score = evaluator(self, output_path=output_path, epoch=epoch, steps=steps)\n",
        "            if callback is not None:\n",
        "                callback(score, epoch, steps)\n",
        "            if score > self.best_score:\n",
        "                self.best_score = score\n",
        "                if save_best_model:\n",
        "                    self.save(output_path)\n",
        "\n",
        "    def save(self, path):\n",
        "        \"\"\"\n",
        "        Saves all model and tokenizer to path\n",
        "        \"\"\"\n",
        "        if path is None:\n",
        "            return\n",
        "\n",
        "        logger.info(\"Save model to {}\".format(path))\n",
        "        self.model.save_pretrained(path)\n",
        "        self.tokenizer.save_pretrained(path)\n",
        "\n",
        "    def save_pretrained(self, path):\n",
        "        \"\"\"\n",
        "        Same function as save\n",
        "        \"\"\"\n",
        "        return self.save(path)"
      ],
      "metadata": {
        "id": "-b8w3aWkUBTM"
      },
      "execution_count": null,
      "outputs": []
    },
    {
      "cell_type": "code",
      "source": [
        "# Unchanged taken from https://github.com/arian-askari/RelevanceCAT/blob/main/evaluation/eval_trec19-MiniLM-L-12-v3.py\n",
        "\n",
        "\"\"\"# Evaluator Class\"\"\"\n",
        "\n",
        "import numpy as np\n",
        "import os\n",
        "import csv\n",
        "import pytrec_eval\n",
        "import tqdm\n",
        "from sentence_transformers import LoggingHandler, util\n",
        "class CERerankingEvaluatorTest:\n",
        "    \"\"\"\n",
        "    This class evaluates a CrossEncoder model for the task of re-ranking.\n",
        "\n",
        "    Given a query and a list of documents, it computes the score [query, doc_i] for all possible\n",
        "    documents and sorts them in decreasing order. Then, ndcg@10 is compute to measure the quality of the ranking.\n",
        "\n",
        "    :param samples: Must be a list and each element is of the form: {'query': '', 'positive': [], 'negative': []}. Query is the search query,\n",
        "     positive is a list of positive (relevant) documents, negative is a list of negative (irrelevant) documents.\n",
        "    \"\"\"\n",
        "    def __init__(self, samples, qrel, all_metrics: set = {\"recall.10\"}, ranking_output_path: str = '', batch_size: int = 16):\n",
        "        self.samples = samples\n",
        "        self.all_metrics = all_metrics\n",
        "        self.qrel = qrel\n",
        "        self.ranking_output_path = ranking_output_path\n",
        "        self.batch_size = batch_size\n",
        "        if isinstance(self.samples, dict):\n",
        "            self.samples = list(self.samples.values())\n",
        "        self.mean_metrics = {}\n",
        "    def rank(self, model) -> float:\n",
        "        print(\"len: # queries: \" + str(len(self.samples)))\n",
        "        cnt = 0\n",
        "        try:\n",
        "            run = {}\n",
        "            f_w = open(self.ranking_output_path, \"w+\")\n",
        "            for instance in tqdm.tqdm(self.samples):\n",
        "                cnt += 1\n",
        "                print(\"cnt: \", cnt)\n",
        "                qid = instance['qid']\n",
        "                if qid not in run:\n",
        "                  run[qid] = {}\n",
        "                queries = instance['queries'] # change for injection. previoulsy it was: query = instance['query']\n",
        "                docs = list(instance['docs'])\n",
        "                ids = list(instance['docs_ids'])\n",
        "                model_input = [[query, doc] for query, doc in zip(queries, docs)]\n",
        "                if model.config.num_labels > 1: #Cross-Encoder that predict more than 1 score, we use the last and apply softmax\n",
        "                    pred_scores = model.predict(model_input, apply_softmax=True, batch_size = self.batch_size)[:, 1].tolist()\n",
        "                else:\n",
        "                    pred_scores = model.predict(model_input, batch_size = self.batch_size).tolist()\n",
        "                for pred_score, did in zip(list(pred_scores), ids):\n",
        "                    line = \"{query_id} Q0 {document_id} {rank} {score} STANDARD\\n\".format(query_id=qid,\n",
        "                                                                                          document_id=did,\n",
        "                                                                                          rank=\"-10\",#rank,\n",
        "                                                                                          score=str(pred_score))\n",
        "                    f_w.write(line)\n",
        "                    run[qid][did] = float(pred_score)\n",
        "            f_w.close()\n",
        "            if self.qrel is not None and self.qrel != \"None\" : # if we do not know labels, then we only re-rank and store run/ranked list file :)\n",
        "              evaluator = pytrec_eval.RelevanceEvaluator(self.qrel, self.all_metrics)\n",
        "              scores = evaluator.evaluate(run)\n",
        "              self.mean_metrics = {}\n",
        "              metrics_string = \"\"\n",
        "              for metric in list(self.all_metrics):\n",
        "                  self.mean_metrics[metric] = np.mean([ele[metric.replace(\".\",\"_\")] for ele in scores.values()])\n",
        "                  metrics_string = metrics_string +  \"{}: {} | \".format(metric, self.mean_metrics[metric])\n",
        "              print(\"metrics eval: \", metrics_string)\n",
        "        except Exception as e:\n",
        "            logger.error(\"error: \", e)\n",
        "        self.__fix_rank_filed() # store a ranking run file with <rank> field fixed in it!\n",
        "        return self.mean_metrics\n",
        "\n",
        "    def __fix_rank_filed(self, ranking_path = \"\", splittor = \" \", return_lines = False, ranking_lines = None, remove_last_query = None):\n",
        "        splittor = splittor\n",
        "        if ranking_path == \"\":\n",
        "          ranking_path = self.ranking_output_path\n",
        "        else:\n",
        "          ranking_path = ranking_path\n",
        "        return_lines = return_lines\n",
        "        ranking_lines = ranking_lines\n",
        "        remove_last_query = remove_last_query\n",
        "\n",
        "        re_rank_dict = {} # structure {query: {did:score, }}\n",
        "        if ranking_lines is None:\n",
        "            ranking_lines = open(ranking_path, \"r\").readlines()\n",
        "        for line in ranking_lines:\n",
        "            line = line.strip()\n",
        "            if len(line.split(splittor))<4: continue\n",
        "            qid, q0, did, rank, score, runname = line.split(splittor)\n",
        "            if qid not in re_rank_dict:\n",
        "                re_rank_dict[qid]= {}\n",
        "            re_rank_dict[qid][did] = float(score)\n",
        "\n",
        "        json_query_docs_score = re_rank_dict\n",
        "        list_of_tupple = []\n",
        "        for query, docs_dict in json_query_docs_score.items():\n",
        "            for doc_id, score in docs_dict.items():\n",
        "                # print(query, doc_id, score)\n",
        "                list_of_tupple.append((query, doc_id, float(score)))\n",
        "\n",
        "        new_list = sorted(list_of_tupple, key=lambda element: (element[0], element[2]), reverse=True)\n",
        "        out_lines = \"\"\n",
        "        rank = 1\n",
        "        cur_q_id =\"\"\n",
        "        find_duplicate = [] # structure: qid_doc_id\n",
        "        for query, doc_id, score in new_list:\n",
        "            dup = query+\"_\"+doc_id\n",
        "            if query == doc_id:continue\n",
        "            if cur_q_id == \"\":\n",
        "                cur_q_id = query\n",
        "            if cur_q_id != query:\n",
        "                rank = 1\n",
        "                cur_q_id = query\n",
        "            line = \"{query_id} Q0 {document_id} {rank} {score} STANDARD\\n\".format(query_id=query,\n",
        "                                                                                        document_id=doc_id, rank=str(rank), score= str(score))\n",
        "            rank += 1\n",
        "            out_lines += line\n",
        "        if return_lines==True:\n",
        "            return out_lines\n",
        "        else:\n",
        "            f_qrel = open(ranking_path+\"_rankfield_fixed\", \"w\")\n",
        "            f_qrel.write(out_lines)\n",
        "            f_qrel.close()"
      ],
      "metadata": {
        "id": "5s2jFrLKUC4F"
      },
      "execution_count": null,
      "outputs": []
    },
    {
      "cell_type": "code",
      "source": [
        "\"\"\"#Data\n",
        "\n",
        "## utils\n",
        "\n",
        "### read collections\n",
        "\"\"\"\n",
        "\n",
        "def smart_truncate(content, length):\n",
        "    return content if len(content) <= length else content[:length].rsplit(' ', 1)[0]\n",
        "\n",
        "def read_collection(f_path, truncate_length):\n",
        "  corpus = {}\n",
        "  with open(f_path, \"r\") as fp:\n",
        "    for line in tqdm.tqdm(fp, desc=\"reading {}\".format(f_path)):\n",
        "      did, dtext = line.strip().split(\"\\t\")\n",
        "      dtext = \"[CLS] \"+smart_truncate(dtext, truncate_length)+\" [SEP]\"\n",
        "      corpus[did] = dtext\n",
        "  return corpus\n",
        "\n",
        "\n",
        "# def read_collection(f_path):\n",
        "#   corpus = {}\n",
        "#   with open(f_path, \"r\") as fp:\n",
        "#     for line in tqdm.tqdm(fp, desc=\"reading {}\".format(f_path)):\n",
        "#       did, dtext = line.strip().split(\"\\t\")\n",
        "#       corpus[did] = dtext\n",
        "#   return corpus\n",
        "\n",
        "# from transformers import AutoTokenizer\n",
        "# tokenizer = AutoTokenizer.from_pretrained(model_name, truncation_side = \"right\") # right is default btw.\n",
        "\n",
        "def get_truncated_dict(id_content_dict, tokenizer, max_length):\n",
        "  for id_, content, in tqdm.tqdm(id_content_dict.items()):\n",
        "    truncated_content = tokenizer.batch_decode(tokenizer(content, padding=True, truncation=True, return_tensors=\"pt\", max_length=max_length)['input_ids'], skip_special_tokens=True)[0]\n",
        "    id_content_dict[id_] = truncated_content\n",
        "  return id_content_dict\n",
        "\n",
        "\"\"\"### reading top1000: utils\"\"\"\n",
        "\n",
        "def read_top1000_run(f_path, corpus, queries, separator = \" \", allowed_qids = None):\n",
        "  samples = {}\n",
        "  with open(f_path, \"r\") as fp:\n",
        "    for line in tqdm.tqdm(fp, desc=\"reading {}\".format(f_path)):\n",
        "      qid, did, query, passage = line.strip().split(\"\\t\")\n",
        "      # print(qid, did, query, passage)\n",
        "      if qid not in queries: continue\n",
        "      if allowed_qids is not None and qid not in allowed_qids: continue\n",
        "      query = queries[qid]\n",
        "      if qid not in samples:\n",
        "        samples[qid] = {'qid': qid , 'queries': list(), 'docs': list(), 'docs_ids': list()} # 'query' is list because of injection. each injection changes the query part :)\n",
        "      samples[qid]['queries'].append(query)\n",
        "      samples[qid]['docs'].append(corpus[did])\n",
        "      samples[qid]['docs_ids'].append(did)\n",
        "  return samples"
      ],
      "metadata": {
        "id": "Yabw6TU-UMcT"
      },
      "execution_count": null,
      "outputs": []
    },
    {
      "cell_type": "code",
      "source": [
        "\"\"\"## Reading data\n",
        "\n",
        "\n",
        "\"\"\"### reading qrel\"\"\"\n",
        "\n",
        "with open(qrel_path, 'r') as f_qrel:\n",
        "    qrel = pytrec_eval.parse_qrel(f_qrel)\n",
        "\n",
        "### reading corpus and queries and truncate it\n",
        "\n",
        "queries = read_collection(queries_path, 150)\n",
        "corpus = read_collection(corpus_path, 1000)\n",
        "\n",
        "# queries = get_truncated_dict(queries, tokenizer, max_length_query)\n",
        "#corpus = get_truncated_dict(corpus,tokenizer, max_length_passage) # corpus is already truncated :)\n",
        "\n",
        "\n",
        "\"\"\"### reading top1000: main\"\"\"\n",
        "allowed_qids = set({'19335', '47923', '87181', '87452', '104861', '130510', '131843', '146187', '148538', '156493', '168216', '182539', '183378', '207786', '264014', '359349', '405717', '443396', '451602', '489204', '490595', '527433', '573724', '833860', '855410', '915593', '962179', '1037798', '1063750', '1103812', '1106007', '1110199', '1112341', '1113437', '1114646', '1114819', '1115776', '1117099', '1121402', '1121709', '1124210', '1129237', '1133167'}) # judged qids need to be reranked!\n",
        "test_samples = read_top1000_run(top100_run_path, corpus, queries, separator = \" \", allowed_qids = allowed_qids)\n",
        "# test_samples = read_top1000_run(top100_run_path, corpus, queries, separator = \" \")"
      ],
      "metadata": {
        "colab": {
          "base_uri": "https://localhost:8080/"
        },
        "id": "kelV7V1RURwX",
        "outputId": "250287d7-f7ec-44bc-b279-7fb96536c9ac"
      },
      "execution_count": null,
      "outputs": [
        {
          "output_type": "stream",
          "name": "stderr",
          "text": [
            "reading msmarco-data/msmarco-test2019-queries.tsv: 200it [00:00, 645774.29it/s]\n",
            "reading msmarco-data/collection.tsv: 8841823it [00:25, 347939.23it/s]\n",
            "reading msmarco-data/msmarco-passagetest2019-top1000.tsv: 189877it [00:01, 101905.24it/s]\n"
          ]
        }
      ]
    },
    {
      "cell_type": "code",
      "source": [
        "\"\"\"# Evaluating\"\"\"\n",
        "model = CrossEncoder(model_path = fine_tuned_model_path, num_labels=1, max_length=model_max_length)\n",
        "batch_size = 64\n",
        "\n",
        "evaluator = CERerankingEvaluatorTest(\n",
        "    test_samples,\n",
        "    qrel,\n",
        "    all_metrics = {\"ndcg_cut.10\", \"map_cut.1000\", \"recall.10\"},\n",
        "    ranking_output_path = ranking_output_path,\n",
        "    batch_size = batch_size\n",
        ")\n",
        "measures_results = evaluator.rank(model)\n",
        "\n",
        "print(\"measures_results: \", measures_results)\n",
        "\n",
        "\"\"\"## BM25, MAP: 0.06\n",
        "## LegalBERT-finetuned, MAP: 0.19\n",
        "\"\"\""
      ],
      "metadata": {
        "colab": {
          "base_uri": "https://localhost:8080/",
          "height": 1000
        },
        "id": "kf8I_TcHUYwt",
        "outputId": "d684599c-93df-4d14-f4ab-a21f255ced83"
      },
      "execution_count": null,
      "outputs": [
        {
          "output_type": "stream",
          "name": "stderr",
          "text": [
            "DEBUG:urllib3.connectionpool:Resetting dropped connection: huggingface.co\n",
            "DEBUG:urllib3.connectionpool:https://huggingface.co:443 \"HEAD /microsoft/MiniLM-L12-H384-uncased/resolve/main/config.json HTTP/1.1\" 200 0\n",
            "DEBUG:urllib3.connectionpool:https://huggingface.co:443 \"HEAD /microsoft/MiniLM-L12-H384-uncased/resolve/main/tokenizer_config.json HTTP/1.1\" 200 0\n",
            "INFO:root:Use pytorch device: cuda\n"
          ]
        },
        {
          "output_type": "stream",
          "name": "stdout",
          "text": [
            "len: # queries: 200\n"
          ]
        },
        {
          "output_type": "stream",
          "name": "stderr",
          "text": [
            "\r  0%|          | 0/200 [00:00<?, ?it/s]"
          ]
        },
        {
          "output_type": "stream",
          "name": "stdout",
          "text": [
            "cnt:  1\n"
          ]
        },
        {
          "output_type": "stream",
          "name": "stderr",
          "text": [
            "\n",
            "Batches:   0%|          | 0/16 [00:00<?, ?it/s]\u001b[A\n",
            "Batches:   6%|▋         | 1/16 [00:00<00:10,  1.43it/s]\u001b[A\n",
            "Batches:  12%|█▎        | 2/16 [00:00<00:06,  2.33it/s]\u001b[A\n",
            "Batches:  19%|█▉        | 3/16 [00:01<00:04,  2.87it/s]\u001b[A\n",
            "Batches:  25%|██▌       | 4/16 [00:01<00:03,  3.80it/s]\u001b[A\n",
            "Batches:  31%|███▏      | 5/16 [00:01<00:02,  4.40it/s]\u001b[A\n",
            "Batches:  38%|███▊      | 6/16 [00:01<00:02,  4.27it/s]\u001b[A\n",
            "Batches:  44%|████▍     | 7/16 [00:01<00:01,  4.52it/s]\u001b[A\n",
            "Batches:  50%|█████     | 8/16 [00:02<00:01,  4.89it/s]\u001b[A\n",
            "Batches:  56%|█████▋    | 9/16 [00:02<00:01,  4.99it/s]\u001b[A\n",
            "Batches:  62%|██████▎   | 10/16 [00:02<00:01,  4.76it/s]\u001b[A\n",
            "Batches:  69%|██████▉   | 11/16 [00:02<00:01,  4.85it/s]\u001b[A\n",
            "Batches:  75%|███████▌  | 12/16 [00:02<00:00,  4.76it/s]\u001b[A\n",
            "Batches:  81%|████████▏ | 13/16 [00:03<00:00,  4.71it/s]\u001b[A\n",
            "Batches:  88%|████████▊ | 14/16 [00:03<00:00,  4.75it/s]\u001b[A\n",
            "Batches:  94%|█████████▍| 15/16 [00:03<00:00,  4.98it/s]\u001b[A\n",
            "Batches: 100%|██████████| 16/16 [00:03<00:00,  4.24it/s]\n",
            "  0%|          | 1/200 [00:04<14:30,  4.38s/it]"
          ]
        },
        {
          "output_type": "stream",
          "name": "stdout",
          "text": [
            "cnt:  2\n"
          ]
        },
        {
          "output_type": "stream",
          "name": "stderr",
          "text": [
            "\n",
            "Batches:   0%|          | 0/16 [00:00<?, ?it/s]\u001b[A\n",
            "Batches:  12%|█▎        | 2/16 [00:00<00:01,  8.36it/s]\u001b[A\n",
            "Batches:  19%|█▉        | 3/16 [00:00<00:01,  7.17it/s]\u001b[A\n",
            "Batches:  25%|██▌       | 4/16 [00:00<00:01,  7.08it/s]\u001b[A\n",
            "Batches:  31%|███▏      | 5/16 [00:00<00:01,  6.36it/s]\u001b[A\n",
            "Batches:  38%|███▊      | 6/16 [00:01<00:01,  5.10it/s]\u001b[A\n",
            "Batches:  44%|████▍     | 7/16 [00:01<00:01,  5.34it/s]\u001b[A\n",
            "Batches:  50%|█████     | 8/16 [00:01<00:01,  5.77it/s]\u001b[A\n",
            "Batches:  56%|█████▋    | 9/16 [00:01<00:01,  5.60it/s]\u001b[A\n",
            "Batches:  62%|██████▎   | 10/16 [00:01<00:01,  5.08it/s]\u001b[A\n",
            "Batches:  69%|██████▉   | 11/16 [00:01<00:01,  4.92it/s]\u001b[A\n",
            "Batches:  75%|███████▌  | 12/16 [00:02<00:00,  4.91it/s]\u001b[A\n",
            "Batches:  81%|████████▏ | 13/16 [00:02<00:00,  4.85it/s]\u001b[A\n",
            "Batches:  88%|████████▊ | 14/16 [00:02<00:00,  4.89it/s]\u001b[A\n",
            "Batches:  94%|█████████▍| 15/16 [00:02<00:00,  5.09it/s]\u001b[A\n",
            "Batches: 100%|██████████| 16/16 [00:02<00:00,  5.34it/s]\n",
            "  1%|          | 2/200 [00:07<12:03,  3.66s/it]"
          ]
        },
        {
          "output_type": "stream",
          "name": "stdout",
          "text": [
            "cnt:  3\n"
          ]
        },
        {
          "output_type": "stream",
          "name": "stderr",
          "text": [
            "\n",
            "Batches:   0%|          | 0/16 [00:00<?, ?it/s]\u001b[A\n",
            "Batches:  12%|█▎        | 2/16 [00:00<00:01,  8.96it/s]\u001b[A\n",
            "Batches:  19%|█▉        | 3/16 [00:00<00:01,  7.30it/s]\u001b[A\n",
            "Batches:  25%|██▌       | 4/16 [00:00<00:01,  6.99it/s]\u001b[A\n",
            "Batches:  31%|███▏      | 5/16 [00:00<00:01,  6.19it/s]\u001b[A\n",
            "Batches:  38%|███▊      | 6/16 [00:01<00:01,  5.02it/s]\u001b[A\n",
            "Batches:  44%|████▍     | 7/16 [00:01<00:01,  5.21it/s]\u001b[A\n",
            "Batches:  50%|█████     | 8/16 [00:01<00:01,  5.65it/s]\u001b[A\n",
            "Batches:  56%|█████▋    | 9/16 [00:01<00:01,  5.50it/s]\u001b[A\n",
            "Batches:  62%|██████▎   | 10/16 [00:01<00:01,  5.00it/s]\u001b[A\n",
            "Batches:  69%|██████▉   | 11/16 [00:01<00:01,  4.87it/s]\u001b[A\n",
            "Batches:  75%|███████▌  | 12/16 [00:02<00:00,  4.82it/s]\u001b[A\n",
            "Batches:  81%|████████▏ | 13/16 [00:02<00:00,  4.79it/s]\u001b[A\n",
            "Batches:  88%|████████▊ | 14/16 [00:02<00:00,  4.84it/s]\u001b[A\n",
            "Batches:  94%|█████████▍| 15/16 [00:02<00:00,  5.02it/s]\u001b[A\n",
            "Batches: 100%|██████████| 16/16 [00:03<00:00,  5.27it/s]\n",
            "  2%|▏         | 3/200 [00:10<11:17,  3.44s/it]"
          ]
        },
        {
          "output_type": "stream",
          "name": "stdout",
          "text": [
            "cnt:  4\n"
          ]
        },
        {
          "output_type": "stream",
          "name": "stderr",
          "text": [
            "\n",
            "Batches:   0%|          | 0/16 [00:00<?, ?it/s]\u001b[A\n",
            "Batches:  12%|█▎        | 2/16 [00:00<00:01,  9.53it/s]\u001b[A\n",
            "Batches:  19%|█▉        | 3/16 [00:00<00:02,  5.47it/s]\u001b[A\n",
            "Batches:  25%|██▌       | 4/16 [00:00<00:02,  4.91it/s]\u001b[A\n",
            "Batches:  31%|███▏      | 5/16 [00:01<00:02,  4.30it/s]\u001b[A\n",
            "Batches:  38%|███▊      | 6/16 [00:01<00:02,  4.56it/s]\u001b[A\n",
            "Batches:  44%|████▍     | 7/16 [00:01<00:02,  4.20it/s]\u001b[A\n",
            "Batches:  50%|█████     | 8/16 [00:01<00:01,  4.39it/s]\u001b[A\n",
            "Batches:  56%|█████▋    | 9/16 [00:01<00:01,  4.65it/s]\u001b[A\n",
            "Batches:  62%|██████▎   | 10/16 [00:02<00:01,  4.39it/s]\u001b[A\n",
            "Batches:  69%|██████▉   | 11/16 [00:02<00:01,  4.41it/s]\u001b[A\n",
            "Batches:  75%|███████▌  | 12/16 [00:02<00:00,  4.58it/s]\u001b[A\n",
            "Batches:  81%|████████▏ | 13/16 [00:02<00:00,  4.82it/s]\u001b[A\n",
            "Batches:  88%|████████▊ | 14/16 [00:03<00:00,  4.53it/s]\u001b[A\n",
            "Batches:  94%|█████████▍| 15/16 [00:03<00:00,  4.26it/s]\u001b[A\n",
            "Batches: 100%|██████████| 16/16 [00:03<00:00,  4.49it/s]\n",
            "  2%|▏         | 4/200 [00:14<11:36,  3.55s/it]"
          ]
        },
        {
          "output_type": "stream",
          "name": "stdout",
          "text": [
            "cnt:  5\n"
          ]
        },
        {
          "output_type": "stream",
          "name": "stderr",
          "text": [
            "\n",
            "Batches:   0%|          | 0/16 [00:00<?, ?it/s]\u001b[A\n",
            "Batches:  12%|█▎        | 2/16 [00:00<00:01,  9.05it/s]\u001b[A\n",
            "Batches:  19%|█▉        | 3/16 [00:00<00:02,  5.33it/s]\u001b[A\n",
            "Batches:  25%|██▌       | 4/16 [00:00<00:02,  4.44it/s]\u001b[A\n",
            "Batches:  31%|███▏      | 5/16 [00:01<00:02,  4.31it/s]\u001b[A\n",
            "Batches:  38%|███▊      | 6/16 [00:01<00:02,  4.18it/s]\u001b[A\n",
            "Batches:  44%|████▍     | 7/16 [00:01<00:02,  3.93it/s]\u001b[A\n",
            "Batches:  50%|█████     | 8/16 [00:01<00:01,  4.43it/s]\u001b[A\n",
            "Batches:  56%|█████▋    | 9/16 [00:02<00:01,  4.03it/s]\u001b[A\n",
            "Batches:  62%|██████▎   | 10/16 [00:02<00:01,  4.19it/s]\u001b[A\n",
            "Batches:  69%|██████▉   | 11/16 [00:02<00:01,  4.50it/s]\u001b[A\n",
            "Batches:  75%|███████▌  | 12/16 [00:02<00:00,  4.63it/s]\u001b[A\n",
            "Batches:  81%|████████▏ | 13/16 [00:02<00:00,  4.67it/s]\u001b[A\n",
            "Batches:  88%|████████▊ | 14/16 [00:03<00:00,  4.30it/s]\u001b[A\n",
            "Batches:  94%|█████████▍| 15/16 [00:03<00:00,  4.23it/s]\u001b[A\n",
            "Batches: 100%|██████████| 16/16 [00:03<00:00,  4.47it/s]\n",
            "  2%|▎         | 5/200 [00:18<11:42,  3.60s/it]"
          ]
        },
        {
          "output_type": "stream",
          "name": "stdout",
          "text": [
            "cnt:  6\n"
          ]
        },
        {
          "output_type": "stream",
          "name": "stderr",
          "text": [
            "\n",
            "Batches:   0%|          | 0/16 [00:00<?, ?it/s]\u001b[A\n",
            "Batches:  12%|█▎        | 2/16 [00:00<00:02,  6.45it/s]\u001b[A\n",
            "Batches:  19%|█▉        | 3/16 [00:00<00:02,  5.24it/s]\u001b[A\n",
            "Batches:  25%|██▌       | 4/16 [00:00<00:02,  5.18it/s]\u001b[A\n",
            "Batches:  31%|███▏      | 5/16 [00:00<00:02,  5.08it/s]\u001b[A\n",
            "Batches:  38%|███▊      | 6/16 [00:01<00:01,  5.05it/s]\u001b[A\n",
            "Batches:  44%|████▍     | 7/16 [00:01<00:01,  4.97it/s]\u001b[A\n",
            "Batches:  50%|█████     | 8/16 [00:01<00:01,  4.50it/s]\u001b[A\n",
            "Batches:  56%|█████▋    | 9/16 [00:01<00:01,  4.83it/s]\u001b[A\n",
            "Batches:  62%|██████▎   | 10/16 [00:02<00:01,  4.58it/s]\u001b[A\n",
            "Batches:  69%|██████▉   | 11/16 [00:02<00:01,  4.61it/s]\u001b[A\n",
            "Batches:  75%|███████▌  | 12/16 [00:02<00:00,  5.30it/s]\u001b[A\n",
            "Batches:  81%|████████▏ | 13/16 [00:02<00:00,  5.04it/s]\u001b[A\n",
            "Batches:  88%|████████▊ | 14/16 [00:02<00:00,  5.03it/s]\u001b[A\n",
            "Batches:  94%|█████████▍| 15/16 [00:03<00:00,  4.98it/s]\u001b[A\n",
            "Batches: 100%|██████████| 16/16 [00:03<00:00,  4.90it/s]\n",
            "  3%|▎         | 6/200 [00:21<11:25,  3.53s/it]"
          ]
        },
        {
          "output_type": "stream",
          "name": "stdout",
          "text": [
            "cnt:  7\n"
          ]
        },
        {
          "output_type": "stream",
          "name": "stderr",
          "text": [
            "\n",
            "Batches:   0%|          | 0/16 [00:00<?, ?it/s]\u001b[A\n",
            "Batches:  12%|█▎        | 2/16 [00:00<00:02,  6.89it/s]\u001b[A\n",
            "Batches:  19%|█▉        | 3/16 [00:00<00:02,  4.75it/s]\u001b[A\n",
            "Batches:  25%|██▌       | 4/16 [00:00<00:02,  4.83it/s]\u001b[A\n",
            "Batches:  31%|███▏      | 5/16 [00:01<00:02,  4.61it/s]\u001b[A\n",
            "Batches:  38%|███▊      | 6/16 [00:01<00:02,  4.59it/s]\u001b[A\n",
            "Batches:  44%|████▍     | 7/16 [00:01<00:02,  4.10it/s]\u001b[A\n",
            "Batches:  50%|█████     | 8/16 [00:01<00:01,  4.44it/s]\u001b[A\n",
            "Batches:  56%|█████▋    | 9/16 [00:02<00:01,  4.11it/s]\u001b[A\n",
            "Batches:  62%|██████▎   | 10/16 [00:02<00:01,  4.20it/s]\u001b[A\n",
            "Batches:  69%|██████▉   | 11/16 [00:02<00:01,  4.11it/s]\u001b[A\n",
            "Batches:  75%|███████▌  | 12/16 [00:02<00:00,  4.04it/s]\u001b[A\n",
            "Batches:  81%|████████▏ | 13/16 [00:02<00:00,  4.09it/s]\u001b[A\n",
            "Batches:  88%|████████▊ | 14/16 [00:03<00:00,  3.77it/s]\u001b[A\n",
            "Batches:  94%|█████████▍| 15/16 [00:03<00:00,  3.83it/s]\u001b[A\n",
            "Batches: 100%|██████████| 16/16 [00:03<00:00,  4.12it/s]\n",
            "  4%|▎         | 7/200 [00:25<11:54,  3.70s/it]"
          ]
        },
        {
          "output_type": "stream",
          "name": "stdout",
          "text": [
            "cnt:  8\n"
          ]
        },
        {
          "output_type": "stream",
          "name": "stderr",
          "text": [
            "\n",
            "Batches:   0%|          | 0/16 [00:00<?, ?it/s]\u001b[A\n",
            "Batches:  12%|█▎        | 2/16 [00:00<00:01,  8.43it/s]\u001b[A\n",
            "Batches:  19%|█▉        | 3/16 [00:00<00:02,  6.42it/s]\u001b[A\n",
            "Batches:  25%|██▌       | 4/16 [00:00<00:02,  5.65it/s]\u001b[A\n",
            "Batches:  31%|███▏      | 5/16 [00:00<00:02,  5.30it/s]\u001b[A\n",
            "Batches:  38%|███▊      | 6/16 [00:01<00:02,  4.49it/s]\u001b[A\n",
            "Batches:  44%|████▍     | 7/16 [00:01<00:01,  4.81it/s]\u001b[A\n",
            "Batches:  50%|█████     | 8/16 [00:01<00:01,  5.02it/s]\u001b[A\n",
            "Batches:  56%|█████▋    | 9/16 [00:01<00:01,  5.15it/s]\u001b[A\n",
            "Batches:  62%|██████▎   | 10/16 [00:01<00:01,  5.14it/s]\u001b[A\n",
            "Batches:  69%|██████▉   | 11/16 [00:02<00:01,  4.70it/s]\u001b[A\n",
            "Batches:  75%|███████▌  | 12/16 [00:02<00:00,  4.41it/s]\u001b[A\n",
            "Batches:  81%|████████▏ | 13/16 [00:02<00:00,  4.74it/s]\u001b[A\n",
            "Batches:  88%|████████▊ | 14/16 [00:02<00:00,  4.41it/s]\u001b[A\n",
            "Batches:  94%|█████████▍| 15/16 [00:03<00:00,  4.08it/s]\u001b[A\n",
            "Batches: 100%|██████████| 16/16 [00:03<00:00,  4.71it/s]\n",
            "  4%|▍         | 8/200 [00:29<11:42,  3.66s/it]"
          ]
        },
        {
          "output_type": "stream",
          "name": "stdout",
          "text": [
            "cnt:  9\n"
          ]
        },
        {
          "output_type": "stream",
          "name": "stderr",
          "text": [
            "\n",
            "Batches:   0%|          | 0/16 [00:00<?, ?it/s]\u001b[A\n",
            "Batches:  12%|█▎        | 2/16 [00:00<00:01, 11.26it/s]\u001b[A\n",
            "Batches:  25%|██▌       | 4/16 [00:00<00:01,  7.32it/s]\u001b[A\n",
            "Batches:  31%|███▏      | 5/16 [00:00<00:01,  6.90it/s]\u001b[A\n",
            "Batches:  38%|███▊      | 6/16 [00:00<00:01,  6.34it/s]\u001b[A\n",
            "Batches:  44%|████▍     | 7/16 [00:01<00:01,  5.87it/s]\u001b[A\n",
            "Batches:  50%|█████     | 8/16 [00:01<00:01,  5.80it/s]\u001b[A\n",
            "Batches:  56%|█████▋    | 9/16 [00:01<00:01,  5.62it/s]\u001b[A\n",
            "Batches:  62%|██████▎   | 10/16 [00:01<00:01,  5.66it/s]\u001b[A\n",
            "Batches:  69%|██████▉   | 11/16 [00:01<00:00,  5.65it/s]\u001b[A\n",
            "Batches:  75%|███████▌  | 12/16 [00:01<00:00,  5.44it/s]\u001b[A\n",
            "Batches:  81%|████████▏ | 13/16 [00:02<00:00,  5.41it/s]\u001b[A\n",
            "Batches:  88%|████████▊ | 14/16 [00:02<00:00,  5.60it/s]\u001b[A\n",
            "Batches:  94%|█████████▍| 15/16 [00:02<00:00,  5.67it/s]\u001b[A\n",
            "Batches: 100%|██████████| 16/16 [00:02<00:00,  5.87it/s]\n",
            "  4%|▍         | 9/200 [00:32<10:51,  3.41s/it]"
          ]
        },
        {
          "output_type": "stream",
          "name": "stdout",
          "text": [
            "cnt:  10\n"
          ]
        },
        {
          "output_type": "stream",
          "name": "stderr",
          "text": [
            "\n",
            "Batches:   0%|          | 0/16 [00:00<?, ?it/s]\u001b[A\n",
            "Batches:  12%|█▎        | 2/16 [00:00<00:02,  6.74it/s]\u001b[A\n",
            "Batches:  19%|█▉        | 3/16 [00:00<00:02,  4.91it/s]\u001b[A\n",
            "Batches:  25%|██▌       | 4/16 [00:00<00:02,  4.85it/s]\u001b[A\n",
            "Batches:  31%|███▏      | 5/16 [00:01<00:02,  4.17it/s]\u001b[A\n",
            "Batches:  38%|███▊      | 6/16 [00:01<00:02,  3.81it/s]\u001b[A\n",
            "Batches:  44%|████▍     | 7/16 [00:01<00:02,  3.63it/s]\u001b[A\n",
            "Batches:  50%|█████     | 8/16 [00:02<00:02,  3.54it/s]\u001b[A\n",
            "Batches:  56%|█████▋    | 9/16 [00:02<00:01,  3.82it/s]\u001b[A\n",
            "Batches:  62%|██████▎   | 10/16 [00:02<00:01,  3.95it/s]\u001b[A\n",
            "Batches:  69%|██████▉   | 11/16 [00:02<00:01,  4.08it/s]\u001b[A\n",
            "Batches:  75%|███████▌  | 12/16 [00:02<00:01,  3.91it/s]\u001b[A\n",
            "Batches:  81%|████████▏ | 13/16 [00:03<00:00,  3.81it/s]\u001b[A\n",
            "Batches:  88%|████████▊ | 14/16 [00:03<00:00,  4.03it/s]\u001b[A\n",
            "Batches:  94%|█████████▍| 15/16 [00:03<00:00,  4.10it/s]\u001b[A\n",
            "Batches: 100%|██████████| 16/16 [00:03<00:00,  4.09it/s]\n",
            "  5%|▌         | 10/200 [00:36<11:26,  3.61s/it]"
          ]
        },
        {
          "output_type": "stream",
          "name": "stdout",
          "text": [
            "cnt:  11\n"
          ]
        },
        {
          "output_type": "stream",
          "name": "stderr",
          "text": [
            "\n",
            "Batches:   0%|          | 0/16 [00:00<?, ?it/s]\u001b[A\n",
            "Batches:  12%|█▎        | 2/16 [00:00<00:01,  8.14it/s]\u001b[A\n",
            "Batches:  19%|█▉        | 3/16 [00:00<00:02,  5.66it/s]\u001b[A\n",
            "Batches:  25%|██▌       | 4/16 [00:00<00:02,  4.37it/s]\u001b[A\n",
            "Batches:  31%|███▏      | 5/16 [00:01<00:03,  3.58it/s]\u001b[A\n",
            "Batches:  38%|███▊      | 6/16 [00:01<00:02,  3.92it/s]\u001b[A\n",
            "Batches:  44%|████▍     | 7/16 [00:01<00:02,  4.08it/s]\u001b[A\n",
            "Batches:  50%|█████     | 8/16 [00:01<00:02,  3.81it/s]\u001b[A\n",
            "Batches:  56%|█████▋    | 9/16 [00:02<00:01,  3.74it/s]\u001b[A\n",
            "Batches:  62%|██████▎   | 10/16 [00:02<00:01,  3.78it/s]\u001b[A\n",
            "Batches:  69%|██████▉   | 11/16 [00:02<00:01,  3.58it/s]\u001b[A\n",
            "Batches:  75%|███████▌  | 12/16 [00:03<00:01,  3.54it/s]\u001b[A\n",
            "Batches:  81%|████████▏ | 13/16 [00:03<00:00,  3.71it/s]\u001b[A\n",
            "Batches:  88%|████████▊ | 14/16 [00:03<00:00,  3.77it/s]\u001b[A\n",
            "Batches:  94%|█████████▍| 15/16 [00:03<00:00,  3.53it/s]\u001b[A\n",
            "Batches: 100%|██████████| 16/16 [00:04<00:00,  3.84it/s]\n",
            "  6%|▌         | 11/200 [00:40<12:07,  3.85s/it]"
          ]
        },
        {
          "output_type": "stream",
          "name": "stdout",
          "text": [
            "cnt:  12\n"
          ]
        },
        {
          "output_type": "stream",
          "name": "stderr",
          "text": [
            "\n",
            "Batches:   0%|          | 0/16 [00:00<?, ?it/s]\u001b[A\n",
            "Batches:  12%|█▎        | 2/16 [00:00<00:01, 10.36it/s]\u001b[A\n",
            "Batches:  25%|██▌       | 4/16 [00:00<00:02,  5.83it/s]\u001b[A\n",
            "Batches:  31%|███▏      | 5/16 [00:00<00:01,  6.12it/s]\u001b[A\n",
            "Batches:  38%|███▊      | 6/16 [00:01<00:01,  5.31it/s]\u001b[A\n",
            "Batches:  44%|████▍     | 7/16 [00:01<00:01,  5.10it/s]\u001b[A\n",
            "Batches:  50%|█████     | 8/16 [00:01<00:01,  4.98it/s]\u001b[A\n",
            "Batches:  56%|█████▋    | 9/16 [00:01<00:01,  4.83it/s]\u001b[A\n",
            "Batches:  62%|██████▎   | 10/16 [00:01<00:01,  4.44it/s]\u001b[A\n",
            "Batches:  69%|██████▉   | 11/16 [00:02<00:01,  4.71it/s]\u001b[A\n",
            "Batches:  75%|███████▌  | 12/16 [00:02<00:00,  4.14it/s]\u001b[A\n",
            "Batches:  81%|████████▏ | 13/16 [00:02<00:00,  4.21it/s]\u001b[A\n",
            "Batches:  88%|████████▊ | 14/16 [00:02<00:00,  4.01it/s]\u001b[A\n",
            "Batches:  94%|█████████▍| 15/16 [00:03<00:00,  4.17it/s]\u001b[A\n",
            "Batches: 100%|██████████| 16/16 [00:03<00:00,  4.67it/s]\n",
            "  6%|▌         | 12/200 [00:44<11:48,  3.77s/it]"
          ]
        },
        {
          "output_type": "stream",
          "name": "stdout",
          "text": [
            "cnt:  13\n"
          ]
        },
        {
          "output_type": "stream",
          "name": "stderr",
          "text": [
            "\n",
            "Batches:   0%|          | 0/16 [00:00<?, ?it/s]\u001b[A\n",
            "Batches:  12%|█▎        | 2/16 [00:00<00:02,  6.71it/s]\u001b[A\n",
            "Batches:  19%|█▉        | 3/16 [00:00<00:02,  5.49it/s]\u001b[A\n",
            "Batches:  25%|██▌       | 4/16 [00:00<00:02,  4.96it/s]\u001b[A\n",
            "Batches:  31%|███▏      | 5/16 [00:01<00:02,  4.30it/s]\u001b[A\n",
            "Batches:  38%|███▊      | 6/16 [00:01<00:02,  3.91it/s]\u001b[A\n",
            "Batches:  44%|████▍     | 7/16 [00:01<00:02,  3.88it/s]\u001b[A\n",
            "Batches:  50%|█████     | 8/16 [00:01<00:01,  4.02it/s]\u001b[A\n",
            "Batches:  56%|█████▋    | 9/16 [00:02<00:01,  4.03it/s]\u001b[A\n",
            "Batches:  62%|██████▎   | 10/16 [00:02<00:01,  4.20it/s]\u001b[A\n",
            "Batches:  69%|██████▉   | 11/16 [00:02<00:01,  4.18it/s]\u001b[A\n",
            "Batches:  75%|███████▌  | 12/16 [00:02<00:00,  4.06it/s]\u001b[A\n",
            "Batches:  81%|████████▏ | 13/16 [00:03<00:00,  4.04it/s]\u001b[A\n",
            "Batches:  88%|████████▊ | 14/16 [00:03<00:00,  4.05it/s]\u001b[A\n",
            "Batches:  94%|█████████▍| 15/16 [00:03<00:00,  4.27it/s]\u001b[A\n",
            "Batches: 100%|██████████| 16/16 [00:03<00:00,  4.18it/s]\n",
            "  6%|▋         | 13/200 [00:48<11:55,  3.83s/it]"
          ]
        },
        {
          "output_type": "stream",
          "name": "stdout",
          "text": [
            "cnt:  14\n"
          ]
        },
        {
          "output_type": "stream",
          "name": "stderr",
          "text": [
            "\n",
            "Batches:   0%|          | 0/16 [00:00<?, ?it/s]\u001b[A\n",
            "Batches:  12%|█▎        | 2/16 [00:00<00:01,  7.44it/s]\u001b[A\n",
            "Batches:  19%|█▉        | 3/16 [00:00<00:02,  5.18it/s]\u001b[A\n",
            "Batches:  25%|██▌       | 4/16 [00:00<00:02,  5.49it/s]\u001b[A\n",
            "Batches:  31%|███▏      | 5/16 [00:00<00:02,  4.94it/s]\u001b[A\n",
            "Batches:  38%|███▊      | 6/16 [00:01<00:02,  4.81it/s]\u001b[A\n",
            "Batches:  44%|████▍     | 7/16 [00:01<00:01,  5.36it/s]\u001b[A\n",
            "Batches:  50%|█████     | 8/16 [00:01<00:01,  5.38it/s]\u001b[A\n",
            "Batches:  56%|█████▋    | 9/16 [00:01<00:01,  5.68it/s]\u001b[A\n",
            "Batches:  62%|██████▎   | 10/16 [00:01<00:01,  5.35it/s]\u001b[A\n",
            "Batches:  69%|██████▉   | 11/16 [00:02<00:00,  5.19it/s]\u001b[A\n",
            "Batches:  75%|███████▌  | 12/16 [00:02<00:00,  5.05it/s]\u001b[A\n",
            "Batches:  81%|████████▏ | 13/16 [00:02<00:00,  4.97it/s]\u001b[A\n",
            "Batches:  88%|████████▊ | 14/16 [00:02<00:00,  4.78it/s]\u001b[A\n",
            "Batches:  94%|█████████▍| 15/16 [00:02<00:00,  4.76it/s]\u001b[A\n",
            "Batches: 100%|██████████| 16/16 [00:03<00:00,  5.13it/s]\n",
            "  7%|▋         | 14/200 [00:51<11:21,  3.66s/it]"
          ]
        },
        {
          "output_type": "stream",
          "name": "stdout",
          "text": [
            "cnt:  15\n"
          ]
        },
        {
          "output_type": "stream",
          "name": "stderr",
          "text": [
            "\n",
            "Batches:   0%|          | 0/16 [00:00<?, ?it/s]\u001b[A\n",
            "Batches:  12%|█▎        | 2/16 [00:00<00:02,  6.88it/s]\u001b[A\n",
            "Batches:  19%|█▉        | 3/16 [00:00<00:02,  6.16it/s]\u001b[A\n",
            "Batches:  25%|██▌       | 4/16 [00:00<00:02,  5.01it/s]\u001b[A\n",
            "Batches:  31%|███▏      | 5/16 [00:00<00:02,  4.77it/s]\u001b[A\n",
            "Batches:  38%|███▊      | 6/16 [00:01<00:02,  4.93it/s]\u001b[A\n",
            "Batches:  44%|████▍     | 7/16 [00:01<00:01,  4.82it/s]\u001b[A\n",
            "Batches:  50%|█████     | 8/16 [00:01<00:01,  4.91it/s]\u001b[A\n",
            "Batches:  56%|█████▋    | 9/16 [00:01<00:01,  4.79it/s]\u001b[A\n",
            "Batches:  62%|██████▎   | 10/16 [00:02<00:01,  4.62it/s]\u001b[A\n",
            "Batches:  69%|██████▉   | 11/16 [00:02<00:01,  4.32it/s]\u001b[A\n",
            "Batches:  75%|███████▌  | 12/16 [00:02<00:00,  4.18it/s]\u001b[A\n",
            "Batches:  81%|████████▏ | 13/16 [00:02<00:00,  4.25it/s]\u001b[A\n",
            "Batches:  88%|████████▊ | 14/16 [00:03<00:00,  3.80it/s]\u001b[A\n",
            "Batches:  94%|█████████▍| 15/16 [00:03<00:00,  3.63it/s]\u001b[A\n",
            "Batches: 100%|██████████| 16/16 [00:03<00:00,  4.42it/s]\n",
            "  8%|▊         | 15/200 [00:55<11:22,  3.69s/it]"
          ]
        },
        {
          "output_type": "stream",
          "name": "stdout",
          "text": [
            "cnt:  16\n"
          ]
        },
        {
          "output_type": "stream",
          "name": "stderr",
          "text": [
            "\n",
            "Batches:   0%|          | 0/16 [00:00<?, ?it/s]\u001b[A\n",
            "Batches:  12%|█▎        | 2/16 [00:00<00:02,  6.62it/s]\u001b[A\n",
            "Batches:  19%|█▉        | 3/16 [00:00<00:02,  4.91it/s]\u001b[A\n",
            "Batches:  25%|██▌       | 4/16 [00:00<00:02,  4.46it/s]\u001b[A\n",
            "Batches:  31%|███▏      | 5/16 [00:01<00:02,  4.39it/s]\u001b[A\n",
            "Batches:  38%|███▊      | 6/16 [00:01<00:02,  4.41it/s]\u001b[A\n",
            "Batches:  44%|████▍     | 7/16 [00:01<00:02,  4.42it/s]\u001b[A\n",
            "Batches:  50%|█████     | 8/16 [00:01<00:01,  4.46it/s]\u001b[A\n",
            "Batches:  56%|█████▋    | 9/16 [00:01<00:01,  4.39it/s]\u001b[A\n",
            "Batches:  62%|██████▎   | 10/16 [00:02<00:01,  4.44it/s]\u001b[A\n",
            "Batches:  69%|██████▉   | 11/16 [00:02<00:01,  4.60it/s]\u001b[A\n",
            "Batches:  75%|███████▌  | 12/16 [00:02<00:00,  4.55it/s]\u001b[A\n",
            "Batches:  81%|████████▏ | 13/16 [00:02<00:00,  4.49it/s]\u001b[A\n",
            "Batches:  88%|████████▊ | 14/16 [00:03<00:00,  3.92it/s]\u001b[A\n",
            "Batches:  94%|█████████▍| 15/16 [00:03<00:00,  3.71it/s]\u001b[A\n",
            "Batches: 100%|██████████| 16/16 [00:03<00:00,  4.33it/s]\n",
            "  8%|▊         | 16/200 [00:58<11:26,  3.73s/it]"
          ]
        },
        {
          "output_type": "stream",
          "name": "stdout",
          "text": [
            "cnt:  17\n"
          ]
        },
        {
          "output_type": "stream",
          "name": "stderr",
          "text": [
            "\n",
            "Batches:   0%|          | 0/16 [00:00<?, ?it/s]\u001b[A\n",
            "Batches:  12%|█▎        | 2/16 [00:00<00:01,  7.16it/s]\u001b[A\n",
            "Batches:  19%|█▉        | 3/16 [00:00<00:02,  5.38it/s]\u001b[A\n",
            "Batches:  25%|██▌       | 4/16 [00:00<00:02,  5.44it/s]\u001b[A\n",
            "Batches:  31%|███▏      | 5/16 [00:00<00:02,  5.13it/s]\u001b[A\n",
            "Batches:  38%|███▊      | 6/16 [00:01<00:01,  5.05it/s]\u001b[A\n",
            "Batches:  44%|████▍     | 7/16 [00:01<00:01,  5.21it/s]\u001b[A\n",
            "Batches:  50%|█████     | 8/16 [00:01<00:01,  5.42it/s]\u001b[A\n",
            "Batches:  56%|█████▋    | 9/16 [00:01<00:01,  4.86it/s]\u001b[A\n",
            "Batches:  62%|██████▎   | 10/16 [00:01<00:01,  4.73it/s]\u001b[A\n",
            "Batches:  69%|██████▉   | 11/16 [00:02<00:01,  4.39it/s]\u001b[A\n",
            "Batches:  75%|███████▌  | 12/16 [00:02<00:00,  4.06it/s]\u001b[A\n",
            "Batches:  81%|████████▏ | 13/16 [00:02<00:00,  4.26it/s]\u001b[A\n",
            "Batches:  88%|████████▊ | 14/16 [00:03<00:00,  3.83it/s]\u001b[A\n",
            "Batches:  94%|█████████▍| 15/16 [00:03<00:00,  4.02it/s]\u001b[A\n",
            "Batches: 100%|██████████| 16/16 [00:03<00:00,  4.51it/s]\n",
            "  8%|▊         | 17/200 [01:02<11:18,  3.71s/it]"
          ]
        },
        {
          "output_type": "stream",
          "name": "stdout",
          "text": [
            "cnt:  18\n"
          ]
        },
        {
          "output_type": "stream",
          "name": "stderr",
          "text": [
            "\n",
            "Batches:   0%|          | 0/16 [00:00<?, ?it/s]\u001b[A\n",
            "Batches:  12%|█▎        | 2/16 [00:00<00:02,  6.23it/s]\u001b[A\n",
            "Batches:  19%|█▉        | 3/16 [00:00<00:02,  4.64it/s]\u001b[A\n",
            "Batches:  25%|██▌       | 4/16 [00:00<00:02,  4.65it/s]\u001b[A\n",
            "Batches:  31%|███▏      | 5/16 [00:01<00:02,  3.94it/s]\u001b[A\n",
            "Batches:  38%|███▊      | 6/16 [00:01<00:02,  4.27it/s]\u001b[A\n",
            "Batches:  44%|████▍     | 7/16 [00:01<00:02,  3.91it/s]\u001b[A\n",
            "Batches:  50%|█████     | 8/16 [00:01<00:02,  3.61it/s]\u001b[A\n",
            "Batches:  56%|█████▋    | 9/16 [00:02<00:01,  3.86it/s]\u001b[A\n",
            "Batches:  62%|██████▎   | 10/16 [00:02<00:01,  3.73it/s]\u001b[A\n",
            "Batches:  69%|██████▉   | 11/16 [00:02<00:01,  3.98it/s]\u001b[A\n",
            "Batches:  75%|███████▌  | 12/16 [00:03<00:01,  3.71it/s]\u001b[A\n",
            "Batches:  81%|████████▏ | 13/16 [00:03<00:00,  3.57it/s]\u001b[A\n",
            "Batches:  88%|████████▊ | 14/16 [00:03<00:00,  3.82it/s]\u001b[A\n",
            "Batches:  94%|█████████▍| 15/16 [00:03<00:00,  3.83it/s]\u001b[A\n",
            "Batches: 100%|██████████| 16/16 [00:04<00:00,  3.98it/s]\n",
            "  9%|▉         | 18/200 [01:06<11:42,  3.86s/it]"
          ]
        },
        {
          "output_type": "stream",
          "name": "stdout",
          "text": [
            "cnt:  19\n"
          ]
        },
        {
          "output_type": "stream",
          "name": "stderr",
          "text": [
            "\n",
            "Batches:   0%|          | 0/16 [00:00<?, ?it/s]\u001b[A\n",
            "Batches:  12%|█▎        | 2/16 [00:00<00:01,  9.53it/s]\u001b[A\n",
            "Batches:  19%|█▉        | 3/16 [00:00<00:01,  6.75it/s]\u001b[A\n",
            "Batches:  25%|██▌       | 4/16 [00:00<00:02,  5.11it/s]\u001b[A\n",
            "Batches:  31%|███▏      | 5/16 [00:00<00:02,  4.56it/s]\u001b[A\n",
            "Batches:  38%|███▊      | 6/16 [00:01<00:02,  4.53it/s]\u001b[A\n",
            "Batches:  44%|████▍     | 7/16 [00:01<00:02,  4.19it/s]\u001b[A\n",
            "Batches:  50%|█████     | 8/16 [00:01<00:01,  4.26it/s]\u001b[A\n",
            "Batches:  56%|█████▋    | 9/16 [00:01<00:01,  4.13it/s]\u001b[A\n",
            "Batches:  62%|██████▎   | 10/16 [00:02<00:01,  4.06it/s]\u001b[A\n",
            "Batches:  69%|██████▉   | 11/16 [00:02<00:01,  4.22it/s]\u001b[A\n",
            "Batches:  75%|███████▌  | 12/16 [00:02<00:00,  4.42it/s]\u001b[A\n",
            "Batches:  81%|████████▏ | 13/16 [00:02<00:00,  3.97it/s]\u001b[A\n",
            "Batches:  88%|████████▊ | 14/16 [00:03<00:00,  3.93it/s]\u001b[A\n",
            "Batches:  94%|█████████▍| 15/16 [00:03<00:00,  3.98it/s]\u001b[A\n",
            "Batches: 100%|██████████| 16/16 [00:03<00:00,  4.29it/s]\n",
            " 10%|▉         | 19/200 [01:10<11:38,  3.86s/it]"
          ]
        },
        {
          "output_type": "stream",
          "name": "stdout",
          "text": [
            "cnt:  20\n"
          ]
        },
        {
          "output_type": "stream",
          "name": "stderr",
          "text": [
            "\n",
            "Batches:   0%|          | 0/16 [00:00<?, ?it/s]\u001b[A\n",
            "Batches:   6%|▋         | 1/16 [00:00<00:01,  8.35it/s]\u001b[A\n",
            "Batches:  12%|█▎        | 2/16 [00:00<00:02,  5.58it/s]\u001b[A\n",
            "Batches:  19%|█▉        | 3/16 [00:00<00:02,  4.37it/s]\u001b[A\n",
            "Batches:  25%|██▌       | 4/16 [00:00<00:02,  4.48it/s]\u001b[A\n",
            "Batches:  31%|███▏      | 5/16 [00:01<00:02,  3.85it/s]\u001b[A\n",
            "Batches:  38%|███▊      | 6/16 [00:01<00:02,  3.94it/s]\u001b[A\n",
            "Batches:  44%|████▍     | 7/16 [00:01<00:02,  4.01it/s]\u001b[A\n",
            "Batches:  50%|█████     | 8/16 [00:01<00:02,  3.75it/s]\u001b[A\n",
            "Batches:  56%|█████▋    | 9/16 [00:02<00:01,  3.76it/s]\u001b[A\n",
            "Batches:  62%|██████▎   | 10/16 [00:02<00:01,  3.62it/s]\u001b[A\n",
            "Batches:  69%|██████▉   | 11/16 [00:02<00:01,  3.73it/s]\u001b[A\n",
            "Batches:  75%|███████▌  | 12/16 [00:03<00:01,  3.50it/s]\u001b[A\n",
            "Batches:  81%|████████▏ | 13/16 [00:03<00:00,  3.63it/s]\u001b[A\n",
            "Batches:  88%|████████▊ | 14/16 [00:03<00:00,  3.74it/s]\u001b[A\n",
            "Batches:  94%|█████████▍| 15/16 [00:03<00:00,  3.82it/s]\u001b[A\n",
            "Batches: 100%|██████████| 16/16 [00:04<00:00,  3.89it/s]\n",
            " 10%|█         | 20/200 [01:14<11:59,  4.00s/it]"
          ]
        },
        {
          "output_type": "stream",
          "name": "stdout",
          "text": [
            "cnt:  21\n"
          ]
        },
        {
          "output_type": "stream",
          "name": "stderr",
          "text": [
            "\n",
            "Batches:   0%|          | 0/16 [00:00<?, ?it/s]\u001b[A\n",
            "Batches:  12%|█▎        | 2/16 [00:00<00:01,  7.63it/s]\u001b[A\n",
            "Batches:  19%|█▉        | 3/16 [00:00<00:02,  6.24it/s]\u001b[A\n",
            "Batches:  25%|██▌       | 4/16 [00:00<00:02,  4.77it/s]\u001b[A\n",
            "Batches:  31%|███▏      | 5/16 [00:01<00:02,  4.39it/s]\u001b[A\n",
            "Batches:  38%|███▊      | 6/16 [00:01<00:02,  4.01it/s]\u001b[A\n",
            "Batches:  44%|████▍     | 7/16 [00:01<00:02,  4.04it/s]\u001b[A\n",
            "Batches:  50%|█████     | 8/16 [00:01<00:01,  4.14it/s]\u001b[A\n",
            "Batches:  56%|█████▋    | 9/16 [00:02<00:01,  3.71it/s]\u001b[A\n",
            "Batches:  62%|██████▎   | 10/16 [00:02<00:01,  3.62it/s]\u001b[A\n",
            "Batches:  69%|██████▉   | 11/16 [00:02<00:01,  3.69it/s]\u001b[A\n",
            "Batches:  75%|███████▌  | 12/16 [00:02<00:01,  3.98it/s]\u001b[A\n",
            "Batches:  81%|████████▏ | 13/16 [00:03<00:00,  3.93it/s]\u001b[A\n",
            "Batches:  88%|████████▊ | 14/16 [00:03<00:00,  3.98it/s]\u001b[A\n",
            "Batches:  94%|█████████▍| 15/16 [00:03<00:00,  4.01it/s]\u001b[A\n",
            "Batches: 100%|██████████| 16/16 [00:03<00:00,  4.12it/s]\n",
            " 10%|█         | 21/200 [01:18<11:56,  4.00s/it]"
          ]
        },
        {
          "output_type": "stream",
          "name": "stdout",
          "text": [
            "cnt:  22\n"
          ]
        },
        {
          "output_type": "stream",
          "name": "stderr",
          "text": [
            "\n",
            "Batches:   0%|          | 0/16 [00:00<?, ?it/s]\u001b[A\n",
            "Batches:  12%|█▎        | 2/16 [00:00<00:02,  6.19it/s]\u001b[A\n",
            "Batches:  19%|█▉        | 3/16 [00:00<00:02,  5.34it/s]\u001b[A\n",
            "Batches:  25%|██▌       | 4/16 [00:00<00:02,  5.09it/s]\u001b[A\n",
            "Batches:  31%|███▏      | 5/16 [00:01<00:02,  4.37it/s]\u001b[A\n",
            "Batches:  38%|███▊      | 6/16 [00:01<00:02,  4.02it/s]\u001b[A\n",
            "Batches:  44%|████▍     | 7/16 [00:01<00:02,  4.43it/s]\u001b[A\n",
            "Batches:  50%|█████     | 8/16 [00:01<00:01,  4.22it/s]\u001b[A\n",
            "Batches:  56%|█████▋    | 9/16 [00:02<00:01,  3.89it/s]\u001b[A\n",
            "Batches:  62%|██████▎   | 10/16 [00:02<00:01,  3.96it/s]\u001b[A\n",
            "Batches:  69%|██████▉   | 11/16 [00:02<00:01,  3.95it/s]\u001b[A\n",
            "Batches:  75%|███████▌  | 12/16 [00:02<00:00,  4.12it/s]\u001b[A\n",
            "Batches:  81%|████████▏ | 13/16 [00:03<00:00,  4.27it/s]\u001b[A\n",
            "Batches:  88%|████████▊ | 14/16 [00:03<00:00,  4.34it/s]\u001b[A\n",
            "Batches:  94%|█████████▍| 15/16 [00:03<00:00,  4.27it/s]\u001b[A\n",
            "Batches: 100%|██████████| 16/16 [00:03<00:00,  4.29it/s]\n",
            " 11%|█         | 22/200 [01:22<11:45,  3.97s/it]"
          ]
        },
        {
          "output_type": "stream",
          "name": "stdout",
          "text": [
            "cnt:  23\n"
          ]
        },
        {
          "output_type": "stream",
          "name": "stderr",
          "text": [
            "\n",
            "Batches:   0%|          | 0/16 [00:00<?, ?it/s]\u001b[A\n",
            "Batches:  12%|█▎        | 2/16 [00:00<00:01,  9.55it/s]\u001b[A\n",
            "Batches:  19%|█▉        | 3/16 [00:00<00:02,  6.24it/s]\u001b[A\n",
            "Batches:  25%|██▌       | 4/16 [00:00<00:02,  5.73it/s]\u001b[A\n",
            "Batches:  31%|███▏      | 5/16 [00:00<00:02,  5.29it/s]\u001b[A\n",
            "Batches:  38%|███▊      | 6/16 [00:01<00:02,  4.93it/s]\u001b[A\n",
            "Batches:  44%|████▍     | 7/16 [00:01<00:01,  4.83it/s]\u001b[A\n",
            "Batches:  50%|█████     | 8/16 [00:01<00:01,  5.10it/s]\u001b[A\n",
            "Batches:  56%|█████▋    | 9/16 [00:01<00:01,  4.89it/s]\u001b[A\n",
            "Batches:  62%|██████▎   | 10/16 [00:01<00:01,  4.80it/s]\u001b[A\n",
            "Batches:  69%|██████▉   | 11/16 [00:02<00:01,  4.82it/s]\u001b[A\n",
            "Batches:  75%|███████▌  | 12/16 [00:02<00:00,  4.93it/s]\u001b[A\n",
            "Batches:  81%|████████▏ | 13/16 [00:02<00:00,  4.80it/s]\u001b[A\n",
            "Batches:  88%|████████▊ | 14/16 [00:02<00:00,  4.38it/s]\u001b[A\n",
            "Batches:  94%|█████████▍| 15/16 [00:03<00:00,  4.32it/s]\u001b[A\n",
            "Batches: 100%|██████████| 16/16 [00:03<00:00,  4.93it/s]\n",
            " 12%|█▏        | 23/200 [01:26<11:09,  3.78s/it]"
          ]
        },
        {
          "output_type": "stream",
          "name": "stdout",
          "text": [
            "cnt:  24\n"
          ]
        },
        {
          "output_type": "stream",
          "name": "stderr",
          "text": [
            "\n",
            "Batches:   0%|          | 0/16 [00:00<?, ?it/s]\u001b[A\n",
            "Batches:  12%|█▎        | 2/16 [00:00<00:01,  8.50it/s]\u001b[A\n",
            "Batches:  19%|█▉        | 3/16 [00:00<00:02,  6.08it/s]\u001b[A\n",
            "Batches:  25%|██▌       | 4/16 [00:00<00:02,  5.26it/s]\u001b[A\n",
            "Batches:  31%|███▏      | 5/16 [00:00<00:02,  4.96it/s]\u001b[A\n",
            "Batches:  38%|███▊      | 6/16 [00:01<00:02,  4.73it/s]\u001b[A\n",
            "Batches:  44%|████▍     | 7/16 [00:01<00:01,  5.00it/s]\u001b[A\n",
            "Batches:  50%|█████     | 8/16 [00:01<00:01,  5.27it/s]\u001b[A\n",
            "Batches:  56%|█████▋    | 9/16 [00:01<00:01,  5.33it/s]\u001b[A\n",
            "Batches:  62%|██████▎   | 10/16 [00:01<00:01,  5.28it/s]\u001b[A\n",
            "Batches:  69%|██████▉   | 11/16 [00:02<00:01,  4.48it/s]\u001b[A\n",
            "Batches:  75%|███████▌  | 12/16 [00:02<00:00,  4.37it/s]\u001b[A\n",
            "Batches:  81%|████████▏ | 13/16 [00:02<00:00,  4.47it/s]\u001b[A\n",
            "Batches:  88%|████████▊ | 14/16 [00:02<00:00,  4.57it/s]\u001b[A\n",
            "Batches:  94%|█████████▍| 15/16 [00:03<00:00,  4.50it/s]\u001b[A\n",
            "Batches: 100%|██████████| 16/16 [00:03<00:00,  4.79it/s]\n",
            " 12%|█▏        | 24/200 [01:29<10:50,  3.70s/it]"
          ]
        },
        {
          "output_type": "stream",
          "name": "stdout",
          "text": [
            "cnt:  25\n"
          ]
        },
        {
          "output_type": "stream",
          "name": "stderr",
          "text": [
            "\n",
            "Batches:   0%|          | 0/16 [00:00<?, ?it/s]\u001b[A\n",
            "Batches:  12%|█▎        | 2/16 [00:00<00:02,  6.63it/s]\u001b[A\n",
            "Batches:  19%|█▉        | 3/16 [00:00<00:02,  5.79it/s]\u001b[A\n",
            "Batches:  25%|██▌       | 4/16 [00:00<00:02,  4.99it/s]\u001b[A\n",
            "Batches:  31%|███▏      | 5/16 [00:01<00:02,  4.35it/s]\u001b[A\n",
            "Batches:  38%|███▊      | 6/16 [00:01<00:02,  4.49it/s]\u001b[A\n",
            "Batches:  44%|████▍     | 7/16 [00:01<00:01,  4.57it/s]\u001b[A\n",
            "Batches:  50%|█████     | 8/16 [00:01<00:01,  4.55it/s]\u001b[A\n",
            "Batches:  56%|█████▋    | 9/16 [00:01<00:01,  4.26it/s]\u001b[A\n",
            "Batches:  62%|██████▎   | 10/16 [00:02<00:01,  4.29it/s]\u001b[A\n",
            "Batches:  69%|██████▉   | 11/16 [00:02<00:01,  3.95it/s]\u001b[A\n",
            "Batches:  75%|███████▌  | 12/16 [00:02<00:00,  4.19it/s]\u001b[A\n",
            "Batches:  81%|████████▏ | 13/16 [00:03<00:00,  3.78it/s]\u001b[A\n",
            "Batches:  88%|████████▊ | 14/16 [00:03<00:00,  3.90it/s]\u001b[A\n",
            "Batches:  94%|█████████▍| 15/16 [00:03<00:00,  4.10it/s]\u001b[A\n",
            "Batches: 100%|██████████| 16/16 [00:03<00:00,  4.29it/s]\n",
            " 12%|█▎        | 25/200 [01:33<10:56,  3.75s/it]"
          ]
        },
        {
          "output_type": "stream",
          "name": "stdout",
          "text": [
            "cnt:  26\n"
          ]
        },
        {
          "output_type": "stream",
          "name": "stderr",
          "text": [
            "\n",
            "Batches:   0%|          | 0/16 [00:00<?, ?it/s]\u001b[A\n",
            "Batches:  12%|█▎        | 2/16 [00:00<00:01,  9.55it/s]\u001b[A\n",
            "Batches:  19%|█▉        | 3/16 [00:00<00:01,  7.55it/s]\u001b[A\n",
            "Batches:  25%|██▌       | 4/16 [00:00<00:01,  6.58it/s]\u001b[A\n",
            "Batches:  31%|███▏      | 5/16 [00:00<00:01,  5.86it/s]\u001b[A\n",
            "Batches:  38%|███▊      | 6/16 [00:01<00:01,  5.13it/s]\u001b[A\n",
            "Batches:  44%|████▍     | 7/16 [00:01<00:01,  4.98it/s]\u001b[A\n",
            "Batches:  50%|█████     | 8/16 [00:01<00:01,  5.26it/s]\u001b[A\n",
            "Batches:  56%|█████▋    | 9/16 [00:01<00:01,  5.19it/s]\u001b[A\n",
            "Batches:  62%|██████▎   | 10/16 [00:01<00:01,  5.41it/s]\u001b[A\n",
            "Batches:  69%|██████▉   | 11/16 [00:02<00:01,  4.90it/s]\u001b[A\n",
            "Batches:  75%|███████▌  | 12/16 [00:02<00:00,  4.26it/s]\u001b[A\n",
            "Batches:  81%|████████▏ | 13/16 [00:02<00:00,  3.96it/s]\u001b[A\n",
            "Batches:  88%|████████▊ | 14/16 [00:02<00:00,  4.02it/s]\u001b[A\n",
            "Batches:  94%|█████████▍| 15/16 [00:03<00:00,  4.41it/s]\u001b[A\n",
            "Batches: 100%|██████████| 16/16 [00:03<00:00,  4.85it/s]\n",
            " 13%|█▎        | 26/200 [01:36<10:35,  3.65s/it]"
          ]
        },
        {
          "output_type": "stream",
          "name": "stdout",
          "text": [
            "cnt:  27\n"
          ]
        },
        {
          "output_type": "stream",
          "name": "stderr",
          "text": [
            "\n",
            "Batches:   0%|          | 0/16 [00:00<?, ?it/s]\u001b[A\n",
            "Batches:  12%|█▎        | 2/16 [00:00<00:01,  8.50it/s]\u001b[A\n",
            "Batches:  19%|█▉        | 3/16 [00:00<00:01,  6.63it/s]\u001b[A\n",
            "Batches:  25%|██▌       | 4/16 [00:00<00:01,  6.37it/s]\u001b[A\n",
            "Batches:  31%|███▏      | 5/16 [00:00<00:01,  6.17it/s]\u001b[A\n",
            "Batches:  38%|███▊      | 6/16 [00:01<00:01,  5.25it/s]\u001b[A\n",
            "Batches:  44%|████▍     | 7/16 [00:01<00:01,  5.53it/s]\u001b[A\n",
            "Batches:  50%|█████     | 8/16 [00:01<00:01,  5.28it/s]\u001b[A\n",
            "Batches:  56%|█████▋    | 9/16 [00:01<00:01,  5.04it/s]\u001b[A\n",
            "Batches:  62%|██████▎   | 10/16 [00:01<00:01,  5.01it/s]\u001b[A\n",
            "Batches:  69%|██████▉   | 11/16 [00:02<00:00,  5.02it/s]\u001b[A\n",
            "Batches:  75%|███████▌  | 12/16 [00:02<00:00,  5.04it/s]\u001b[A\n",
            "Batches:  81%|████████▏ | 13/16 [00:02<00:00,  4.91it/s]\u001b[A\n",
            "Batches:  88%|████████▊ | 14/16 [00:02<00:00,  4.76it/s]\u001b[A\n",
            "Batches:  94%|█████████▍| 15/16 [00:02<00:00,  4.72it/s]\u001b[A\n",
            "Batches: 100%|██████████| 16/16 [00:03<00:00,  5.24it/s]\n",
            " 14%|█▎        | 27/200 [01:40<10:05,  3.50s/it]"
          ]
        },
        {
          "output_type": "stream",
          "name": "stdout",
          "text": [
            "cnt:  28\n"
          ]
        },
        {
          "output_type": "stream",
          "name": "stderr",
          "text": [
            "\n",
            "Batches:   0%|          | 0/16 [00:00<?, ?it/s]\u001b[A\n",
            "Batches:  12%|█▎        | 2/16 [00:00<00:01,  7.58it/s]\u001b[A\n",
            "Batches:  19%|█▉        | 3/16 [00:00<00:02,  5.51it/s]\u001b[A\n",
            "Batches:  25%|██▌       | 4/16 [00:00<00:02,  5.20it/s]\u001b[A\n",
            "Batches:  31%|███▏      | 5/16 [00:01<00:02,  4.18it/s]\u001b[A\n",
            "Batches:  38%|███▊      | 6/16 [00:01<00:02,  4.35it/s]\u001b[A\n",
            "Batches:  44%|████▍     | 7/16 [00:01<00:02,  4.37it/s]\u001b[A\n",
            "Batches:  50%|█████     | 8/16 [00:01<00:01,  4.37it/s]\u001b[A\n",
            "Batches:  56%|█████▋    | 9/16 [00:01<00:01,  4.31it/s]\u001b[A\n",
            "Batches:  62%|██████▎   | 10/16 [00:02<00:01,  4.41it/s]\u001b[A\n",
            "Batches:  69%|██████▉   | 11/16 [00:02<00:01,  4.37it/s]\u001b[A\n",
            "Batches:  75%|███████▌  | 12/16 [00:02<00:00,  4.56it/s]\u001b[A\n",
            "Batches:  81%|████████▏ | 13/16 [00:02<00:00,  4.14it/s]\u001b[A\n",
            "Batches:  88%|████████▊ | 14/16 [00:03<00:00,  3.96it/s]\u001b[A\n",
            "Batches:  94%|█████████▍| 15/16 [00:03<00:00,  3.96it/s]\u001b[A\n",
            "Batches: 100%|██████████| 16/16 [00:03<00:00,  4.39it/s]\n",
            " 14%|█▍        | 28/200 [01:43<10:19,  3.60s/it]"
          ]
        },
        {
          "output_type": "stream",
          "name": "stdout",
          "text": [
            "cnt:  29\n"
          ]
        },
        {
          "output_type": "stream",
          "name": "stderr",
          "text": [
            "\n",
            "Batches:   0%|          | 0/16 [00:00<?, ?it/s]\u001b[A\n",
            "Batches:  12%|█▎        | 2/16 [00:00<00:02,  6.08it/s]\u001b[A\n",
            "Batches:  19%|█▉        | 3/16 [00:00<00:02,  5.43it/s]\u001b[A\n",
            "Batches:  25%|██▌       | 4/16 [00:00<00:02,  5.46it/s]\u001b[A\n",
            "Batches:  31%|███▏      | 5/16 [00:00<00:02,  4.77it/s]\u001b[A\n",
            "Batches:  38%|███▊      | 6/16 [00:01<00:02,  4.93it/s]\u001b[A\n",
            "Batches:  44%|████▍     | 7/16 [00:01<00:01,  5.25it/s]\u001b[A\n",
            "Batches:  50%|█████     | 8/16 [00:01<00:01,  5.31it/s]\u001b[A\n",
            "Batches:  56%|█████▋    | 9/16 [00:01<00:01,  5.55it/s]\u001b[A\n",
            "Batches:  62%|██████▎   | 10/16 [00:01<00:01,  5.10it/s]\u001b[A\n",
            "Batches:  69%|██████▉   | 11/16 [00:02<00:01,  4.61it/s]\u001b[A\n",
            "Batches:  75%|███████▌  | 12/16 [00:02<00:00,  4.88it/s]\u001b[A\n",
            "Batches:  81%|████████▏ | 13/16 [00:02<00:00,  4.94it/s]\u001b[A\n",
            "Batches:  88%|████████▊ | 14/16 [00:02<00:00,  5.10it/s]\u001b[A\n",
            "Batches:  94%|█████████▍| 15/16 [00:02<00:00,  4.78it/s]\u001b[A\n",
            "Batches: 100%|██████████| 16/16 [00:03<00:00,  4.92it/s]\n",
            " 14%|█▍        | 29/200 [01:47<10:05,  3.54s/it]"
          ]
        },
        {
          "output_type": "stream",
          "name": "stdout",
          "text": [
            "cnt:  30\n"
          ]
        },
        {
          "output_type": "stream",
          "name": "stderr",
          "text": [
            "\n",
            "Batches:   0%|          | 0/16 [00:00<?, ?it/s]\u001b[A\n",
            "Batches:  12%|█▎        | 2/16 [00:00<00:01,  7.50it/s]\u001b[A\n",
            "Batches:  19%|█▉        | 3/16 [00:00<00:02,  5.80it/s]\u001b[A\n",
            "Batches:  25%|██▌       | 4/16 [00:00<00:02,  5.10it/s]\u001b[A\n",
            "Batches:  31%|███▏      | 5/16 [00:00<00:02,  4.52it/s]\u001b[A\n",
            "Batches:  38%|███▊      | 6/16 [00:01<00:02,  4.57it/s]\u001b[A\n",
            "Batches:  44%|████▍     | 7/16 [00:01<00:02,  4.50it/s]\u001b[A\n",
            "Batches:  50%|█████     | 8/16 [00:01<00:01,  4.49it/s]\u001b[A\n",
            "Batches:  56%|█████▋    | 9/16 [00:01<00:01,  4.33it/s]\u001b[A\n",
            "Batches:  62%|██████▎   | 10/16 [00:02<00:01,  4.53it/s]\u001b[A\n",
            "Batches:  69%|██████▉   | 11/16 [00:02<00:01,  4.29it/s]\u001b[A\n",
            "Batches:  75%|███████▌  | 12/16 [00:02<00:00,  4.24it/s]\u001b[A\n",
            "Batches:  81%|████████▏ | 13/16 [00:02<00:00,  4.39it/s]\u001b[A\n",
            "Batches:  88%|████████▊ | 14/16 [00:03<00:00,  4.20it/s]\u001b[A\n",
            "Batches:  94%|█████████▍| 15/16 [00:03<00:00,  4.24it/s]\u001b[A\n",
            "Batches: 100%|██████████| 16/16 [00:03<00:00,  4.47it/s]\n",
            " 15%|█▌        | 30/200 [01:51<10:10,  3.59s/it]"
          ]
        },
        {
          "output_type": "stream",
          "name": "stdout",
          "text": [
            "cnt:  31\n"
          ]
        },
        {
          "output_type": "stream",
          "name": "stderr",
          "text": [
            "\n",
            "Batches:   0%|          | 0/16 [00:00<?, ?it/s]\u001b[A\n",
            "Batches:  12%|█▎        | 2/16 [00:00<00:01,  8.39it/s]\u001b[A\n",
            "Batches:  19%|█▉        | 3/16 [00:00<00:02,  5.96it/s]\u001b[A\n",
            "Batches:  25%|██▌       | 4/16 [00:00<00:02,  5.55it/s]\u001b[A\n",
            "Batches:  31%|███▏      | 5/16 [00:00<00:02,  5.39it/s]\u001b[A\n",
            "Batches:  38%|███▊      | 6/16 [00:01<00:01,  5.17it/s]\u001b[A\n",
            "Batches:  44%|████▍     | 7/16 [00:01<00:01,  5.26it/s]\u001b[A\n",
            "Batches:  50%|█████     | 8/16 [00:01<00:01,  4.66it/s]\u001b[A\n",
            "Batches:  56%|█████▋    | 9/16 [00:01<00:01,  4.92it/s]\u001b[A\n",
            "Batches:  62%|██████▎   | 10/16 [00:01<00:01,  4.80it/s]\u001b[A\n",
            "Batches:  69%|██████▉   | 11/16 [00:02<00:01,  4.77it/s]\u001b[A\n",
            "Batches:  75%|███████▌  | 12/16 [00:02<00:00,  4.51it/s]\u001b[A\n",
            "Batches:  81%|████████▏ | 13/16 [00:02<00:00,  4.83it/s]\u001b[A\n",
            "Batches:  88%|████████▊ | 14/16 [00:02<00:00,  5.33it/s]\u001b[A\n",
            "Batches:  94%|█████████▍| 15/16 [00:03<00:00,  4.47it/s]\u001b[A\n",
            "Batches: 100%|██████████| 16/16 [00:03<00:00,  4.80it/s]\n",
            " 16%|█▌        | 31/200 [01:54<10:02,  3.56s/it]"
          ]
        },
        {
          "output_type": "stream",
          "name": "stdout",
          "text": [
            "cnt:  32\n"
          ]
        },
        {
          "output_type": "stream",
          "name": "stderr",
          "text": [
            "\n",
            "Batches:   0%|          | 0/16 [00:00<?, ?it/s]\u001b[A\n",
            "Batches:  12%|█▎        | 2/16 [00:00<00:02,  5.36it/s]\u001b[A\n",
            "Batches:  19%|█▉        | 3/16 [00:00<00:03,  4.29it/s]\u001b[A\n",
            "Batches:  25%|██▌       | 4/16 [00:00<00:02,  4.52it/s]\u001b[A\n",
            "Batches:  31%|███▏      | 5/16 [00:01<00:02,  4.00it/s]\u001b[A\n",
            "Batches:  38%|███▊      | 6/16 [00:01<00:02,  4.25it/s]\u001b[A\n",
            "Batches:  44%|████▍     | 7/16 [00:01<00:02,  4.12it/s]\u001b[A\n",
            "Batches:  50%|█████     | 8/16 [00:01<00:02,  3.99it/s]\u001b[A\n",
            "Batches:  56%|█████▋    | 9/16 [00:02<00:01,  3.94it/s]\u001b[A\n",
            "Batches:  62%|██████▎   | 10/16 [00:02<00:01,  4.01it/s]\u001b[A\n",
            "Batches:  69%|██████▉   | 11/16 [00:02<00:01,  3.82it/s]\u001b[A\n",
            "Batches:  75%|███████▌  | 12/16 [00:02<00:01,  3.80it/s]\u001b[A\n",
            "Batches:  81%|████████▏ | 13/16 [00:03<00:00,  3.58it/s]\u001b[A\n",
            "Batches:  88%|████████▊ | 14/16 [00:03<00:00,  3.85it/s]\u001b[A\n",
            "Batches:  94%|█████████▍| 15/16 [00:03<00:00,  3.75it/s]\u001b[A\n",
            "Batches: 100%|██████████| 16/16 [00:04<00:00,  3.91it/s]\n",
            " 16%|█▌        | 32/200 [01:58<10:32,  3.77s/it]"
          ]
        },
        {
          "output_type": "stream",
          "name": "stdout",
          "text": [
            "cnt:  33\n"
          ]
        },
        {
          "output_type": "stream",
          "name": "stderr",
          "text": [
            "\n",
            "Batches:   0%|          | 0/16 [00:00<?, ?it/s]\u001b[A\n",
            "Batches:  12%|█▎        | 2/16 [00:00<00:01,  8.69it/s]\u001b[A\n",
            "Batches:  19%|█▉        | 3/16 [00:00<00:01,  7.16it/s]\u001b[A\n",
            "Batches:  25%|██▌       | 4/16 [00:00<00:01,  6.53it/s]\u001b[A\n",
            "Batches:  31%|███▏      | 5/16 [00:00<00:01,  5.74it/s]\u001b[A\n",
            "Batches:  38%|███▊      | 6/16 [00:01<00:02,  4.76it/s]\u001b[A\n",
            "Batches:  44%|████▍     | 7/16 [00:01<00:01,  4.87it/s]\u001b[A\n",
            "Batches:  50%|█████     | 8/16 [00:01<00:01,  4.83it/s]\u001b[A\n",
            "Batches:  56%|█████▋    | 9/16 [00:01<00:01,  4.65it/s]\u001b[A\n",
            "Batches:  62%|██████▎   | 10/16 [00:01<00:01,  4.49it/s]\u001b[A\n",
            "Batches:  69%|██████▉   | 11/16 [00:02<00:01,  4.49it/s]\u001b[A\n",
            "Batches:  75%|███████▌  | 12/16 [00:02<00:00,  4.58it/s]\u001b[A\n",
            "Batches:  81%|████████▏ | 13/16 [00:02<00:00,  4.82it/s]\u001b[A\n",
            "Batches:  88%|████████▊ | 14/16 [00:02<00:00,  4.58it/s]\u001b[A\n",
            "Batches:  94%|█████████▍| 15/16 [00:03<00:00,  4.25it/s]\u001b[A\n",
            "Batches: 100%|██████████| 16/16 [00:03<00:00,  4.78it/s]\n",
            " 16%|█▋        | 33/200 [02:02<10:17,  3.70s/it]"
          ]
        },
        {
          "output_type": "stream",
          "name": "stdout",
          "text": [
            "cnt:  34\n"
          ]
        },
        {
          "output_type": "stream",
          "name": "stderr",
          "text": [
            "\n",
            "Batches:   0%|          | 0/16 [00:00<?, ?it/s]\u001b[A\n",
            "Batches:  12%|█▎        | 2/16 [00:00<00:01,  9.52it/s]\u001b[A\n",
            "Batches:  19%|█▉        | 3/16 [00:00<00:02,  6.14it/s]\u001b[A\n",
            "Batches:  25%|██▌       | 4/16 [00:00<00:02,  4.83it/s]\u001b[A\n",
            "Batches:  31%|███▏      | 5/16 [00:00<00:02,  4.89it/s]\u001b[A\n",
            "Batches:  38%|███▊      | 6/16 [00:01<00:02,  4.71it/s]\u001b[A\n",
            "Batches:  44%|████▍     | 7/16 [00:01<00:01,  4.82it/s]\u001b[A\n",
            "Batches:  50%|█████     | 8/16 [00:01<00:01,  5.14it/s]\u001b[A\n",
            "Batches:  56%|█████▋    | 9/16 [00:01<00:01,  5.19it/s]\u001b[A\n",
            "Batches:  62%|██████▎   | 10/16 [00:02<00:01,  4.29it/s]\u001b[A\n",
            "Batches:  69%|██████▉   | 11/16 [00:02<00:01,  4.36it/s]\u001b[A\n",
            "Batches:  75%|███████▌  | 12/16 [00:02<00:00,  4.40it/s]\u001b[A\n",
            "Batches:  81%|████████▏ | 13/16 [00:02<00:00,  4.74it/s]\u001b[A\n",
            "Batches:  88%|████████▊ | 14/16 [00:02<00:00,  4.85it/s]\u001b[A\n",
            "Batches:  94%|█████████▍| 15/16 [00:03<00:00,  4.49it/s]\u001b[A\n",
            "Batches: 100%|██████████| 16/16 [00:03<00:00,  4.84it/s]\n",
            " 17%|█▋        | 34/200 [02:05<10:03,  3.64s/it]"
          ]
        },
        {
          "output_type": "stream",
          "name": "stdout",
          "text": [
            "cnt:  35\n"
          ]
        },
        {
          "output_type": "stream",
          "name": "stderr",
          "text": [
            "\n",
            "Batches:   0%|          | 0/16 [00:00<?, ?it/s]\u001b[A\n",
            "Batches:  12%|█▎        | 2/16 [00:00<00:01,  7.34it/s]\u001b[A\n",
            "Batches:  19%|█▉        | 3/16 [00:00<00:02,  6.06it/s]\u001b[A\n",
            "Batches:  25%|██▌       | 4/16 [00:00<00:02,  5.51it/s]\u001b[A\n",
            "Batches:  31%|███▏      | 5/16 [00:01<00:02,  4.32it/s]\u001b[A\n",
            "Batches:  38%|███▊      | 6/16 [00:01<00:02,  4.23it/s]\u001b[A\n",
            "Batches:  44%|████▍     | 7/16 [00:01<00:02,  4.24it/s]\u001b[A\n",
            "Batches:  50%|█████     | 8/16 [00:01<00:01,  4.34it/s]\u001b[A\n",
            "Batches:  56%|█████▋    | 9/16 [00:02<00:01,  3.94it/s]\u001b[A\n",
            "Batches:  62%|██████▎   | 10/16 [00:02<00:01,  3.88it/s]\u001b[A\n",
            "Batches:  69%|██████▉   | 11/16 [00:02<00:01,  3.93it/s]\u001b[A\n",
            "Batches:  75%|███████▌  | 12/16 [00:02<00:01,  4.00it/s]\u001b[A\n",
            "Batches:  81%|████████▏ | 13/16 [00:02<00:00,  4.13it/s]\u001b[A\n",
            "Batches:  88%|████████▊ | 14/16 [00:03<00:00,  4.31it/s]\u001b[A\n",
            "Batches:  94%|█████████▍| 15/16 [00:03<00:00,  4.60it/s]\u001b[A\n",
            "Batches: 100%|██████████| 16/16 [00:03<00:00,  4.43it/s]\n",
            " 18%|█▊        | 35/200 [02:09<10:07,  3.68s/it]"
          ]
        },
        {
          "output_type": "stream",
          "name": "stdout",
          "text": [
            "cnt:  36\n"
          ]
        },
        {
          "output_type": "stream",
          "name": "stderr",
          "text": [
            "\n",
            "Batches:   0%|          | 0/16 [00:00<?, ?it/s]\u001b[A\n",
            "Batches:  12%|█▎        | 2/16 [00:00<00:01,  7.73it/s]\u001b[A\n",
            "Batches:  19%|█▉        | 3/16 [00:00<00:02,  5.01it/s]\u001b[A\n",
            "Batches:  25%|██▌       | 4/16 [00:00<00:02,  4.76it/s]\u001b[A\n",
            "Batches:  31%|███▏      | 5/16 [00:01<00:02,  4.37it/s]\u001b[A\n",
            "Batches:  38%|███▊      | 6/16 [00:01<00:02,  4.82it/s]\u001b[A\n",
            "Batches:  44%|████▍     | 7/16 [00:01<00:01,  4.66it/s]\u001b[A\n",
            "Batches:  50%|█████     | 8/16 [00:01<00:01,  4.55it/s]\u001b[A\n",
            "Batches:  56%|█████▋    | 9/16 [00:01<00:01,  4.65it/s]\u001b[A\n",
            "Batches:  62%|██████▎   | 10/16 [00:02<00:01,  4.73it/s]\u001b[A\n",
            "Batches:  69%|██████▉   | 11/16 [00:02<00:01,  4.15it/s]\u001b[A\n",
            "Batches:  75%|███████▌  | 12/16 [00:02<00:00,  4.05it/s]\u001b[A\n",
            "Batches:  81%|████████▏ | 13/16 [00:02<00:00,  3.74it/s]\u001b[A\n",
            "Batches:  88%|████████▊ | 14/16 [00:03<00:00,  3.97it/s]\u001b[A\n",
            "Batches:  94%|█████████▍| 15/16 [00:03<00:00,  3.98it/s]\u001b[A\n",
            "Batches: 100%|██████████| 16/16 [00:03<00:00,  4.29it/s]\n",
            " 18%|█▊        | 36/200 [02:13<10:12,  3.73s/it]"
          ]
        },
        {
          "output_type": "stream",
          "name": "stdout",
          "text": [
            "cnt:  37\n"
          ]
        },
        {
          "output_type": "stream",
          "name": "stderr",
          "text": [
            "\n",
            "Batches:   0%|          | 0/16 [00:00<?, ?it/s]\u001b[A\n",
            "Batches:  12%|█▎        | 2/16 [00:00<00:02,  6.14it/s]\u001b[A\n",
            "Batches:  19%|█▉        | 3/16 [00:00<00:02,  4.93it/s]\u001b[A\n",
            "Batches:  25%|██▌       | 4/16 [00:00<00:02,  4.69it/s]\u001b[A\n",
            "Batches:  31%|███▏      | 5/16 [00:01<00:02,  4.18it/s]\u001b[A\n",
            "Batches:  38%|███▊      | 6/16 [00:01<00:02,  3.98it/s]\u001b[A\n",
            "Batches:  44%|████▍     | 7/16 [00:01<00:02,  4.13it/s]\u001b[A\n",
            "Batches:  50%|█████     | 8/16 [00:01<00:02,  3.76it/s]\u001b[A\n",
            "Batches:  56%|█████▋    | 9/16 [00:02<00:01,  3.94it/s]\u001b[A\n",
            "Batches:  62%|██████▎   | 10/16 [00:02<00:01,  3.75it/s]\u001b[A\n",
            "Batches:  69%|██████▉   | 11/16 [00:02<00:01,  3.59it/s]\u001b[A\n",
            "Batches:  75%|███████▌  | 12/16 [00:03<00:01,  3.70it/s]\u001b[A\n",
            "Batches:  81%|████████▏ | 13/16 [00:03<00:00,  3.54it/s]\u001b[A\n",
            "Batches:  88%|████████▊ | 14/16 [00:03<00:00,  3.52it/s]\u001b[A\n",
            "Batches:  94%|█████████▍| 15/16 [00:03<00:00,  3.42it/s]\u001b[A\n",
            "Batches: 100%|██████████| 16/16 [00:04<00:00,  3.78it/s]\n",
            " 18%|█▊        | 37/200 [02:17<10:39,  3.92s/it]"
          ]
        },
        {
          "output_type": "stream",
          "name": "stdout",
          "text": [
            "cnt:  38\n"
          ]
        },
        {
          "output_type": "stream",
          "name": "stderr",
          "text": [
            "\n",
            "Batches:   0%|          | 0/16 [00:00<?, ?it/s]\u001b[A\n",
            "Batches:  12%|█▎        | 2/16 [00:00<00:01,  9.62it/s]\u001b[A\n",
            "Batches:  19%|█▉        | 3/16 [00:00<00:02,  6.10it/s]\u001b[A\n",
            "Batches:  25%|██▌       | 4/16 [00:00<00:02,  5.46it/s]\u001b[A\n",
            "Batches:  31%|███▏      | 5/16 [00:00<00:02,  5.09it/s]\u001b[A\n",
            "Batches:  38%|███▊      | 6/16 [00:01<00:02,  4.71it/s]\u001b[A\n",
            "Batches:  44%|████▍     | 7/16 [00:01<00:01,  4.78it/s]\u001b[A\n",
            "Batches:  50%|█████     | 8/16 [00:01<00:01,  4.85it/s]\u001b[A\n",
            "Batches:  56%|█████▋    | 9/16 [00:01<00:01,  4.98it/s]\u001b[A\n",
            "Batches:  62%|██████▎   | 10/16 [00:01<00:01,  4.84it/s]\u001b[A\n",
            "Batches:  69%|██████▉   | 11/16 [00:02<00:00,  5.03it/s]\u001b[A\n",
            "Batches:  75%|███████▌  | 12/16 [00:02<00:00,  4.83it/s]\u001b[A\n",
            "Batches:  81%|████████▏ | 13/16 [00:02<00:00,  4.86it/s]\u001b[A\n",
            "Batches:  88%|████████▊ | 14/16 [00:02<00:00,  4.84it/s]\u001b[A\n",
            "Batches:  94%|█████████▍| 15/16 [00:03<00:00,  4.45it/s]\u001b[A\n",
            "Batches: 100%|██████████| 16/16 [00:03<00:00,  4.92it/s]\n",
            " 19%|█▉        | 38/200 [02:21<10:09,  3.76s/it]"
          ]
        },
        {
          "output_type": "stream",
          "name": "stdout",
          "text": [
            "cnt:  39\n"
          ]
        },
        {
          "output_type": "stream",
          "name": "stderr",
          "text": [
            "\n",
            "Batches:   0%|          | 0/16 [00:00<?, ?it/s]\u001b[A\n",
            "Batches:  12%|█▎        | 2/16 [00:00<00:01,  9.50it/s]\u001b[A\n",
            "Batches:  19%|█▉        | 3/16 [00:00<00:01,  7.01it/s]\u001b[A\n",
            "Batches:  25%|██▌       | 4/16 [00:00<00:01,  6.61it/s]\u001b[A\n",
            "Batches:  31%|███▏      | 5/16 [00:00<00:01,  6.35it/s]\u001b[A\n",
            "Batches:  38%|███▊      | 6/16 [00:00<00:01,  5.79it/s]\u001b[A\n",
            "Batches:  44%|████▍     | 7/16 [00:01<00:01,  5.23it/s]\u001b[A\n",
            "Batches:  50%|█████     | 8/16 [00:01<00:01,  4.88it/s]\u001b[A\n",
            "Batches:  56%|█████▋    | 9/16 [00:01<00:01,  5.14it/s]\u001b[A\n",
            "Batches:  62%|██████▎   | 10/16 [00:01<00:01,  5.05it/s]\u001b[A\n",
            "Batches:  69%|██████▉   | 11/16 [00:01<00:01,  5.00it/s]\u001b[A\n",
            "Batches:  75%|███████▌  | 12/16 [00:02<00:00,  4.97it/s]\u001b[A\n",
            "Batches:  81%|████████▏ | 13/16 [00:02<00:00,  5.17it/s]\u001b[A\n",
            "Batches:  88%|████████▊ | 14/16 [00:02<00:00,  5.44it/s]\u001b[A\n",
            "Batches:  94%|█████████▍| 15/16 [00:02<00:00,  5.28it/s]\u001b[A\n",
            "Batches: 100%|██████████| 16/16 [00:02<00:00,  5.39it/s]\n",
            " 20%|█▉        | 39/200 [02:24<09:34,  3.57s/it]"
          ]
        },
        {
          "output_type": "stream",
          "name": "stdout",
          "text": [
            "cnt:  40\n"
          ]
        },
        {
          "output_type": "stream",
          "name": "stderr",
          "text": [
            "\n",
            "Batches:   0%|          | 0/16 [00:00<?, ?it/s]\u001b[A\n",
            "Batches:  12%|█▎        | 2/16 [00:00<00:01,  8.51it/s]\u001b[A\n",
            "Batches:  19%|█▉        | 3/16 [00:00<00:01,  6.96it/s]\u001b[A\n",
            "Batches:  25%|██▌       | 4/16 [00:00<00:02,  5.86it/s]\u001b[A\n",
            "Batches:  31%|███▏      | 5/16 [00:00<00:02,  5.04it/s]\u001b[A\n",
            "Batches:  38%|███▊      | 6/16 [00:01<00:02,  4.71it/s]\u001b[A\n",
            "Batches:  44%|████▍     | 7/16 [00:01<00:01,  4.85it/s]\u001b[A\n",
            "Batches:  50%|█████     | 8/16 [00:01<00:01,  4.83it/s]\u001b[A\n",
            "Batches:  56%|█████▋    | 9/16 [00:01<00:01,  4.73it/s]\u001b[A\n",
            "Batches:  62%|██████▎   | 10/16 [00:02<00:01,  4.41it/s]\u001b[A\n",
            "Batches:  69%|██████▉   | 11/16 [00:02<00:01,  4.34it/s]\u001b[A\n",
            "Batches:  75%|███████▌  | 12/16 [00:02<00:00,  4.13it/s]\u001b[A\n",
            "Batches:  81%|████████▏ | 13/16 [00:02<00:00,  4.05it/s]\u001b[A\n",
            "Batches:  88%|████████▊ | 14/16 [00:02<00:00,  4.15it/s]\u001b[A\n",
            "Batches:  94%|█████████▍| 15/16 [00:03<00:00,  4.33it/s]\u001b[A\n",
            "Batches: 100%|██████████| 16/16 [00:03<00:00,  4.61it/s]\n",
            " 20%|██        | 40/200 [02:27<09:33,  3.58s/it]"
          ]
        },
        {
          "output_type": "stream",
          "name": "stdout",
          "text": [
            "cnt:  41\n"
          ]
        },
        {
          "output_type": "stream",
          "name": "stderr",
          "text": [
            "\n",
            "Batches:   0%|          | 0/16 [00:00<?, ?it/s]\u001b[A\n",
            "Batches:  12%|█▎        | 2/16 [00:00<00:01,  7.24it/s]\u001b[A\n",
            "Batches:  19%|█▉        | 3/16 [00:00<00:02,  5.74it/s]\u001b[A\n",
            "Batches:  25%|██▌       | 4/16 [00:00<00:02,  5.01it/s]\u001b[A\n",
            "Batches:  31%|███▏      | 5/16 [00:00<00:02,  4.97it/s]\u001b[A\n",
            "Batches:  38%|███▊      | 6/16 [00:01<00:02,  4.86it/s]\u001b[A\n",
            "Batches:  44%|████▍     | 7/16 [00:01<00:01,  4.78it/s]\u001b[A\n",
            "Batches:  50%|█████     | 8/16 [00:01<00:01,  4.70it/s]\u001b[A\n",
            "Batches:  56%|█████▋    | 9/16 [00:01<00:01,  4.66it/s]\u001b[A\n",
            "Batches:  62%|██████▎   | 10/16 [00:02<00:01,  4.42it/s]\u001b[A\n",
            "Batches:  69%|██████▉   | 11/16 [00:02<00:01,  4.49it/s]\u001b[A\n",
            "Batches:  75%|███████▌  | 12/16 [00:02<00:00,  4.41it/s]\u001b[A\n",
            "Batches:  81%|████████▏ | 13/16 [00:02<00:00,  4.58it/s]\u001b[A\n",
            "Batches:  88%|████████▊ | 14/16 [00:02<00:00,  4.58it/s]\u001b[A\n",
            "Batches:  94%|█████████▍| 15/16 [00:03<00:00,  4.37it/s]\u001b[A\n",
            "Batches: 100%|██████████| 16/16 [00:03<00:00,  4.62it/s]\n",
            " 20%|██        | 41/200 [02:31<09:30,  3.59s/it]"
          ]
        },
        {
          "output_type": "stream",
          "name": "stdout",
          "text": [
            "cnt:  42\n"
          ]
        },
        {
          "output_type": "stream",
          "name": "stderr",
          "text": [
            "\n",
            "Batches:   0%|          | 0/16 [00:00<?, ?it/s]\u001b[A\n",
            "Batches:  12%|█▎        | 2/16 [00:00<00:01,  7.08it/s]\u001b[A\n",
            "Batches:  19%|█▉        | 3/16 [00:00<00:02,  5.14it/s]\u001b[A\n",
            "Batches:  25%|██▌       | 4/16 [00:00<00:02,  4.64it/s]\u001b[A\n",
            "Batches:  31%|███▏      | 5/16 [00:01<00:02,  4.15it/s]\u001b[A\n",
            "Batches:  38%|███▊      | 6/16 [00:01<00:02,  4.31it/s]\u001b[A\n",
            "Batches:  44%|████▍     | 7/16 [00:01<00:01,  4.64it/s]\u001b[A\n",
            "Batches:  50%|█████     | 8/16 [00:01<00:01,  4.72it/s]\u001b[A\n",
            "Batches:  56%|█████▋    | 9/16 [00:02<00:01,  4.11it/s]\u001b[A\n",
            "Batches:  62%|██████▎   | 10/16 [00:02<00:01,  4.25it/s]\u001b[A\n",
            "Batches:  69%|██████▉   | 11/16 [00:02<00:01,  4.48it/s]\u001b[A\n",
            "Batches:  75%|███████▌  | 12/16 [00:02<00:00,  4.38it/s]\u001b[A\n",
            "Batches:  81%|████████▏ | 13/16 [00:02<00:00,  4.62it/s]\u001b[A\n",
            "Batches:  88%|████████▊ | 14/16 [00:03<00:00,  4.24it/s]\u001b[A\n",
            "Batches:  94%|█████████▍| 15/16 [00:03<00:00,  4.10it/s]\u001b[A\n",
            "Batches: 100%|██████████| 16/16 [00:03<00:00,  4.39it/s]\n",
            " 21%|██        | 42/200 [02:35<09:37,  3.66s/it]"
          ]
        },
        {
          "output_type": "stream",
          "name": "stdout",
          "text": [
            "cnt:  43\n"
          ]
        },
        {
          "output_type": "stream",
          "name": "stderr",
          "text": [
            "\n",
            "Batches:   0%|          | 0/16 [00:00<?, ?it/s]\u001b[A\n",
            "Batches:  12%|█▎        | 2/16 [00:00<00:02,  6.42it/s]\u001b[A\n",
            "Batches:  19%|█▉        | 3/16 [00:00<00:02,  5.21it/s]\u001b[A\n",
            "Batches:  25%|██▌       | 4/16 [00:00<00:02,  4.75it/s]\u001b[A\n",
            "Batches:  31%|███▏      | 5/16 [00:01<00:02,  4.18it/s]\u001b[A\n",
            "Batches:  38%|███▊      | 6/16 [00:01<00:02,  4.45it/s]\u001b[A\n",
            "Batches:  44%|████▍     | 7/16 [00:01<00:02,  4.33it/s]\u001b[A\n",
            "Batches:  50%|█████     | 8/16 [00:01<00:01,  4.54it/s]\u001b[A\n",
            "Batches:  56%|█████▋    | 9/16 [00:01<00:01,  4.44it/s]\u001b[A\n",
            "Batches:  62%|██████▎   | 10/16 [00:02<00:01,  4.48it/s]\u001b[A\n",
            "Batches:  69%|██████▉   | 11/16 [00:02<00:01,  4.44it/s]\u001b[A\n",
            "Batches:  75%|███████▌  | 12/16 [00:02<00:00,  4.46it/s]\u001b[A\n",
            "Batches:  81%|████████▏ | 13/16 [00:02<00:00,  4.41it/s]\u001b[A\n",
            "Batches:  88%|████████▊ | 14/16 [00:03<00:00,  4.26it/s]\u001b[A\n",
            "Batches:  94%|█████████▍| 15/16 [00:03<00:00,  3.88it/s]\u001b[A\n",
            "Batches: 100%|██████████| 16/16 [00:03<00:00,  4.30it/s]\n",
            " 22%|██▏       | 43/200 [02:39<09:46,  3.74s/it]"
          ]
        },
        {
          "output_type": "stream",
          "name": "stdout",
          "text": [
            "cnt:  44\n"
          ]
        },
        {
          "output_type": "stream",
          "name": "stderr",
          "text": [
            "\n",
            "Batches:   0%|          | 0/16 [00:00<?, ?it/s]\u001b[A\n",
            "Batches:  12%|█▎        | 2/16 [00:00<00:01,  8.11it/s]\u001b[A\n",
            "Batches:  19%|█▉        | 3/16 [00:00<00:02,  6.07it/s]\u001b[A\n",
            "Batches:  25%|██▌       | 4/16 [00:00<00:02,  4.99it/s]\u001b[A\n",
            "Batches:  31%|███▏      | 5/16 [00:01<00:02,  4.01it/s]\u001b[A\n",
            "Batches:  38%|███▊      | 6/16 [00:01<00:02,  4.19it/s]\u001b[A\n",
            "Batches:  44%|████▍     | 7/16 [00:01<00:02,  4.37it/s]\u001b[A\n",
            "Batches:  50%|█████     | 8/16 [00:01<00:01,  4.43it/s]\u001b[A\n",
            "Batches:  56%|█████▋    | 9/16 [00:02<00:01,  4.08it/s]\u001b[A\n",
            "Batches:  62%|██████▎   | 10/16 [00:02<00:01,  4.30it/s]\u001b[A\n",
            "Batches:  69%|██████▉   | 11/16 [00:02<00:01,  4.24it/s]\u001b[A\n",
            "Batches:  75%|███████▌  | 12/16 [00:02<00:00,  4.60it/s]\u001b[A\n",
            "Batches:  81%|████████▏ | 13/16 [00:02<00:00,  4.54it/s]\u001b[A\n",
            "Batches:  88%|████████▊ | 14/16 [00:03<00:00,  4.78it/s]\u001b[A\n",
            "Batches:  94%|█████████▍| 15/16 [00:03<00:00,  4.38it/s]\u001b[A\n",
            "Batches: 100%|██████████| 16/16 [00:03<00:00,  4.46it/s]\n",
            " 22%|██▏       | 44/200 [02:43<09:43,  3.74s/it]"
          ]
        },
        {
          "output_type": "stream",
          "name": "stdout",
          "text": [
            "cnt:  45\n"
          ]
        },
        {
          "output_type": "stream",
          "name": "stderr",
          "text": [
            "\n",
            "Batches:   0%|          | 0/16 [00:00<?, ?it/s]\u001b[A\n",
            "Batches:  12%|█▎        | 2/16 [00:00<00:01,  9.21it/s]\u001b[A\n",
            "Batches:  19%|█▉        | 3/16 [00:00<00:02,  6.48it/s]\u001b[A\n",
            "Batches:  25%|██▌       | 4/16 [00:00<00:02,  5.64it/s]\u001b[A\n",
            "Batches:  31%|███▏      | 5/16 [00:00<00:02,  4.61it/s]\u001b[A\n",
            "Batches:  38%|███▊      | 6/16 [00:01<00:02,  4.37it/s]\u001b[A\n",
            "Batches:  44%|████▍     | 7/16 [00:01<00:01,  4.55it/s]\u001b[A\n",
            "Batches:  50%|█████     | 8/16 [00:01<00:01,  4.55it/s]\u001b[A\n",
            "Batches:  56%|█████▋    | 9/16 [00:01<00:01,  4.55it/s]\u001b[A\n",
            "Batches:  62%|██████▎   | 10/16 [00:02<00:01,  4.12it/s]\u001b[A\n",
            "Batches:  69%|██████▉   | 11/16 [00:02<00:01,  4.13it/s]\u001b[A\n",
            "Batches:  75%|███████▌  | 12/16 [00:02<00:00,  4.28it/s]\u001b[A\n",
            "Batches:  81%|████████▏ | 13/16 [00:02<00:00,  4.17it/s]\u001b[A\n",
            "Batches:  88%|████████▊ | 14/16 [00:03<00:00,  4.18it/s]\u001b[A\n",
            "Batches:  94%|█████████▍| 15/16 [00:03<00:00,  4.04it/s]\u001b[A\n",
            "Batches: 100%|██████████| 16/16 [00:03<00:00,  4.44it/s]\n",
            " 22%|██▎       | 45/200 [02:46<09:38,  3.73s/it]"
          ]
        },
        {
          "output_type": "stream",
          "name": "stdout",
          "text": [
            "cnt:  46\n"
          ]
        },
        {
          "output_type": "stream",
          "name": "stderr",
          "text": [
            "\n",
            "Batches:   0%|          | 0/16 [00:00<?, ?it/s]\u001b[A\n",
            "Batches:  12%|█▎        | 2/16 [00:00<00:01,  7.98it/s]\u001b[A\n",
            "Batches:  19%|█▉        | 3/16 [00:00<00:02,  5.13it/s]\u001b[A\n",
            "Batches:  25%|██▌       | 4/16 [00:00<00:02,  5.03it/s]\u001b[A\n",
            "Batches:  31%|███▏      | 5/16 [00:01<00:02,  4.58it/s]\u001b[A\n",
            "Batches:  38%|███▊      | 6/16 [00:01<00:02,  4.58it/s]\u001b[A\n",
            "Batches:  44%|████▍     | 7/16 [00:01<00:01,  4.89it/s]\u001b[A\n",
            "Batches:  50%|█████     | 8/16 [00:01<00:01,  5.08it/s]\u001b[A\n",
            "Batches:  56%|█████▋    | 9/16 [00:01<00:01,  5.25it/s]\u001b[A\n",
            "Batches:  62%|██████▎   | 10/16 [00:02<00:01,  4.71it/s]\u001b[A\n",
            "Batches:  69%|██████▉   | 11/16 [00:02<00:01,  4.62it/s]\u001b[A\n",
            "Batches:  75%|███████▌  | 12/16 [00:02<00:00,  4.49it/s]\u001b[A\n",
            "Batches:  81%|████████▏ | 13/16 [00:02<00:00,  4.52it/s]\u001b[A\n",
            "Batches:  88%|████████▊ | 14/16 [00:02<00:00,  4.74it/s]\u001b[A\n",
            "Batches:  94%|█████████▍| 15/16 [00:03<00:00,  4.86it/s]\u001b[A\n",
            "Batches: 100%|██████████| 16/16 [00:03<00:00,  4.82it/s]\n",
            " 23%|██▎       | 46/200 [02:50<09:22,  3.65s/it]"
          ]
        },
        {
          "output_type": "stream",
          "name": "stdout",
          "text": [
            "cnt:  47\n"
          ]
        },
        {
          "output_type": "stream",
          "name": "stderr",
          "text": [
            "\n",
            "Batches:   0%|          | 0/16 [00:00<?, ?it/s]\u001b[A\n",
            "Batches:  12%|█▎        | 2/16 [00:00<00:01,  9.10it/s]\u001b[A\n",
            "Batches:  19%|█▉        | 3/16 [00:00<00:01,  7.22it/s]\u001b[A\n",
            "Batches:  25%|██▌       | 4/16 [00:00<00:01,  6.51it/s]\u001b[A\n",
            "Batches:  31%|███▏      | 5/16 [00:00<00:01,  6.19it/s]\u001b[A\n",
            "Batches:  38%|███▊      | 6/16 [00:01<00:01,  5.13it/s]\u001b[A\n",
            "Batches:  44%|████▍     | 7/16 [00:01<00:01,  5.08it/s]\u001b[A\n",
            "Batches:  50%|█████     | 8/16 [00:01<00:01,  5.07it/s]\u001b[A\n",
            "Batches:  56%|█████▋    | 9/16 [00:01<00:01,  5.06it/s]\u001b[A\n",
            "Batches:  62%|██████▎   | 10/16 [00:01<00:01,  4.67it/s]\u001b[A\n",
            "Batches:  69%|██████▉   | 11/16 [00:02<00:01,  4.51it/s]\u001b[A\n",
            "Batches:  75%|███████▌  | 12/16 [00:02<00:00,  4.76it/s]\u001b[A\n",
            "Batches:  81%|████████▏ | 13/16 [00:02<00:00,  4.88it/s]\u001b[A\n",
            "Batches:  88%|████████▊ | 14/16 [00:02<00:00,  4.58it/s]\u001b[A\n",
            "Batches:  94%|█████████▍| 15/16 [00:02<00:00,  4.77it/s]\u001b[A\n",
            "Batches: 100%|██████████| 16/16 [00:03<00:00,  5.06it/s]\n",
            " 24%|██▎       | 47/200 [02:53<09:05,  3.56s/it]"
          ]
        },
        {
          "output_type": "stream",
          "name": "stdout",
          "text": [
            "cnt:  48\n"
          ]
        },
        {
          "output_type": "stream",
          "name": "stderr",
          "text": [
            "\n",
            "Batches:   0%|          | 0/16 [00:00<?, ?it/s]\u001b[A\n",
            "Batches:  12%|█▎        | 2/16 [00:00<00:01,  8.24it/s]\u001b[A\n",
            "Batches:  19%|█▉        | 3/16 [00:00<00:02,  5.65it/s]\u001b[A\n",
            "Batches:  25%|██▌       | 4/16 [00:00<00:02,  5.24it/s]\u001b[A\n",
            "Batches:  31%|███▏      | 5/16 [00:00<00:02,  4.66it/s]\u001b[A\n",
            "Batches:  38%|███▊      | 6/16 [00:01<00:02,  4.56it/s]\u001b[A\n",
            "Batches:  44%|████▍     | 7/16 [00:01<00:02,  4.18it/s]\u001b[A\n",
            "Batches:  50%|█████     | 8/16 [00:01<00:02,  3.91it/s]\u001b[A\n",
            "Batches:  56%|█████▋    | 9/16 [00:02<00:01,  3.76it/s]\u001b[A\n",
            "Batches:  62%|██████▎   | 10/16 [00:02<00:01,  3.92it/s]\u001b[A\n",
            "Batches:  69%|██████▉   | 11/16 [00:02<00:01,  3.93it/s]\u001b[A\n",
            "Batches:  75%|███████▌  | 12/16 [00:02<00:00,  4.07it/s]\u001b[A\n",
            "Batches:  81%|████████▏ | 13/16 [00:03<00:00,  3.94it/s]\u001b[A\n",
            "Batches:  88%|████████▊ | 14/16 [00:03<00:00,  4.18it/s]\u001b[A\n",
            "Batches:  94%|█████████▍| 15/16 [00:03<00:00,  4.41it/s]\u001b[A\n",
            "Batches: 100%|██████████| 16/16 [00:03<00:00,  4.37it/s]\n",
            " 24%|██▍       | 48/200 [02:57<09:14,  3.65s/it]"
          ]
        },
        {
          "output_type": "stream",
          "name": "stdout",
          "text": [
            "cnt:  49\n"
          ]
        },
        {
          "output_type": "stream",
          "name": "stderr",
          "text": [
            "\n",
            "Batches:   0%|          | 0/16 [00:00<?, ?it/s]\u001b[A\n",
            "Batches:  12%|█▎        | 2/16 [00:00<00:01,  9.27it/s]\u001b[A\n",
            "Batches:  19%|█▉        | 3/16 [00:00<00:01,  7.35it/s]\u001b[A\n",
            "Batches:  25%|██▌       | 4/16 [00:00<00:01,  6.06it/s]\u001b[A\n",
            "Batches:  31%|███▏      | 5/16 [00:00<00:01,  5.91it/s]\u001b[A\n",
            "Batches:  38%|███▊      | 6/16 [00:01<00:02,  4.83it/s]\u001b[A\n",
            "Batches:  44%|████▍     | 7/16 [00:01<00:01,  4.87it/s]\u001b[A\n",
            "Batches:  50%|█████     | 8/16 [00:01<00:01,  4.59it/s]\u001b[A\n",
            "Batches:  56%|█████▋    | 9/16 [00:01<00:01,  4.84it/s]\u001b[A\n",
            "Batches:  62%|██████▎   | 10/16 [00:01<00:01,  4.72it/s]\u001b[A\n",
            "Batches:  69%|██████▉   | 11/16 [00:02<00:01,  4.18it/s]\u001b[A\n",
            "Batches:  75%|███████▌  | 12/16 [00:02<00:00,  4.20it/s]\u001b[A\n",
            "Batches:  81%|████████▏ | 13/16 [00:02<00:00,  4.46it/s]\u001b[A\n",
            "Batches:  88%|████████▊ | 14/16 [00:02<00:00,  4.24it/s]\u001b[A\n",
            "Batches:  94%|█████████▍| 15/16 [00:03<00:00,  4.51it/s]\u001b[A\n",
            "Batches: 100%|██████████| 16/16 [00:03<00:00,  4.82it/s]\n",
            " 24%|██▍       | 49/200 [03:00<09:01,  3.59s/it]"
          ]
        },
        {
          "output_type": "stream",
          "name": "stdout",
          "text": [
            "cnt:  50\n"
          ]
        },
        {
          "output_type": "stream",
          "name": "stderr",
          "text": [
            "\n",
            "Batches:   0%|          | 0/16 [00:00<?, ?it/s]\u001b[A\n",
            "Batches:  12%|█▎        | 2/16 [00:00<00:01,  8.11it/s]\u001b[A\n",
            "Batches:  19%|█▉        | 3/16 [00:00<00:02,  6.25it/s]\u001b[A\n",
            "Batches:  25%|██▌       | 4/16 [00:00<00:02,  5.64it/s]\u001b[A\n",
            "Batches:  31%|███▏      | 5/16 [00:00<00:02,  5.28it/s]\u001b[A\n",
            "Batches:  38%|███▊      | 6/16 [00:01<00:02,  4.86it/s]\u001b[A\n",
            "Batches:  44%|████▍     | 7/16 [00:01<00:01,  5.07it/s]\u001b[A\n",
            "Batches:  50%|█████     | 8/16 [00:01<00:01,  5.02it/s]\u001b[A\n",
            "Batches:  56%|█████▋    | 9/16 [00:01<00:01,  4.37it/s]\u001b[A\n",
            "Batches:  62%|██████▎   | 10/16 [00:01<00:01,  4.54it/s]\u001b[A\n",
            "Batches:  69%|██████▉   | 11/16 [00:02<00:01,  4.82it/s]\u001b[A\n",
            "Batches:  75%|███████▌  | 12/16 [00:02<00:00,  5.01it/s]\u001b[A\n",
            "Batches:  81%|████████▏ | 13/16 [00:02<00:00,  4.94it/s]\u001b[A\n",
            "Batches:  88%|████████▊ | 14/16 [00:02<00:00,  4.74it/s]\u001b[A\n",
            "Batches:  94%|█████████▍| 15/16 [00:02<00:00,  4.85it/s]\u001b[A\n",
            "Batches: 100%|██████████| 16/16 [00:03<00:00,  5.10it/s]\n",
            " 25%|██▌       | 50/200 [03:04<08:45,  3.50s/it]"
          ]
        },
        {
          "output_type": "stream",
          "name": "stdout",
          "text": [
            "cnt:  51\n"
          ]
        },
        {
          "output_type": "stream",
          "name": "stderr",
          "text": [
            "\n",
            "Batches:   0%|          | 0/16 [00:00<?, ?it/s]\u001b[A\n",
            "Batches:  12%|█▎        | 2/16 [00:00<00:02,  6.02it/s]\u001b[A\n",
            "Batches:  19%|█▉        | 3/16 [00:00<00:02,  5.19it/s]\u001b[A\n",
            "Batches:  25%|██▌       | 4/16 [00:00<00:02,  5.27it/s]\u001b[A\n",
            "Batches:  31%|███▏      | 5/16 [00:00<00:02,  5.32it/s]\u001b[A\n",
            "Batches:  38%|███▊      | 6/16 [00:01<00:02,  4.81it/s]\u001b[A\n",
            "Batches:  44%|████▍     | 7/16 [00:01<00:01,  4.75it/s]\u001b[A\n",
            "Batches:  50%|█████     | 8/16 [00:01<00:01,  4.63it/s]\u001b[A\n",
            "Batches:  56%|█████▋    | 9/16 [00:01<00:01,  4.57it/s]\u001b[A\n",
            "Batches:  62%|██████▎   | 10/16 [00:02<00:01,  4.19it/s]\u001b[A\n",
            "Batches:  69%|██████▉   | 11/16 [00:02<00:01,  4.10it/s]\u001b[A\n",
            "Batches:  75%|███████▌  | 12/16 [00:02<00:01,  3.92it/s]\u001b[A\n",
            "Batches:  81%|████████▏ | 13/16 [00:02<00:00,  4.03it/s]\u001b[A\n",
            "Batches:  88%|████████▊ | 14/16 [00:03<00:00,  3.71it/s]\u001b[A\n",
            "Batches:  94%|█████████▍| 15/16 [00:03<00:00,  3.89it/s]\u001b[A\n",
            "Batches: 100%|██████████| 16/16 [00:03<00:00,  4.31it/s]\n",
            " 26%|██▌       | 51/200 [03:08<08:59,  3.62s/it]"
          ]
        },
        {
          "output_type": "stream",
          "name": "stdout",
          "text": [
            "cnt:  52\n"
          ]
        },
        {
          "output_type": "stream",
          "name": "stderr",
          "text": [
            "\n",
            "Batches:   0%|          | 0/16 [00:00<?, ?it/s]\u001b[A\n",
            "Batches:  12%|█▎        | 2/16 [00:00<00:01,  7.21it/s]\u001b[A\n",
            "Batches:  19%|█▉        | 3/16 [00:00<00:02,  5.41it/s]\u001b[A\n",
            "Batches:  25%|██▌       | 4/16 [00:00<00:02,  4.38it/s]\u001b[A\n",
            "Batches:  31%|███▏      | 5/16 [00:01<00:02,  3.90it/s]\u001b[A\n",
            "Batches:  38%|███▊      | 6/16 [00:01<00:02,  3.90it/s]\u001b[A\n",
            "Batches:  44%|████▍     | 7/16 [00:01<00:02,  4.14it/s]\u001b[A\n",
            "Batches:  50%|█████     | 8/16 [00:01<00:02,  3.80it/s]\u001b[A\n",
            "Batches:  56%|█████▋    | 9/16 [00:02<00:01,  3.96it/s]\u001b[A\n",
            "Batches:  62%|██████▎   | 10/16 [00:02<00:01,  3.94it/s]\u001b[A\n",
            "Batches:  69%|██████▉   | 11/16 [00:02<00:01,  4.11it/s]\u001b[A\n",
            "Batches:  75%|███████▌  | 12/16 [00:02<00:00,  4.00it/s]\u001b[A\n",
            "Batches:  81%|████████▏ | 13/16 [00:03<00:00,  3.91it/s]\u001b[A\n",
            "Batches:  88%|████████▊ | 14/16 [00:03<00:00,  4.11it/s]\u001b[A\n",
            "Batches:  94%|█████████▍| 15/16 [00:03<00:00,  4.21it/s]\u001b[A\n",
            "Batches: 100%|██████████| 16/16 [00:03<00:00,  4.20it/s]\n",
            " 26%|██▌       | 52/200 [03:12<09:10,  3.72s/it]"
          ]
        },
        {
          "output_type": "stream",
          "name": "stdout",
          "text": [
            "cnt:  53\n"
          ]
        },
        {
          "output_type": "stream",
          "name": "stderr",
          "text": [
            "\n",
            "Batches:   0%|          | 0/16 [00:00<?, ?it/s]\u001b[A\n",
            "Batches:  12%|█▎        | 2/16 [00:00<00:01,  9.12it/s]\u001b[A\n",
            "Batches:  19%|█▉        | 3/16 [00:00<00:01,  7.48it/s]\u001b[A\n",
            "Batches:  25%|██▌       | 4/16 [00:00<00:01,  7.03it/s]\u001b[A\n",
            "Batches:  31%|███▏      | 5/16 [00:00<00:01,  6.82it/s]\u001b[A\n",
            "Batches:  38%|███▊      | 6/16 [00:00<00:01,  6.88it/s]\u001b[A\n",
            "Batches:  44%|████▍     | 7/16 [00:01<00:01,  6.11it/s]\u001b[A\n",
            "Batches:  50%|█████     | 8/16 [00:01<00:01,  5.92it/s]\u001b[A\n",
            "Batches:  56%|█████▋    | 9/16 [00:01<00:01,  5.93it/s]\u001b[A\n",
            "Batches:  62%|██████▎   | 10/16 [00:01<00:01,  5.88it/s]\u001b[A\n",
            "Batches:  69%|██████▉   | 11/16 [00:01<00:00,  5.27it/s]\u001b[A\n",
            "Batches:  75%|███████▌  | 12/16 [00:02<00:00,  4.96it/s]\u001b[A\n",
            "Batches:  81%|████████▏ | 13/16 [00:02<00:00,  4.79it/s]\u001b[A\n",
            "Batches:  88%|████████▊ | 14/16 [00:02<00:00,  4.88it/s]\u001b[A\n",
            "Batches:  94%|█████████▍| 15/16 [00:02<00:00,  5.10it/s]\u001b[A\n",
            "Batches: 100%|██████████| 16/16 [00:02<00:00,  5.63it/s]\n",
            " 26%|██▋       | 53/200 [03:14<08:34,  3.50s/it]"
          ]
        },
        {
          "output_type": "stream",
          "name": "stdout",
          "text": [
            "cnt:  54\n"
          ]
        },
        {
          "output_type": "stream",
          "name": "stderr",
          "text": [
            "\n",
            "Batches:   0%|          | 0/16 [00:00<?, ?it/s]\u001b[A\n",
            "Batches:  12%|█▎        | 2/16 [00:00<00:01,  8.40it/s]\u001b[A\n",
            "Batches:  19%|█▉        | 3/16 [00:00<00:01,  6.86it/s]\u001b[A\n",
            "Batches:  25%|██▌       | 4/16 [00:00<00:01,  6.31it/s]\u001b[A\n",
            "Batches:  31%|███▏      | 5/16 [00:00<00:02,  5.26it/s]\u001b[A\n",
            "Batches:  38%|███▊      | 6/16 [00:01<00:02,  4.34it/s]\u001b[A\n",
            "Batches:  44%|████▍     | 7/16 [00:01<00:02,  3.96it/s]\u001b[A\n",
            "Batches:  50%|█████     | 8/16 [00:01<00:01,  4.29it/s]\u001b[A\n",
            "Batches:  56%|█████▋    | 9/16 [00:01<00:01,  4.13it/s]\u001b[A\n",
            "Batches:  62%|██████▎   | 10/16 [00:02<00:01,  4.14it/s]\u001b[A\n",
            "Batches:  69%|██████▉   | 11/16 [00:02<00:01,  4.07it/s]\u001b[A\n",
            "Batches:  75%|███████▌  | 12/16 [00:02<00:00,  4.22it/s]\u001b[A\n",
            "Batches:  81%|████████▏ | 13/16 [00:02<00:00,  4.23it/s]\u001b[A\n",
            "Batches:  88%|████████▊ | 14/16 [00:03<00:00,  4.33it/s]\u001b[A\n",
            "Batches:  94%|█████████▍| 15/16 [00:03<00:00,  4.29it/s]\u001b[A\n",
            "Batches: 100%|██████████| 16/16 [00:03<00:00,  4.57it/s]\n",
            " 27%|██▋       | 54/200 [03:18<08:38,  3.55s/it]"
          ]
        },
        {
          "output_type": "stream",
          "name": "stdout",
          "text": [
            "cnt:  55\n"
          ]
        },
        {
          "output_type": "stream",
          "name": "stderr",
          "text": [
            "\n",
            "Batches:   0%|          | 0/16 [00:00<?, ?it/s]\u001b[A\n",
            "Batches:  12%|█▎        | 2/16 [00:00<00:02,  5.53it/s]\u001b[A\n",
            "Batches:  19%|█▉        | 3/16 [00:00<00:02,  4.84it/s]\u001b[A\n",
            "Batches:  25%|██▌       | 4/16 [00:00<00:02,  4.96it/s]\u001b[A\n",
            "Batches:  31%|███▏      | 5/16 [00:01<00:02,  4.85it/s]\u001b[A\n",
            "Batches:  38%|███▊      | 6/16 [00:01<00:02,  4.70it/s]\u001b[A\n",
            "Batches:  44%|████▍     | 7/16 [00:01<00:01,  4.61it/s]\u001b[A\n",
            "Batches:  50%|█████     | 8/16 [00:01<00:01,  4.65it/s]\u001b[A\n",
            "Batches:  56%|█████▋    | 9/16 [00:01<00:01,  4.35it/s]\u001b[A\n",
            "Batches:  62%|██████▎   | 10/16 [00:02<00:01,  4.52it/s]\u001b[A\n",
            "Batches:  69%|██████▉   | 11/16 [00:02<00:01,  4.35it/s]\u001b[A\n",
            "Batches:  75%|███████▌  | 12/16 [00:02<00:00,  4.45it/s]\u001b[A\n",
            "Batches:  81%|████████▏ | 13/16 [00:02<00:00,  4.62it/s]\u001b[A\n",
            "Batches:  88%|████████▊ | 14/16 [00:03<00:00,  4.21it/s]\u001b[A\n",
            "Batches:  94%|█████████▍| 15/16 [00:03<00:00,  4.21it/s]\u001b[A\n",
            "Batches: 100%|██████████| 16/16 [00:03<00:00,  4.51it/s]\n",
            " 28%|██▊       | 55/200 [03:22<08:40,  3.59s/it]"
          ]
        },
        {
          "output_type": "stream",
          "name": "stdout",
          "text": [
            "cnt:  56\n"
          ]
        },
        {
          "output_type": "stream",
          "name": "stderr",
          "text": [
            "\n",
            "Batches:   0%|          | 0/16 [00:00<?, ?it/s]\u001b[A\n",
            "Batches:  12%|█▎        | 2/16 [00:00<00:01,  7.97it/s]\u001b[A\n",
            "Batches:  19%|█▉        | 3/16 [00:00<00:01,  6.54it/s]\u001b[A\n",
            "Batches:  25%|██▌       | 4/16 [00:00<00:02,  5.24it/s]\u001b[A\n",
            "Batches:  31%|███▏      | 5/16 [00:00<00:02,  4.70it/s]\u001b[A\n",
            "Batches:  38%|███▊      | 6/16 [00:01<00:02,  4.92it/s]\u001b[A\n",
            "Batches:  44%|████▍     | 7/16 [00:01<00:01,  4.96it/s]\u001b[A\n",
            "Batches:  50%|█████     | 8/16 [00:01<00:01,  4.84it/s]\u001b[A\n",
            "Batches:  56%|█████▋    | 9/16 [00:01<00:01,  4.21it/s]\u001b[A\n",
            "Batches:  62%|██████▎   | 10/16 [00:02<00:01,  4.22it/s]\u001b[A\n",
            "Batches:  69%|██████▉   | 11/16 [00:02<00:01,  4.33it/s]\u001b[A\n",
            "Batches:  75%|███████▌  | 12/16 [00:02<00:00,  4.39it/s]\u001b[A\n",
            "Batches:  81%|████████▏ | 13/16 [00:02<00:00,  4.55it/s]\u001b[A\n",
            "Batches:  88%|████████▊ | 14/16 [00:03<00:00,  4.25it/s]\u001b[A\n",
            "Batches:  94%|█████████▍| 15/16 [00:03<00:00,  4.35it/s]\u001b[A\n",
            "Batches: 100%|██████████| 16/16 [00:03<00:00,  4.62it/s]\n",
            " 28%|██▊       | 56/200 [03:25<08:37,  3.59s/it]"
          ]
        },
        {
          "output_type": "stream",
          "name": "stdout",
          "text": [
            "cnt:  57\n"
          ]
        },
        {
          "output_type": "stream",
          "name": "stderr",
          "text": [
            "\n",
            "Batches:   0%|          | 0/16 [00:00<?, ?it/s]\u001b[A\n",
            "Batches:  12%|█▎        | 2/16 [00:00<00:01,  8.33it/s]\u001b[A\n",
            "Batches:  19%|█▉        | 3/16 [00:00<00:02,  5.77it/s]\u001b[A\n",
            "Batches:  25%|██▌       | 4/16 [00:00<00:02,  5.76it/s]\u001b[A\n",
            "Batches:  31%|███▏      | 5/16 [00:00<00:02,  4.66it/s]\u001b[A\n",
            "Batches:  38%|███▊      | 6/16 [00:01<00:02,  4.33it/s]\u001b[A\n",
            "Batches:  44%|████▍     | 7/16 [00:01<00:02,  4.42it/s]\u001b[A\n",
            "Batches:  50%|█████     | 8/16 [00:01<00:01,  4.76it/s]\u001b[A\n",
            "Batches:  56%|█████▋    | 9/16 [00:01<00:01,  4.65it/s]\u001b[A\n",
            "Batches:  62%|██████▎   | 10/16 [00:02<00:01,  4.72it/s]\u001b[A\n",
            "Batches:  69%|██████▉   | 11/16 [00:02<00:01,  4.65it/s]\u001b[A\n",
            "Batches:  75%|███████▌  | 12/16 [00:02<00:00,  4.58it/s]\u001b[A\n",
            "Batches:  81%|████████▏ | 13/16 [00:02<00:00,  4.11it/s]\u001b[A\n",
            "Batches:  88%|████████▊ | 14/16 [00:03<00:00,  3.76it/s]\u001b[A\n",
            "Batches:  94%|█████████▍| 15/16 [00:03<00:00,  4.02it/s]\u001b[A\n",
            "Batches: 100%|██████████| 16/16 [00:03<00:00,  4.53it/s]\n",
            " 28%|██▊       | 57/200 [03:29<08:38,  3.63s/it]"
          ]
        },
        {
          "output_type": "stream",
          "name": "stdout",
          "text": [
            "cnt:  58\n"
          ]
        },
        {
          "output_type": "stream",
          "name": "stderr",
          "text": [
            "\n",
            "Batches:   0%|          | 0/16 [00:00<?, ?it/s]\u001b[A\n",
            "Batches:  12%|█▎        | 2/16 [00:00<00:01,  7.44it/s]\u001b[A\n",
            "Batches:  19%|█▉        | 3/16 [00:00<00:01,  6.65it/s]\u001b[A\n",
            "Batches:  25%|██▌       | 4/16 [00:00<00:02,  5.52it/s]\u001b[A\n",
            "Batches:  31%|███▏      | 5/16 [00:00<00:02,  5.25it/s]\u001b[A\n",
            "Batches:  38%|███▊      | 6/16 [00:01<00:02,  4.20it/s]\u001b[A\n",
            "Batches:  44%|████▍     | 7/16 [00:01<00:02,  4.33it/s]\u001b[A\n",
            "Batches:  50%|█████     | 8/16 [00:01<00:01,  4.33it/s]\u001b[A\n",
            "Batches:  56%|█████▋    | 9/16 [00:01<00:01,  4.48it/s]\u001b[A\n",
            "Batches:  62%|██████▎   | 10/16 [00:02<00:01,  4.20it/s]\u001b[A\n",
            "Batches:  69%|██████▉   | 11/16 [00:02<00:01,  4.31it/s]\u001b[A\n",
            "Batches:  75%|███████▌  | 12/16 [00:02<00:00,  4.04it/s]\u001b[A\n",
            "Batches:  81%|████████▏ | 13/16 [00:02<00:00,  4.25it/s]\u001b[A\n",
            "Batches:  88%|████████▊ | 14/16 [00:03<00:00,  4.24it/s]\u001b[A\n",
            "Batches:  94%|█████████▍| 15/16 [00:03<00:00,  4.27it/s]\u001b[A\n",
            "Batches: 100%|██████████| 16/16 [00:03<00:00,  4.49it/s]\n",
            " 29%|██▉       | 58/200 [03:33<08:37,  3.65s/it]"
          ]
        },
        {
          "output_type": "stream",
          "name": "stdout",
          "text": [
            "cnt:  59\n"
          ]
        },
        {
          "output_type": "stream",
          "name": "stderr",
          "text": [
            "\n",
            "Batches:   0%|          | 0/16 [00:00<?, ?it/s]\u001b[A\n",
            "Batches:  12%|█▎        | 2/16 [00:00<00:02,  6.80it/s]\u001b[A\n",
            "Batches:  19%|█▉        | 3/16 [00:00<00:02,  5.25it/s]\u001b[A\n",
            "Batches:  25%|██▌       | 4/16 [00:00<00:02,  4.31it/s]\u001b[A\n",
            "Batches:  31%|███▏      | 5/16 [00:01<00:02,  3.70it/s]\u001b[A\n",
            "Batches:  38%|███▊      | 6/16 [00:01<00:02,  4.03it/s]\u001b[A\n",
            "Batches:  44%|████▍     | 7/16 [00:01<00:02,  4.28it/s]\u001b[A\n",
            "Batches:  50%|█████     | 8/16 [00:01<00:01,  4.05it/s]\u001b[A\n",
            "Batches:  56%|█████▋    | 9/16 [00:02<00:01,  4.08it/s]\u001b[A\n",
            "Batches:  62%|██████▎   | 10/16 [00:02<00:01,  4.23it/s]\u001b[A\n",
            "Batches:  69%|██████▉   | 11/16 [00:02<00:01,  4.36it/s]\u001b[A\n",
            "Batches:  75%|███████▌  | 12/16 [00:02<00:00,  4.71it/s]\u001b[A\n",
            "Batches:  81%|████████▏ | 13/16 [00:02<00:00,  4.54it/s]\u001b[A\n",
            "Batches:  88%|████████▊ | 14/16 [00:03<00:00,  4.27it/s]\u001b[A\n",
            "Batches:  94%|█████████▍| 15/16 [00:03<00:00,  4.05it/s]\u001b[A\n",
            "Batches: 100%|██████████| 16/16 [00:03<00:00,  4.23it/s]\n",
            " 30%|██▉       | 59/200 [03:37<08:49,  3.75s/it]"
          ]
        },
        {
          "output_type": "stream",
          "name": "stdout",
          "text": [
            "cnt:  60\n"
          ]
        },
        {
          "output_type": "stream",
          "name": "stderr",
          "text": [
            "\n",
            "Batches:   0%|          | 0/16 [00:00<?, ?it/s]\u001b[A\n",
            "Batches:  12%|█▎        | 2/16 [00:00<00:01,  7.18it/s]\u001b[A\n",
            "Batches:  19%|█▉        | 3/16 [00:00<00:01,  6.64it/s]\u001b[A\n",
            "Batches:  25%|██▌       | 4/16 [00:00<00:01,  6.36it/s]\u001b[A\n",
            "Batches:  31%|███▏      | 5/16 [00:00<00:01,  5.82it/s]\u001b[A\n",
            "Batches:  38%|███▊      | 6/16 [00:01<00:01,  5.36it/s]\u001b[A\n",
            "Batches:  44%|████▍     | 7/16 [00:01<00:01,  5.46it/s]\u001b[A\n",
            "Batches:  50%|█████     | 8/16 [00:01<00:01,  5.61it/s]\u001b[A\n",
            "Batches:  56%|█████▋    | 9/16 [00:01<00:01,  5.21it/s]\u001b[A\n",
            "Batches:  62%|██████▎   | 10/16 [00:01<00:01,  5.39it/s]\u001b[A\n",
            "Batches:  69%|██████▉   | 11/16 [00:02<00:01,  4.89it/s]\u001b[A\n",
            "Batches:  75%|███████▌  | 12/16 [00:02<00:00,  4.78it/s]\u001b[A\n",
            "Batches:  81%|████████▏ | 13/16 [00:02<00:00,  4.69it/s]\u001b[A\n",
            "Batches:  88%|████████▊ | 14/16 [00:02<00:00,  4.82it/s]\u001b[A\n",
            "Batches:  94%|█████████▍| 15/16 [00:02<00:00,  5.05it/s]\u001b[A\n",
            "Batches: 100%|██████████| 16/16 [00:03<00:00,  5.23it/s]\n",
            " 30%|███       | 60/200 [03:40<08:22,  3.59s/it]"
          ]
        },
        {
          "output_type": "stream",
          "name": "stdout",
          "text": [
            "cnt:  61\n"
          ]
        },
        {
          "output_type": "stream",
          "name": "stderr",
          "text": [
            "\n",
            "Batches:   0%|          | 0/16 [00:00<?, ?it/s]\u001b[A\n",
            "Batches:  12%|█▎        | 2/16 [00:00<00:01,  7.98it/s]\u001b[A\n",
            "Batches:  19%|█▉        | 3/16 [00:00<00:02,  5.24it/s]\u001b[A\n",
            "Batches:  25%|██▌       | 4/16 [00:00<00:02,  4.85it/s]\u001b[A\n",
            "Batches:  31%|███▏      | 5/16 [00:01<00:02,  3.95it/s]\u001b[A\n",
            "Batches:  38%|███▊      | 6/16 [00:01<00:02,  4.58it/s]\u001b[A\n",
            "Batches:  44%|████▍     | 7/16 [00:01<00:01,  4.51it/s]\u001b[A\n",
            "Batches:  50%|█████     | 8/16 [00:01<00:01,  4.47it/s]\u001b[A\n",
            "Batches:  56%|█████▋    | 9/16 [00:01<00:01,  4.34it/s]\u001b[A\n",
            "Batches:  62%|██████▎   | 10/16 [00:02<00:01,  4.04it/s]\u001b[A\n",
            "Batches:  69%|██████▉   | 11/16 [00:02<00:01,  4.00it/s]\u001b[A\n",
            "Batches:  75%|███████▌  | 12/16 [00:02<00:00,  4.37it/s]\u001b[A\n",
            "Batches:  81%|████████▏ | 13/16 [00:02<00:00,  4.13it/s]\u001b[A\n",
            "Batches:  88%|████████▊ | 14/16 [00:03<00:00,  4.22it/s]\u001b[A\n",
            "Batches:  94%|█████████▍| 15/16 [00:03<00:00,  4.14it/s]\u001b[A\n",
            "Batches: 100%|██████████| 16/16 [00:03<00:00,  4.34it/s]\n",
            " 30%|███       | 61/200 [03:44<08:29,  3.67s/it]"
          ]
        },
        {
          "output_type": "stream",
          "name": "stdout",
          "text": [
            "cnt:  62\n"
          ]
        },
        {
          "output_type": "stream",
          "name": "stderr",
          "text": [
            "\n",
            "Batches:   0%|          | 0/16 [00:00<?, ?it/s]\u001b[A\n",
            "Batches:  12%|█▎        | 2/16 [00:00<00:01,  8.75it/s]\u001b[A\n",
            "Batches:  19%|█▉        | 3/16 [00:00<00:02,  5.26it/s]\u001b[A\n",
            "Batches:  25%|██▌       | 4/16 [00:00<00:02,  4.68it/s]\u001b[A\n",
            "Batches:  31%|███▏      | 5/16 [00:00<00:02,  4.70it/s]\u001b[A\n",
            "Batches:  38%|███▊      | 6/16 [00:01<00:02,  4.58it/s]\u001b[A\n",
            "Batches:  44%|████▍     | 7/16 [00:01<00:02,  4.33it/s]\u001b[A\n",
            "Batches:  50%|█████     | 8/16 [00:01<00:01,  4.54it/s]\u001b[A\n",
            "Batches:  56%|█████▋    | 9/16 [00:01<00:01,  4.38it/s]\u001b[A\n",
            "Batches:  62%|██████▎   | 10/16 [00:02<00:01,  4.06it/s]\u001b[A\n",
            "Batches:  69%|██████▉   | 11/16 [00:02<00:01,  4.20it/s]\u001b[A\n",
            "Batches:  75%|███████▌  | 12/16 [00:02<00:00,  4.24it/s]\u001b[A\n",
            "Batches:  81%|████████▏ | 13/16 [00:02<00:00,  4.11it/s]\u001b[A\n",
            "Batches:  88%|████████▊ | 14/16 [00:03<00:00,  4.21it/s]\u001b[A\n",
            "Batches:  94%|█████████▍| 15/16 [00:03<00:00,  4.16it/s]\u001b[A\n",
            "Batches: 100%|██████████| 16/16 [00:03<00:00,  4.38it/s]\n",
            " 31%|███       | 62/200 [03:48<08:34,  3.73s/it]"
          ]
        },
        {
          "output_type": "stream",
          "name": "stdout",
          "text": [
            "cnt:  63\n"
          ]
        },
        {
          "output_type": "stream",
          "name": "stderr",
          "text": [
            "\n",
            "Batches:   0%|          | 0/16 [00:00<?, ?it/s]\u001b[A\n",
            "Batches:  12%|█▎        | 2/16 [00:00<00:02,  5.50it/s]\u001b[A\n",
            "Batches:  19%|█▉        | 3/16 [00:00<00:02,  5.21it/s]\u001b[A\n",
            "Batches:  25%|██▌       | 4/16 [00:00<00:02,  4.69it/s]\u001b[A\n",
            "Batches:  31%|███▏      | 5/16 [00:01<00:02,  3.88it/s]\u001b[A\n",
            "Batches:  38%|███▊      | 6/16 [00:01<00:02,  4.07it/s]\u001b[A\n",
            "Batches:  44%|████▍     | 7/16 [00:01<00:02,  4.16it/s]\u001b[A\n",
            "Batches:  50%|█████     | 8/16 [00:01<00:01,  4.01it/s]\u001b[A\n",
            "Batches:  56%|█████▋    | 9/16 [00:02<00:01,  4.13it/s]\u001b[A\n",
            "Batches:  62%|██████▎   | 10/16 [00:02<00:01,  4.23it/s]\u001b[A\n",
            "Batches:  69%|██████▉   | 11/16 [00:02<00:01,  4.59it/s]\u001b[A\n",
            "Batches:  75%|███████▌  | 12/16 [00:02<00:00,  4.35it/s]\u001b[A\n",
            "Batches:  81%|████████▏ | 13/16 [00:02<00:00,  4.50it/s]\u001b[A\n",
            "Batches:  88%|████████▊ | 14/16 [00:03<00:00,  4.52it/s]\u001b[A\n",
            "Batches:  94%|█████████▍| 15/16 [00:03<00:00,  4.33it/s]\u001b[A\n",
            "Batches: 100%|██████████| 16/16 [00:03<00:00,  4.34it/s]\n",
            " 32%|███▏      | 63/200 [03:52<08:34,  3.75s/it]"
          ]
        },
        {
          "output_type": "stream",
          "name": "stdout",
          "text": [
            "cnt:  64\n"
          ]
        },
        {
          "output_type": "stream",
          "name": "stderr",
          "text": [
            "\n",
            "Batches:   0%|          | 0/16 [00:00<?, ?it/s]\u001b[A\n",
            "Batches:  12%|█▎        | 2/16 [00:00<00:01, 10.22it/s]\u001b[A\n",
            "Batches:  25%|██▌       | 4/16 [00:00<00:01,  7.66it/s]\u001b[A\n",
            "Batches:  31%|███▏      | 5/16 [00:00<00:01,  6.90it/s]\u001b[A\n",
            "Batches:  38%|███▊      | 6/16 [00:00<00:01,  6.60it/s]\u001b[A\n",
            "Batches:  44%|████▍     | 7/16 [00:01<00:01,  6.37it/s]\u001b[A\n",
            "Batches:  50%|█████     | 8/16 [00:01<00:01,  6.16it/s]\u001b[A\n",
            "Batches:  56%|█████▋    | 9/16 [00:01<00:01,  5.33it/s]\u001b[A\n",
            "Batches:  62%|██████▎   | 10/16 [00:01<00:01,  5.17it/s]\u001b[A\n",
            "Batches:  69%|██████▉   | 11/16 [00:01<00:01,  4.56it/s]\u001b[A\n",
            "Batches:  75%|███████▌  | 12/16 [00:02<00:00,  4.49it/s]\u001b[A\n",
            "Batches:  81%|████████▏ | 13/16 [00:02<00:00,  4.53it/s]\u001b[A\n",
            "Batches:  88%|████████▊ | 14/16 [00:02<00:00,  4.68it/s]\u001b[A\n",
            "Batches:  94%|█████████▍| 15/16 [00:02<00:00,  4.62it/s]\u001b[A\n",
            "Batches: 100%|██████████| 16/16 [00:02<00:00,  5.37it/s]\n",
            " 32%|███▏      | 64/200 [03:55<08:03,  3.55s/it]"
          ]
        },
        {
          "output_type": "stream",
          "name": "stdout",
          "text": [
            "cnt:  65\n"
          ]
        },
        {
          "output_type": "stream",
          "name": "stderr",
          "text": [
            "\n",
            "Batches:   0%|          | 0/16 [00:00<?, ?it/s]\u001b[A\n",
            "Batches:  12%|█▎        | 2/16 [00:00<00:01,  8.73it/s]\u001b[A\n",
            "Batches:  19%|█▉        | 3/16 [00:00<00:01,  6.63it/s]\u001b[A\n",
            "Batches:  25%|██▌       | 4/16 [00:00<00:02,  5.13it/s]\u001b[A\n",
            "Batches:  31%|███▏      | 5/16 [00:00<00:02,  4.71it/s]\u001b[A\n",
            "Batches:  38%|███▊      | 6/16 [00:01<00:02,  4.58it/s]\u001b[A\n",
            "Batches:  44%|████▍     | 7/16 [00:01<00:01,  4.66it/s]\u001b[A\n",
            "Batches:  50%|█████     | 8/16 [00:01<00:01,  5.06it/s]\u001b[A\n",
            "Batches:  56%|█████▋    | 9/16 [00:01<00:01,  5.28it/s]\u001b[A\n",
            "Batches:  62%|██████▎   | 10/16 [00:01<00:01,  4.83it/s]\u001b[A\n",
            "Batches:  69%|██████▉   | 11/16 [00:02<00:01,  4.98it/s]\u001b[A\n",
            "Batches:  75%|███████▌  | 12/16 [00:02<00:00,  5.22it/s]\u001b[A\n",
            "Batches:  81%|████████▏ | 13/16 [00:02<00:00,  4.99it/s]\u001b[A\n",
            "Batches:  88%|████████▊ | 14/16 [00:02<00:00,  4.94it/s]\u001b[A\n",
            "Batches:  94%|█████████▍| 15/16 [00:02<00:00,  4.70it/s]\u001b[A\n",
            "Batches: 100%|██████████| 16/16 [00:03<00:00,  5.06it/s]\n",
            " 32%|███▎      | 65/200 [03:58<07:48,  3.47s/it]"
          ]
        },
        {
          "output_type": "stream",
          "name": "stdout",
          "text": [
            "cnt:  66\n"
          ]
        },
        {
          "output_type": "stream",
          "name": "stderr",
          "text": [
            "\n",
            "Batches:   0%|          | 0/16 [00:00<?, ?it/s]\u001b[A\n",
            "Batches:  12%|█▎        | 2/16 [00:00<00:02,  6.10it/s]\u001b[A\n",
            "Batches:  19%|█▉        | 3/16 [00:00<00:02,  5.00it/s]\u001b[A\n",
            "Batches:  25%|██▌       | 4/16 [00:00<00:02,  4.67it/s]\u001b[A\n",
            "Batches:  31%|███▏      | 5/16 [00:01<00:02,  4.05it/s]\u001b[A\n",
            "Batches:  38%|███▊      | 6/16 [00:01<00:02,  3.78it/s]\u001b[A\n",
            "Batches:  44%|████▍     | 7/16 [00:01<00:02,  3.73it/s]\u001b[A\n",
            "Batches:  50%|█████     | 8/16 [00:01<00:02,  3.76it/s]\u001b[A\n",
            "Batches:  56%|█████▋    | 9/16 [00:02<00:01,  3.63it/s]\u001b[A\n",
            "Batches:  62%|██████▎   | 10/16 [00:02<00:01,  3.69it/s]\u001b[A\n",
            "Batches:  69%|██████▉   | 11/16 [00:02<00:01,  3.95it/s]\u001b[A\n",
            "Batches:  75%|███████▌  | 12/16 [00:03<00:01,  3.79it/s]\u001b[A\n",
            "Batches:  81%|████████▏ | 13/16 [00:03<00:00,  3.72it/s]\u001b[A\n",
            "Batches:  88%|████████▊ | 14/16 [00:03<00:00,  3.72it/s]\u001b[A\n",
            "Batches:  94%|█████████▍| 15/16 [00:03<00:00,  4.04it/s]\u001b[A\n",
            "Batches: 100%|██████████| 16/16 [00:04<00:00,  3.93it/s]\n",
            " 33%|███▎      | 66/200 [04:02<08:15,  3.70s/it]"
          ]
        },
        {
          "output_type": "stream",
          "name": "stdout",
          "text": [
            "cnt:  67\n"
          ]
        },
        {
          "output_type": "stream",
          "name": "stderr",
          "text": [
            "\n",
            "Batches:   0%|          | 0/16 [00:00<?, ?it/s]\u001b[A\n",
            "Batches:  12%|█▎        | 2/16 [00:00<00:01,  8.38it/s]\u001b[A\n",
            "Batches:  19%|█▉        | 3/16 [00:00<00:02,  6.33it/s]\u001b[A\n",
            "Batches:  25%|██▌       | 4/16 [00:00<00:02,  5.98it/s]\u001b[A\n",
            "Batches:  31%|███▏      | 5/16 [00:00<00:01,  6.03it/s]\u001b[A\n",
            "Batches:  38%|███▊      | 6/16 [00:01<00:01,  5.26it/s]\u001b[A\n",
            "Batches:  44%|████▍     | 7/16 [00:01<00:01,  5.44it/s]\u001b[A\n",
            "Batches:  50%|█████     | 8/16 [00:01<00:01,  4.58it/s]\u001b[A\n",
            "Batches:  56%|█████▋    | 9/16 [00:01<00:01,  4.11it/s]\u001b[A\n",
            "Batches:  62%|██████▎   | 10/16 [00:02<00:01,  4.28it/s]\u001b[A\n",
            "Batches:  69%|██████▉   | 11/16 [00:02<00:01,  4.31it/s]\u001b[A\n",
            "Batches:  75%|███████▌  | 12/16 [00:02<00:00,  4.63it/s]\u001b[A\n",
            "Batches:  81%|████████▏ | 13/16 [00:02<00:00,  4.70it/s]\u001b[A\n",
            "Batches:  88%|████████▊ | 14/16 [00:02<00:00,  4.66it/s]\u001b[A\n",
            "Batches:  94%|█████████▍| 15/16 [00:03<00:00,  4.60it/s]\u001b[A\n",
            "Batches: 100%|██████████| 16/16 [00:03<00:00,  4.84it/s]\n",
            " 34%|███▎      | 67/200 [04:06<08:00,  3.62s/it]"
          ]
        },
        {
          "output_type": "stream",
          "name": "stdout",
          "text": [
            "cnt:  68\n"
          ]
        },
        {
          "output_type": "stream",
          "name": "stderr",
          "text": [
            "\n",
            "Batches:   0%|          | 0/16 [00:00<?, ?it/s]\u001b[A\n",
            "Batches:  12%|█▎        | 2/16 [00:00<00:01,  7.70it/s]\u001b[A\n",
            "Batches:  19%|█▉        | 3/16 [00:00<00:02,  5.02it/s]\u001b[A\n",
            "Batches:  25%|██▌       | 4/16 [00:00<00:02,  4.81it/s]\u001b[A\n",
            "Batches:  31%|███▏      | 5/16 [00:01<00:02,  4.16it/s]\u001b[A\n",
            "Batches:  38%|███▊      | 6/16 [00:01<00:02,  3.88it/s]\u001b[A\n",
            "Batches:  44%|████▍     | 7/16 [00:01<00:02,  3.95it/s]\u001b[A\n",
            "Batches:  50%|█████     | 8/16 [00:01<00:01,  4.18it/s]\u001b[A\n",
            "Batches:  56%|█████▋    | 9/16 [00:02<00:01,  3.77it/s]\u001b[A\n",
            "Batches:  62%|██████▎   | 10/16 [00:02<00:01,  3.63it/s]\u001b[A\n",
            "Batches:  69%|██████▉   | 11/16 [00:02<00:01,  3.85it/s]\u001b[A\n",
            "Batches:  75%|███████▌  | 12/16 [00:02<00:01,  3.77it/s]\u001b[A\n",
            "Batches:  81%|████████▏ | 13/16 [00:03<00:00,  3.90it/s]\u001b[A\n",
            "Batches:  88%|████████▊ | 14/16 [00:03<00:00,  4.00it/s]\u001b[A\n",
            "Batches:  94%|█████████▍| 15/16 [00:03<00:00,  3.89it/s]\u001b[A\n",
            "Batches: 100%|██████████| 16/16 [00:03<00:00,  4.06it/s]\n",
            " 34%|███▍      | 68/200 [04:10<08:17,  3.77s/it]"
          ]
        },
        {
          "output_type": "stream",
          "name": "stdout",
          "text": [
            "cnt:  69\n"
          ]
        },
        {
          "output_type": "stream",
          "name": "stderr",
          "text": [
            "\n",
            "Batches:   0%|          | 0/16 [00:00<?, ?it/s]\u001b[A\n",
            "Batches:  12%|█▎        | 2/16 [00:00<00:01,  7.78it/s]\u001b[A\n",
            "Batches:  19%|█▉        | 3/16 [00:00<00:02,  5.63it/s]\u001b[A\n",
            "Batches:  25%|██▌       | 4/16 [00:00<00:02,  5.04it/s]\u001b[A\n",
            "Batches:  31%|███▏      | 5/16 [00:01<00:02,  4.34it/s]\u001b[A\n",
            "Batches:  38%|███▊      | 6/16 [00:01<00:02,  4.08it/s]\u001b[A\n",
            "Batches:  44%|████▍     | 7/16 [00:01<00:02,  3.88it/s]\u001b[A\n",
            "Batches:  50%|█████     | 8/16 [00:01<00:02,  3.66it/s]\u001b[A\n",
            "Batches:  56%|█████▋    | 9/16 [00:02<00:02,  3.47it/s]\u001b[A\n",
            "Batches:  62%|██████▎   | 10/16 [00:02<00:01,  3.52it/s]\u001b[A\n",
            "Batches:  69%|██████▉   | 11/16 [00:02<00:01,  3.93it/s]\u001b[A\n",
            "Batches:  75%|███████▌  | 12/16 [00:02<00:01,  3.88it/s]\u001b[A\n",
            "Batches:  81%|████████▏ | 13/16 [00:03<00:00,  4.09it/s]\u001b[A\n",
            "Batches:  88%|████████▊ | 14/16 [00:03<00:00,  4.09it/s]\u001b[A\n",
            "Batches:  94%|█████████▍| 15/16 [00:03<00:00,  4.29it/s]\u001b[A\n",
            "Batches: 100%|██████████| 16/16 [00:03<00:00,  4.20it/s]\n",
            " 34%|███▍      | 69/200 [04:14<08:20,  3.82s/it]"
          ]
        },
        {
          "output_type": "stream",
          "name": "stdout",
          "text": [
            "cnt:  70\n"
          ]
        },
        {
          "output_type": "stream",
          "name": "stderr",
          "text": [
            "\n",
            "Batches:   0%|          | 0/16 [00:00<?, ?it/s]\u001b[A\n",
            "Batches:  12%|█▎        | 2/16 [00:00<00:02,  6.80it/s]\u001b[A\n",
            "Batches:  19%|█▉        | 3/16 [00:00<00:02,  5.18it/s]\u001b[A\n",
            "Batches:  25%|██▌       | 4/16 [00:00<00:02,  4.73it/s]\u001b[A\n",
            "Batches:  31%|███▏      | 5/16 [00:01<00:02,  4.10it/s]\u001b[A\n",
            "Batches:  38%|███▊      | 6/16 [00:01<00:02,  3.82it/s]\u001b[A\n",
            "Batches:  44%|████▍     | 7/16 [00:01<00:02,  4.01it/s]\u001b[A\n",
            "Batches:  50%|█████     | 8/16 [00:01<00:01,  4.13it/s]\u001b[A\n",
            "Batches:  56%|█████▋    | 9/16 [00:02<00:01,  3.95it/s]\u001b[A\n",
            "Batches:  62%|██████▎   | 10/16 [00:02<00:01,  4.05it/s]\u001b[A\n",
            "Batches:  69%|██████▉   | 11/16 [00:02<00:01,  4.24it/s]\u001b[A\n",
            "Batches:  75%|███████▌  | 12/16 [00:02<00:01,  3.88it/s]\u001b[A\n",
            "Batches:  81%|████████▏ | 13/16 [00:03<00:00,  4.04it/s]\u001b[A\n",
            "Batches:  88%|████████▊ | 14/16 [00:03<00:00,  4.02it/s]\u001b[A\n",
            "Batches:  94%|█████████▍| 15/16 [00:03<00:00,  4.13it/s]\u001b[A\n",
            "Batches: 100%|██████████| 16/16 [00:03<00:00,  4.13it/s]\n",
            " 35%|███▌      | 70/200 [04:18<08:25,  3.89s/it]"
          ]
        },
        {
          "output_type": "stream",
          "name": "stdout",
          "text": [
            "cnt:  71\n"
          ]
        },
        {
          "output_type": "stream",
          "name": "stderr",
          "text": [
            "\n",
            "Batches:   0%|          | 0/16 [00:00<?, ?it/s]\u001b[A\n",
            "Batches:  12%|█▎        | 2/16 [00:00<00:01,  7.86it/s]\u001b[A\n",
            "Batches:  19%|█▉        | 3/16 [00:00<00:02,  5.48it/s]\u001b[A\n",
            "Batches:  25%|██▌       | 4/16 [00:00<00:02,  5.07it/s]\u001b[A\n",
            "Batches:  31%|███▏      | 5/16 [00:01<00:02,  4.06it/s]\u001b[A\n",
            "Batches:  38%|███▊      | 6/16 [00:01<00:02,  4.38it/s]\u001b[A\n",
            "Batches:  44%|████▍     | 7/16 [00:01<00:02,  4.18it/s]\u001b[A\n",
            "Batches:  50%|█████     | 8/16 [00:01<00:02,  3.98it/s]\u001b[A\n",
            "Batches:  56%|█████▋    | 9/16 [00:02<00:01,  3.92it/s]\u001b[A\n",
            "Batches:  62%|██████▎   | 10/16 [00:02<00:01,  3.89it/s]\u001b[A\n",
            "Batches:  69%|██████▉   | 11/16 [00:02<00:01,  4.10it/s]\u001b[A\n",
            "Batches:  75%|███████▌  | 12/16 [00:02<00:00,  4.27it/s]\u001b[A\n",
            "Batches:  81%|████████▏ | 13/16 [00:03<00:00,  4.20it/s]\u001b[A\n",
            "Batches:  88%|████████▊ | 14/16 [00:03<00:00,  4.21it/s]\u001b[A\n",
            "Batches:  94%|█████████▍| 15/16 [00:03<00:00,  4.05it/s]\u001b[A\n",
            "Batches: 100%|██████████| 16/16 [00:03<00:00,  4.24it/s]\n",
            " 36%|███▌      | 71/200 [04:22<08:22,  3.90s/it]"
          ]
        },
        {
          "output_type": "stream",
          "name": "stdout",
          "text": [
            "cnt:  72\n"
          ]
        },
        {
          "output_type": "stream",
          "name": "stderr",
          "text": [
            "\n",
            "Batches:   0%|          | 0/16 [00:00<?, ?it/s]\u001b[A\n",
            "Batches:  12%|█▎        | 2/16 [00:00<00:01,  7.95it/s]\u001b[A\n",
            "Batches:  19%|█▉        | 3/16 [00:00<00:02,  6.41it/s]\u001b[A\n",
            "Batches:  25%|██▌       | 4/16 [00:00<00:02,  5.33it/s]\u001b[A\n",
            "Batches:  31%|███▏      | 5/16 [00:00<00:02,  5.15it/s]\u001b[A\n",
            "Batches:  38%|███▊      | 6/16 [00:01<00:02,  4.78it/s]\u001b[A\n",
            "Batches:  44%|████▍     | 7/16 [00:01<00:01,  4.81it/s]\u001b[A\n",
            "Batches:  50%|█████     | 8/16 [00:01<00:01,  5.00it/s]\u001b[A\n",
            "Batches:  56%|█████▋    | 9/16 [00:01<00:01,  4.65it/s]\u001b[A\n",
            "Batches:  62%|██████▎   | 10/16 [00:02<00:01,  4.49it/s]\u001b[A\n",
            "Batches:  69%|██████▉   | 11/16 [00:02<00:01,  4.40it/s]\u001b[A\n",
            "Batches:  75%|███████▌  | 12/16 [00:02<00:00,  4.60it/s]\u001b[A\n",
            "Batches:  81%|████████▏ | 13/16 [00:02<00:00,  4.57it/s]\u001b[A\n",
            "Batches:  88%|████████▊ | 14/16 [00:02<00:00,  4.72it/s]\u001b[A\n",
            "Batches:  94%|█████████▍| 15/16 [00:03<00:00,  4.81it/s]\u001b[A\n",
            "Batches: 100%|██████████| 16/16 [00:03<00:00,  4.92it/s]\n",
            " 36%|███▌      | 72/200 [04:25<08:00,  3.76s/it]"
          ]
        },
        {
          "output_type": "stream",
          "name": "stdout",
          "text": [
            "cnt:  73\n"
          ]
        },
        {
          "output_type": "stream",
          "name": "stderr",
          "text": [
            "\n",
            "Batches:   0%|          | 0/16 [00:00<?, ?it/s]\u001b[A\n",
            "Batches:  12%|█▎        | 2/16 [00:00<00:01, 10.90it/s]\u001b[A\n",
            "Batches:  25%|██▌       | 4/16 [00:00<00:01,  6.54it/s]\u001b[A\n",
            "Batches:  31%|███▏      | 5/16 [00:00<00:01,  6.66it/s]\u001b[A\n",
            "Batches:  38%|███▊      | 6/16 [00:00<00:01,  6.89it/s]\u001b[A\n",
            "Batches:  44%|████▍     | 7/16 [00:01<00:01,  5.82it/s]\u001b[A\n",
            "Batches:  50%|█████     | 8/16 [00:01<00:01,  5.43it/s]\u001b[A\n",
            "Batches:  56%|█████▋    | 9/16 [00:01<00:01,  5.66it/s]\u001b[A\n",
            "Batches:  62%|██████▎   | 10/16 [00:01<00:01,  5.62it/s]\u001b[A\n",
            "Batches:  69%|██████▉   | 11/16 [00:01<00:00,  5.26it/s]\u001b[A\n",
            "Batches:  75%|███████▌  | 12/16 [00:02<00:00,  5.49it/s]\u001b[A\n",
            "Batches:  81%|████████▏ | 13/16 [00:02<00:00,  5.23it/s]\u001b[A\n",
            "Batches:  88%|████████▊ | 14/16 [00:02<00:00,  5.43it/s]\u001b[A\n",
            "Batches:  94%|█████████▍| 15/16 [00:02<00:00,  5.78it/s]\u001b[A\n",
            "Batches: 100%|██████████| 16/16 [00:02<00:00,  5.84it/s]\n",
            " 36%|███▋      | 73/200 [04:28<07:23,  3.49s/it]"
          ]
        },
        {
          "output_type": "stream",
          "name": "stdout",
          "text": [
            "cnt:  74\n"
          ]
        },
        {
          "output_type": "stream",
          "name": "stderr",
          "text": [
            "\n",
            "Batches:   0%|          | 0/16 [00:00<?, ?it/s]\u001b[A\n",
            "Batches:  12%|█▎        | 2/16 [00:00<00:01,  8.67it/s]\u001b[A\n",
            "Batches:  19%|█▉        | 3/16 [00:00<00:02,  5.44it/s]\u001b[A\n",
            "Batches:  25%|██▌       | 4/16 [00:00<00:02,  5.52it/s]\u001b[A\n",
            "Batches:  31%|███▏      | 5/16 [00:00<00:02,  5.14it/s]\u001b[A\n",
            "Batches:  38%|███▊      | 6/16 [00:01<00:01,  5.01it/s]\u001b[A\n",
            "Batches:  44%|████▍     | 7/16 [00:01<00:02,  4.38it/s]\u001b[A\n",
            "Batches:  50%|█████     | 8/16 [00:01<00:01,  4.57it/s]\u001b[A\n",
            "Batches:  56%|█████▋    | 9/16 [00:01<00:01,  4.85it/s]\u001b[A\n",
            "Batches:  62%|██████▎   | 10/16 [00:01<00:01,  4.90it/s]\u001b[A\n",
            "Batches:  69%|██████▉   | 11/16 [00:02<00:01,  4.72it/s]\u001b[A\n",
            "Batches:  75%|███████▌  | 12/16 [00:02<00:00,  4.73it/s]\u001b[A\n",
            "Batches:  81%|████████▏ | 13/16 [00:02<00:00,  4.73it/s]\u001b[A\n",
            "Batches:  88%|████████▊ | 14/16 [00:02<00:00,  4.96it/s]\u001b[A\n",
            "Batches:  94%|█████████▍| 15/16 [00:02<00:00,  5.33it/s]\u001b[A\n",
            "Batches: 100%|██████████| 16/16 [00:03<00:00,  5.07it/s]\n",
            " 37%|███▋      | 74/200 [04:31<07:10,  3.42s/it]"
          ]
        },
        {
          "output_type": "stream",
          "name": "stdout",
          "text": [
            "cnt:  75\n"
          ]
        },
        {
          "output_type": "stream",
          "name": "stderr",
          "text": [
            "\n",
            "Batches:   0%|          | 0/16 [00:00<?, ?it/s]\u001b[A\n",
            "Batches:  12%|█▎        | 2/16 [00:00<00:01,  8.93it/s]\u001b[A\n",
            "Batches:  19%|█▉        | 3/16 [00:00<00:01,  6.60it/s]\u001b[A\n",
            "Batches:  25%|██▌       | 4/16 [00:00<00:01,  6.17it/s]\u001b[A\n",
            "Batches:  31%|███▏      | 5/16 [00:00<00:02,  4.84it/s]\u001b[A\n",
            "Batches:  38%|███▊      | 6/16 [00:01<00:02,  4.80it/s]\u001b[A\n",
            "Batches:  44%|████▍     | 7/16 [00:01<00:01,  4.69it/s]\u001b[A\n",
            "Batches:  50%|█████     | 8/16 [00:01<00:01,  4.18it/s]\u001b[A\n",
            "Batches:  56%|█████▋    | 9/16 [00:01<00:01,  3.79it/s]\u001b[A\n",
            "Batches:  62%|██████▎   | 10/16 [00:02<00:01,  3.87it/s]\u001b[A\n",
            "Batches:  69%|██████▉   | 11/16 [00:02<00:01,  4.25it/s]\u001b[A\n",
            "Batches:  75%|███████▌  | 12/16 [00:02<00:00,  4.58it/s]\u001b[A\n",
            "Batches:  81%|████████▏ | 13/16 [00:02<00:00,  4.85it/s]\u001b[A\n",
            "Batches:  88%|████████▊ | 14/16 [00:02<00:00,  4.56it/s]\u001b[A\n",
            "Batches:  94%|█████████▍| 15/16 [00:03<00:00,  4.02it/s]\u001b[A\n",
            "Batches: 100%|██████████| 16/16 [00:03<00:00,  4.54it/s]\n",
            " 38%|███▊      | 75/200 [04:35<07:15,  3.49s/it]"
          ]
        },
        {
          "output_type": "stream",
          "name": "stdout",
          "text": [
            "cnt:  76\n"
          ]
        },
        {
          "output_type": "stream",
          "name": "stderr",
          "text": [
            "\n",
            "Batches:   0%|          | 0/16 [00:00<?, ?it/s]\u001b[A\n",
            "Batches:  12%|█▎        | 2/16 [00:00<00:01,  8.32it/s]\u001b[A\n",
            "Batches:  19%|█▉        | 3/16 [00:00<00:02,  5.68it/s]\u001b[A\n",
            "Batches:  25%|██▌       | 4/16 [00:00<00:02,  4.55it/s]\u001b[A\n",
            "Batches:  31%|███▏      | 5/16 [00:01<00:02,  4.18it/s]\u001b[A\n",
            "Batches:  38%|███▊      | 6/16 [00:01<00:02,  4.36it/s]\u001b[A\n",
            "Batches:  44%|████▍     | 7/16 [00:01<00:02,  4.35it/s]\u001b[A\n",
            "Batches:  50%|█████     | 8/16 [00:01<00:02,  3.99it/s]\u001b[A\n",
            "Batches:  56%|█████▋    | 9/16 [00:02<00:01,  3.90it/s]\u001b[A\n",
            "Batches:  62%|██████▎   | 10/16 [00:02<00:01,  4.05it/s]\u001b[A\n",
            "Batches:  69%|██████▉   | 11/16 [00:02<00:01,  4.24it/s]\u001b[A\n",
            "Batches:  75%|███████▌  | 12/16 [00:02<00:00,  4.12it/s]\u001b[A\n",
            "Batches:  81%|████████▏ | 13/16 [00:03<00:00,  3.93it/s]\u001b[A\n",
            "Batches:  88%|████████▊ | 14/16 [00:03<00:00,  3.75it/s]\u001b[A\n",
            "Batches:  94%|█████████▍| 15/16 [00:03<00:00,  3.90it/s]\u001b[A\n",
            "Batches: 100%|██████████| 16/16 [00:03<00:00,  4.17it/s]\n",
            " 38%|███▊      | 76/200 [04:39<07:31,  3.64s/it]"
          ]
        },
        {
          "output_type": "stream",
          "name": "stdout",
          "text": [
            "cnt:  77\n"
          ]
        },
        {
          "output_type": "stream",
          "name": "stderr",
          "text": [
            "\n",
            "Batches:   0%|          | 0/16 [00:00<?, ?it/s]\u001b[A\n",
            "Batches:  12%|█▎        | 2/16 [00:00<00:02,  6.97it/s]\u001b[A\n",
            "Batches:  19%|█▉        | 3/16 [00:00<00:02,  5.49it/s]\u001b[A\n",
            "Batches:  25%|██▌       | 4/16 [00:00<00:02,  5.12it/s]\u001b[A\n",
            "Batches:  31%|███▏      | 5/16 [00:01<00:02,  4.38it/s]\u001b[A\n",
            "Batches:  38%|███▊      | 6/16 [00:01<00:02,  4.25it/s]\u001b[A\n",
            "Batches:  44%|████▍     | 7/16 [00:01<00:02,  4.28it/s]\u001b[A\n",
            "Batches:  50%|█████     | 8/16 [00:01<00:01,  4.38it/s]\u001b[A\n",
            "Batches:  56%|█████▋    | 9/16 [00:01<00:01,  4.20it/s]\u001b[A\n",
            "Batches:  62%|██████▎   | 10/16 [00:02<00:01,  4.30it/s]\u001b[A\n",
            "Batches:  69%|██████▉   | 11/16 [00:02<00:01,  4.18it/s]\u001b[A\n",
            "Batches:  75%|███████▌  | 12/16 [00:02<00:00,  4.03it/s]\u001b[A\n",
            "Batches:  81%|████████▏ | 13/16 [00:03<00:00,  3.75it/s]\u001b[A\n",
            "Batches:  88%|████████▊ | 14/16 [00:03<00:00,  3.87it/s]\u001b[A\n",
            "Batches:  94%|█████████▍| 15/16 [00:03<00:00,  4.15it/s]\u001b[A\n",
            "Batches: 100%|██████████| 16/16 [00:03<00:00,  4.22it/s]\n",
            " 38%|███▊      | 77/200 [04:43<07:40,  3.75s/it]"
          ]
        },
        {
          "output_type": "stream",
          "name": "stdout",
          "text": [
            "cnt:  78\n"
          ]
        },
        {
          "output_type": "stream",
          "name": "stderr",
          "text": [
            "\n",
            "Batches:   0%|          | 0/16 [00:00<?, ?it/s]\u001b[A\n",
            "Batches:  12%|█▎        | 2/16 [00:00<00:01,  7.60it/s]\u001b[A\n",
            "Batches:  19%|█▉        | 3/16 [00:00<00:02,  5.93it/s]\u001b[A\n",
            "Batches:  25%|██▌       | 4/16 [00:00<00:02,  5.45it/s]\u001b[A\n",
            "Batches:  31%|███▏      | 5/16 [00:00<00:01,  5.54it/s]\u001b[A\n",
            "Batches:  38%|███▊      | 6/16 [00:01<00:02,  4.94it/s]\u001b[A\n",
            "Batches:  44%|████▍     | 7/16 [00:01<00:01,  4.56it/s]\u001b[A\n",
            "Batches:  50%|█████     | 8/16 [00:01<00:01,  4.52it/s]\u001b[A\n",
            "Batches:  56%|█████▋    | 9/16 [00:01<00:01,  4.55it/s]\u001b[A\n",
            "Batches:  62%|██████▎   | 10/16 [00:02<00:01,  4.64it/s]\u001b[A\n",
            "Batches:  69%|██████▉   | 11/16 [00:02<00:01,  4.67it/s]\u001b[A\n",
            "Batches:  75%|███████▌  | 12/16 [00:02<00:00,  4.89it/s]\u001b[A\n",
            "Batches:  81%|████████▏ | 13/16 [00:02<00:00,  4.54it/s]\u001b[A\n",
            "Batches:  88%|████████▊ | 14/16 [00:02<00:00,  4.41it/s]\u001b[A\n",
            "Batches:  94%|█████████▍| 15/16 [00:03<00:00,  4.27it/s]\u001b[A\n",
            "Batches: 100%|██████████| 16/16 [00:03<00:00,  4.69it/s]\n",
            " 39%|███▉      | 78/200 [04:46<07:29,  3.69s/it]"
          ]
        },
        {
          "output_type": "stream",
          "name": "stdout",
          "text": [
            "cnt:  79\n"
          ]
        },
        {
          "output_type": "stream",
          "name": "stderr",
          "text": [
            "\n",
            "Batches:   0%|          | 0/16 [00:00<?, ?it/s]\u001b[A\n",
            "Batches:  12%|█▎        | 2/16 [00:00<00:01,  9.32it/s]\u001b[A\n",
            "Batches:  19%|█▉        | 3/16 [00:00<00:02,  6.26it/s]\u001b[A\n",
            "Batches:  25%|██▌       | 4/16 [00:00<00:02,  5.71it/s]\u001b[A\n",
            "Batches:  31%|███▏      | 5/16 [00:00<00:02,  4.62it/s]\u001b[A\n",
            "Batches:  38%|███▊      | 6/16 [00:01<00:02,  4.51it/s]\u001b[A\n",
            "Batches:  44%|████▍     | 7/16 [00:01<00:01,  4.59it/s]\u001b[A\n",
            "Batches:  50%|█████     | 8/16 [00:01<00:01,  4.61it/s]\u001b[A\n",
            "Batches:  56%|█████▋    | 9/16 [00:01<00:01,  4.75it/s]\u001b[A\n",
            "Batches:  62%|██████▎   | 10/16 [00:02<00:01,  4.61it/s]\u001b[A\n",
            "Batches:  69%|██████▉   | 11/16 [00:02<00:01,  4.08it/s]\u001b[A\n",
            "Batches:  75%|███████▌  | 12/16 [00:02<00:00,  4.29it/s]\u001b[A\n",
            "Batches:  81%|████████▏ | 13/16 [00:02<00:00,  4.59it/s]\u001b[A\n",
            "Batches:  88%|████████▊ | 14/16 [00:02<00:00,  4.56it/s]\u001b[A\n",
            "Batches:  94%|█████████▍| 15/16 [00:03<00:00,  4.62it/s]\u001b[A\n",
            "Batches: 100%|██████████| 16/16 [00:03<00:00,  4.73it/s]\n",
            " 40%|███▉      | 79/200 [04:50<07:19,  3.64s/it]"
          ]
        },
        {
          "output_type": "stream",
          "name": "stdout",
          "text": [
            "cnt:  80\n"
          ]
        },
        {
          "output_type": "stream",
          "name": "stderr",
          "text": [
            "\n",
            "Batches:   0%|          | 0/16 [00:00<?, ?it/s]\u001b[A\n",
            "Batches:  12%|█▎        | 2/16 [00:00<00:01,  9.57it/s]\u001b[A\n",
            "Batches:  19%|█▉        | 3/16 [00:00<00:02,  6.10it/s]\u001b[A\n",
            "Batches:  25%|██▌       | 4/16 [00:00<00:02,  5.84it/s]\u001b[A\n",
            "Batches:  31%|███▏      | 5/16 [00:00<00:02,  5.26it/s]\u001b[A\n",
            "Batches:  38%|███▊      | 6/16 [00:01<00:01,  5.03it/s]\u001b[A\n",
            "Batches:  44%|████▍     | 7/16 [00:01<00:01,  4.80it/s]\u001b[A\n",
            "Batches:  50%|█████     | 8/16 [00:01<00:01,  4.87it/s]\u001b[A\n",
            "Batches:  56%|█████▋    | 9/16 [00:01<00:01,  4.80it/s]\u001b[A\n",
            "Batches:  62%|██████▎   | 10/16 [00:01<00:01,  4.86it/s]\u001b[A\n",
            "Batches:  69%|██████▉   | 11/16 [00:02<00:01,  4.40it/s]\u001b[A\n",
            "Batches:  75%|███████▌  | 12/16 [00:02<00:00,  4.69it/s]\u001b[A\n",
            "Batches:  81%|████████▏ | 13/16 [00:02<00:00,  4.57it/s]\u001b[A\n",
            "Batches:  88%|████████▊ | 14/16 [00:02<00:00,  4.76it/s]\u001b[A\n",
            "Batches:  94%|█████████▍| 15/16 [00:03<00:00,  4.58it/s]\u001b[A\n",
            "Batches: 100%|██████████| 16/16 [00:03<00:00,  4.90it/s]\n",
            " 40%|████      | 80/200 [04:53<07:06,  3.56s/it]"
          ]
        },
        {
          "output_type": "stream",
          "name": "stdout",
          "text": [
            "cnt:  81\n"
          ]
        },
        {
          "output_type": "stream",
          "name": "stderr",
          "text": [
            "\n",
            "Batches:   0%|          | 0/16 [00:00<?, ?it/s]\u001b[A\n",
            "Batches:  12%|█▎        | 2/16 [00:00<00:01,  9.78it/s]\u001b[A\n",
            "Batches:  19%|█▉        | 3/16 [00:00<00:02,  5.47it/s]\u001b[A\n",
            "Batches:  25%|██▌       | 4/16 [00:00<00:02,  5.45it/s]\u001b[A\n",
            "Batches:  31%|███▏      | 5/16 [00:00<00:02,  4.83it/s]\u001b[A\n",
            "Batches:  38%|███▊      | 6/16 [00:01<00:01,  5.07it/s]\u001b[A\n",
            "Batches:  44%|████▍     | 7/16 [00:01<00:01,  5.21it/s]\u001b[A\n",
            "Batches:  50%|█████     | 8/16 [00:01<00:01,  4.89it/s]\u001b[A\n",
            "Batches:  56%|█████▋    | 9/16 [00:01<00:01,  4.54it/s]\u001b[A\n",
            "Batches:  62%|██████▎   | 10/16 [00:02<00:01,  4.48it/s]\u001b[A\n",
            "Batches:  69%|██████▉   | 11/16 [00:02<00:01,  4.71it/s]\u001b[A\n",
            "Batches:  75%|███████▌  | 12/16 [00:02<00:00,  4.85it/s]\u001b[A\n",
            "Batches:  81%|████████▏ | 13/16 [00:02<00:00,  5.04it/s]\u001b[A\n",
            "Batches:  88%|████████▊ | 14/16 [00:02<00:00,  5.00it/s]\u001b[A\n",
            "Batches:  94%|█████████▍| 15/16 [00:03<00:00,  4.83it/s]\u001b[A\n",
            "Batches: 100%|██████████| 16/16 [00:03<00:00,  4.95it/s]\n",
            " 40%|████      | 81/200 [04:57<06:56,  3.50s/it]"
          ]
        },
        {
          "output_type": "stream",
          "name": "stdout",
          "text": [
            "cnt:  82\n"
          ]
        },
        {
          "output_type": "stream",
          "name": "stderr",
          "text": [
            "\n",
            "Batches:   0%|          | 0/16 [00:00<?, ?it/s]\u001b[A\n",
            "Batches:  12%|█▎        | 2/16 [00:00<00:02,  6.81it/s]\u001b[A\n",
            "Batches:  19%|█▉        | 3/16 [00:00<00:02,  5.08it/s]\u001b[A\n",
            "Batches:  25%|██▌       | 4/16 [00:00<00:02,  5.24it/s]\u001b[A\n",
            "Batches:  31%|███▏      | 5/16 [00:01<00:02,  4.62it/s]\u001b[A\n",
            "Batches:  38%|███▊      | 6/16 [00:01<00:02,  4.41it/s]\u001b[A\n",
            "Batches:  44%|████▍     | 7/16 [00:01<00:02,  4.41it/s]\u001b[A\n",
            "Batches:  50%|█████     | 8/16 [00:01<00:01,  4.27it/s]\u001b[A\n",
            "Batches:  56%|█████▋    | 9/16 [00:01<00:01,  4.30it/s]\u001b[A\n",
            "Batches:  62%|██████▎   | 10/16 [00:02<00:01,  4.35it/s]\u001b[A\n",
            "Batches:  69%|██████▉   | 11/16 [00:02<00:01,  4.45it/s]\u001b[A\n",
            "Batches:  75%|███████▌  | 12/16 [00:02<00:00,  4.51it/s]\u001b[A\n",
            "Batches:  81%|████████▏ | 13/16 [00:02<00:00,  4.48it/s]\u001b[A\n",
            "Batches:  88%|████████▊ | 14/16 [00:03<00:00,  4.02it/s]\u001b[A\n",
            "Batches:  94%|█████████▍| 15/16 [00:03<00:00,  3.95it/s]\u001b[A\n",
            "Batches: 100%|██████████| 16/16 [00:03<00:00,  4.37it/s]\n",
            " 41%|████      | 82/200 [05:00<07:03,  3.59s/it]"
          ]
        },
        {
          "output_type": "stream",
          "name": "stdout",
          "text": [
            "cnt:  83\n"
          ]
        },
        {
          "output_type": "stream",
          "name": "stderr",
          "text": [
            "\n",
            "Batches:   0%|          | 0/16 [00:00<?, ?it/s]\u001b[A\n",
            "Batches:  12%|█▎        | 2/16 [00:00<00:01,  7.63it/s]\u001b[A\n",
            "Batches:  19%|█▉        | 3/16 [00:00<00:01,  6.76it/s]\u001b[A\n",
            "Batches:  25%|██▌       | 4/16 [00:00<00:01,  6.23it/s]\u001b[A\n",
            "Batches:  31%|███▏      | 5/16 [00:00<00:01,  5.58it/s]\u001b[A\n",
            "Batches:  38%|███▊      | 6/16 [00:01<00:01,  5.07it/s]\u001b[A\n",
            "Batches:  44%|████▍     | 7/16 [00:01<00:01,  5.22it/s]\u001b[A\n",
            "Batches:  50%|█████     | 8/16 [00:01<00:01,  5.36it/s]\u001b[A\n",
            "Batches:  56%|█████▋    | 9/16 [00:01<00:01,  5.09it/s]\u001b[A\n",
            "Batches:  62%|██████▎   | 10/16 [00:01<00:01,  4.38it/s]\u001b[A\n",
            "Batches:  69%|██████▉   | 11/16 [00:02<00:01,  4.60it/s]\u001b[A\n",
            "Batches:  75%|███████▌  | 12/16 [00:02<00:00,  4.90it/s]\u001b[A\n",
            "Batches:  81%|████████▏ | 13/16 [00:02<00:00,  4.79it/s]\u001b[A\n",
            "Batches:  88%|████████▊ | 14/16 [00:02<00:00,  4.76it/s]\u001b[A\n",
            "Batches:  94%|█████████▍| 15/16 [00:02<00:00,  4.88it/s]\u001b[A\n",
            "Batches: 100%|██████████| 16/16 [00:03<00:00,  4.93it/s]\n",
            " 42%|████▏     | 83/200 [05:04<06:52,  3.53s/it]"
          ]
        },
        {
          "output_type": "stream",
          "name": "stdout",
          "text": [
            "cnt:  84\n"
          ]
        },
        {
          "output_type": "stream",
          "name": "stderr",
          "text": [
            "\n",
            "Batches:   0%|          | 0/16 [00:00<?, ?it/s]\u001b[A\n",
            "Batches:  12%|█▎        | 2/16 [00:00<00:01,  7.03it/s]\u001b[A\n",
            "Batches:  19%|█▉        | 3/16 [00:00<00:02,  5.76it/s]\u001b[A\n",
            "Batches:  25%|██▌       | 4/16 [00:00<00:02,  5.26it/s]\u001b[A\n",
            "Batches:  31%|███▏      | 5/16 [00:00<00:02,  4.64it/s]\u001b[A\n",
            "Batches:  38%|███▊      | 6/16 [00:01<00:02,  4.38it/s]\u001b[A\n",
            "Batches:  44%|████▍     | 7/16 [00:01<00:02,  4.05it/s]\u001b[A\n",
            "Batches:  50%|█████     | 8/16 [00:01<00:02,  3.86it/s]\u001b[A\n",
            "Batches:  56%|█████▋    | 9/16 [00:02<00:01,  3.74it/s]\u001b[A\n",
            "Batches:  62%|██████▎   | 10/16 [00:02<00:01,  4.16it/s]\u001b[A\n",
            "Batches:  69%|██████▉   | 11/16 [00:02<00:01,  3.92it/s]\u001b[A\n",
            "Batches:  75%|███████▌  | 12/16 [00:02<00:01,  3.82it/s]\u001b[A\n",
            "Batches:  81%|████████▏ | 13/16 [00:03<00:00,  3.58it/s]\u001b[A\n",
            "Batches:  88%|████████▊ | 14/16 [00:03<00:00,  3.66it/s]\u001b[A\n",
            "Batches:  94%|█████████▍| 15/16 [00:03<00:00,  4.07it/s]\u001b[A\n",
            "Batches: 100%|██████████| 16/16 [00:03<00:00,  4.12it/s]\n",
            " 42%|████▏     | 84/200 [05:08<07:06,  3.68s/it]"
          ]
        },
        {
          "output_type": "stream",
          "name": "stdout",
          "text": [
            "cnt:  85\n"
          ]
        },
        {
          "output_type": "stream",
          "name": "stderr",
          "text": [
            "\n",
            "Batches:   0%|          | 0/16 [00:00<?, ?it/s]\u001b[A\n",
            "Batches:  12%|█▎        | 2/16 [00:00<00:01,  7.82it/s]\u001b[A\n",
            "Batches:  19%|█▉        | 3/16 [00:00<00:02,  6.31it/s]\u001b[A\n",
            "Batches:  25%|██▌       | 4/16 [00:00<00:02,  5.55it/s]\u001b[A\n",
            "Batches:  31%|███▏      | 5/16 [00:00<00:02,  5.15it/s]\u001b[A\n",
            "Batches:  38%|███▊      | 6/16 [00:01<00:02,  4.76it/s]\u001b[A\n",
            "Batches:  44%|████▍     | 7/16 [00:01<00:02,  4.23it/s]\u001b[A\n",
            "Batches:  50%|█████     | 8/16 [00:01<00:02,  3.90it/s]\u001b[A\n",
            "Batches:  56%|█████▋    | 9/16 [00:02<00:01,  3.78it/s]\u001b[A\n",
            "Batches:  62%|██████▎   | 10/16 [00:02<00:01,  4.00it/s]\u001b[A\n",
            "Batches:  69%|██████▉   | 11/16 [00:02<00:01,  4.25it/s]\u001b[A\n",
            "Batches:  75%|███████▌  | 12/16 [00:02<00:00,  4.26it/s]\u001b[A\n",
            "Batches:  81%|████████▏ | 13/16 [00:02<00:00,  4.06it/s]\u001b[A\n",
            "Batches:  88%|████████▊ | 14/16 [00:03<00:00,  4.22it/s]\u001b[A\n",
            "Batches:  94%|█████████▍| 15/16 [00:03<00:00,  4.37it/s]\u001b[A\n",
            "Batches: 100%|██████████| 16/16 [00:03<00:00,  4.48it/s]\n",
            " 42%|████▎     | 85/200 [05:12<07:03,  3.68s/it]"
          ]
        },
        {
          "output_type": "stream",
          "name": "stdout",
          "text": [
            "cnt:  86\n"
          ]
        },
        {
          "output_type": "stream",
          "name": "stderr",
          "text": [
            "\n",
            "Batches:   0%|          | 0/16 [00:00<?, ?it/s]\u001b[A\n",
            "Batches:  12%|█▎        | 2/16 [00:00<00:01,  8.24it/s]\u001b[A\n",
            "Batches:  19%|█▉        | 3/16 [00:00<00:02,  6.21it/s]\u001b[A\n",
            "Batches:  25%|██▌       | 4/16 [00:00<00:02,  5.72it/s]\u001b[A\n",
            "Batches:  31%|███▏      | 5/16 [00:00<00:01,  5.65it/s]\u001b[A\n",
            "Batches:  38%|███▊      | 6/16 [00:01<00:02,  5.00it/s]\u001b[A\n",
            "Batches:  44%|████▍     | 7/16 [00:01<00:01,  5.19it/s]\u001b[A\n",
            "Batches:  50%|█████     | 8/16 [00:01<00:01,  5.07it/s]\u001b[A\n",
            "Batches:  56%|█████▋    | 9/16 [00:01<00:01,  4.96it/s]\u001b[A\n",
            "Batches:  62%|██████▎   | 10/16 [00:01<00:01,  5.26it/s]\u001b[A\n",
            "Batches:  69%|██████▉   | 11/16 [00:02<00:01,  4.92it/s]\u001b[A\n",
            "Batches:  75%|███████▌  | 12/16 [00:02<00:00,  5.05it/s]\u001b[A\n",
            "Batches:  81%|████████▏ | 13/16 [00:02<00:00,  4.63it/s]\u001b[A\n",
            "Batches:  88%|████████▊ | 14/16 [00:02<00:00,  4.96it/s]\u001b[A\n",
            "Batches:  94%|█████████▍| 15/16 [00:02<00:00,  5.10it/s]\u001b[A\n",
            "Batches: 100%|██████████| 16/16 [00:03<00:00,  5.21it/s]\n",
            " 43%|████▎     | 86/200 [05:15<06:43,  3.54s/it]"
          ]
        },
        {
          "output_type": "stream",
          "name": "stdout",
          "text": [
            "cnt:  87\n"
          ]
        },
        {
          "output_type": "stream",
          "name": "stderr",
          "text": [
            "\n",
            "Batches:   0%|          | 0/16 [00:00<?, ?it/s]\u001b[A\n",
            "Batches:  12%|█▎        | 2/16 [00:00<00:02,  6.97it/s]\u001b[A\n",
            "Batches:  19%|█▉        | 3/16 [00:00<00:02,  5.20it/s]\u001b[A\n",
            "Batches:  25%|██▌       | 4/16 [00:00<00:02,  5.01it/s]\u001b[A\n",
            "Batches:  31%|███▏      | 5/16 [00:01<00:02,  4.33it/s]\u001b[A\n",
            "Batches:  38%|███▊      | 6/16 [00:01<00:02,  4.31it/s]\u001b[A\n",
            "Batches:  44%|████▍     | 7/16 [00:01<00:02,  4.15it/s]\u001b[A\n",
            "Batches:  50%|█████     | 8/16 [00:01<00:02,  3.95it/s]\u001b[A\n",
            "Batches:  56%|█████▋    | 9/16 [00:02<00:01,  3.83it/s]\u001b[A\n",
            "Batches:  62%|██████▎   | 10/16 [00:02<00:01,  3.65it/s]\u001b[A\n",
            "Batches:  69%|██████▉   | 11/16 [00:02<00:01,  3.65it/s]\u001b[A\n",
            "Batches:  75%|███████▌  | 12/16 [00:02<00:01,  3.81it/s]\u001b[A\n",
            "Batches:  81%|████████▏ | 13/16 [00:03<00:00,  3.75it/s]\u001b[A\n",
            "Batches:  88%|████████▊ | 14/16 [00:03<00:00,  3.78it/s]\u001b[A\n",
            "Batches:  94%|█████████▍| 15/16 [00:03<00:00,  3.93it/s]\u001b[A\n",
            "Batches: 100%|██████████| 16/16 [00:03<00:00,  4.02it/s]\n",
            " 44%|████▎     | 87/200 [05:19<07:02,  3.74s/it]"
          ]
        },
        {
          "output_type": "stream",
          "name": "stdout",
          "text": [
            "cnt:  88\n"
          ]
        },
        {
          "output_type": "stream",
          "name": "stderr",
          "text": [
            "\n",
            "Batches:   0%|          | 0/16 [00:00<?, ?it/s]\u001b[A\n",
            "Batches:  12%|█▎        | 2/16 [00:00<00:01,  8.05it/s]\u001b[A\n",
            "Batches:  19%|█▉        | 3/16 [00:00<00:02,  5.54it/s]\u001b[A\n",
            "Batches:  25%|██▌       | 4/16 [00:00<00:02,  4.87it/s]\u001b[A\n",
            "Batches:  31%|███▏      | 5/16 [00:00<00:02,  4.94it/s]\u001b[A\n",
            "Batches:  38%|███▊      | 6/16 [00:01<00:01,  5.01it/s]\u001b[A\n",
            "Batches:  44%|████▍     | 7/16 [00:01<00:01,  5.17it/s]\u001b[A\n",
            "Batches:  50%|█████     | 8/16 [00:01<00:01,  5.02it/s]\u001b[A\n",
            "Batches:  56%|█████▋    | 9/16 [00:01<00:01,  5.22it/s]\u001b[A\n",
            "Batches:  62%|██████▎   | 10/16 [00:01<00:01,  5.20it/s]\u001b[A\n",
            "Batches:  69%|██████▉   | 11/16 [00:02<00:01,  4.58it/s]\u001b[A\n",
            "Batches:  75%|███████▌  | 12/16 [00:02<00:00,  4.34it/s]\u001b[A\n",
            "Batches:  81%|████████▏ | 13/16 [00:02<00:00,  4.44it/s]\u001b[A\n",
            "Batches:  88%|████████▊ | 14/16 [00:02<00:00,  4.33it/s]\u001b[A\n",
            "Batches:  94%|█████████▍| 15/16 [00:03<00:00,  4.37it/s]\u001b[A\n",
            "Batches: 100%|██████████| 16/16 [00:03<00:00,  4.79it/s]\n",
            " 44%|████▍     | 88/200 [05:22<06:50,  3.66s/it]"
          ]
        },
        {
          "output_type": "stream",
          "name": "stdout",
          "text": [
            "cnt:  89\n"
          ]
        },
        {
          "output_type": "stream",
          "name": "stderr",
          "text": [
            "\n",
            "Batches:   0%|          | 0/16 [00:00<?, ?it/s]\u001b[A\n",
            "Batches:  12%|█▎        | 2/16 [00:00<00:01,  8.41it/s]\u001b[A\n",
            "Batches:  19%|█▉        | 3/16 [00:00<00:01,  6.62it/s]\u001b[A\n",
            "Batches:  25%|██▌       | 4/16 [00:00<00:02,  5.98it/s]\u001b[A\n",
            "Batches:  31%|███▏      | 5/16 [00:00<00:02,  5.47it/s]\u001b[A\n",
            "Batches:  38%|███▊      | 6/16 [00:01<00:01,  5.29it/s]\u001b[A\n",
            "Batches:  44%|████▍     | 7/16 [00:01<00:01,  5.04it/s]\u001b[A\n",
            "Batches:  50%|█████     | 8/16 [00:01<00:01,  5.22it/s]\u001b[A\n",
            "Batches:  56%|█████▋    | 9/16 [00:01<00:01,  5.40it/s]\u001b[A\n",
            "Batches:  62%|██████▎   | 10/16 [00:01<00:01,  5.50it/s]\u001b[A\n",
            "Batches:  69%|██████▉   | 11/16 [00:01<00:00,  5.25it/s]\u001b[A\n",
            "Batches:  75%|███████▌  | 12/16 [00:02<00:00,  5.07it/s]\u001b[A\n",
            "Batches:  81%|████████▏ | 13/16 [00:02<00:00,  4.84it/s]\u001b[A\n",
            "Batches:  88%|████████▊ | 14/16 [00:02<00:00,  5.03it/s]\u001b[A\n",
            "Batches:  94%|█████████▍| 15/16 [00:02<00:00,  4.76it/s]\u001b[A\n",
            "Batches: 100%|██████████| 16/16 [00:03<00:00,  5.27it/s]\n",
            " 44%|████▍     | 89/200 [05:26<06:30,  3.52s/it]"
          ]
        },
        {
          "output_type": "stream",
          "name": "stdout",
          "text": [
            "cnt:  90\n"
          ]
        },
        {
          "output_type": "stream",
          "name": "stderr",
          "text": [
            "\n",
            "Batches:   0%|          | 0/16 [00:00<?, ?it/s]\u001b[A\n",
            "Batches:  12%|█▎        | 2/16 [00:00<00:01,  7.76it/s]\u001b[A\n",
            "Batches:  19%|█▉        | 3/16 [00:00<00:02,  5.16it/s]\u001b[A\n",
            "Batches:  25%|██▌       | 4/16 [00:00<00:02,  4.98it/s]\u001b[A\n",
            "Batches:  31%|███▏      | 5/16 [00:00<00:02,  4.69it/s]\u001b[A\n",
            "Batches:  38%|███▊      | 6/16 [00:01<00:02,  4.59it/s]\u001b[A\n",
            "Batches:  44%|████▍     | 7/16 [00:01<00:02,  4.13it/s]\u001b[A\n",
            "Batches:  50%|█████     | 8/16 [00:01<00:01,  4.13it/s]\u001b[A\n",
            "Batches:  56%|█████▋    | 9/16 [00:02<00:01,  3.79it/s]\u001b[A\n",
            "Batches:  62%|██████▎   | 10/16 [00:02<00:01,  3.96it/s]\u001b[A\n",
            "Batches:  69%|██████▉   | 11/16 [00:02<00:01,  4.11it/s]\u001b[A\n",
            "Batches:  75%|███████▌  | 12/16 [00:02<00:00,  4.19it/s]\u001b[A\n",
            "Batches:  81%|████████▏ | 13/16 [00:03<00:00,  3.96it/s]\u001b[A\n",
            "Batches:  88%|████████▊ | 14/16 [00:03<00:00,  3.76it/s]\u001b[A\n",
            "Batches:  94%|█████████▍| 15/16 [00:03<00:00,  4.01it/s]\u001b[A\n",
            "Batches: 100%|██████████| 16/16 [00:03<00:00,  4.22it/s]\n",
            " 45%|████▌     | 90/200 [05:30<06:43,  3.67s/it]"
          ]
        },
        {
          "output_type": "stream",
          "name": "stdout",
          "text": [
            "cnt:  91\n"
          ]
        },
        {
          "output_type": "stream",
          "name": "stderr",
          "text": [
            "\n",
            "Batches:   0%|          | 0/16 [00:00<?, ?it/s]\u001b[A\n",
            "Batches:  12%|█▎        | 2/16 [00:00<00:01,  8.12it/s]\u001b[A\n",
            "Batches:  19%|█▉        | 3/16 [00:00<00:01,  6.83it/s]\u001b[A\n",
            "Batches:  25%|██▌       | 4/16 [00:00<00:02,  5.07it/s]\u001b[A\n",
            "Batches:  31%|███▏      | 5/16 [00:01<00:02,  4.23it/s]\u001b[A\n",
            "Batches:  38%|███▊      | 6/16 [00:01<00:02,  4.35it/s]\u001b[A\n",
            "Batches:  44%|████▍     | 7/16 [00:01<00:02,  4.46it/s]\u001b[A\n",
            "Batches:  50%|█████     | 8/16 [00:01<00:01,  4.52it/s]\u001b[A\n",
            "Batches:  56%|█████▋    | 9/16 [00:01<00:01,  4.45it/s]\u001b[A\n",
            "Batches:  62%|██████▎   | 10/16 [00:02<00:01,  4.57it/s]\u001b[A\n",
            "Batches:  69%|██████▉   | 11/16 [00:02<00:01,  4.66it/s]\u001b[A\n",
            "Batches:  75%|███████▌  | 12/16 [00:02<00:00,  4.57it/s]\u001b[A\n",
            "Batches:  81%|████████▏ | 13/16 [00:02<00:00,  4.70it/s]\u001b[A\n",
            "Batches:  88%|████████▊ | 14/16 [00:02<00:00,  4.43it/s]\u001b[A\n",
            "Batches:  94%|█████████▍| 15/16 [00:03<00:00,  4.42it/s]\u001b[A\n",
            "Batches: 100%|██████████| 16/16 [00:03<00:00,  4.66it/s]\n",
            " 46%|████▌     | 91/200 [05:33<06:36,  3.63s/it]"
          ]
        },
        {
          "output_type": "stream",
          "name": "stdout",
          "text": [
            "cnt:  92\n"
          ]
        },
        {
          "output_type": "stream",
          "name": "stderr",
          "text": [
            "\n",
            "Batches:   0%|          | 0/16 [00:00<?, ?it/s]\u001b[A\n",
            "Batches:  12%|█▎        | 2/16 [00:00<00:02,  6.67it/s]\u001b[A\n",
            "Batches:  19%|█▉        | 3/16 [00:00<00:02,  5.61it/s]\u001b[A\n",
            "Batches:  25%|██▌       | 4/16 [00:00<00:02,  5.38it/s]\u001b[A\n",
            "Batches:  31%|███▏      | 5/16 [00:00<00:02,  4.93it/s]\u001b[A\n",
            "Batches:  38%|███▊      | 6/16 [00:01<00:02,  4.82it/s]\u001b[A\n",
            "Batches:  44%|████▍     | 7/16 [00:01<00:01,  4.71it/s]\u001b[A\n",
            "Batches:  50%|█████     | 8/16 [00:01<00:01,  4.77it/s]\u001b[A\n",
            "Batches:  56%|█████▋    | 9/16 [00:01<00:01,  4.15it/s]\u001b[A\n",
            "Batches:  62%|██████▎   | 10/16 [00:02<00:01,  3.94it/s]\u001b[A\n",
            "Batches:  69%|██████▉   | 11/16 [00:02<00:01,  4.31it/s]\u001b[A\n",
            "Batches:  75%|███████▌  | 12/16 [00:02<00:01,  3.95it/s]\u001b[A\n",
            "Batches:  81%|████████▏ | 13/16 [00:02<00:00,  4.03it/s]\u001b[A\n",
            "Batches:  88%|████████▊ | 14/16 [00:03<00:00,  4.19it/s]\u001b[A\n",
            "Batches:  94%|█████████▍| 15/16 [00:03<00:00,  4.29it/s]\u001b[A\n",
            "Batches: 100%|██████████| 16/16 [00:03<00:00,  4.46it/s]\n",
            " 46%|████▌     | 92/200 [05:37<06:36,  3.67s/it]"
          ]
        },
        {
          "output_type": "stream",
          "name": "stdout",
          "text": [
            "cnt:  93\n"
          ]
        },
        {
          "output_type": "stream",
          "name": "stderr",
          "text": [
            "\n",
            "Batches:   0%|          | 0/16 [00:00<?, ?it/s]\u001b[A\n",
            "Batches:  12%|█▎        | 2/16 [00:00<00:01,  7.46it/s]\u001b[A\n",
            "Batches:  19%|█▉        | 3/16 [00:00<00:02,  5.97it/s]\u001b[A\n",
            "Batches:  25%|██▌       | 4/16 [00:00<00:01,  6.03it/s]\u001b[A\n",
            "Batches:  31%|███▏      | 5/16 [00:00<00:02,  5.44it/s]\u001b[A\n",
            "Batches:  38%|███▊      | 6/16 [00:01<00:02,  4.84it/s]\u001b[A\n",
            "Batches:  44%|████▍     | 7/16 [00:01<00:01,  4.84it/s]\u001b[A\n",
            "Batches:  50%|█████     | 8/16 [00:01<00:01,  5.13it/s]\u001b[A\n",
            "Batches:  56%|█████▋    | 9/16 [00:01<00:01,  5.25it/s]\u001b[A\n",
            "Batches:  62%|██████▎   | 10/16 [00:01<00:01,  5.14it/s]\u001b[A\n",
            "Batches:  69%|██████▉   | 11/16 [00:02<00:00,  5.03it/s]\u001b[A\n",
            "Batches:  75%|███████▌  | 12/16 [00:02<00:00,  5.15it/s]\u001b[A\n",
            "Batches:  81%|████████▏ | 13/16 [00:02<00:00,  5.06it/s]\u001b[A\n",
            "Batches:  88%|████████▊ | 14/16 [00:02<00:00,  5.15it/s]\u001b[A\n",
            "Batches:  94%|█████████▍| 15/16 [00:02<00:00,  5.13it/s]\u001b[A\n",
            "Batches: 100%|██████████| 16/16 [00:03<00:00,  5.16it/s]\n",
            " 46%|████▋     | 93/200 [05:40<06:18,  3.54s/it]"
          ]
        },
        {
          "output_type": "stream",
          "name": "stdout",
          "text": [
            "cnt:  94\n"
          ]
        },
        {
          "output_type": "stream",
          "name": "stderr",
          "text": [
            "\n",
            "Batches:   0%|          | 0/16 [00:00<?, ?it/s]\u001b[A\n",
            "Batches:  12%|█▎        | 2/16 [00:00<00:02,  6.68it/s]\u001b[A\n",
            "Batches:  19%|█▉        | 3/16 [00:00<00:02,  5.89it/s]\u001b[A\n",
            "Batches:  25%|██▌       | 4/16 [00:00<00:02,  5.77it/s]\u001b[A\n",
            "Batches:  31%|███▏      | 5/16 [00:00<00:02,  5.15it/s]\u001b[A\n",
            "Batches:  38%|███▊      | 6/16 [00:01<00:02,  4.40it/s]\u001b[A\n",
            "Batches:  44%|████▍     | 7/16 [00:01<00:01,  4.61it/s]\u001b[A\n",
            "Batches:  50%|█████     | 8/16 [00:01<00:01,  4.57it/s]\u001b[A\n",
            "Batches:  56%|█████▋    | 9/16 [00:01<00:01,  4.62it/s]\u001b[A\n",
            "Batches:  62%|██████▎   | 10/16 [00:02<00:01,  3.97it/s]\u001b[A\n",
            "Batches:  69%|██████▉   | 11/16 [00:02<00:01,  4.16it/s]\u001b[A\n",
            "Batches:  75%|███████▌  | 12/16 [00:02<00:00,  4.08it/s]\u001b[A\n",
            "Batches:  81%|████████▏ | 13/16 [00:02<00:00,  4.16it/s]\u001b[A\n",
            "Batches:  88%|████████▊ | 14/16 [00:03<00:00,  3.77it/s]\u001b[A\n",
            "Batches:  94%|█████████▍| 15/16 [00:03<00:00,  4.03it/s]\u001b[A\n",
            "Batches: 100%|██████████| 16/16 [00:03<00:00,  4.37it/s]\n",
            " 47%|████▋     | 94/200 [05:44<06:24,  3.63s/it]"
          ]
        },
        {
          "output_type": "stream",
          "name": "stdout",
          "text": [
            "cnt:  95\n"
          ]
        },
        {
          "output_type": "stream",
          "name": "stderr",
          "text": [
            "\n",
            "Batches:   0%|          | 0/16 [00:00<?, ?it/s]\u001b[A\n",
            "Batches:  12%|█▎        | 2/16 [00:00<00:01, 10.10it/s]\u001b[A\n",
            "Batches:  25%|██▌       | 4/16 [00:00<00:01,  6.98it/s]\u001b[A\n",
            "Batches:  31%|███▏      | 5/16 [00:00<00:01,  6.55it/s]\u001b[A\n",
            "Batches:  38%|███▊      | 6/16 [00:00<00:01,  5.59it/s]\u001b[A\n",
            "Batches:  44%|████▍     | 7/16 [00:01<00:01,  5.48it/s]\u001b[A\n",
            "Batches:  50%|█████     | 8/16 [00:01<00:01,  5.59it/s]\u001b[A\n",
            "Batches:  56%|█████▋    | 9/16 [00:01<00:01,  5.60it/s]\u001b[A\n",
            "Batches:  62%|██████▎   | 10/16 [00:01<00:01,  5.81it/s]\u001b[A\n",
            "Batches:  69%|██████▉   | 11/16 [00:01<00:00,  5.90it/s]\u001b[A\n",
            "Batches:  75%|███████▌  | 12/16 [00:02<00:00,  5.74it/s]\u001b[A\n",
            "Batches:  81%|████████▏ | 13/16 [00:02<00:00,  4.99it/s]\u001b[A\n",
            "Batches:  88%|████████▊ | 14/16 [00:02<00:00,  5.14it/s]\u001b[A\n",
            "Batches:  94%|█████████▍| 15/16 [00:02<00:00,  5.43it/s]\u001b[A\n",
            "Batches: 100%|██████████| 16/16 [00:02<00:00,  5.67it/s]\n",
            " 48%|████▊     | 95/200 [05:47<05:59,  3.42s/it]"
          ]
        },
        {
          "output_type": "stream",
          "name": "stdout",
          "text": [
            "cnt:  96\n"
          ]
        },
        {
          "output_type": "stream",
          "name": "stderr",
          "text": [
            "\n",
            "Batches:   0%|          | 0/16 [00:00<?, ?it/s]\u001b[A\n",
            "Batches:  12%|█▎        | 2/16 [00:00<00:01,  9.58it/s]\u001b[A\n",
            "Batches:  19%|█▉        | 3/16 [00:00<00:01,  6.97it/s]\u001b[A\n",
            "Batches:  25%|██▌       | 4/16 [00:00<00:02,  5.90it/s]\u001b[A\n",
            "Batches:  31%|███▏      | 5/16 [00:00<00:01,  5.56it/s]\u001b[A\n",
            "Batches:  38%|███▊      | 6/16 [00:01<00:01,  5.17it/s]\u001b[A\n",
            "Batches:  44%|████▍     | 7/16 [00:01<00:01,  5.29it/s]\u001b[A\n",
            "Batches:  50%|█████     | 8/16 [00:01<00:01,  5.42it/s]\u001b[A\n",
            "Batches:  56%|█████▋    | 9/16 [00:01<00:01,  5.52it/s]\u001b[A\n",
            "Batches:  62%|██████▎   | 10/16 [00:01<00:01,  4.84it/s]\u001b[A\n",
            "Batches:  69%|██████▉   | 11/16 [00:02<00:01,  4.14it/s]\u001b[A\n",
            "Batches:  75%|███████▌  | 12/16 [00:02<00:00,  4.01it/s]\u001b[A\n",
            "Batches:  81%|████████▏ | 13/16 [00:02<00:00,  3.85it/s]\u001b[A\n",
            "Batches:  88%|████████▊ | 14/16 [00:02<00:00,  3.99it/s]\u001b[A\n",
            "Batches:  94%|█████████▍| 15/16 [00:03<00:00,  3.99it/s]\u001b[A\n",
            "Batches: 100%|██████████| 16/16 [00:03<00:00,  4.76it/s]\n",
            " 48%|████▊     | 96/200 [05:50<05:57,  3.44s/it]"
          ]
        },
        {
          "output_type": "stream",
          "name": "stdout",
          "text": [
            "cnt:  97\n"
          ]
        },
        {
          "output_type": "stream",
          "name": "stderr",
          "text": [
            "\n",
            "Batches:   0%|          | 0/16 [00:00<?, ?it/s]\u001b[A\n",
            "Batches:  12%|█▎        | 2/16 [00:00<00:02,  6.61it/s]\u001b[A\n",
            "Batches:  19%|█▉        | 3/16 [00:00<00:02,  5.77it/s]\u001b[A\n",
            "Batches:  25%|██▌       | 4/16 [00:00<00:02,  5.51it/s]\u001b[A\n",
            "Batches:  31%|███▏      | 5/16 [00:00<00:02,  4.73it/s]\u001b[A\n",
            "Batches:  38%|███▊      | 6/16 [00:01<00:02,  4.87it/s]\u001b[A\n",
            "Batches:  44%|████▍     | 7/16 [00:01<00:01,  4.93it/s]\u001b[A\n",
            "Batches:  50%|█████     | 8/16 [00:01<00:01,  5.00it/s]\u001b[A\n",
            "Batches:  56%|█████▋    | 9/16 [00:01<00:01,  5.04it/s]\u001b[A\n",
            "Batches:  62%|██████▎   | 10/16 [00:01<00:01,  4.96it/s]\u001b[A\n",
            "Batches:  69%|██████▉   | 11/16 [00:02<00:01,  4.49it/s]\u001b[A\n",
            "Batches:  75%|███████▌  | 12/16 [00:02<00:00,  4.57it/s]\u001b[A\n",
            "Batches:  81%|████████▏ | 13/16 [00:02<00:00,  4.53it/s]\u001b[A\n",
            "Batches:  88%|████████▊ | 14/16 [00:02<00:00,  4.71it/s]\u001b[A\n",
            "Batches:  94%|█████████▍| 15/16 [00:03<00:00,  4.53it/s]\u001b[A\n",
            "Batches: 100%|██████████| 16/16 [00:03<00:00,  4.82it/s]\n",
            " 48%|████▊     | 97/200 [05:54<05:54,  3.44s/it]"
          ]
        },
        {
          "output_type": "stream",
          "name": "stdout",
          "text": [
            "cnt:  98\n"
          ]
        },
        {
          "output_type": "stream",
          "name": "stderr",
          "text": [
            "\n",
            "Batches:   0%|          | 0/16 [00:00<?, ?it/s]\u001b[A\n",
            "Batches:  12%|█▎        | 2/16 [00:00<00:01,  7.07it/s]\u001b[A\n",
            "Batches:  19%|█▉        | 3/16 [00:00<00:02,  5.25it/s]\u001b[A\n",
            "Batches:  25%|██▌       | 4/16 [00:00<00:02,  4.90it/s]\u001b[A\n",
            "Batches:  31%|███▏      | 5/16 [00:01<00:02,  3.98it/s]\u001b[A\n",
            "Batches:  38%|███▊      | 6/16 [00:01<00:02,  4.45it/s]\u001b[A\n",
            "Batches:  44%|████▍     | 7/16 [00:01<00:01,  4.76it/s]\u001b[A\n",
            "Batches:  50%|█████     | 8/16 [00:01<00:01,  4.71it/s]\u001b[A\n",
            "Batches:  56%|█████▋    | 9/16 [00:01<00:01,  4.72it/s]\u001b[A\n",
            "Batches:  62%|██████▎   | 10/16 [00:02<00:01,  4.19it/s]\u001b[A\n",
            "Batches:  69%|██████▉   | 11/16 [00:02<00:01,  4.30it/s]\u001b[A\n",
            "Batches:  75%|███████▌  | 12/16 [00:02<00:00,  4.20it/s]\u001b[A\n",
            "Batches:  81%|████████▏ | 13/16 [00:02<00:00,  4.41it/s]\u001b[A\n",
            "Batches:  88%|████████▊ | 14/16 [00:03<00:00,  4.15it/s]\u001b[A\n",
            "Batches:  94%|█████████▍| 15/16 [00:03<00:00,  4.08it/s]\u001b[A\n",
            "Batches: 100%|██████████| 16/16 [00:03<00:00,  4.45it/s]\n",
            " 49%|████▉     | 98/200 [05:58<05:59,  3.52s/it]"
          ]
        },
        {
          "output_type": "stream",
          "name": "stdout",
          "text": [
            "cnt:  99\n"
          ]
        },
        {
          "output_type": "stream",
          "name": "stderr",
          "text": [
            "\n",
            "Batches:   0%|          | 0/16 [00:00<?, ?it/s]\u001b[A\n",
            "Batches:  12%|█▎        | 2/16 [00:00<00:01,  7.06it/s]\u001b[A\n",
            "Batches:  19%|█▉        | 3/16 [00:00<00:02,  5.03it/s]\u001b[A\n",
            "Batches:  25%|██▌       | 4/16 [00:00<00:02,  4.22it/s]\u001b[A\n",
            "Batches:  31%|███▏      | 5/16 [00:01<00:02,  4.26it/s]\u001b[A\n",
            "Batches:  38%|███▊      | 6/16 [00:01<00:02,  4.16it/s]\u001b[A\n",
            "Batches:  44%|████▍     | 7/16 [00:01<00:02,  4.10it/s]\u001b[A\n",
            "Batches:  50%|█████     | 8/16 [00:01<00:01,  4.54it/s]\u001b[A\n",
            "Batches:  56%|█████▋    | 9/16 [00:02<00:01,  4.15it/s]\u001b[A\n",
            "Batches:  62%|██████▎   | 10/16 [00:02<00:01,  4.11it/s]\u001b[A\n",
            "Batches:  69%|██████▉   | 11/16 [00:02<00:01,  4.24it/s]\u001b[A\n",
            "Batches:  75%|███████▌  | 12/16 [00:02<00:00,  4.16it/s]\u001b[A\n",
            "Batches:  81%|████████▏ | 13/16 [00:03<00:00,  4.09it/s]\u001b[A\n",
            "Batches:  88%|████████▊ | 14/16 [00:03<00:00,  3.98it/s]\u001b[A\n",
            "Batches:  94%|█████████▍| 15/16 [00:03<00:00,  4.06it/s]\u001b[A\n",
            "Batches: 100%|██████████| 16/16 [00:03<00:00,  4.21it/s]\n",
            " 50%|████▉     | 99/200 [06:02<06:09,  3.66s/it]"
          ]
        },
        {
          "output_type": "stream",
          "name": "stdout",
          "text": [
            "cnt:  100\n"
          ]
        },
        {
          "output_type": "stream",
          "name": "stderr",
          "text": [
            "\n",
            "Batches:   0%|          | 0/16 [00:00<?, ?it/s]\u001b[A\n",
            "Batches:  12%|█▎        | 2/16 [00:00<00:02,  5.89it/s]\u001b[A\n",
            "Batches:  19%|█▉        | 3/16 [00:00<00:02,  5.46it/s]\u001b[A\n",
            "Batches:  25%|██▌       | 4/16 [00:00<00:02,  5.27it/s]\u001b[A\n",
            "Batches:  31%|███▏      | 5/16 [00:00<00:02,  4.82it/s]\u001b[A\n",
            "Batches:  38%|███▊      | 6/16 [00:01<00:02,  4.88it/s]\u001b[A\n",
            "Batches:  44%|████▍     | 7/16 [00:01<00:02,  4.25it/s]\u001b[A\n",
            "Batches:  50%|█████     | 8/16 [00:01<00:01,  4.60it/s]\u001b[A\n",
            "Batches:  56%|█████▋    | 9/16 [00:01<00:01,  4.23it/s]\u001b[A\n",
            "Batches:  62%|██████▎   | 10/16 [00:02<00:01,  4.46it/s]\u001b[A\n",
            "Batches:  69%|██████▉   | 11/16 [00:02<00:01,  4.84it/s]\u001b[A\n",
            "Batches:  75%|███████▌  | 12/16 [00:02<00:00,  4.90it/s]\u001b[A\n",
            "Batches:  81%|████████▏ | 13/16 [00:02<00:00,  5.03it/s]\u001b[A\n",
            "Batches:  88%|████████▊ | 14/16 [00:02<00:00,  5.07it/s]\u001b[A\n",
            "Batches:  94%|█████████▍| 15/16 [00:03<00:00,  5.12it/s]\u001b[A\n",
            "Batches: 100%|██████████| 16/16 [00:03<00:00,  4.88it/s]\n",
            " 50%|█████     | 100/200 [06:05<05:58,  3.59s/it]"
          ]
        },
        {
          "output_type": "stream",
          "name": "stdout",
          "text": [
            "cnt:  101\n"
          ]
        },
        {
          "output_type": "stream",
          "name": "stderr",
          "text": [
            "\n",
            "Batches:   0%|          | 0/16 [00:00<?, ?it/s]\u001b[A\n",
            "Batches:  12%|█▎        | 2/16 [00:00<00:01,  7.85it/s]\u001b[A\n",
            "Batches:  19%|█▉        | 3/16 [00:00<00:01,  6.66it/s]\u001b[A\n",
            "Batches:  25%|██▌       | 4/16 [00:00<00:01,  6.03it/s]\u001b[A\n",
            "Batches:  31%|███▏      | 5/16 [00:00<00:01,  5.91it/s]\u001b[A\n",
            "Batches:  38%|███▊      | 6/16 [00:01<00:01,  5.12it/s]\u001b[A\n",
            "Batches:  44%|████▍     | 7/16 [00:01<00:01,  5.11it/s]\u001b[A\n",
            "Batches:  50%|█████     | 8/16 [00:01<00:01,  4.99it/s]\u001b[A\n",
            "Batches:  56%|█████▋    | 9/16 [00:01<00:01,  4.75it/s]\u001b[A\n",
            "Batches:  62%|██████▎   | 10/16 [00:01<00:01,  4.63it/s]\u001b[A\n",
            "Batches:  69%|██████▉   | 11/16 [00:02<00:01,  4.64it/s]\u001b[A\n",
            "Batches:  75%|███████▌  | 12/16 [00:02<00:00,  4.84it/s]\u001b[A\n",
            "Batches:  81%|████████▏ | 13/16 [00:02<00:00,  4.51it/s]\u001b[A\n",
            "Batches:  88%|████████▊ | 14/16 [00:02<00:00,  4.75it/s]\u001b[A\n",
            "Batches:  94%|█████████▍| 15/16 [00:03<00:00,  4.27it/s]\u001b[A\n",
            "Batches: 100%|██████████| 16/16 [00:03<00:00,  4.94it/s]\n",
            " 50%|█████     | 101/200 [06:08<05:50,  3.54s/it]"
          ]
        },
        {
          "output_type": "stream",
          "name": "stdout",
          "text": [
            "cnt:  102\n"
          ]
        },
        {
          "output_type": "stream",
          "name": "stderr",
          "text": [
            "\n",
            "Batches:   0%|          | 0/16 [00:00<?, ?it/s]\u001b[A\n",
            "Batches:  12%|█▎        | 2/16 [00:00<00:01,  8.62it/s]\u001b[A\n",
            "Batches:  19%|█▉        | 3/16 [00:00<00:01,  7.76it/s]\u001b[A\n",
            "Batches:  25%|██▌       | 4/16 [00:00<00:02,  5.80it/s]\u001b[A\n",
            "Batches:  31%|███▏      | 5/16 [00:00<00:02,  5.18it/s]\u001b[A\n",
            "Batches:  38%|███▊      | 6/16 [00:01<00:02,  4.54it/s]\u001b[A\n",
            "Batches:  44%|████▍     | 7/16 [00:01<00:01,  4.81it/s]\u001b[A\n",
            "Batches:  50%|█████     | 8/16 [00:01<00:01,  5.55it/s]\u001b[A\n",
            "Batches:  56%|█████▋    | 9/16 [00:01<00:01,  4.71it/s]\u001b[A\n",
            "Batches:  62%|██████▎   | 10/16 [00:02<00:01,  4.15it/s]\u001b[A\n",
            "Batches:  69%|██████▉   | 11/16 [00:02<00:01,  4.49it/s]\u001b[A\n",
            "Batches:  75%|███████▌  | 12/16 [00:02<00:00,  4.59it/s]\u001b[A\n",
            "Batches:  81%|████████▏ | 13/16 [00:02<00:00,  4.68it/s]\u001b[A\n",
            "Batches:  88%|████████▊ | 14/16 [00:02<00:00,  4.85it/s]\u001b[A\n",
            "Batches:  94%|█████████▍| 15/16 [00:02<00:00,  5.00it/s]\u001b[A\n",
            "Batches: 100%|██████████| 16/16 [00:03<00:00,  4.99it/s]\n",
            " 51%|█████     | 102/200 [06:12<05:41,  3.48s/it]"
          ]
        },
        {
          "output_type": "stream",
          "name": "stdout",
          "text": [
            "cnt:  103\n"
          ]
        },
        {
          "output_type": "stream",
          "name": "stderr",
          "text": [
            "\n",
            "Batches:   0%|          | 0/16 [00:00<?, ?it/s]\u001b[A\n",
            "Batches:  12%|█▎        | 2/16 [00:00<00:01,  9.40it/s]\u001b[A\n",
            "Batches:  19%|█▉        | 3/16 [00:00<00:02,  5.69it/s]\u001b[A\n",
            "Batches:  25%|██▌       | 4/16 [00:00<00:02,  5.54it/s]\u001b[A\n",
            "Batches:  31%|███▏      | 5/16 [00:00<00:02,  5.07it/s]\u001b[A\n",
            "Batches:  38%|███▊      | 6/16 [00:01<00:02,  4.34it/s]\u001b[A\n",
            "Batches:  44%|████▍     | 7/16 [00:01<00:02,  4.32it/s]\u001b[A\n",
            "Batches:  50%|█████     | 8/16 [00:01<00:01,  4.42it/s]\u001b[A\n",
            "Batches:  56%|█████▋    | 9/16 [00:01<00:01,  4.50it/s]\u001b[A\n",
            "Batches:  62%|██████▎   | 10/16 [00:02<00:01,  4.49it/s]\u001b[A\n",
            "Batches:  69%|██████▉   | 11/16 [00:02<00:01,  4.64it/s]\u001b[A\n",
            "Batches:  75%|███████▌  | 12/16 [00:02<00:00,  4.51it/s]\u001b[A\n",
            "Batches:  81%|████████▏ | 13/16 [00:02<00:00,  4.52it/s]\u001b[A\n",
            "Batches:  88%|████████▊ | 14/16 [00:02<00:00,  4.55it/s]\u001b[A\n",
            "Batches:  94%|█████████▍| 15/16 [00:03<00:00,  4.27it/s]\u001b[A\n",
            "Batches: 100%|██████████| 16/16 [00:03<00:00,  4.57it/s]\n",
            " 52%|█████▏    | 103/200 [06:15<05:42,  3.53s/it]"
          ]
        },
        {
          "output_type": "stream",
          "name": "stdout",
          "text": [
            "cnt:  104\n"
          ]
        },
        {
          "output_type": "stream",
          "name": "stderr",
          "text": [
            "\n",
            "Batches:   0%|          | 0/16 [00:00<?, ?it/s]\u001b[A\n",
            "Batches:  12%|█▎        | 2/16 [00:00<00:01,  9.29it/s]\u001b[A\n",
            "Batches:  19%|█▉        | 3/16 [00:00<00:01,  6.86it/s]\u001b[A\n",
            "Batches:  25%|██▌       | 4/16 [00:00<00:02,  5.92it/s]\u001b[A\n",
            "Batches:  31%|███▏      | 5/16 [00:00<00:02,  5.43it/s]\u001b[A\n",
            "Batches:  38%|███▊      | 6/16 [00:01<00:01,  5.17it/s]\u001b[A\n",
            "Batches:  44%|████▍     | 7/16 [00:01<00:01,  4.61it/s]\u001b[A\n",
            "Batches:  50%|█████     | 8/16 [00:01<00:01,  4.51it/s]\u001b[A\n",
            "Batches:  56%|█████▋    | 9/16 [00:01<00:01,  4.28it/s]\u001b[A\n",
            "Batches:  62%|██████▎   | 10/16 [00:02<00:01,  4.28it/s]\u001b[A\n",
            "Batches:  69%|██████▉   | 11/16 [00:02<00:01,  4.29it/s]\u001b[A\n",
            "Batches:  75%|███████▌  | 12/16 [00:02<00:00,  4.65it/s]\u001b[A\n",
            "Batches:  81%|████████▏ | 13/16 [00:02<00:00,  4.81it/s]\u001b[A\n",
            "Batches:  88%|████████▊ | 14/16 [00:02<00:00,  4.66it/s]\u001b[A\n",
            "Batches:  94%|█████████▍| 15/16 [00:03<00:00,  4.77it/s]\u001b[A\n",
            "Batches: 100%|██████████| 16/16 [00:03<00:00,  4.86it/s]\n",
            " 52%|█████▏    | 104/200 [06:19<05:36,  3.50s/it]"
          ]
        },
        {
          "output_type": "stream",
          "name": "stdout",
          "text": [
            "cnt:  105\n"
          ]
        },
        {
          "output_type": "stream",
          "name": "stderr",
          "text": [
            "\n",
            "Batches:   0%|          | 0/16 [00:00<?, ?it/s]\u001b[A\n",
            "Batches:  12%|█▎        | 2/16 [00:00<00:01,  7.36it/s]\u001b[A\n",
            "Batches:  19%|█▉        | 3/16 [00:00<00:02,  5.38it/s]\u001b[A\n",
            "Batches:  25%|██▌       | 4/16 [00:00<00:02,  4.76it/s]\u001b[A\n",
            "Batches:  31%|███▏      | 5/16 [00:01<00:02,  4.68it/s]\u001b[A\n",
            "Batches:  38%|███▊      | 6/16 [00:01<00:02,  4.74it/s]\u001b[A\n",
            "Batches:  44%|████▍     | 7/16 [00:01<00:01,  4.64it/s]\u001b[A\n",
            "Batches:  50%|█████     | 8/16 [00:01<00:01,  4.77it/s]\u001b[A\n",
            "Batches:  56%|█████▋    | 9/16 [00:01<00:01,  4.72it/s]\u001b[A\n",
            "Batches:  62%|██████▎   | 10/16 [00:02<00:01,  4.39it/s]\u001b[A\n",
            "Batches:  69%|██████▉   | 11/16 [00:02<00:01,  4.67it/s]\u001b[A\n",
            "Batches:  75%|███████▌  | 12/16 [00:02<00:00,  4.72it/s]\u001b[A\n",
            "Batches:  81%|████████▏ | 13/16 [00:02<00:00,  4.19it/s]\u001b[A\n",
            "Batches:  88%|████████▊ | 14/16 [00:02<00:00,  4.43it/s]\u001b[A\n",
            "Batches:  94%|█████████▍| 15/16 [00:03<00:00,  4.23it/s]\u001b[A\n",
            "Batches: 100%|██████████| 16/16 [00:03<00:00,  4.54it/s]\n",
            " 52%|█████▎    | 105/200 [06:22<05:36,  3.55s/it]"
          ]
        },
        {
          "output_type": "stream",
          "name": "stdout",
          "text": [
            "cnt:  106\n"
          ]
        },
        {
          "output_type": "stream",
          "name": "stderr",
          "text": [
            "\n",
            "Batches:   0%|          | 0/16 [00:00<?, ?it/s]\u001b[A\n",
            "Batches:  12%|█▎        | 2/16 [00:00<00:01,  7.92it/s]\u001b[A\n",
            "Batches:  19%|█▉        | 3/16 [00:00<00:02,  6.07it/s]\u001b[A\n",
            "Batches:  25%|██▌       | 4/16 [00:00<00:02,  5.95it/s]\u001b[A\n",
            "Batches:  31%|███▏      | 5/16 [00:00<00:02,  5.29it/s]\u001b[A\n",
            "Batches:  38%|███▊      | 6/16 [00:01<00:01,  5.09it/s]\u001b[A\n",
            "Batches:  44%|████▍     | 7/16 [00:01<00:01,  5.26it/s]\u001b[A\n",
            "Batches:  50%|█████     | 8/16 [00:01<00:01,  4.50it/s]\u001b[A\n",
            "Batches:  56%|█████▋    | 9/16 [00:01<00:01,  5.07it/s]\u001b[A\n",
            "Batches:  62%|██████▎   | 10/16 [00:01<00:01,  5.41it/s]\u001b[A\n",
            "Batches:  69%|██████▉   | 11/16 [00:02<00:00,  5.40it/s]\u001b[A\n",
            "Batches:  75%|███████▌  | 12/16 [00:02<00:00,  5.39it/s]\u001b[A\n",
            "Batches:  81%|████████▏ | 13/16 [00:02<00:00,  5.42it/s]\u001b[A\n",
            "Batches:  88%|████████▊ | 14/16 [00:02<00:00,  5.46it/s]\u001b[A\n",
            "Batches:  94%|█████████▍| 15/16 [00:02<00:00,  4.88it/s]\u001b[A\n",
            "Batches: 100%|██████████| 16/16 [00:03<00:00,  5.20it/s]\n",
            " 53%|█████▎    | 106/200 [06:26<05:23,  3.44s/it]"
          ]
        },
        {
          "output_type": "stream",
          "name": "stdout",
          "text": [
            "cnt:  107\n"
          ]
        },
        {
          "output_type": "stream",
          "name": "stderr",
          "text": [
            "\n",
            "Batches:   0%|          | 0/16 [00:00<?, ?it/s]\u001b[A\n",
            "Batches:  12%|█▎        | 2/16 [00:00<00:02,  6.97it/s]\u001b[A\n",
            "Batches:  19%|█▉        | 3/16 [00:00<00:02,  5.38it/s]\u001b[A\n",
            "Batches:  25%|██▌       | 4/16 [00:00<00:02,  4.35it/s]\u001b[A\n",
            "Batches:  31%|███▏      | 5/16 [00:01<00:02,  3.95it/s]\u001b[A\n",
            "Batches:  38%|███▊      | 6/16 [00:01<00:02,  4.18it/s]\u001b[A\n",
            "Batches:  44%|████▍     | 7/16 [00:01<00:02,  4.25it/s]\u001b[A\n",
            "Batches:  50%|█████     | 8/16 [00:01<00:01,  4.06it/s]\u001b[A\n",
            "Batches:  56%|█████▋    | 9/16 [00:02<00:01,  3.87it/s]\u001b[A\n",
            "Batches:  62%|██████▎   | 10/16 [00:02<00:01,  4.04it/s]\u001b[A\n",
            "Batches:  69%|██████▉   | 11/16 [00:02<00:01,  3.86it/s]\u001b[A\n",
            "Batches:  75%|███████▌  | 12/16 [00:02<00:01,  3.71it/s]\u001b[A\n",
            "Batches:  81%|████████▏ | 13/16 [00:03<00:00,  3.82it/s]\u001b[A\n",
            "Batches:  88%|████████▊ | 14/16 [00:03<00:00,  3.89it/s]\u001b[A\n",
            "Batches:  94%|█████████▍| 15/16 [00:03<00:00,  3.83it/s]\u001b[A\n",
            "Batches: 100%|██████████| 16/16 [00:04<00:00,  3.99it/s]\n",
            " 54%|█████▎    | 107/200 [06:30<05:40,  3.66s/it]"
          ]
        },
        {
          "output_type": "stream",
          "name": "stdout",
          "text": [
            "cnt:  108\n"
          ]
        },
        {
          "output_type": "stream",
          "name": "stderr",
          "text": [
            "\n",
            "Batches:   0%|          | 0/16 [00:00<?, ?it/s]\u001b[A\n",
            "Batches:  12%|█▎        | 2/16 [00:00<00:01,  7.30it/s]\u001b[A\n",
            "Batches:  19%|█▉        | 3/16 [00:00<00:02,  5.37it/s]\u001b[A\n",
            "Batches:  25%|██▌       | 4/16 [00:00<00:02,  4.54it/s]\u001b[A\n",
            "Batches:  31%|███▏      | 5/16 [00:01<00:02,  4.40it/s]\u001b[A\n",
            "Batches:  38%|███▊      | 6/16 [00:01<00:02,  4.61it/s]\u001b[A\n",
            "Batches:  44%|████▍     | 7/16 [00:01<00:02,  4.09it/s]\u001b[A\n",
            "Batches:  50%|█████     | 8/16 [00:01<00:02,  3.82it/s]\u001b[A\n",
            "Batches:  56%|█████▋    | 9/16 [00:02<00:01,  3.90it/s]\u001b[A\n",
            "Batches:  62%|██████▎   | 10/16 [00:02<00:01,  4.11it/s]\u001b[A\n",
            "Batches:  69%|██████▉   | 11/16 [00:02<00:01,  4.31it/s]\u001b[A\n",
            "Batches:  75%|███████▌  | 12/16 [00:02<00:00,  4.66it/s]\u001b[A\n",
            "Batches:  81%|████████▏ | 13/16 [00:02<00:00,  4.16it/s]\u001b[A\n",
            "Batches:  88%|████████▊ | 14/16 [00:03<00:00,  3.94it/s]\u001b[A\n",
            "Batches:  94%|█████████▍| 15/16 [00:03<00:00,  3.74it/s]\u001b[A\n",
            "Batches: 100%|██████████| 16/16 [00:03<00:00,  4.12it/s]\n",
            " 54%|█████▍    | 108/200 [06:34<05:46,  3.77s/it]"
          ]
        },
        {
          "output_type": "stream",
          "name": "stdout",
          "text": [
            "cnt:  109\n"
          ]
        },
        {
          "output_type": "stream",
          "name": "stderr",
          "text": [
            "\n",
            "Batches:   0%|          | 0/16 [00:00<?, ?it/s]\u001b[A\n",
            "Batches:  12%|█▎        | 2/16 [00:00<00:02,  6.91it/s]\u001b[A\n",
            "Batches:  19%|█▉        | 3/16 [00:00<00:02,  4.84it/s]\u001b[A\n",
            "Batches:  25%|██▌       | 4/16 [00:00<00:02,  4.45it/s]\u001b[A\n",
            "Batches:  31%|███▏      | 5/16 [00:01<00:02,  3.78it/s]\u001b[A\n",
            "Batches:  38%|███▊      | 6/16 [00:01<00:02,  3.94it/s]\u001b[A\n",
            "Batches:  44%|████▍     | 7/16 [00:01<00:02,  3.74it/s]\u001b[A\n",
            "Batches:  50%|█████     | 8/16 [00:01<00:02,  3.66it/s]\u001b[A\n",
            "Batches:  56%|█████▋    | 9/16 [00:02<00:01,  3.63it/s]\u001b[A\n",
            "Batches:  62%|██████▎   | 10/16 [00:02<00:01,  3.88it/s]\u001b[A\n",
            "Batches:  69%|██████▉   | 11/16 [00:02<00:01,  3.82it/s]\u001b[A\n",
            "Batches:  75%|███████▌  | 12/16 [00:03<00:01,  3.54it/s]\u001b[A\n",
            "Batches:  81%|████████▏ | 13/16 [00:03<00:00,  3.45it/s]\u001b[A\n",
            "Batches:  88%|████████▊ | 14/16 [00:03<00:00,  3.41it/s]\u001b[A\n",
            "Batches:  94%|█████████▍| 15/16 [00:03<00:00,  3.39it/s]\u001b[A\n",
            "Batches: 100%|██████████| 16/16 [00:04<00:00,  3.73it/s]\n",
            " 55%|█████▍    | 109/200 [06:38<06:02,  3.99s/it]"
          ]
        },
        {
          "output_type": "stream",
          "name": "stdout",
          "text": [
            "cnt:  110\n"
          ]
        },
        {
          "output_type": "stream",
          "name": "stderr",
          "text": [
            "\n",
            "Batches:   0%|          | 0/16 [00:00<?, ?it/s]\u001b[A\n",
            "Batches:  12%|█▎        | 2/16 [00:00<00:02,  6.19it/s]\u001b[A\n",
            "Batches:  19%|█▉        | 3/16 [00:00<00:02,  4.97it/s]\u001b[A\n",
            "Batches:  25%|██▌       | 4/16 [00:00<00:02,  4.69it/s]\u001b[A\n",
            "Batches:  31%|███▏      | 5/16 [00:01<00:02,  3.88it/s]\u001b[A\n",
            "Batches:  38%|███▊      | 6/16 [00:01<00:02,  3.81it/s]\u001b[A\n",
            "Batches:  44%|████▍     | 7/16 [00:01<00:02,  3.65it/s]\u001b[A\n",
            "Batches:  50%|█████     | 8/16 [00:01<00:02,  3.81it/s]\u001b[A\n",
            "Batches:  56%|█████▋    | 9/16 [00:02<00:01,  4.05it/s]\u001b[A\n",
            "Batches:  62%|██████▎   | 10/16 [00:02<00:01,  4.21it/s]\u001b[A\n",
            "Batches:  69%|██████▉   | 11/16 [00:02<00:01,  4.54it/s]\u001b[A\n",
            "Batches:  75%|███████▌  | 12/16 [00:02<00:00,  4.12it/s]\u001b[A\n",
            "Batches:  81%|████████▏ | 13/16 [00:03<00:00,  4.18it/s]\u001b[A\n",
            "Batches:  88%|████████▊ | 14/16 [00:03<00:00,  4.25it/s]\u001b[A\n",
            "Batches:  94%|█████████▍| 15/16 [00:03<00:00,  4.28it/s]\u001b[A\n",
            "Batches: 100%|██████████| 16/16 [00:03<00:00,  4.24it/s]\n",
            " 55%|█████▌    | 110/200 [06:42<05:57,  3.97s/it]"
          ]
        },
        {
          "output_type": "stream",
          "name": "stdout",
          "text": [
            "cnt:  111\n"
          ]
        },
        {
          "output_type": "stream",
          "name": "stderr",
          "text": [
            "\n",
            "Batches:   0%|          | 0/16 [00:00<?, ?it/s]\u001b[A\n",
            "Batches:  12%|█▎        | 2/16 [00:00<00:01,  9.13it/s]\u001b[A\n",
            "Batches:  19%|█▉        | 3/16 [00:00<00:01,  7.21it/s]\u001b[A\n",
            "Batches:  25%|██▌       | 4/16 [00:00<00:01,  6.56it/s]\u001b[A\n",
            "Batches:  31%|███▏      | 5/16 [00:00<00:01,  6.60it/s]\u001b[A\n",
            "Batches:  38%|███▊      | 6/16 [00:00<00:01,  5.97it/s]\u001b[A\n",
            "Batches:  44%|████▍     | 7/16 [00:01<00:01,  5.78it/s]\u001b[A\n",
            "Batches:  50%|█████     | 8/16 [00:01<00:01,  5.69it/s]\u001b[A\n",
            "Batches:  56%|█████▋    | 9/16 [00:01<00:01,  5.76it/s]\u001b[A\n",
            "Batches:  62%|██████▎   | 10/16 [00:01<00:01,  5.83it/s]\u001b[A\n",
            "Batches:  69%|██████▉   | 11/16 [00:01<00:00,  5.69it/s]\u001b[A\n",
            "Batches:  75%|███████▌  | 12/16 [00:02<00:00,  5.55it/s]\u001b[A\n",
            "Batches:  81%|████████▏ | 13/16 [00:02<00:00,  5.50it/s]\u001b[A\n",
            "Batches:  88%|████████▊ | 14/16 [00:02<00:00,  5.20it/s]\u001b[A\n",
            "Batches:  94%|█████████▍| 15/16 [00:02<00:00,  5.15it/s]\u001b[A\n",
            "Batches: 100%|██████████| 16/16 [00:02<00:00,  5.76it/s]\n",
            " 56%|█████▌    | 111/200 [06:45<05:25,  3.66s/it]"
          ]
        },
        {
          "output_type": "stream",
          "name": "stdout",
          "text": [
            "cnt:  112\n"
          ]
        },
        {
          "output_type": "stream",
          "name": "stderr",
          "text": [
            "\n",
            "Batches:   0%|          | 0/16 [00:00<?, ?it/s]\u001b[A\n",
            "Batches:  12%|█▎        | 2/16 [00:00<00:01,  9.37it/s]\u001b[A\n",
            "Batches:  19%|█▉        | 3/16 [00:00<00:01,  7.01it/s]\u001b[A\n",
            "Batches:  25%|██▌       | 4/16 [00:00<00:01,  6.08it/s]\u001b[A\n",
            "Batches:  31%|███▏      | 5/16 [00:00<00:01,  6.09it/s]\u001b[A\n",
            "Batches:  38%|███▊      | 6/16 [00:01<00:01,  5.11it/s]\u001b[A\n",
            "Batches:  44%|████▍     | 7/16 [00:01<00:02,  4.40it/s]\u001b[A\n",
            "Batches:  50%|█████     | 8/16 [00:01<00:01,  4.87it/s]\u001b[A\n",
            "Batches:  56%|█████▋    | 9/16 [00:01<00:01,  4.61it/s]\u001b[A\n",
            "Batches:  62%|██████▎   | 10/16 [00:01<00:01,  4.70it/s]\u001b[A\n",
            "Batches:  69%|██████▉   | 11/16 [00:02<00:01,  4.53it/s]\u001b[A\n",
            "Batches:  75%|███████▌  | 12/16 [00:02<00:00,  4.62it/s]\u001b[A\n",
            "Batches:  81%|████████▏ | 13/16 [00:02<00:00,  4.34it/s]\u001b[A\n",
            "Batches:  88%|████████▊ | 14/16 [00:02<00:00,  4.51it/s]\u001b[A\n",
            "Batches:  94%|█████████▍| 15/16 [00:03<00:00,  4.67it/s]\u001b[A\n",
            "Batches: 100%|██████████| 16/16 [00:03<00:00,  4.95it/s]\n",
            " 56%|█████▌    | 112/200 [06:49<05:13,  3.57s/it]"
          ]
        },
        {
          "output_type": "stream",
          "name": "stdout",
          "text": [
            "cnt:  113\n"
          ]
        },
        {
          "output_type": "stream",
          "name": "stderr",
          "text": [
            "\n",
            "Batches:   0%|          | 0/16 [00:00<?, ?it/s]\u001b[A\n",
            "Batches:  12%|█▎        | 2/16 [00:00<00:01,  7.48it/s]\u001b[A\n",
            "Batches:  19%|█▉        | 3/16 [00:00<00:02,  5.81it/s]\u001b[A\n",
            "Batches:  25%|██▌       | 4/16 [00:00<00:02,  5.68it/s]\u001b[A\n",
            "Batches:  31%|███▏      | 5/16 [00:00<00:01,  5.71it/s]\u001b[A\n",
            "Batches:  38%|███▊      | 6/16 [00:01<00:02,  4.92it/s]\u001b[A\n",
            "Batches:  44%|████▍     | 7/16 [00:01<00:01,  4.72it/s]\u001b[A\n",
            "Batches:  50%|█████     | 8/16 [00:01<00:01,  4.66it/s]\u001b[A\n",
            "Batches:  56%|█████▋    | 9/16 [00:01<00:01,  4.45it/s]\u001b[A\n",
            "Batches:  62%|██████▎   | 10/16 [00:01<00:01,  4.77it/s]\u001b[A\n",
            "Batches:  69%|██████▉   | 11/16 [00:02<00:01,  4.86it/s]\u001b[A\n",
            "Batches:  75%|███████▌  | 12/16 [00:02<00:00,  5.14it/s]\u001b[A\n",
            "Batches:  81%|████████▏ | 13/16 [00:02<00:00,  5.13it/s]\u001b[A\n",
            "Batches:  88%|████████▊ | 14/16 [00:02<00:00,  5.35it/s]\u001b[A\n",
            "Batches:  94%|█████████▍| 15/16 [00:02<00:00,  4.72it/s]\u001b[A\n",
            "Batches: 100%|██████████| 16/16 [00:03<00:00,  5.06it/s]\n",
            " 56%|█████▋    | 113/200 [06:52<05:02,  3.48s/it]"
          ]
        },
        {
          "output_type": "stream",
          "name": "stdout",
          "text": [
            "cnt:  114\n"
          ]
        },
        {
          "output_type": "stream",
          "name": "stderr",
          "text": [
            "\n",
            "Batches:   0%|          | 0/16 [00:00<?, ?it/s]\u001b[A\n",
            "Batches:  12%|█▎        | 2/16 [00:00<00:01,  8.17it/s]\u001b[A\n",
            "Batches:  19%|█▉        | 3/16 [00:00<00:02,  6.29it/s]\u001b[A\n",
            "Batches:  25%|██▌       | 4/16 [00:00<00:02,  5.72it/s]\u001b[A\n",
            "Batches:  31%|███▏      | 5/16 [00:00<00:02,  5.23it/s]\u001b[A\n",
            "Batches:  38%|███▊      | 6/16 [00:01<00:02,  4.84it/s]\u001b[A\n",
            "Batches:  44%|████▍     | 7/16 [00:01<00:01,  5.07it/s]\u001b[A\n",
            "Batches:  50%|█████     | 8/16 [00:01<00:01,  5.20it/s]\u001b[A\n",
            "Batches:  56%|█████▋    | 9/16 [00:01<00:01,  5.36it/s]\u001b[A\n",
            "Batches:  62%|██████▎   | 10/16 [00:01<00:01,  5.41it/s]\u001b[A\n",
            "Batches:  69%|██████▉   | 11/16 [00:02<00:00,  5.39it/s]\u001b[A\n",
            "Batches:  75%|███████▌  | 12/16 [00:02<00:00,  5.37it/s]\u001b[A\n",
            "Batches:  81%|████████▏ | 13/16 [00:02<00:00,  5.45it/s]\u001b[A\n",
            "Batches:  88%|████████▊ | 14/16 [00:02<00:00,  4.83it/s]\u001b[A\n",
            "Batches:  94%|█████████▍| 15/16 [00:02<00:00,  4.92it/s]\u001b[A\n",
            "Batches: 100%|██████████| 16/16 [00:03<00:00,  5.13it/s]\n",
            " 57%|█████▋    | 114/200 [06:55<04:54,  3.42s/it]"
          ]
        },
        {
          "output_type": "stream",
          "name": "stdout",
          "text": [
            "cnt:  115\n"
          ]
        },
        {
          "output_type": "stream",
          "name": "stderr",
          "text": [
            "\n",
            "Batches:   0%|          | 0/16 [00:00<?, ?it/s]\u001b[A\n",
            "Batches:  12%|█▎        | 2/16 [00:00<00:01,  8.32it/s]\u001b[A\n",
            "Batches:  19%|█▉        | 3/16 [00:00<00:02,  6.39it/s]\u001b[A\n",
            "Batches:  25%|██▌       | 4/16 [00:00<00:02,  5.63it/s]\u001b[A\n",
            "Batches:  31%|███▏      | 5/16 [00:00<00:01,  5.66it/s]\u001b[A\n",
            "Batches:  38%|███▊      | 6/16 [00:01<00:01,  5.17it/s]\u001b[A\n",
            "Batches:  44%|████▍     | 7/16 [00:01<00:01,  5.14it/s]\u001b[A\n",
            "Batches:  50%|█████     | 8/16 [00:01<00:01,  5.05it/s]\u001b[A\n",
            "Batches:  56%|█████▋    | 9/16 [00:01<00:01,  5.24it/s]\u001b[A\n",
            "Batches:  62%|██████▎   | 10/16 [00:01<00:01,  5.38it/s]\u001b[A\n",
            "Batches:  69%|██████▉   | 11/16 [00:02<00:00,  5.02it/s]\u001b[A\n",
            "Batches:  75%|███████▌  | 12/16 [00:02<00:00,  4.88it/s]\u001b[A\n",
            "Batches:  81%|████████▏ | 13/16 [00:02<00:00,  5.06it/s]\u001b[A\n",
            "Batches:  88%|████████▊ | 14/16 [00:02<00:00,  5.00it/s]\u001b[A\n",
            "Batches:  94%|█████████▍| 15/16 [00:02<00:00,  4.88it/s]\u001b[A\n",
            "Batches: 100%|██████████| 16/16 [00:03<00:00,  5.17it/s]\n",
            " 57%|█████▊    | 115/200 [06:58<04:45,  3.36s/it]"
          ]
        },
        {
          "output_type": "stream",
          "name": "stdout",
          "text": [
            "cnt:  116\n"
          ]
        },
        {
          "output_type": "stream",
          "name": "stderr",
          "text": [
            "\n",
            "Batches:   0%|          | 0/16 [00:00<?, ?it/s]\u001b[A\n",
            "Batches:  12%|█▎        | 2/16 [00:00<00:01,  7.87it/s]\u001b[A\n",
            "Batches:  19%|█▉        | 3/16 [00:00<00:01,  6.92it/s]\u001b[A\n",
            "Batches:  25%|██▌       | 4/16 [00:00<00:02,  5.68it/s]\u001b[A\n",
            "Batches:  31%|███▏      | 5/16 [00:00<00:01,  5.59it/s]\u001b[A\n",
            "Batches:  38%|███▊      | 6/16 [00:01<00:01,  5.18it/s]\u001b[A\n",
            "Batches:  44%|████▍     | 7/16 [00:01<00:01,  4.88it/s]\u001b[A\n",
            "Batches:  50%|█████     | 8/16 [00:01<00:01,  4.82it/s]\u001b[A\n",
            "Batches:  56%|█████▋    | 9/16 [00:01<00:01,  4.84it/s]\u001b[A\n",
            "Batches:  62%|██████▎   | 10/16 [00:01<00:01,  4.95it/s]\u001b[A\n",
            "Batches:  69%|██████▉   | 11/16 [00:02<00:01,  4.91it/s]\u001b[A\n",
            "Batches:  75%|███████▌  | 12/16 [00:02<00:00,  4.84it/s]\u001b[A\n",
            "Batches:  81%|████████▏ | 13/16 [00:02<00:00,  4.94it/s]\u001b[A\n",
            "Batches:  88%|████████▊ | 14/16 [00:02<00:00,  5.36it/s]\u001b[A\n",
            "Batches:  94%|█████████▍| 15/16 [00:02<00:00,  4.87it/s]\u001b[A\n",
            "Batches: 100%|██████████| 16/16 [00:03<00:00,  5.05it/s]\n",
            " 58%|█████▊    | 116/200 [07:02<04:40,  3.34s/it]"
          ]
        },
        {
          "output_type": "stream",
          "name": "stdout",
          "text": [
            "cnt:  117\n"
          ]
        },
        {
          "output_type": "stream",
          "name": "stderr",
          "text": [
            "\n",
            "Batches:   0%|          | 0/16 [00:00<?, ?it/s]\u001b[A\n",
            "Batches:  12%|█▎        | 2/16 [00:00<00:02,  6.01it/s]\u001b[A\n",
            "Batches:  19%|█▉        | 3/16 [00:00<00:02,  5.50it/s]\u001b[A\n",
            "Batches:  25%|██▌       | 4/16 [00:00<00:02,  4.92it/s]\u001b[A\n",
            "Batches:  31%|███▏      | 5/16 [00:00<00:02,  4.97it/s]\u001b[A\n",
            "Batches:  38%|███▊      | 6/16 [00:01<00:01,  5.05it/s]\u001b[A\n",
            "Batches:  44%|████▍     | 7/16 [00:01<00:01,  4.70it/s]\u001b[A\n",
            "Batches:  50%|█████     | 8/16 [00:01<00:01,  4.44it/s]\u001b[A\n",
            "Batches:  56%|█████▋    | 9/16 [00:01<00:01,  4.59it/s]\u001b[A\n",
            "Batches:  62%|██████▎   | 10/16 [00:02<00:01,  3.94it/s]\u001b[A\n",
            "Batches:  69%|██████▉   | 11/16 [00:02<00:01,  4.34it/s]\u001b[A\n",
            "Batches:  75%|███████▌  | 12/16 [00:02<00:00,  4.57it/s]\u001b[A\n",
            "Batches:  81%|████████▏ | 13/16 [00:02<00:00,  4.17it/s]\u001b[A\n",
            "Batches:  88%|████████▊ | 14/16 [00:03<00:00,  4.41it/s]\u001b[A\n",
            "Batches:  94%|█████████▍| 15/16 [00:03<00:00,  4.26it/s]\u001b[A\n",
            "Batches: 100%|██████████| 16/16 [00:03<00:00,  4.58it/s]\n",
            " 58%|█████▊    | 117/200 [07:05<04:44,  3.43s/it]"
          ]
        },
        {
          "output_type": "stream",
          "name": "stdout",
          "text": [
            "cnt:  118\n"
          ]
        },
        {
          "output_type": "stream",
          "name": "stderr",
          "text": [
            "\n",
            "Batches:   0%|          | 0/16 [00:00<?, ?it/s]\u001b[A\n",
            "Batches:  12%|█▎        | 2/16 [00:00<00:02,  6.87it/s]\u001b[A\n",
            "Batches:  19%|█▉        | 3/16 [00:00<00:02,  5.95it/s]\u001b[A\n",
            "Batches:  25%|██▌       | 4/16 [00:00<00:02,  4.93it/s]\u001b[A\n",
            "Batches:  31%|███▏      | 5/16 [00:01<00:02,  4.27it/s]\u001b[A\n",
            "Batches:  38%|███▊      | 6/16 [00:01<00:02,  4.66it/s]\u001b[A\n",
            "Batches:  44%|████▍     | 7/16 [00:01<00:01,  4.88it/s]\u001b[A\n",
            "Batches:  50%|█████     | 8/16 [00:01<00:01,  5.06it/s]\u001b[A\n",
            "Batches:  56%|█████▋    | 9/16 [00:01<00:01,  4.85it/s]\u001b[A\n",
            "Batches:  62%|██████▎   | 10/16 [00:02<00:01,  4.73it/s]\u001b[A\n",
            "Batches:  69%|██████▉   | 11/16 [00:02<00:01,  4.80it/s]\u001b[A\n",
            "Batches:  75%|███████▌  | 12/16 [00:02<00:00,  4.85it/s]\u001b[A\n",
            "Batches:  81%|████████▏ | 13/16 [00:02<00:00,  4.87it/s]\u001b[A\n",
            "Batches:  88%|████████▊ | 14/16 [00:02<00:00,  4.89it/s]\u001b[A\n",
            "Batches:  94%|█████████▍| 15/16 [00:03<00:00,  4.90it/s]\u001b[A\n",
            "Batches: 100%|██████████| 16/16 [00:03<00:00,  4.94it/s]\n",
            " 59%|█████▉    | 118/200 [07:09<04:40,  3.43s/it]"
          ]
        },
        {
          "output_type": "stream",
          "name": "stdout",
          "text": [
            "cnt:  119\n"
          ]
        },
        {
          "output_type": "stream",
          "name": "stderr",
          "text": [
            "\n",
            "Batches:   0%|          | 0/16 [00:00<?, ?it/s]\u001b[A\n",
            "Batches:  12%|█▎        | 2/16 [00:00<00:01,  7.02it/s]\u001b[A\n",
            "Batches:  19%|█▉        | 3/16 [00:00<00:02,  6.03it/s]\u001b[A\n",
            "Batches:  25%|██▌       | 4/16 [00:00<00:02,  5.39it/s]\u001b[A\n",
            "Batches:  31%|███▏      | 5/16 [00:00<00:02,  5.22it/s]\u001b[A\n",
            "Batches:  38%|███▊      | 6/16 [00:01<00:01,  5.23it/s]\u001b[A\n",
            "Batches:  44%|████▍     | 7/16 [00:01<00:01,  5.36it/s]\u001b[A\n",
            "Batches:  50%|█████     | 8/16 [00:01<00:01,  5.59it/s]\u001b[A\n",
            "Batches:  56%|█████▋    | 9/16 [00:01<00:01,  5.71it/s]\u001b[A\n",
            "Batches:  62%|██████▎   | 10/16 [00:01<00:01,  5.48it/s]\u001b[A\n",
            "Batches:  69%|██████▉   | 11/16 [00:02<00:00,  5.27it/s]\u001b[A\n",
            "Batches:  75%|███████▌  | 12/16 [00:02<00:00,  5.12it/s]\u001b[A\n",
            "Batches:  81%|████████▏ | 13/16 [00:02<00:00,  5.30it/s]\u001b[A\n",
            "Batches:  88%|████████▊ | 14/16 [00:02<00:00,  5.42it/s]\u001b[A\n",
            "Batches:  94%|█████████▍| 15/16 [00:02<00:00,  5.88it/s]\u001b[A\n",
            "Batches: 100%|██████████| 16/16 [00:02<00:00,  5.53it/s]\n",
            " 60%|█████▉    | 119/200 [07:12<04:27,  3.31s/it]"
          ]
        },
        {
          "output_type": "stream",
          "name": "stdout",
          "text": [
            "cnt:  120\n"
          ]
        },
        {
          "output_type": "stream",
          "name": "stderr",
          "text": [
            "\n",
            "Batches:   0%|          | 0/16 [00:00<?, ?it/s]\u001b[A\n",
            "Batches:  12%|█▎        | 2/16 [00:00<00:01,  7.33it/s]\u001b[A\n",
            "Batches:  19%|█▉        | 3/16 [00:00<00:02,  5.35it/s]\u001b[A\n",
            "Batches:  25%|██▌       | 4/16 [00:00<00:02,  4.47it/s]\u001b[A\n",
            "Batches:  31%|███▏      | 5/16 [00:01<00:02,  4.02it/s]\u001b[A\n",
            "Batches:  38%|███▊      | 6/16 [00:01<00:02,  4.24it/s]\u001b[A\n",
            "Batches:  44%|████▍     | 7/16 [00:01<00:02,  4.07it/s]\u001b[A\n",
            "Batches:  50%|█████     | 8/16 [00:01<00:02,  3.85it/s]\u001b[A\n",
            "Batches:  56%|█████▋    | 9/16 [00:02<00:01,  3.73it/s]\u001b[A\n",
            "Batches:  62%|██████▎   | 10/16 [00:02<00:01,  3.69it/s]\u001b[A\n",
            "Batches:  69%|██████▉   | 11/16 [00:02<00:01,  3.93it/s]\u001b[A\n",
            "Batches:  75%|███████▌  | 12/16 [00:02<00:01,  3.63it/s]\u001b[A\n",
            "Batches:  81%|████████▏ | 13/16 [00:03<00:00,  3.50it/s]\u001b[A\n",
            "Batches:  88%|████████▊ | 14/16 [00:03<00:00,  3.47it/s]\u001b[A\n",
            "Batches:  94%|█████████▍| 15/16 [00:03<00:00,  3.40it/s]\u001b[A\n",
            "Batches: 100%|██████████| 16/16 [00:04<00:00,  3.81it/s]\n",
            " 60%|██████    | 120/200 [07:16<04:50,  3.63s/it]"
          ]
        },
        {
          "output_type": "stream",
          "name": "stdout",
          "text": [
            "cnt:  121\n"
          ]
        },
        {
          "output_type": "stream",
          "name": "stderr",
          "text": [
            "\n",
            "Batches:   0%|          | 0/16 [00:00<?, ?it/s]\u001b[A\n",
            "Batches:  12%|█▎        | 2/16 [00:00<00:02,  6.13it/s]\u001b[A\n",
            "Batches:  19%|█▉        | 3/16 [00:00<00:02,  5.11it/s]\u001b[A\n",
            "Batches:  25%|██▌       | 4/16 [00:00<00:02,  4.87it/s]\u001b[A\n",
            "Batches:  31%|███▏      | 5/16 [00:01<00:02,  4.03it/s]\u001b[A\n",
            "Batches:  38%|███▊      | 6/16 [00:01<00:02,  3.82it/s]\u001b[A\n",
            "Batches:  44%|████▍     | 7/16 [00:01<00:02,  4.15it/s]\u001b[A\n",
            "Batches:  50%|█████     | 8/16 [00:01<00:01,  4.24it/s]\u001b[A\n",
            "Batches:  56%|█████▋    | 9/16 [00:02<00:01,  4.07it/s]\u001b[A\n",
            "Batches:  62%|██████▎   | 10/16 [00:02<00:01,  4.29it/s]\u001b[A\n",
            "Batches:  69%|██████▉   | 11/16 [00:02<00:01,  4.04it/s]\u001b[A\n",
            "Batches:  75%|███████▌  | 12/16 [00:02<00:01,  3.86it/s]\u001b[A\n",
            "Batches:  81%|████████▏ | 13/16 [00:03<00:00,  3.86it/s]\u001b[A\n",
            "Batches:  88%|████████▊ | 14/16 [00:03<00:00,  3.69it/s]\u001b[A\n",
            "Batches:  94%|█████████▍| 15/16 [00:03<00:00,  3.76it/s]\u001b[A\n",
            "Batches: 100%|██████████| 16/16 [00:03<00:00,  4.08it/s]\n",
            " 60%|██████    | 121/200 [07:20<04:58,  3.78s/it]"
          ]
        },
        {
          "output_type": "stream",
          "name": "stdout",
          "text": [
            "cnt:  122\n"
          ]
        },
        {
          "output_type": "stream",
          "name": "stderr",
          "text": [
            "\n",
            "Batches:   0%|          | 0/16 [00:00<?, ?it/s]\u001b[A\n",
            "Batches:  12%|█▎        | 2/16 [00:00<00:01,  7.64it/s]\u001b[A\n",
            "Batches:  19%|█▉        | 3/16 [00:00<00:01,  6.56it/s]\u001b[A\n",
            "Batches:  25%|██▌       | 4/16 [00:00<00:01,  6.44it/s]\u001b[A\n",
            "Batches:  31%|███▏      | 5/16 [00:00<00:02,  5.24it/s]\u001b[A\n",
            "Batches:  38%|███▊      | 6/16 [00:01<00:02,  4.99it/s]\u001b[A\n",
            "Batches:  44%|████▍     | 7/16 [00:01<00:01,  5.19it/s]\u001b[A\n",
            "Batches:  50%|█████     | 8/16 [00:01<00:01,  4.90it/s]\u001b[A\n",
            "Batches:  56%|█████▋    | 9/16 [00:01<00:01,  4.99it/s]\u001b[A\n",
            "Batches:  62%|██████▎   | 10/16 [00:01<00:01,  5.10it/s]\u001b[A\n",
            "Batches:  69%|██████▉   | 11/16 [00:02<00:01,  4.87it/s]\u001b[A\n",
            "Batches:  75%|███████▌  | 12/16 [00:02<00:00,  4.50it/s]\u001b[A\n",
            "Batches:  81%|████████▏ | 13/16 [00:02<00:00,  4.61it/s]\u001b[A\n",
            "Batches:  88%|████████▊ | 14/16 [00:02<00:00,  4.29it/s]\u001b[A\n",
            "Batches:  94%|█████████▍| 15/16 [00:03<00:00,  4.32it/s]\u001b[A\n",
            "Batches: 100%|██████████| 16/16 [00:03<00:00,  4.81it/s]\n",
            " 61%|██████    | 122/200 [07:24<04:48,  3.70s/it]"
          ]
        },
        {
          "output_type": "stream",
          "name": "stdout",
          "text": [
            "cnt:  123\n"
          ]
        },
        {
          "output_type": "stream",
          "name": "stderr",
          "text": [
            "\n",
            "Batches:   0%|          | 0/16 [00:00<?, ?it/s]\u001b[A\n",
            "Batches:  12%|█▎        | 2/16 [00:00<00:01,  9.86it/s]\u001b[A\n",
            "Batches:  19%|█▉        | 3/16 [00:00<00:02,  5.74it/s]\u001b[A\n",
            "Batches:  25%|██▌       | 4/16 [00:00<00:02,  5.62it/s]\u001b[A\n",
            "Batches:  31%|███▏      | 5/16 [00:00<00:02,  4.35it/s]\u001b[A\n",
            "Batches:  38%|███▊      | 6/16 [00:01<00:02,  3.98it/s]\u001b[A\n",
            "Batches:  44%|████▍     | 7/16 [00:01<00:02,  3.78it/s]\u001b[A\n",
            "Batches:  50%|█████     | 8/16 [00:01<00:01,  4.12it/s]\u001b[A\n",
            "Batches:  56%|█████▋    | 9/16 [00:02<00:01,  4.16it/s]\u001b[A\n",
            "Batches:  62%|██████▎   | 10/16 [00:02<00:01,  4.44it/s]\u001b[A\n",
            "Batches:  69%|██████▉   | 11/16 [00:02<00:01,  4.52it/s]\u001b[A\n",
            "Batches:  75%|███████▌  | 12/16 [00:02<00:00,  4.53it/s]\u001b[A\n",
            "Batches:  81%|████████▏ | 13/16 [00:02<00:00,  4.59it/s]\u001b[A\n",
            "Batches:  88%|████████▊ | 14/16 [00:03<00:00,  4.48it/s]\u001b[A\n",
            "Batches:  94%|█████████▍| 15/16 [00:03<00:00,  4.51it/s]\u001b[A\n",
            "Batches: 100%|██████████| 16/16 [00:03<00:00,  4.60it/s]\n",
            " 62%|██████▏   | 123/200 [07:27<04:42,  3.66s/it]"
          ]
        },
        {
          "output_type": "stream",
          "name": "stdout",
          "text": [
            "cnt:  124\n"
          ]
        },
        {
          "output_type": "stream",
          "name": "stderr",
          "text": [
            "\n",
            "Batches:   0%|          | 0/16 [00:00<?, ?it/s]\u001b[A\n",
            "Batches:  12%|█▎        | 2/16 [00:00<00:02,  5.78it/s]\u001b[A\n",
            "Batches:  19%|█▉        | 3/16 [00:00<00:02,  5.00it/s]\u001b[A\n",
            "Batches:  25%|██▌       | 4/16 [00:00<00:02,  4.80it/s]\u001b[A\n",
            "Batches:  31%|███▏      | 5/16 [00:01<00:02,  3.94it/s]\u001b[A\n",
            "Batches:  38%|███▊      | 6/16 [00:01<00:02,  4.11it/s]\u001b[A\n",
            "Batches:  44%|████▍     | 7/16 [00:01<00:02,  4.35it/s]\u001b[A\n",
            "Batches:  50%|█████     | 8/16 [00:01<00:02,  3.97it/s]\u001b[A\n",
            "Batches:  56%|█████▋    | 9/16 [00:02<00:01,  4.20it/s]\u001b[A\n",
            "Batches:  62%|██████▎   | 10/16 [00:02<00:01,  4.24it/s]\u001b[A\n",
            "Batches:  69%|██████▉   | 11/16 [00:02<00:01,  4.53it/s]\u001b[A\n",
            "Batches:  75%|███████▌  | 12/16 [00:02<00:00,  4.49it/s]\u001b[A\n",
            "Batches:  81%|████████▏ | 13/16 [00:02<00:00,  4.41it/s]\u001b[A\n",
            "Batches:  88%|████████▊ | 14/16 [00:03<00:00,  4.47it/s]\u001b[A\n",
            "Batches:  94%|█████████▍| 15/16 [00:03<00:00,  4.58it/s]\u001b[A\n",
            "Batches: 100%|██████████| 16/16 [00:03<00:00,  4.42it/s]\n",
            " 62%|██████▏   | 124/200 [07:31<04:40,  3.69s/it]"
          ]
        },
        {
          "output_type": "stream",
          "name": "stdout",
          "text": [
            "cnt:  125\n"
          ]
        },
        {
          "output_type": "stream",
          "name": "stderr",
          "text": [
            "\n",
            "Batches:   0%|          | 0/16 [00:00<?, ?it/s]\u001b[A\n",
            "Batches:  12%|█▎        | 2/16 [00:00<00:02,  6.27it/s]\u001b[A\n",
            "Batches:  19%|█▉        | 3/16 [00:00<00:02,  4.79it/s]\u001b[A\n",
            "Batches:  25%|██▌       | 4/16 [00:00<00:02,  4.72it/s]\u001b[A\n",
            "Batches:  31%|███▏      | 5/16 [00:01<00:02,  4.15it/s]\u001b[A\n",
            "Batches:  38%|███▊      | 6/16 [00:01<00:02,  4.28it/s]\u001b[A\n",
            "Batches:  44%|████▍     | 7/16 [00:01<00:02,  4.35it/s]\u001b[A\n",
            "Batches:  50%|█████     | 8/16 [00:01<00:01,  4.43it/s]\u001b[A\n",
            "Batches:  56%|█████▋    | 9/16 [00:02<00:01,  4.36it/s]\u001b[A\n",
            "Batches:  62%|██████▎   | 10/16 [00:02<00:01,  4.37it/s]\u001b[A\n",
            "Batches:  69%|██████▉   | 11/16 [00:02<00:01,  4.21it/s]\u001b[A\n",
            "Batches:  75%|███████▌  | 12/16 [00:02<00:00,  4.40it/s]\u001b[A\n",
            "Batches:  81%|████████▏ | 13/16 [00:03<00:00,  3.90it/s]\u001b[A\n",
            "Batches:  88%|████████▊ | 14/16 [00:03<00:00,  4.15it/s]\u001b[A\n",
            "Batches:  94%|█████████▍| 15/16 [00:03<00:00,  4.06it/s]\u001b[A\n",
            "Batches: 100%|██████████| 16/16 [00:03<00:00,  4.30it/s]\n",
            " 62%|██████▎   | 125/200 [07:35<04:42,  3.76s/it]"
          ]
        },
        {
          "output_type": "stream",
          "name": "stdout",
          "text": [
            "cnt:  126\n"
          ]
        },
        {
          "output_type": "stream",
          "name": "stderr",
          "text": [
            "\n",
            "Batches:   0%|          | 0/16 [00:00<?, ?it/s]\u001b[A\n",
            "Batches:  12%|█▎        | 2/16 [00:00<00:01,  8.69it/s]\u001b[A\n",
            "Batches:  19%|█▉        | 3/16 [00:00<00:01,  7.23it/s]\u001b[A\n",
            "Batches:  25%|██▌       | 4/16 [00:00<00:01,  6.67it/s]\u001b[A\n",
            "Batches:  31%|███▏      | 5/16 [00:00<00:01,  6.20it/s]\u001b[A\n",
            "Batches:  38%|███▊      | 6/16 [00:00<00:01,  6.34it/s]\u001b[A\n",
            "Batches:  44%|████▍     | 7/16 [00:01<00:01,  5.77it/s]\u001b[A\n",
            "Batches:  50%|█████     | 8/16 [00:01<00:01,  5.53it/s]\u001b[A\n",
            "Batches:  56%|█████▋    | 9/16 [00:01<00:01,  5.24it/s]\u001b[A\n",
            "Batches:  62%|██████▎   | 10/16 [00:01<00:01,  5.02it/s]\u001b[A\n",
            "Batches:  69%|██████▉   | 11/16 [00:01<00:01,  4.99it/s]\u001b[A\n",
            "Batches:  75%|███████▌  | 12/16 [00:02<00:00,  4.86it/s]\u001b[A\n",
            "Batches:  81%|████████▏ | 13/16 [00:02<00:00,  5.39it/s]\u001b[A\n",
            "Batches:  88%|████████▊ | 14/16 [00:02<00:00,  5.42it/s]\u001b[A\n",
            "Batches:  94%|█████████▍| 15/16 [00:02<00:00,  5.25it/s]\u001b[A\n",
            "Batches: 100%|██████████| 16/16 [00:02<00:00,  5.61it/s]\n",
            " 63%|██████▎   | 126/200 [07:38<04:21,  3.53s/it]"
          ]
        },
        {
          "output_type": "stream",
          "name": "stdout",
          "text": [
            "cnt:  127\n"
          ]
        },
        {
          "output_type": "stream",
          "name": "stderr",
          "text": [
            "\n",
            "Batches:   0%|          | 0/16 [00:00<?, ?it/s]\u001b[A\n",
            "Batches:  12%|█▎        | 2/16 [00:00<00:01,  8.50it/s]\u001b[A\n",
            "Batches:  19%|█▉        | 3/16 [00:00<00:02,  5.88it/s]\u001b[A\n",
            "Batches:  25%|██▌       | 4/16 [00:00<00:02,  5.19it/s]\u001b[A\n",
            "Batches:  31%|███▏      | 5/16 [00:00<00:02,  4.62it/s]\u001b[A\n",
            "Batches:  38%|███▊      | 6/16 [00:01<00:02,  4.49it/s]\u001b[A\n",
            "Batches:  44%|████▍     | 7/16 [00:01<00:02,  4.12it/s]\u001b[A\n",
            "Batches:  50%|█████     | 8/16 [00:01<00:01,  4.38it/s]\u001b[A\n",
            "Batches:  56%|█████▋    | 9/16 [00:01<00:01,  4.63it/s]\u001b[A\n",
            "Batches:  62%|██████▎   | 10/16 [00:02<00:01,  4.02it/s]\u001b[A\n",
            "Batches:  69%|██████▉   | 11/16 [00:02<00:01,  4.05it/s]\u001b[A\n",
            "Batches:  75%|███████▌  | 12/16 [00:02<00:00,  4.38it/s]\u001b[A\n",
            "Batches:  81%|████████▏ | 13/16 [00:02<00:00,  3.93it/s]\u001b[A\n",
            "Batches:  88%|████████▊ | 14/16 [00:03<00:00,  3.87it/s]\u001b[A\n",
            "Batches:  94%|█████████▍| 15/16 [00:03<00:00,  4.30it/s]\u001b[A\n",
            "Batches: 100%|██████████| 16/16 [00:03<00:00,  4.48it/s]\n",
            " 64%|██████▎   | 127/200 [07:42<04:22,  3.59s/it]"
          ]
        },
        {
          "output_type": "stream",
          "name": "stdout",
          "text": [
            "cnt:  128\n"
          ]
        },
        {
          "output_type": "stream",
          "name": "stderr",
          "text": [
            "\n",
            "Batches:   0%|          | 0/16 [00:00<?, ?it/s]\u001b[A\n",
            "Batches:  12%|█▎        | 2/16 [00:00<00:01,  8.89it/s]\u001b[A\n",
            "Batches:  19%|█▉        | 3/16 [00:00<00:02,  6.21it/s]\u001b[A\n",
            "Batches:  25%|██▌       | 4/16 [00:00<00:02,  4.72it/s]\u001b[A\n",
            "Batches:  31%|███▏      | 5/16 [00:00<00:02,  4.47it/s]\u001b[A\n",
            "Batches:  38%|███▊      | 6/16 [00:01<00:02,  4.76it/s]\u001b[A\n",
            "Batches:  44%|████▍     | 7/16 [00:01<00:01,  4.59it/s]\u001b[A\n",
            "Batches:  50%|█████     | 8/16 [00:01<00:01,  4.57it/s]\u001b[A\n",
            "Batches:  56%|█████▋    | 9/16 [00:01<00:01,  4.56it/s]\u001b[A\n",
            "Batches:  62%|██████▎   | 10/16 [00:02<00:01,  4.14it/s]\u001b[A\n",
            "Batches:  69%|██████▉   | 11/16 [00:02<00:01,  4.02it/s]\u001b[A\n",
            "Batches:  75%|███████▌  | 12/16 [00:02<00:01,  3.98it/s]\u001b[A\n",
            "Batches:  81%|████████▏ | 13/16 [00:02<00:00,  4.11it/s]\u001b[A\n",
            "Batches:  88%|████████▊ | 14/16 [00:03<00:00,  4.10it/s]\u001b[A\n",
            "Batches:  94%|█████████▍| 15/16 [00:03<00:00,  4.19it/s]\u001b[A\n",
            "Batches: 100%|██████████| 16/16 [00:03<00:00,  4.50it/s]\n",
            " 64%|██████▍   | 128/200 [07:45<04:20,  3.62s/it]"
          ]
        },
        {
          "output_type": "stream",
          "name": "stdout",
          "text": [
            "cnt:  129\n"
          ]
        },
        {
          "output_type": "stream",
          "name": "stderr",
          "text": [
            "\n",
            "Batches:   0%|          | 0/16 [00:00<?, ?it/s]\u001b[A\n",
            "Batches:  12%|█▎        | 2/16 [00:00<00:01,  8.79it/s]\u001b[A\n",
            "Batches:  19%|█▉        | 3/16 [00:00<00:01,  6.64it/s]\u001b[A\n",
            "Batches:  25%|██▌       | 4/16 [00:00<00:01,  6.59it/s]\u001b[A\n",
            "Batches:  31%|███▏      | 5/16 [00:00<00:01,  6.23it/s]\u001b[A\n",
            "Batches:  38%|███▊      | 6/16 [00:00<00:01,  5.63it/s]\u001b[A\n",
            "Batches:  44%|████▍     | 7/16 [00:01<00:01,  5.73it/s]\u001b[A\n",
            "Batches:  50%|█████     | 8/16 [00:01<00:01,  6.13it/s]\u001b[A\n",
            "Batches:  56%|█████▋    | 9/16 [00:01<00:01,  5.79it/s]\u001b[A\n",
            "Batches:  62%|██████▎   | 10/16 [00:01<00:01,  5.34it/s]\u001b[A\n",
            "Batches:  69%|██████▉   | 11/16 [00:01<00:01,  4.63it/s]\u001b[A\n",
            "Batches:  75%|███████▌  | 12/16 [00:02<00:00,  4.59it/s]\u001b[A\n",
            "Batches:  81%|████████▏ | 13/16 [00:02<00:00,  4.83it/s]\u001b[A\n",
            "Batches:  88%|████████▊ | 14/16 [00:02<00:00,  5.02it/s]\u001b[A\n",
            "Batches:  94%|█████████▍| 15/16 [00:02<00:00,  5.18it/s]\u001b[A\n",
            "Batches: 100%|██████████| 16/16 [00:02<00:00,  5.45it/s]\n",
            " 64%|██████▍   | 129/200 [07:49<04:04,  3.45s/it]"
          ]
        },
        {
          "output_type": "stream",
          "name": "stdout",
          "text": [
            "cnt:  130\n"
          ]
        },
        {
          "output_type": "stream",
          "name": "stderr",
          "text": [
            "\n",
            "Batches:   0%|          | 0/16 [00:00<?, ?it/s]\u001b[A\n",
            "Batches:  12%|█▎        | 2/16 [00:00<00:02,  5.92it/s]\u001b[A\n",
            "Batches:  19%|█▉        | 3/16 [00:00<00:02,  4.95it/s]\u001b[A\n",
            "Batches:  25%|██▌       | 4/16 [00:00<00:02,  4.48it/s]\u001b[A\n",
            "Batches:  31%|███▏      | 5/16 [00:01<00:02,  4.13it/s]\u001b[A\n",
            "Batches:  38%|███▊      | 6/16 [00:01<00:02,  4.02it/s]\u001b[A\n",
            "Batches:  44%|████▍     | 7/16 [00:01<00:02,  3.85it/s]\u001b[A\n",
            "Batches:  50%|█████     | 8/16 [00:02<00:02,  3.54it/s]\u001b[A\n",
            "Batches:  56%|█████▋    | 9/16 [00:02<00:01,  3.60it/s]\u001b[A\n",
            "Batches:  62%|██████▎   | 10/16 [00:02<00:01,  3.68it/s]\u001b[A\n",
            "Batches:  69%|██████▉   | 11/16 [00:02<00:01,  3.54it/s]\u001b[A\n",
            "Batches:  75%|███████▌  | 12/16 [00:03<00:01,  3.39it/s]\u001b[A\n",
            "Batches:  81%|████████▏ | 13/16 [00:03<00:00,  3.57it/s]\u001b[A\n",
            "Batches:  88%|████████▊ | 14/16 [00:03<00:00,  3.85it/s]\u001b[A\n",
            "Batches:  94%|█████████▍| 15/16 [00:03<00:00,  3.58it/s]\u001b[A\n",
            "Batches: 100%|██████████| 16/16 [00:04<00:00,  3.77it/s]\n",
            " 65%|██████▌   | 130/200 [07:53<04:22,  3.74s/it]"
          ]
        },
        {
          "output_type": "stream",
          "name": "stdout",
          "text": [
            "cnt:  131\n"
          ]
        },
        {
          "output_type": "stream",
          "name": "stderr",
          "text": [
            "\n",
            "Batches:   0%|          | 0/16 [00:00<?, ?it/s]\u001b[A\n",
            "Batches:  12%|█▎        | 2/16 [00:00<00:02,  6.11it/s]\u001b[A\n",
            "Batches:  19%|█▉        | 3/16 [00:00<00:02,  5.23it/s]\u001b[A\n",
            "Batches:  25%|██▌       | 4/16 [00:00<00:02,  4.72it/s]\u001b[A\n",
            "Batches:  31%|███▏      | 5/16 [00:01<00:02,  4.28it/s]\u001b[A\n",
            "Batches:  38%|███▊      | 6/16 [00:01<00:02,  4.16it/s]\u001b[A\n",
            "Batches:  44%|████▍     | 7/16 [00:01<00:02,  4.10it/s]\u001b[A\n",
            "Batches:  50%|█████     | 8/16 [00:01<00:02,  3.97it/s]\u001b[A\n",
            "Batches:  56%|█████▋    | 9/16 [00:02<00:01,  3.84it/s]\u001b[A\n",
            "Batches:  62%|██████▎   | 10/16 [00:02<00:01,  3.91it/s]\u001b[A\n",
            "Batches:  69%|██████▉   | 11/16 [00:02<00:01,  4.01it/s]\u001b[A\n",
            "Batches:  75%|███████▌  | 12/16 [00:02<00:00,  4.09it/s]\u001b[A\n",
            "Batches:  81%|████████▏ | 13/16 [00:03<00:00,  4.24it/s]\u001b[A\n",
            "Batches:  88%|████████▊ | 14/16 [00:03<00:00,  3.93it/s]\u001b[A\n",
            "Batches:  94%|█████████▍| 15/16 [00:03<00:00,  3.96it/s]\u001b[A\n",
            "Batches: 100%|██████████| 16/16 [00:03<00:00,  4.15it/s]\n",
            " 66%|██████▌   | 131/200 [07:57<04:24,  3.84s/it]"
          ]
        },
        {
          "output_type": "stream",
          "name": "stdout",
          "text": [
            "cnt:  132\n"
          ]
        },
        {
          "output_type": "stream",
          "name": "stderr",
          "text": [
            "\n",
            "Batches:   0%|          | 0/16 [00:00<?, ?it/s]\u001b[A\n",
            "Batches:  12%|█▎        | 2/16 [00:00<00:01,  7.60it/s]\u001b[A\n",
            "Batches:  19%|█▉        | 3/16 [00:00<00:02,  6.28it/s]\u001b[A\n",
            "Batches:  25%|██▌       | 4/16 [00:00<00:02,  5.74it/s]\u001b[A\n",
            "Batches:  31%|███▏      | 5/16 [00:00<00:02,  5.19it/s]\u001b[A\n",
            "Batches:  38%|███▊      | 6/16 [00:01<00:02,  4.79it/s]\u001b[A\n",
            "Batches:  44%|████▍     | 7/16 [00:01<00:01,  5.13it/s]\u001b[A\n",
            "Batches:  50%|█████     | 8/16 [00:01<00:01,  4.74it/s]\u001b[A\n",
            "Batches:  56%|█████▋    | 9/16 [00:01<00:01,  4.34it/s]\u001b[A\n",
            "Batches:  62%|██████▎   | 10/16 [00:02<00:01,  4.36it/s]\u001b[A\n",
            "Batches:  69%|██████▉   | 11/16 [00:02<00:01,  4.29it/s]\u001b[A\n",
            "Batches:  75%|███████▌  | 12/16 [00:02<00:00,  4.42it/s]\u001b[A\n",
            "Batches:  81%|████████▏ | 13/16 [00:02<00:00,  4.55it/s]\u001b[A\n",
            "Batches:  88%|████████▊ | 14/16 [00:02<00:00,  4.17it/s]\u001b[A\n",
            "Batches:  94%|█████████▍| 15/16 [00:03<00:00,  4.27it/s]\u001b[A\n",
            "Batches: 100%|██████████| 16/16 [00:03<00:00,  4.65it/s]\n",
            " 66%|██████▌   | 132/200 [08:01<04:15,  3.76s/it]"
          ]
        },
        {
          "output_type": "stream",
          "name": "stdout",
          "text": [
            "cnt:  133\n"
          ]
        },
        {
          "output_type": "stream",
          "name": "stderr",
          "text": [
            "\n",
            "Batches:   0%|          | 0/16 [00:00<?, ?it/s]\u001b[A\n",
            "Batches:  12%|█▎        | 2/16 [00:00<00:01,  7.81it/s]\u001b[A\n",
            "Batches:  19%|█▉        | 3/16 [00:00<00:02,  4.88it/s]\u001b[A\n",
            "Batches:  25%|██▌       | 4/16 [00:00<00:02,  5.03it/s]\u001b[A\n",
            "Batches:  31%|███▏      | 5/16 [00:00<00:02,  4.79it/s]\u001b[A\n",
            "Batches:  38%|███▊      | 6/16 [00:01<00:02,  4.27it/s]\u001b[A\n",
            "Batches:  44%|████▍     | 7/16 [00:01<00:02,  4.47it/s]\u001b[A\n",
            "Batches:  50%|█████     | 8/16 [00:01<00:01,  4.54it/s]\u001b[A\n",
            "Batches:  56%|█████▋    | 9/16 [00:02<00:01,  3.94it/s]\u001b[A\n",
            "Batches:  62%|██████▎   | 10/16 [00:02<00:01,  3.92it/s]\u001b[A\n",
            "Batches:  69%|██████▉   | 11/16 [00:02<00:01,  4.16it/s]\u001b[A\n",
            "Batches:  75%|███████▌  | 12/16 [00:02<00:00,  4.48it/s]\u001b[A\n",
            "Batches:  81%|████████▏ | 13/16 [00:02<00:00,  3.96it/s]\u001b[A\n",
            "Batches:  88%|████████▊ | 14/16 [00:03<00:00,  3.89it/s]\u001b[A\n",
            "Batches:  94%|█████████▍| 15/16 [00:03<00:00,  3.81it/s]\u001b[A\n",
            "Batches: 100%|██████████| 16/16 [00:03<00:00,  4.26it/s]\n",
            " 66%|██████▋   | 133/200 [08:04<04:14,  3.81s/it]"
          ]
        },
        {
          "output_type": "stream",
          "name": "stdout",
          "text": [
            "cnt:  134\n"
          ]
        },
        {
          "output_type": "stream",
          "name": "stderr",
          "text": [
            "\n",
            "Batches:   0%|          | 0/16 [00:00<?, ?it/s]\u001b[A\n",
            "Batches:  12%|█▎        | 2/16 [00:00<00:01, 11.17it/s]\u001b[A\n",
            "Batches:  25%|██▌       | 4/16 [00:00<00:01,  6.80it/s]\u001b[A\n",
            "Batches:  31%|███▏      | 5/16 [00:00<00:01,  6.44it/s]\u001b[A\n",
            "Batches:  38%|███▊      | 6/16 [00:01<00:02,  4.75it/s]\u001b[A\n",
            "Batches:  44%|████▍     | 7/16 [00:01<00:01,  4.65it/s]\u001b[A\n",
            "Batches:  50%|█████     | 8/16 [00:01<00:01,  4.88it/s]\u001b[A\n",
            "Batches:  56%|█████▋    | 9/16 [00:01<00:01,  4.30it/s]\u001b[A\n",
            "Batches:  62%|██████▎   | 10/16 [00:02<00:01,  4.32it/s]\u001b[A\n",
            "Batches:  69%|██████▉   | 11/16 [00:02<00:01,  4.20it/s]\u001b[A\n",
            "Batches:  75%|███████▌  | 12/16 [00:02<00:00,  4.55it/s]\u001b[A\n",
            "Batches:  81%|████████▏ | 13/16 [00:02<00:00,  4.61it/s]\u001b[A\n",
            "Batches:  88%|████████▊ | 14/16 [00:02<00:00,  4.80it/s]\u001b[A\n",
            "Batches:  94%|█████████▍| 15/16 [00:03<00:00,  4.60it/s]\u001b[A\n",
            "Batches: 100%|██████████| 16/16 [00:03<00:00,  4.86it/s]\n",
            " 67%|██████▋   | 134/200 [08:08<04:03,  3.69s/it]"
          ]
        },
        {
          "output_type": "stream",
          "name": "stdout",
          "text": [
            "cnt:  135\n"
          ]
        },
        {
          "output_type": "stream",
          "name": "stderr",
          "text": [
            "\n",
            "Batches:   0%|          | 0/16 [00:00<?, ?it/s]\u001b[A\n",
            "Batches:  12%|█▎        | 2/16 [00:00<00:01,  8.53it/s]\u001b[A\n",
            "Batches:  19%|█▉        | 3/16 [00:00<00:01,  6.62it/s]\u001b[A\n",
            "Batches:  25%|██▌       | 4/16 [00:00<00:02,  5.59it/s]\u001b[A\n",
            "Batches:  31%|███▏      | 5/16 [00:00<00:02,  4.83it/s]\u001b[A\n",
            "Batches:  38%|███▊      | 6/16 [00:01<00:02,  4.71it/s]\u001b[A\n",
            "Batches:  44%|████▍     | 7/16 [00:01<00:01,  4.76it/s]\u001b[A\n",
            "Batches:  50%|█████     | 8/16 [00:01<00:01,  4.85it/s]\u001b[A\n",
            "Batches:  56%|█████▋    | 9/16 [00:01<00:01,  4.77it/s]\u001b[A\n",
            "Batches:  62%|██████▎   | 10/16 [00:01<00:01,  4.67it/s]\u001b[A\n",
            "Batches:  69%|██████▉   | 11/16 [00:02<00:01,  4.69it/s]\u001b[A\n",
            "Batches:  75%|███████▌  | 12/16 [00:02<00:00,  4.75it/s]\u001b[A\n",
            "Batches:  81%|████████▏ | 13/16 [00:02<00:00,  4.77it/s]\u001b[A\n",
            "Batches:  88%|████████▊ | 14/16 [00:02<00:00,  4.72it/s]\u001b[A\n",
            "Batches:  94%|█████████▍| 15/16 [00:02<00:00,  5.06it/s]\u001b[A\n",
            "Batches: 100%|██████████| 16/16 [00:03<00:00,  5.05it/s]\n",
            " 68%|██████▊   | 135/200 [08:11<03:51,  3.57s/it]"
          ]
        },
        {
          "output_type": "stream",
          "name": "stdout",
          "text": [
            "cnt:  136\n"
          ]
        },
        {
          "output_type": "stream",
          "name": "stderr",
          "text": [
            "\n",
            "Batches:   0%|          | 0/16 [00:00<?, ?it/s]\u001b[A\n",
            "Batches:  12%|█▎        | 2/16 [00:00<00:01,  7.65it/s]\u001b[A\n",
            "Batches:  19%|█▉        | 3/16 [00:00<00:02,  5.07it/s]\u001b[A\n",
            "Batches:  25%|██▌       | 4/16 [00:00<00:02,  4.91it/s]\u001b[A\n",
            "Batches:  31%|███▏      | 5/16 [00:01<00:02,  4.44it/s]\u001b[A\n",
            "Batches:  38%|███▊      | 6/16 [00:01<00:02,  4.55it/s]\u001b[A\n",
            "Batches:  44%|████▍     | 7/16 [00:01<00:01,  4.60it/s]\u001b[A\n",
            "Batches:  50%|█████     | 8/16 [00:01<00:01,  4.58it/s]\u001b[A\n",
            "Batches:  56%|█████▋    | 9/16 [00:01<00:01,  4.09it/s]\u001b[A\n",
            "Batches:  62%|██████▎   | 10/16 [00:02<00:01,  4.20it/s]\u001b[A\n",
            "Batches:  69%|██████▉   | 11/16 [00:02<00:01,  4.24it/s]\u001b[A\n",
            "Batches:  75%|███████▌  | 12/16 [00:02<00:01,  3.94it/s]\u001b[A\n",
            "Batches:  81%|████████▏ | 13/16 [00:02<00:00,  4.02it/s]\u001b[A\n",
            "Batches:  88%|████████▊ | 14/16 [00:03<00:00,  3.95it/s]\u001b[A\n",
            "Batches:  94%|█████████▍| 15/16 [00:03<00:00,  4.10it/s]\u001b[A\n",
            "Batches: 100%|██████████| 16/16 [00:03<00:00,  4.41it/s]\n",
            " 68%|██████▊   | 136/200 [08:15<03:52,  3.63s/it]"
          ]
        },
        {
          "output_type": "stream",
          "name": "stdout",
          "text": [
            "cnt:  137\n"
          ]
        },
        {
          "output_type": "stream",
          "name": "stderr",
          "text": [
            "\n",
            "Batches:   0%|          | 0/16 [00:00<?, ?it/s]\u001b[A\n",
            "Batches:  12%|█▎        | 2/16 [00:00<00:01,  7.91it/s]\u001b[A\n",
            "Batches:  19%|█▉        | 3/16 [00:00<00:02,  5.61it/s]\u001b[A\n",
            "Batches:  25%|██▌       | 4/16 [00:00<00:02,  5.43it/s]\u001b[A\n",
            "Batches:  31%|███▏      | 5/16 [00:00<00:02,  5.09it/s]\u001b[A\n",
            "Batches:  38%|███▊      | 6/16 [00:01<00:02,  4.87it/s]\u001b[A\n",
            "Batches:  44%|████▍     | 7/16 [00:01<00:01,  5.02it/s]\u001b[A\n",
            "Batches:  50%|█████     | 8/16 [00:01<00:01,  4.63it/s]\u001b[A\n",
            "Batches:  56%|█████▋    | 9/16 [00:01<00:01,  4.92it/s]\u001b[A\n",
            "Batches:  62%|██████▎   | 10/16 [00:01<00:01,  4.97it/s]\u001b[A\n",
            "Batches:  69%|██████▉   | 11/16 [00:02<00:01,  4.67it/s]\u001b[A\n",
            "Batches:  75%|███████▌  | 12/16 [00:02<00:00,  4.91it/s]\u001b[A\n",
            "Batches:  81%|████████▏ | 13/16 [00:02<00:00,  4.56it/s]\u001b[A\n",
            "Batches:  88%|████████▊ | 14/16 [00:02<00:00,  4.86it/s]\u001b[A\n",
            "Batches:  94%|█████████▍| 15/16 [00:03<00:00,  4.65it/s]\u001b[A\n",
            "Batches: 100%|██████████| 16/16 [00:03<00:00,  4.91it/s]\n",
            " 68%|██████▊   | 137/200 [08:18<03:44,  3.56s/it]"
          ]
        },
        {
          "output_type": "stream",
          "name": "stdout",
          "text": [
            "cnt:  138\n"
          ]
        },
        {
          "output_type": "stream",
          "name": "stderr",
          "text": [
            "\n",
            "Batches:   0%|          | 0/16 [00:00<?, ?it/s]\u001b[A\n",
            "Batches:  12%|█▎        | 2/16 [00:00<00:01,  8.05it/s]\u001b[A\n",
            "Batches:  19%|█▉        | 3/16 [00:00<00:02,  6.49it/s]\u001b[A\n",
            "Batches:  25%|██▌       | 4/16 [00:00<00:02,  5.58it/s]\u001b[A\n",
            "Batches:  31%|███▏      | 5/16 [00:00<00:01,  5.63it/s]\u001b[A\n",
            "Batches:  38%|███▊      | 6/16 [00:01<00:02,  4.76it/s]\u001b[A\n",
            "Batches:  44%|████▍     | 7/16 [00:01<00:01,  4.88it/s]\u001b[A\n",
            "Batches:  50%|█████     | 8/16 [00:01<00:01,  4.80it/s]\u001b[A\n",
            "Batches:  56%|█████▋    | 9/16 [00:01<00:01,  4.84it/s]\u001b[A\n",
            "Batches:  62%|██████▎   | 10/16 [00:01<00:01,  4.84it/s]\u001b[A\n",
            "Batches:  69%|██████▉   | 11/16 [00:02<00:01,  4.67it/s]\u001b[A\n",
            "Batches:  75%|███████▌  | 12/16 [00:02<00:00,  4.75it/s]\u001b[A\n",
            "Batches:  81%|████████▏ | 13/16 [00:02<00:00,  4.57it/s]\u001b[A\n",
            "Batches:  88%|████████▊ | 14/16 [00:02<00:00,  4.78it/s]\u001b[A\n",
            "Batches:  94%|█████████▍| 15/16 [00:02<00:00,  4.92it/s]\u001b[A\n",
            "Batches: 100%|██████████| 16/16 [00:03<00:00,  4.97it/s]\n",
            " 69%|██████▉   | 138/200 [08:22<03:36,  3.49s/it]"
          ]
        },
        {
          "output_type": "stream",
          "name": "stdout",
          "text": [
            "cnt:  139\n"
          ]
        },
        {
          "output_type": "stream",
          "name": "stderr",
          "text": [
            "\n",
            "Batches:   0%|          | 0/16 [00:00<?, ?it/s]\u001b[A\n",
            "Batches:  12%|█▎        | 2/16 [00:00<00:01,  8.30it/s]\u001b[A\n",
            "Batches:  19%|█▉        | 3/16 [00:00<00:02,  6.50it/s]\u001b[A\n",
            "Batches:  25%|██▌       | 4/16 [00:00<00:01,  6.20it/s]\u001b[A\n",
            "Batches:  31%|███▏      | 5/16 [00:00<00:01,  5.91it/s]\u001b[A\n",
            "Batches:  38%|███▊      | 6/16 [00:01<00:01,  5.20it/s]\u001b[A\n",
            "Batches:  44%|████▍     | 7/16 [00:01<00:01,  5.31it/s]\u001b[A\n",
            "Batches:  50%|█████     | 8/16 [00:01<00:01,  5.43it/s]\u001b[A\n",
            "Batches:  56%|█████▋    | 9/16 [00:01<00:01,  5.43it/s]\u001b[A\n",
            "Batches:  62%|██████▎   | 10/16 [00:01<00:01,  5.46it/s]\u001b[A\n",
            "Batches:  69%|██████▉   | 11/16 [00:01<00:00,  5.07it/s]\u001b[A\n",
            "Batches:  75%|███████▌  | 12/16 [00:02<00:00,  4.98it/s]\u001b[A\n",
            "Batches:  81%|████████▏ | 13/16 [00:02<00:00,  5.08it/s]\u001b[A\n",
            "Batches:  88%|████████▊ | 14/16 [00:02<00:00,  5.29it/s]\u001b[A\n",
            "Batches:  94%|█████████▍| 15/16 [00:02<00:00,  4.73it/s]\u001b[A\n",
            "Batches: 100%|██████████| 16/16 [00:03<00:00,  5.16it/s]\n",
            " 70%|██████▉   | 139/200 [08:25<03:28,  3.42s/it]"
          ]
        },
        {
          "output_type": "stream",
          "name": "stdout",
          "text": [
            "cnt:  140\n"
          ]
        },
        {
          "output_type": "stream",
          "name": "stderr",
          "text": [
            "\n",
            "Batches:   0%|          | 0/16 [00:00<?, ?it/s]\u001b[A\n",
            "Batches:  12%|█▎        | 2/16 [00:00<00:02,  6.89it/s]\u001b[A\n",
            "Batches:  19%|█▉        | 3/16 [00:00<00:02,  5.55it/s]\u001b[A\n",
            "Batches:  25%|██▌       | 4/16 [00:00<00:02,  5.39it/s]\u001b[A\n",
            "Batches:  31%|███▏      | 5/16 [00:01<00:02,  4.31it/s]\u001b[A\n",
            "Batches:  38%|███▊      | 6/16 [00:01<00:02,  4.46it/s]\u001b[A\n",
            "Batches:  44%|████▍     | 7/16 [00:01<00:02,  4.28it/s]\u001b[A\n",
            "Batches:  50%|█████     | 8/16 [00:01<00:01,  4.18it/s]\u001b[A\n",
            "Batches:  56%|█████▋    | 9/16 [00:01<00:01,  4.25it/s]\u001b[A\n",
            "Batches:  62%|██████▎   | 10/16 [00:02<00:01,  3.93it/s]\u001b[A\n",
            "Batches:  69%|██████▉   | 11/16 [00:02<00:01,  3.74it/s]\u001b[A\n",
            "Batches:  75%|███████▌  | 12/16 [00:02<00:01,  3.98it/s]\u001b[A\n",
            "Batches:  81%|████████▏ | 13/16 [00:03<00:00,  4.13it/s]\u001b[A\n",
            "Batches:  88%|████████▊ | 14/16 [00:03<00:00,  3.97it/s]\u001b[A\n",
            "Batches:  94%|█████████▍| 15/16 [00:03<00:00,  3.74it/s]\u001b[A\n",
            "Batches: 100%|██████████| 16/16 [00:03<00:00,  4.20it/s]\n",
            " 70%|███████   | 140/200 [08:29<03:36,  3.60s/it]"
          ]
        },
        {
          "output_type": "stream",
          "name": "stdout",
          "text": [
            "cnt:  141\n"
          ]
        },
        {
          "output_type": "stream",
          "name": "stderr",
          "text": [
            "\n",
            "Batches:   0%|          | 0/16 [00:00<?, ?it/s]\u001b[A\n",
            "Batches:  12%|█▎        | 2/16 [00:00<00:01,  7.93it/s]\u001b[A\n",
            "Batches:  19%|█▉        | 3/16 [00:00<00:02,  5.95it/s]\u001b[A\n",
            "Batches:  25%|██▌       | 4/16 [00:00<00:02,  5.37it/s]\u001b[A\n",
            "Batches:  31%|███▏      | 5/16 [00:01<00:02,  4.18it/s]\u001b[A\n",
            "Batches:  38%|███▊      | 6/16 [00:01<00:02,  4.20it/s]\u001b[A\n",
            "Batches:  44%|████▍     | 7/16 [00:01<00:02,  4.31it/s]\u001b[A\n",
            "Batches:  50%|█████     | 8/16 [00:01<00:01,  4.37it/s]\u001b[A\n",
            "Batches:  56%|█████▋    | 9/16 [00:01<00:01,  4.31it/s]\u001b[A\n",
            "Batches:  62%|██████▎   | 10/16 [00:02<00:01,  4.09it/s]\u001b[A\n",
            "Batches:  69%|██████▉   | 11/16 [00:02<00:01,  4.07it/s]\u001b[A\n",
            "Batches:  75%|███████▌  | 12/16 [00:02<00:00,  4.23it/s]\u001b[A\n",
            "Batches:  81%|████████▏ | 13/16 [00:02<00:00,  4.25it/s]\u001b[A\n",
            "Batches:  88%|████████▊ | 14/16 [00:03<00:00,  4.26it/s]\u001b[A\n",
            "Batches:  94%|█████████▍| 15/16 [00:03<00:00,  4.12it/s]\u001b[A\n",
            "Batches: 100%|██████████| 16/16 [00:03<00:00,  4.40it/s]\n",
            " 70%|███████   | 141/200 [08:33<03:36,  3.68s/it]"
          ]
        },
        {
          "output_type": "stream",
          "name": "stdout",
          "text": [
            "cnt:  142\n"
          ]
        },
        {
          "output_type": "stream",
          "name": "stderr",
          "text": [
            "\n",
            "Batches:   0%|          | 0/16 [00:00<?, ?it/s]\u001b[A\n",
            "Batches:  12%|█▎        | 2/16 [00:00<00:01,  7.03it/s]\u001b[A\n",
            "Batches:  19%|█▉        | 3/16 [00:00<00:02,  5.63it/s]\u001b[A\n",
            "Batches:  25%|██▌       | 4/16 [00:00<00:02,  5.29it/s]\u001b[A\n",
            "Batches:  31%|███▏      | 5/16 [00:01<00:02,  4.25it/s]\u001b[A\n",
            "Batches:  38%|███▊      | 6/16 [00:01<00:02,  4.18it/s]\u001b[A\n",
            "Batches:  44%|████▍     | 7/16 [00:01<00:02,  4.27it/s]\u001b[A\n",
            "Batches:  50%|█████     | 8/16 [00:01<00:01,  4.75it/s]\u001b[A\n",
            "Batches:  56%|█████▋    | 9/16 [00:01<00:01,  4.57it/s]\u001b[A\n",
            "Batches:  62%|██████▎   | 10/16 [00:02<00:01,  4.71it/s]\u001b[A\n",
            "Batches:  69%|██████▉   | 11/16 [00:02<00:01,  4.44it/s]\u001b[A\n",
            "Batches:  75%|███████▌  | 12/16 [00:02<00:00,  4.46it/s]\u001b[A\n",
            "Batches:  81%|████████▏ | 13/16 [00:02<00:00,  4.21it/s]\u001b[A\n",
            "Batches:  88%|████████▊ | 14/16 [00:03<00:00,  4.42it/s]\u001b[A\n",
            "Batches:  94%|█████████▍| 15/16 [00:03<00:00,  4.51it/s]\u001b[A\n",
            "Batches: 100%|██████████| 16/16 [00:03<00:00,  4.61it/s]\n",
            " 71%|███████   | 142/200 [08:36<03:31,  3.65s/it]"
          ]
        },
        {
          "output_type": "stream",
          "name": "stdout",
          "text": [
            "cnt:  143\n"
          ]
        },
        {
          "output_type": "stream",
          "name": "stderr",
          "text": [
            "\n",
            "Batches:   0%|          | 0/16 [00:00<?, ?it/s]\u001b[A\n",
            "Batches:  12%|█▎        | 2/16 [00:00<00:01,  8.86it/s]\u001b[A\n",
            "Batches:  19%|█▉        | 3/16 [00:00<00:01,  6.71it/s]\u001b[A\n",
            "Batches:  25%|██▌       | 4/16 [00:00<00:01,  6.70it/s]\u001b[A\n",
            "Batches:  31%|███▏      | 5/16 [00:00<00:01,  6.25it/s]\u001b[A\n",
            "Batches:  38%|███▊      | 6/16 [00:01<00:02,  4.94it/s]\u001b[A\n",
            "Batches:  44%|████▍     | 7/16 [00:01<00:01,  4.63it/s]\u001b[A\n",
            "Batches:  50%|█████     | 8/16 [00:01<00:01,  4.65it/s]\u001b[A\n",
            "Batches:  56%|█████▋    | 9/16 [00:01<00:01,  4.73it/s]\u001b[A\n",
            "Batches:  62%|██████▎   | 10/16 [00:01<00:01,  4.46it/s]\u001b[A\n",
            "Batches:  69%|██████▉   | 11/16 [00:02<00:01,  4.81it/s]\u001b[A\n",
            "Batches:  75%|███████▌  | 12/16 [00:02<00:00,  5.15it/s]\u001b[A\n",
            "Batches:  81%|████████▏ | 13/16 [00:02<00:00,  4.74it/s]\u001b[A\n",
            "Batches:  88%|████████▊ | 14/16 [00:02<00:00,  4.75it/s]\u001b[A\n",
            "Batches:  94%|█████████▍| 15/16 [00:02<00:00,  4.82it/s]\u001b[A\n",
            "Batches: 100%|██████████| 16/16 [00:03<00:00,  5.03it/s]\n",
            " 72%|███████▏  | 143/200 [08:40<03:22,  3.55s/it]"
          ]
        },
        {
          "output_type": "stream",
          "name": "stdout",
          "text": [
            "cnt:  144\n"
          ]
        },
        {
          "output_type": "stream",
          "name": "stderr",
          "text": [
            "\n",
            "Batches:   0%|          | 0/16 [00:00<?, ?it/s]\u001b[A\n",
            "Batches:  12%|█▎        | 2/16 [00:00<00:02,  5.96it/s]\u001b[A\n",
            "Batches:  19%|█▉        | 3/16 [00:00<00:02,  5.28it/s]\u001b[A\n",
            "Batches:  25%|██▌       | 4/16 [00:00<00:02,  5.04it/s]\u001b[A\n",
            "Batches:  31%|███▏      | 5/16 [00:01<00:02,  4.41it/s]\u001b[A\n",
            "Batches:  38%|███▊      | 6/16 [00:01<00:02,  4.46it/s]\u001b[A\n",
            "Batches:  44%|████▍     | 7/16 [00:01<00:01,  4.54it/s]\u001b[A\n",
            "Batches:  50%|█████     | 8/16 [00:01<00:01,  4.63it/s]\u001b[A\n",
            "Batches:  56%|█████▋    | 9/16 [00:01<00:01,  4.18it/s]\u001b[A\n",
            "Batches:  62%|██████▎   | 10/16 [00:02<00:01,  4.29it/s]\u001b[A\n",
            "Batches:  69%|██████▉   | 11/16 [00:02<00:01,  4.35it/s]\u001b[A\n",
            "Batches:  75%|███████▌  | 12/16 [00:02<00:00,  4.62it/s]\u001b[A\n",
            "Batches:  81%|████████▏ | 13/16 [00:02<00:00,  4.32it/s]\u001b[A\n",
            "Batches:  88%|████████▊ | 14/16 [00:03<00:00,  4.10it/s]\u001b[A\n",
            "Batches:  94%|█████████▍| 15/16 [00:03<00:00,  4.25it/s]\u001b[A\n",
            "Batches: 100%|██████████| 16/16 [00:03<00:00,  4.44it/s]\n",
            " 72%|███████▏  | 144/200 [08:43<03:22,  3.61s/it]"
          ]
        },
        {
          "output_type": "stream",
          "name": "stdout",
          "text": [
            "cnt:  145\n"
          ]
        },
        {
          "output_type": "stream",
          "name": "stderr",
          "text": [
            "\n",
            "Batches:   0%|          | 0/16 [00:00<?, ?it/s]\u001b[A\n",
            "Batches:  12%|█▎        | 2/16 [00:00<00:02,  6.57it/s]\u001b[A\n",
            "Batches:  19%|█▉        | 3/16 [00:00<00:02,  5.79it/s]\u001b[A\n",
            "Batches:  25%|██▌       | 4/16 [00:00<00:02,  5.29it/s]\u001b[A\n",
            "Batches:  31%|███▏      | 5/16 [00:01<00:02,  4.51it/s]\u001b[A\n",
            "Batches:  38%|███▊      | 6/16 [00:01<00:02,  4.31it/s]\u001b[A\n",
            "Batches:  44%|████▍     | 7/16 [00:01<00:02,  4.07it/s]\u001b[A\n",
            "Batches:  50%|█████     | 8/16 [00:01<00:02,  3.83it/s]\u001b[A\n",
            "Batches:  56%|█████▋    | 9/16 [00:02<00:01,  3.54it/s]\u001b[A\n",
            "Batches:  62%|██████▎   | 10/16 [00:02<00:01,  3.54it/s]\u001b[A\n",
            "Batches:  69%|██████▉   | 11/16 [00:02<00:01,  3.47it/s]\u001b[A\n",
            "Batches:  75%|███████▌  | 12/16 [00:03<00:01,  3.58it/s]\u001b[A\n",
            "Batches:  81%|████████▏ | 13/16 [00:03<00:00,  3.63it/s]\u001b[A\n",
            "Batches:  88%|████████▊ | 14/16 [00:03<00:00,  3.56it/s]\u001b[A\n",
            "Batches:  94%|█████████▍| 15/16 [00:03<00:00,  3.74it/s]\u001b[A\n",
            "Batches: 100%|██████████| 16/16 [00:04<00:00,  3.88it/s]\n",
            " 72%|███████▎  | 145/200 [08:48<03:29,  3.81s/it]"
          ]
        },
        {
          "output_type": "stream",
          "name": "stdout",
          "text": [
            "cnt:  146\n"
          ]
        },
        {
          "output_type": "stream",
          "name": "stderr",
          "text": [
            "\n",
            "Batches:   0%|          | 0/16 [00:00<?, ?it/s]\u001b[A\n",
            "Batches:  12%|█▎        | 2/16 [00:00<00:02,  6.69it/s]\u001b[A\n",
            "Batches:  19%|█▉        | 3/16 [00:00<00:02,  4.76it/s]\u001b[A\n",
            "Batches:  25%|██▌       | 4/16 [00:00<00:02,  4.81it/s]\u001b[A\n",
            "Batches:  31%|███▏      | 5/16 [00:01<00:02,  4.46it/s]\u001b[A\n",
            "Batches:  38%|███▊      | 6/16 [00:01<00:02,  4.58it/s]\u001b[A\n",
            "Batches:  44%|████▍     | 7/16 [00:01<00:01,  4.73it/s]\u001b[A\n",
            "Batches:  50%|█████     | 8/16 [00:01<00:01,  4.53it/s]\u001b[A\n",
            "Batches:  56%|█████▋    | 9/16 [00:01<00:01,  4.48it/s]\u001b[A\n",
            "Batches:  62%|██████▎   | 10/16 [00:02<00:01,  4.16it/s]\u001b[A\n",
            "Batches:  69%|██████▉   | 11/16 [00:02<00:01,  4.32it/s]\u001b[A\n",
            "Batches:  75%|███████▌  | 12/16 [00:02<00:00,  4.42it/s]\u001b[A\n",
            "Batches:  81%|████████▏ | 13/16 [00:02<00:00,  4.03it/s]\u001b[A\n",
            "Batches:  88%|████████▊ | 14/16 [00:03<00:00,  4.12it/s]\u001b[A\n",
            "Batches:  94%|█████████▍| 15/16 [00:03<00:00,  4.21it/s]\u001b[A\n",
            "Batches: 100%|██████████| 16/16 [00:03<00:00,  4.42it/s]\n",
            " 73%|███████▎  | 146/200 [08:52<03:25,  3.81s/it]"
          ]
        },
        {
          "output_type": "stream",
          "name": "stdout",
          "text": [
            "cnt:  147\n"
          ]
        },
        {
          "output_type": "stream",
          "name": "stderr",
          "text": [
            "\n",
            "Batches:   0%|          | 0/16 [00:00<?, ?it/s]\u001b[A\n",
            "Batches:  12%|█▎        | 2/16 [00:00<00:02,  5.81it/s]\u001b[A\n",
            "Batches:  19%|█▉        | 3/16 [00:00<00:02,  4.89it/s]\u001b[A\n",
            "Batches:  25%|██▌       | 4/16 [00:00<00:02,  4.13it/s]\u001b[A\n",
            "Batches:  31%|███▏      | 5/16 [00:01<00:02,  3.87it/s]\u001b[A\n",
            "Batches:  38%|███▊      | 6/16 [00:01<00:02,  4.41it/s]\u001b[A\n",
            "Batches:  44%|████▍     | 7/16 [00:01<00:02,  4.43it/s]\u001b[A\n",
            "Batches:  50%|█████     | 8/16 [00:01<00:01,  4.19it/s]\u001b[A\n",
            "Batches:  56%|█████▋    | 9/16 [00:02<00:01,  3.90it/s]\u001b[A\n",
            "Batches:  62%|██████▎   | 10/16 [00:02<00:01,  3.97it/s]\u001b[A\n",
            "Batches:  69%|██████▉   | 11/16 [00:02<00:01,  4.34it/s]\u001b[A\n",
            "Batches:  75%|███████▌  | 12/16 [00:02<00:01,  3.93it/s]\u001b[A\n",
            "Batches:  81%|████████▏ | 13/16 [00:03<00:00,  3.82it/s]\u001b[A\n",
            "Batches:  88%|████████▊ | 14/16 [00:03<00:00,  4.23it/s]\u001b[A\n",
            "Batches:  94%|█████████▍| 15/16 [00:03<00:00,  4.44it/s]\u001b[A\n",
            "Batches: 100%|██████████| 16/16 [00:03<00:00,  4.22it/s]\n",
            " 74%|███████▎  | 147/200 [08:56<03:24,  3.86s/it]"
          ]
        },
        {
          "output_type": "stream",
          "name": "stdout",
          "text": [
            "cnt:  148\n"
          ]
        },
        {
          "output_type": "stream",
          "name": "stderr",
          "text": [
            "\n",
            "Batches:   0%|          | 0/16 [00:00<?, ?it/s]\u001b[A\n",
            "Batches:  12%|█▎        | 2/16 [00:00<00:02,  6.24it/s]\u001b[A\n",
            "Batches:  19%|█▉        | 3/16 [00:00<00:02,  5.44it/s]\u001b[A\n",
            "Batches:  25%|██▌       | 4/16 [00:00<00:02,  4.39it/s]\u001b[A\n",
            "Batches:  31%|███▏      | 5/16 [00:01<00:02,  3.76it/s]\u001b[A\n",
            "Batches:  38%|███▊      | 6/16 [00:01<00:02,  4.06it/s]\u001b[A\n",
            "Batches:  44%|████▍     | 7/16 [00:01<00:02,  4.20it/s]\u001b[A\n",
            "Batches:  50%|█████     | 8/16 [00:01<00:01,  4.08it/s]\u001b[A\n",
            "Batches:  56%|█████▋    | 9/16 [00:02<00:01,  3.86it/s]\u001b[A\n",
            "Batches:  62%|██████▎   | 10/16 [00:02<00:01,  3.84it/s]\u001b[A\n",
            "Batches:  69%|██████▉   | 11/16 [00:02<00:01,  3.68it/s]\u001b[A\n",
            "Batches:  75%|███████▌  | 12/16 [00:02<00:01,  3.67it/s]\u001b[A\n",
            "Batches:  81%|████████▏ | 13/16 [00:03<00:00,  3.55it/s]\u001b[A\n",
            "Batches:  88%|████████▊ | 14/16 [00:03<00:00,  3.56it/s]\u001b[A\n",
            "Batches:  94%|█████████▍| 15/16 [00:03<00:00,  3.47it/s]\u001b[A\n",
            "Batches: 100%|██████████| 16/16 [00:04<00:00,  3.85it/s]\n",
            " 74%|███████▍  | 148/200 [09:00<03:27,  3.99s/it]"
          ]
        },
        {
          "output_type": "stream",
          "name": "stdout",
          "text": [
            "cnt:  149\n"
          ]
        },
        {
          "output_type": "stream",
          "name": "stderr",
          "text": [
            "\n",
            "Batches:   0%|          | 0/16 [00:00<?, ?it/s]\u001b[A\n",
            "Batches:  12%|█▎        | 2/16 [00:00<00:02,  6.92it/s]\u001b[A\n",
            "Batches:  19%|█▉        | 3/16 [00:00<00:02,  5.29it/s]\u001b[A\n",
            "Batches:  25%|██▌       | 4/16 [00:00<00:02,  5.36it/s]\u001b[A\n",
            "Batches:  31%|███▏      | 5/16 [00:00<00:02,  5.37it/s]\u001b[A\n",
            "Batches:  38%|███▊      | 6/16 [00:01<00:02,  4.88it/s]\u001b[A\n",
            "Batches:  44%|████▍     | 7/16 [00:01<00:01,  4.70it/s]\u001b[A\n",
            "Batches:  50%|█████     | 8/16 [00:01<00:01,  4.48it/s]\u001b[A\n",
            "Batches:  56%|█████▋    | 9/16 [00:01<00:01,  4.51it/s]\u001b[A\n",
            "Batches:  62%|██████▎   | 10/16 [00:02<00:01,  4.61it/s]\u001b[A\n",
            "Batches:  69%|██████▉   | 11/16 [00:02<00:01,  4.83it/s]\u001b[A\n",
            "Batches:  75%|███████▌  | 12/16 [00:02<00:00,  4.47it/s]\u001b[A\n",
            "Batches:  81%|████████▏ | 13/16 [00:02<00:00,  4.43it/s]\u001b[A\n",
            "Batches:  88%|████████▊ | 14/16 [00:02<00:00,  4.30it/s]\u001b[A\n",
            "Batches:  94%|█████████▍| 15/16 [00:03<00:00,  4.32it/s]\u001b[A\n",
            "Batches: 100%|██████████| 16/16 [00:03<00:00,  4.63it/s]\n",
            " 74%|███████▍  | 149/200 [09:03<03:17,  3.88s/it]"
          ]
        },
        {
          "output_type": "stream",
          "name": "stdout",
          "text": [
            "cnt:  150\n"
          ]
        },
        {
          "output_type": "stream",
          "name": "stderr",
          "text": [
            "\n",
            "Batches:   0%|          | 0/16 [00:00<?, ?it/s]\u001b[A\n",
            "Batches:  12%|█▎        | 2/16 [00:00<00:02,  6.07it/s]\u001b[A\n",
            "Batches:  19%|█▉        | 3/16 [00:00<00:02,  4.46it/s]\u001b[A\n",
            "Batches:  25%|██▌       | 4/16 [00:00<00:02,  4.02it/s]\u001b[A\n",
            "Batches:  31%|███▏      | 5/16 [00:01<00:02,  4.28it/s]\u001b[A\n",
            "Batches:  38%|███▊      | 6/16 [00:01<00:02,  3.95it/s]\u001b[A\n",
            "Batches:  44%|████▍     | 7/16 [00:01<00:02,  3.77it/s]\u001b[A\n",
            "Batches:  50%|█████     | 8/16 [00:02<00:02,  3.61it/s]\u001b[A\n",
            "Batches:  56%|█████▋    | 9/16 [00:02<00:01,  3.62it/s]\u001b[A\n",
            "Batches:  62%|██████▎   | 10/16 [00:02<00:01,  3.48it/s]\u001b[A\n",
            "Batches:  69%|██████▉   | 11/16 [00:02<00:01,  3.71it/s]\u001b[A\n",
            "Batches:  75%|███████▌  | 12/16 [00:03<00:01,  3.50it/s]\u001b[A\n",
            "Batches:  81%|████████▏ | 13/16 [00:03<00:00,  3.92it/s]\u001b[A\n",
            "Batches:  88%|████████▊ | 14/16 [00:03<00:00,  3.89it/s]\u001b[A\n",
            "Batches:  94%|█████████▍| 15/16 [00:03<00:00,  3.86it/s]\u001b[A\n",
            "Batches: 100%|██████████| 16/16 [00:04<00:00,  3.90it/s]\n",
            " 75%|███████▌  | 150/200 [09:08<03:19,  3.99s/it]"
          ]
        },
        {
          "output_type": "stream",
          "name": "stdout",
          "text": [
            "cnt:  151\n"
          ]
        },
        {
          "output_type": "stream",
          "name": "stderr",
          "text": [
            "\n",
            "Batches:   0%|          | 0/16 [00:00<?, ?it/s]\u001b[A\n",
            "Batches:  12%|█▎        | 2/16 [00:00<00:01,  9.39it/s]\u001b[A\n",
            "Batches:  19%|█▉        | 3/16 [00:00<00:01,  7.39it/s]\u001b[A\n",
            "Batches:  25%|██▌       | 4/16 [00:00<00:01,  6.74it/s]\u001b[A\n",
            "Batches:  31%|███▏      | 5/16 [00:00<00:01,  6.25it/s]\u001b[A\n",
            "Batches:  38%|███▊      | 6/16 [00:01<00:02,  4.86it/s]\u001b[A\n",
            "Batches:  44%|████▍     | 7/16 [00:01<00:01,  5.33it/s]\u001b[A\n",
            "Batches:  50%|█████     | 8/16 [00:01<00:01,  5.49it/s]\u001b[A\n",
            "Batches:  56%|█████▋    | 9/16 [00:01<00:01,  4.97it/s]\u001b[A\n",
            "Batches:  62%|██████▎   | 10/16 [00:01<00:01,  5.28it/s]\u001b[A\n",
            "Batches:  69%|██████▉   | 11/16 [00:01<00:00,  5.10it/s]\u001b[A\n",
            "Batches:  75%|███████▌  | 12/16 [00:02<00:00,  5.14it/s]\u001b[A\n",
            "Batches:  81%|████████▏ | 13/16 [00:02<00:00,  5.53it/s]\u001b[A\n",
            "Batches:  88%|████████▊ | 14/16 [00:02<00:00,  5.36it/s]\u001b[A\n",
            "Batches:  94%|█████████▍| 15/16 [00:02<00:00,  5.39it/s]\u001b[A\n",
            "Batches: 100%|██████████| 16/16 [00:02<00:00,  5.51it/s]\n",
            " 76%|███████▌  | 151/200 [09:11<03:01,  3.71s/it]"
          ]
        },
        {
          "output_type": "stream",
          "name": "stdout",
          "text": [
            "cnt:  152\n"
          ]
        },
        {
          "output_type": "stream",
          "name": "stderr",
          "text": [
            "\n",
            "Batches:   0%|          | 0/16 [00:00<?, ?it/s]\u001b[A\n",
            "Batches:  12%|█▎        | 2/16 [00:00<00:01,  7.48it/s]\u001b[A\n",
            "Batches:  19%|█▉        | 3/16 [00:00<00:02,  5.41it/s]\u001b[A\n",
            "Batches:  25%|██▌       | 4/16 [00:00<00:02,  5.10it/s]\u001b[A\n",
            "Batches:  31%|███▏      | 5/16 [00:01<00:02,  4.51it/s]\u001b[A\n",
            "Batches:  38%|███▊      | 6/16 [00:01<00:02,  4.11it/s]\u001b[A\n",
            "Batches:  44%|████▍     | 7/16 [00:01<00:02,  4.21it/s]\u001b[A\n",
            "Batches:  50%|█████     | 8/16 [00:01<00:01,  4.16it/s]\u001b[A\n",
            "Batches:  56%|█████▋    | 9/16 [00:02<00:01,  3.70it/s]\u001b[A\n",
            "Batches:  62%|██████▎   | 10/16 [00:02<00:01,  3.93it/s]\u001b[A\n",
            "Batches:  69%|██████▉   | 11/16 [00:02<00:01,  4.32it/s]\u001b[A\n",
            "Batches:  75%|███████▌  | 12/16 [00:02<00:01,  3.96it/s]\u001b[A\n",
            "Batches:  81%|████████▏ | 13/16 [00:03<00:00,  3.74it/s]\u001b[A\n",
            "Batches:  88%|████████▊ | 14/16 [00:03<00:00,  4.06it/s]\u001b[A\n",
            "Batches:  94%|█████████▍| 15/16 [00:03<00:00,  4.03it/s]\u001b[A\n",
            "Batches: 100%|██████████| 16/16 [00:03<00:00,  4.24it/s]\n",
            " 76%|███████▌  | 152/200 [09:15<03:01,  3.77s/it]"
          ]
        },
        {
          "output_type": "stream",
          "name": "stdout",
          "text": [
            "cnt:  153\n"
          ]
        },
        {
          "output_type": "stream",
          "name": "stderr",
          "text": [
            "\n",
            "Batches:   0%|          | 0/16 [00:00<?, ?it/s]\u001b[A\n",
            "Batches:  12%|█▎        | 2/16 [00:00<00:01,  9.76it/s]\u001b[A\n",
            "Batches:  19%|█▉        | 3/16 [00:00<00:01,  6.77it/s]\u001b[A\n",
            "Batches:  25%|██▌       | 4/16 [00:00<00:01,  6.02it/s]\u001b[A\n",
            "Batches:  31%|███▏      | 5/16 [00:00<00:02,  5.44it/s]\u001b[A\n",
            "Batches:  38%|███▊      | 6/16 [00:01<00:02,  4.84it/s]\u001b[A\n",
            "Batches:  44%|████▍     | 7/16 [00:01<00:01,  4.55it/s]\u001b[A\n",
            "Batches:  50%|█████     | 8/16 [00:01<00:01,  4.91it/s]\u001b[A\n",
            "Batches:  56%|█████▋    | 9/16 [00:01<00:01,  4.79it/s]\u001b[A\n",
            "Batches:  62%|██████▎   | 10/16 [00:01<00:01,  4.79it/s]\u001b[A\n",
            "Batches:  69%|██████▉   | 11/16 [00:02<00:01,  4.45it/s]\u001b[A\n",
            "Batches:  75%|███████▌  | 12/16 [00:02<00:00,  4.73it/s]\u001b[A\n",
            "Batches:  81%|████████▏ | 13/16 [00:02<00:00,  4.98it/s]\u001b[A\n",
            "Batches:  88%|████████▊ | 14/16 [00:02<00:00,  5.23it/s]\u001b[A\n",
            "Batches:  94%|█████████▍| 15/16 [00:02<00:00,  4.73it/s]\u001b[A\n",
            "Batches: 100%|██████████| 16/16 [00:03<00:00,  4.93it/s]\n",
            " 76%|███████▋  | 153/200 [09:18<02:51,  3.65s/it]"
          ]
        },
        {
          "output_type": "stream",
          "name": "stdout",
          "text": [
            "cnt:  154\n"
          ]
        },
        {
          "output_type": "stream",
          "name": "stderr",
          "text": [
            "\n",
            "Batches:   0%|          | 0/16 [00:00<?, ?it/s]\u001b[A\n",
            "Batches:  12%|█▎        | 2/16 [00:00<00:01,  7.63it/s]\u001b[A\n",
            "Batches:  19%|█▉        | 3/16 [00:00<00:02,  5.97it/s]\u001b[A\n",
            "Batches:  25%|██▌       | 4/16 [00:00<00:02,  5.36it/s]\u001b[A\n",
            "Batches:  31%|███▏      | 5/16 [00:00<00:02,  4.72it/s]\u001b[A\n",
            "Batches:  38%|███▊      | 6/16 [00:01<00:02,  4.40it/s]\u001b[A\n",
            "Batches:  44%|████▍     | 7/16 [00:01<00:02,  4.24it/s]\u001b[A\n",
            "Batches:  50%|█████     | 8/16 [00:01<00:01,  4.38it/s]\u001b[A\n",
            "Batches:  56%|█████▋    | 9/16 [00:01<00:01,  4.23it/s]\u001b[A\n",
            "Batches:  62%|██████▎   | 10/16 [00:02<00:01,  4.09it/s]\u001b[A\n",
            "Batches:  69%|██████▉   | 11/16 [00:02<00:01,  4.45it/s]\u001b[A\n",
            "Batches:  75%|███████▌  | 12/16 [00:02<00:00,  4.54it/s]\u001b[A\n",
            "Batches:  81%|████████▏ | 13/16 [00:02<00:00,  4.52it/s]\u001b[A\n",
            "Batches:  88%|████████▊ | 14/16 [00:03<00:00,  4.38it/s]\u001b[A\n",
            "Batches:  94%|█████████▍| 15/16 [00:03<00:00,  4.11it/s]\u001b[A\n",
            "Batches: 100%|██████████| 16/16 [00:03<00:00,  4.48it/s]\n",
            " 77%|███████▋  | 154/200 [09:22<02:49,  3.68s/it]"
          ]
        },
        {
          "output_type": "stream",
          "name": "stdout",
          "text": [
            "cnt:  155\n"
          ]
        },
        {
          "output_type": "stream",
          "name": "stderr",
          "text": [
            "\n",
            "Batches:   0%|          | 0/16 [00:00<?, ?it/s]\u001b[A\n",
            "Batches:  12%|█▎        | 2/16 [00:00<00:01,  7.49it/s]\u001b[A\n",
            "Batches:  19%|█▉        | 3/16 [00:00<00:02,  6.34it/s]\u001b[A\n",
            "Batches:  25%|██▌       | 4/16 [00:00<00:02,  5.41it/s]\u001b[A\n",
            "Batches:  31%|███▏      | 5/16 [00:00<00:02,  4.55it/s]\u001b[A\n",
            "Batches:  38%|███▊      | 6/16 [00:01<00:02,  4.61it/s]\u001b[A\n",
            "Batches:  44%|████▍     | 7/16 [00:01<00:02,  4.38it/s]\u001b[A\n",
            "Batches:  50%|█████     | 8/16 [00:01<00:01,  4.67it/s]\u001b[A\n",
            "Batches:  56%|█████▋    | 9/16 [00:01<00:01,  4.52it/s]\u001b[A\n",
            "Batches:  62%|██████▎   | 10/16 [00:02<00:01,  4.29it/s]\u001b[A\n",
            "Batches:  69%|██████▉   | 11/16 [00:02<00:01,  4.15it/s]\u001b[A\n",
            "Batches:  75%|███████▌  | 12/16 [00:02<00:00,  4.44it/s]\u001b[A\n",
            "Batches:  81%|████████▏ | 13/16 [00:02<00:00,  4.28it/s]\u001b[A\n",
            "Batches:  88%|████████▊ | 14/16 [00:03<00:00,  4.04it/s]\u001b[A\n",
            "Batches:  94%|█████████▍| 15/16 [00:03<00:00,  4.46it/s]\u001b[A\n",
            "Batches: 100%|██████████| 16/16 [00:03<00:00,  4.60it/s]\n",
            " 78%|███████▊  | 155/200 [09:25<02:44,  3.66s/it]"
          ]
        },
        {
          "output_type": "stream",
          "name": "stdout",
          "text": [
            "cnt:  156\n"
          ]
        },
        {
          "output_type": "stream",
          "name": "stderr",
          "text": [
            "\n",
            "Batches:   0%|          | 0/16 [00:00<?, ?it/s]\u001b[A\n",
            "Batches:  12%|█▎        | 2/16 [00:00<00:01,  7.48it/s]\u001b[A\n",
            "Batches:  19%|█▉        | 3/16 [00:00<00:02,  5.94it/s]\u001b[A\n",
            "Batches:  25%|██▌       | 4/16 [00:00<00:02,  4.75it/s]\u001b[A\n",
            "Batches:  31%|███▏      | 5/16 [00:01<00:02,  4.03it/s]\u001b[A\n",
            "Batches:  38%|███▊      | 6/16 [00:01<00:02,  3.82it/s]\u001b[A\n",
            "Batches:  44%|████▍     | 7/16 [00:01<00:02,  4.13it/s]\u001b[A\n",
            "Batches:  50%|█████     | 8/16 [00:01<00:02,  3.92it/s]\u001b[A\n",
            "Batches:  56%|█████▋    | 9/16 [00:02<00:01,  4.01it/s]\u001b[A\n",
            "Batches:  62%|██████▎   | 10/16 [00:02<00:01,  4.26it/s]\u001b[A\n",
            "Batches:  69%|██████▉   | 11/16 [00:02<00:01,  4.49it/s]\u001b[A\n",
            "Batches:  75%|███████▌  | 12/16 [00:02<00:00,  4.55it/s]\u001b[A\n",
            "Batches:  81%|████████▏ | 13/16 [00:02<00:00,  4.46it/s]\u001b[A\n",
            "Batches:  88%|████████▊ | 14/16 [00:03<00:00,  4.42it/s]\u001b[A\n",
            "Batches:  94%|█████████▍| 15/16 [00:03<00:00,  4.41it/s]\u001b[A\n",
            "Batches: 100%|██████████| 16/16 [00:03<00:00,  4.40it/s]\n",
            " 78%|███████▊  | 156/200 [09:29<02:43,  3.72s/it]"
          ]
        },
        {
          "output_type": "stream",
          "name": "stdout",
          "text": [
            "cnt:  157\n"
          ]
        },
        {
          "output_type": "stream",
          "name": "stderr",
          "text": [
            "\n",
            "Batches:   0%|          | 0/16 [00:00<?, ?it/s]\u001b[A\n",
            "Batches:  12%|█▎        | 2/16 [00:00<00:02,  6.71it/s]\u001b[A\n",
            "Batches:  19%|█▉        | 3/16 [00:00<00:02,  5.20it/s]\u001b[A\n",
            "Batches:  25%|██▌       | 4/16 [00:00<00:02,  4.38it/s]\u001b[A\n",
            "Batches:  31%|███▏      | 5/16 [00:01<00:02,  3.74it/s]\u001b[A\n",
            "Batches:  38%|███▊      | 6/16 [00:01<00:02,  4.02it/s]\u001b[A\n",
            "Batches:  44%|████▍     | 7/16 [00:01<00:02,  4.19it/s]\u001b[A\n",
            "Batches:  50%|█████     | 8/16 [00:01<00:02,  3.80it/s]\u001b[A\n",
            "Batches:  56%|█████▋    | 9/16 [00:02<00:01,  3.58it/s]\u001b[A\n",
            "Batches:  62%|██████▎   | 10/16 [00:02<00:01,  3.60it/s]\u001b[A\n",
            "Batches:  69%|██████▉   | 11/16 [00:02<00:01,  3.54it/s]\u001b[A\n",
            "Batches:  75%|███████▌  | 12/16 [00:03<00:01,  3.49it/s]\u001b[A\n",
            "Batches:  81%|████████▏ | 13/16 [00:03<00:00,  3.62it/s]\u001b[A\n",
            "Batches:  88%|████████▊ | 14/16 [00:03<00:00,  3.95it/s]\u001b[A\n",
            "Batches:  94%|█████████▍| 15/16 [00:03<00:00,  4.13it/s]\u001b[A\n",
            "Batches: 100%|██████████| 16/16 [00:04<00:00,  3.93it/s]\n",
            " 78%|███████▊  | 157/200 [09:33<02:46,  3.87s/it]"
          ]
        },
        {
          "output_type": "stream",
          "name": "stdout",
          "text": [
            "cnt:  158\n"
          ]
        },
        {
          "output_type": "stream",
          "name": "stderr",
          "text": [
            "\n",
            "Batches:   0%|          | 0/16 [00:00<?, ?it/s]\u001b[A\n",
            "Batches:  12%|█▎        | 2/16 [00:00<00:01,  8.94it/s]\u001b[A\n",
            "Batches:  19%|█▉        | 3/16 [00:00<00:01,  7.46it/s]\u001b[A\n",
            "Batches:  25%|██▌       | 4/16 [00:00<00:01,  6.15it/s]\u001b[A\n",
            "Batches:  31%|███▏      | 5/16 [00:00<00:01,  5.91it/s]\u001b[A\n",
            "Batches:  38%|███▊      | 6/16 [00:00<00:01,  5.54it/s]\u001b[A\n",
            "Batches:  44%|████▍     | 7/16 [00:01<00:01,  5.33it/s]\u001b[A\n",
            "Batches:  50%|█████     | 8/16 [00:01<00:01,  5.60it/s]\u001b[A\n",
            "Batches:  56%|█████▋    | 9/16 [00:01<00:01,  5.46it/s]\u001b[A\n",
            "Batches:  62%|██████▎   | 10/16 [00:01<00:01,  5.31it/s]\u001b[A\n",
            "Batches:  69%|██████▉   | 11/16 [00:01<00:01,  4.82it/s]\u001b[A\n",
            "Batches:  75%|███████▌  | 12/16 [00:02<00:00,  5.03it/s]\u001b[A\n",
            "Batches:  81%|████████▏ | 13/16 [00:02<00:00,  5.20it/s]\u001b[A\n",
            "Batches:  88%|████████▊ | 14/16 [00:02<00:00,  5.37it/s]\u001b[A\n",
            "Batches:  94%|█████████▍| 15/16 [00:02<00:00,  4.89it/s]\u001b[A\n",
            "Batches: 100%|██████████| 16/16 [00:02<00:00,  5.44it/s]\n",
            " 79%|███████▉  | 158/200 [09:37<02:32,  3.63s/it]"
          ]
        },
        {
          "output_type": "stream",
          "name": "stdout",
          "text": [
            "cnt:  159\n"
          ]
        },
        {
          "output_type": "stream",
          "name": "stderr",
          "text": [
            "\n",
            "Batches:   0%|          | 0/16 [00:00<?, ?it/s]\u001b[A\n",
            "Batches:  12%|█▎        | 2/16 [00:00<00:02,  6.26it/s]\u001b[A\n",
            "Batches:  19%|█▉        | 3/16 [00:00<00:02,  5.74it/s]\u001b[A\n",
            "Batches:  25%|██▌       | 4/16 [00:00<00:02,  5.67it/s]\u001b[A\n",
            "Batches:  31%|███▏      | 5/16 [00:01<00:02,  4.51it/s]\u001b[A\n",
            "Batches:  38%|███▊      | 6/16 [00:01<00:02,  4.77it/s]\u001b[A\n",
            "Batches:  44%|████▍     | 7/16 [00:01<00:01,  5.13it/s]\u001b[A\n",
            "Batches:  50%|█████     | 8/16 [00:01<00:01,  5.30it/s]\u001b[A\n",
            "Batches:  56%|█████▋    | 9/16 [00:01<00:01,  5.08it/s]\u001b[A\n",
            "Batches:  62%|██████▎   | 10/16 [00:01<00:01,  4.85it/s]\u001b[A\n",
            "Batches:  69%|██████▉   | 11/16 [00:02<00:01,  5.00it/s]\u001b[A\n",
            "Batches:  75%|███████▌  | 12/16 [00:02<00:00,  5.18it/s]\u001b[A\n",
            "Batches:  81%|████████▏ | 13/16 [00:02<00:00,  5.27it/s]\u001b[A\n",
            "Batches:  88%|████████▊ | 14/16 [00:02<00:00,  5.38it/s]\u001b[A\n",
            "Batches:  94%|█████████▍| 15/16 [00:02<00:00,  5.47it/s]\u001b[A\n",
            "Batches: 100%|██████████| 16/16 [00:03<00:00,  5.09it/s]\n",
            " 80%|███████▉  | 159/200 [09:40<02:24,  3.52s/it]"
          ]
        },
        {
          "output_type": "stream",
          "name": "stdout",
          "text": [
            "cnt:  160\n"
          ]
        },
        {
          "output_type": "stream",
          "name": "stderr",
          "text": [
            "\n",
            "Batches:   0%|          | 0/16 [00:00<?, ?it/s]\u001b[A\n",
            "Batches:  12%|█▎        | 2/16 [00:00<00:01,  7.43it/s]\u001b[A\n",
            "Batches:  19%|█▉        | 3/16 [00:00<00:02,  4.98it/s]\u001b[A\n",
            "Batches:  25%|██▌       | 4/16 [00:00<00:02,  5.20it/s]\u001b[A\n",
            "Batches:  31%|███▏      | 5/16 [00:00<00:02,  5.30it/s]\u001b[A\n",
            "Batches:  38%|███▊      | 6/16 [00:01<00:02,  4.85it/s]\u001b[A\n",
            "Batches:  44%|████▍     | 7/16 [00:01<00:01,  4.70it/s]\u001b[A\n",
            "Batches:  50%|█████     | 8/16 [00:01<00:01,  4.35it/s]\u001b[A\n",
            "Batches:  56%|█████▋    | 9/16 [00:01<00:01,  4.34it/s]\u001b[A\n",
            "Batches:  62%|██████▎   | 10/16 [00:02<00:01,  4.06it/s]\u001b[A\n",
            "Batches:  69%|██████▉   | 11/16 [00:02<00:01,  4.22it/s]\u001b[A\n",
            "Batches:  75%|███████▌  | 12/16 [00:02<00:01,  3.94it/s]\u001b[A\n",
            "Batches:  81%|████████▏ | 13/16 [00:02<00:00,  3.87it/s]\u001b[A\n",
            "Batches:  88%|████████▊ | 14/16 [00:03<00:00,  3.80it/s]\u001b[A\n",
            "Batches:  94%|█████████▍| 15/16 [00:03<00:00,  3.91it/s]\u001b[A\n",
            "Batches: 100%|██████████| 16/16 [00:03<00:00,  4.24it/s]\n",
            " 80%|████████  | 160/200 [09:44<02:25,  3.65s/it]"
          ]
        },
        {
          "output_type": "stream",
          "name": "stdout",
          "text": [
            "cnt:  161\n"
          ]
        },
        {
          "output_type": "stream",
          "name": "stderr",
          "text": [
            "\n",
            "Batches:   0%|          | 0/16 [00:00<?, ?it/s]\u001b[A\n",
            "Batches:  12%|█▎        | 2/16 [00:00<00:02,  6.80it/s]\u001b[A\n",
            "Batches:  19%|█▉        | 3/16 [00:00<00:02,  5.29it/s]\u001b[A\n",
            "Batches:  25%|██▌       | 4/16 [00:00<00:02,  4.94it/s]\u001b[A\n",
            "Batches:  31%|███▏      | 5/16 [00:01<00:02,  4.11it/s]\u001b[A\n",
            "Batches:  38%|███▊      | 6/16 [00:01<00:02,  4.19it/s]\u001b[A\n",
            "Batches:  44%|████▍     | 7/16 [00:01<00:02,  4.44it/s]\u001b[A\n",
            "Batches:  50%|█████     | 8/16 [00:01<00:01,  4.64it/s]\u001b[A\n",
            "Batches:  56%|█████▋    | 9/16 [00:01<00:01,  4.36it/s]\u001b[A\n",
            "Batches:  62%|██████▎   | 10/16 [00:02<00:01,  4.13it/s]\u001b[A\n",
            "Batches:  69%|██████▉   | 11/16 [00:02<00:01,  4.26it/s]\u001b[A\n",
            "Batches:  75%|███████▌  | 12/16 [00:02<00:00,  4.06it/s]\u001b[A\n",
            "Batches:  81%|████████▏ | 13/16 [00:02<00:00,  4.06it/s]\u001b[A\n",
            "Batches:  88%|████████▊ | 14/16 [00:03<00:00,  3.99it/s]\u001b[A\n",
            "Batches:  94%|█████████▍| 15/16 [00:03<00:00,  4.11it/s]\u001b[A\n",
            "Batches: 100%|██████████| 16/16 [00:03<00:00,  4.28it/s]\n",
            " 80%|████████  | 161/200 [09:48<02:25,  3.72s/it]"
          ]
        },
        {
          "output_type": "stream",
          "name": "stdout",
          "text": [
            "cnt:  162\n"
          ]
        },
        {
          "output_type": "stream",
          "name": "stderr",
          "text": [
            "\n",
            "Batches:   0%|          | 0/16 [00:00<?, ?it/s]\u001b[A\n",
            "Batches:  12%|█▎        | 2/16 [00:00<00:02,  6.92it/s]\u001b[A\n",
            "Batches:  19%|█▉        | 3/16 [00:00<00:02,  5.24it/s]\u001b[A\n",
            "Batches:  25%|██▌       | 4/16 [00:00<00:02,  5.21it/s]\u001b[A\n",
            "Batches:  31%|███▏      | 5/16 [00:01<00:02,  4.64it/s]\u001b[A\n",
            "Batches:  38%|███▊      | 6/16 [00:01<00:02,  4.85it/s]\u001b[A\n",
            "Batches:  44%|████▍     | 7/16 [00:01<00:01,  4.72it/s]\u001b[A\n",
            "Batches:  50%|█████     | 8/16 [00:01<00:01,  4.70it/s]\u001b[A\n",
            "Batches:  56%|█████▋    | 9/16 [00:01<00:01,  4.64it/s]\u001b[A\n",
            "Batches:  62%|██████▎   | 10/16 [00:02<00:01,  4.38it/s]\u001b[A\n",
            "Batches:  69%|██████▉   | 11/16 [00:02<00:01,  4.27it/s]\u001b[A\n",
            "Batches:  75%|███████▌  | 12/16 [00:02<00:00,  4.59it/s]\u001b[A\n",
            "Batches:  81%|████████▏ | 13/16 [00:02<00:00,  4.66it/s]\u001b[A\n",
            "Batches:  88%|████████▊ | 14/16 [00:02<00:00,  4.58it/s]\u001b[A\n",
            "Batches:  94%|█████████▍| 15/16 [00:03<00:00,  4.72it/s]\u001b[A\n",
            "Batches: 100%|██████████| 16/16 [00:03<00:00,  4.72it/s]\n",
            " 81%|████████  | 162/200 [09:51<02:19,  3.66s/it]"
          ]
        },
        {
          "output_type": "stream",
          "name": "stdout",
          "text": [
            "cnt:  163\n"
          ]
        },
        {
          "output_type": "stream",
          "name": "stderr",
          "text": [
            "\n",
            "Batches:   0%|          | 0/16 [00:00<?, ?it/s]\u001b[A\n",
            "Batches:  12%|█▎        | 2/16 [00:00<00:01,  7.47it/s]\u001b[A\n",
            "Batches:  19%|█▉        | 3/16 [00:00<00:02,  5.25it/s]\u001b[A\n",
            "Batches:  25%|██▌       | 4/16 [00:00<00:02,  4.70it/s]\u001b[A\n",
            "Batches:  31%|███▏      | 5/16 [00:01<00:02,  4.14it/s]\u001b[A\n",
            "Batches:  38%|███▊      | 6/16 [00:01<00:02,  4.23it/s]\u001b[A\n",
            "Batches:  44%|████▍     | 7/16 [00:01<00:02,  4.32it/s]\u001b[A\n",
            "Batches:  50%|█████     | 8/16 [00:01<00:01,  4.22it/s]\u001b[A\n",
            "Batches:  56%|█████▋    | 9/16 [00:02<00:01,  3.72it/s]\u001b[A\n",
            "Batches:  62%|██████▎   | 10/16 [00:02<00:01,  3.63it/s]\u001b[A\n",
            "Batches:  69%|██████▉   | 11/16 [00:02<00:01,  3.80it/s]\u001b[A\n",
            "Batches:  75%|███████▌  | 12/16 [00:02<00:01,  3.88it/s]\u001b[A\n",
            "Batches:  81%|████████▏ | 13/16 [00:03<00:00,  3.90it/s]\u001b[A\n",
            "Batches:  88%|████████▊ | 14/16 [00:03<00:00,  4.05it/s]\u001b[A\n",
            "Batches:  94%|█████████▍| 15/16 [00:03<00:00,  4.01it/s]\u001b[A\n",
            "Batches: 100%|██████████| 16/16 [00:03<00:00,  4.13it/s]\n",
            " 82%|████████▏ | 163/200 [09:55<02:19,  3.78s/it]"
          ]
        },
        {
          "output_type": "stream",
          "name": "stdout",
          "text": [
            "cnt:  164\n"
          ]
        },
        {
          "output_type": "stream",
          "name": "stderr",
          "text": [
            "\n",
            "Batches:   0%|          | 0/16 [00:00<?, ?it/s]\u001b[A\n",
            "Batches:  12%|█▎        | 2/16 [00:00<00:02,  6.62it/s]\u001b[A\n",
            "Batches:  19%|█▉        | 3/16 [00:00<00:02,  5.94it/s]\u001b[A\n",
            "Batches:  25%|██▌       | 4/16 [00:00<00:02,  4.97it/s]\u001b[A\n",
            "Batches:  31%|███▏      | 5/16 [00:01<00:02,  4.12it/s]\u001b[A\n",
            "Batches:  38%|███▊      | 6/16 [00:01<00:02,  4.10it/s]\u001b[A\n",
            "Batches:  44%|████▍     | 7/16 [00:01<00:02,  3.83it/s]\u001b[A\n",
            "Batches:  50%|█████     | 8/16 [00:01<00:02,  3.67it/s]\u001b[A\n",
            "Batches:  56%|█████▋    | 9/16 [00:02<00:01,  3.87it/s]\u001b[A\n",
            "Batches:  62%|██████▎   | 10/16 [00:02<00:01,  3.86it/s]\u001b[A\n",
            "Batches:  69%|██████▉   | 11/16 [00:02<00:01,  3.83it/s]\u001b[A\n",
            "Batches:  75%|███████▌  | 12/16 [00:02<00:01,  3.74it/s]\u001b[A\n",
            "Batches:  81%|████████▏ | 13/16 [00:03<00:00,  3.98it/s]\u001b[A\n",
            "Batches:  88%|████████▊ | 14/16 [00:03<00:00,  4.01it/s]\u001b[A\n",
            "Batches:  94%|█████████▍| 15/16 [00:03<00:00,  4.00it/s]\u001b[A\n",
            "Batches: 100%|██████████| 16/16 [00:03<00:00,  4.09it/s]\n",
            " 82%|████████▏ | 164/200 [09:59<02:19,  3.87s/it]"
          ]
        },
        {
          "output_type": "stream",
          "name": "stdout",
          "text": [
            "cnt:  165\n"
          ]
        },
        {
          "output_type": "stream",
          "name": "stderr",
          "text": [
            "\n",
            "Batches:   0%|          | 0/16 [00:00<?, ?it/s]\u001b[A\n",
            "Batches:  12%|█▎        | 2/16 [00:00<00:02,  6.92it/s]\u001b[A\n",
            "Batches:  19%|█▉        | 3/16 [00:00<00:02,  4.79it/s]\u001b[A\n",
            "Batches:  25%|██▌       | 4/16 [00:00<00:02,  4.75it/s]\u001b[A\n",
            "Batches:  31%|███▏      | 5/16 [00:01<00:02,  4.12it/s]\u001b[A\n",
            "Batches:  38%|███▊      | 6/16 [00:01<00:02,  4.41it/s]\u001b[A\n",
            "Batches:  44%|████▍     | 7/16 [00:01<00:02,  4.47it/s]\u001b[A\n",
            "Batches:  50%|█████     | 8/16 [00:01<00:01,  4.43it/s]\u001b[A\n",
            "Batches:  56%|█████▋    | 9/16 [00:01<00:01,  4.29it/s]\u001b[A\n",
            "Batches:  62%|██████▎   | 10/16 [00:02<00:01,  4.43it/s]\u001b[A\n",
            "Batches:  69%|██████▉   | 11/16 [00:02<00:01,  4.26it/s]\u001b[A\n",
            "Batches:  75%|███████▌  | 12/16 [00:02<00:00,  4.49it/s]\u001b[A\n",
            "Batches:  81%|████████▏ | 13/16 [00:02<00:00,  4.23it/s]\u001b[A\n",
            "Batches:  88%|████████▊ | 14/16 [00:03<00:00,  4.16it/s]\u001b[A\n",
            "Batches:  94%|█████████▍| 15/16 [00:03<00:00,  4.24it/s]\u001b[A\n",
            "Batches: 100%|██████████| 16/16 [00:03<00:00,  4.39it/s]\n",
            " 82%|████████▎ | 165/200 [10:03<02:14,  3.85s/it]"
          ]
        },
        {
          "output_type": "stream",
          "name": "stdout",
          "text": [
            "cnt:  166\n"
          ]
        },
        {
          "output_type": "stream",
          "name": "stderr",
          "text": [
            "\n",
            "Batches:   0%|          | 0/16 [00:00<?, ?it/s]\u001b[A\n",
            "Batches:  12%|█▎        | 2/16 [00:00<00:01,  9.43it/s]\u001b[A\n",
            "Batches:  19%|█▉        | 3/16 [00:00<00:01,  6.73it/s]\u001b[A\n",
            "Batches:  25%|██▌       | 4/16 [00:00<00:02,  5.14it/s]\u001b[A\n",
            "Batches:  31%|███▏      | 5/16 [00:00<00:02,  4.59it/s]\u001b[A\n",
            "Batches:  38%|███▊      | 6/16 [00:01<00:02,  4.75it/s]\u001b[A\n",
            "Batches:  44%|████▍     | 7/16 [00:01<00:01,  4.86it/s]\u001b[A\n",
            "Batches:  50%|█████     | 8/16 [00:01<00:01,  4.87it/s]\u001b[A\n",
            "Batches:  56%|█████▋    | 9/16 [00:01<00:01,  5.14it/s]\u001b[A\n",
            "Batches:  62%|██████▎   | 10/16 [00:01<00:01,  5.06it/s]\u001b[A\n",
            "Batches:  69%|██████▉   | 11/16 [00:02<00:00,  5.49it/s]\u001b[A\n",
            "Batches:  75%|███████▌  | 12/16 [00:02<00:00,  5.51it/s]\u001b[A\n",
            "Batches:  81%|████████▏ | 13/16 [00:02<00:00,  5.53it/s]\u001b[A\n",
            "Batches:  88%|████████▊ | 14/16 [00:02<00:00,  5.39it/s]\u001b[A\n",
            "Batches:  94%|█████████▍| 15/16 [00:02<00:00,  5.55it/s]\u001b[A\n",
            "Batches: 100%|██████████| 16/16 [00:03<00:00,  5.27it/s]\n",
            " 83%|████████▎ | 166/200 [10:06<02:03,  3.65s/it]"
          ]
        },
        {
          "output_type": "stream",
          "name": "stdout",
          "text": [
            "cnt:  167\n"
          ]
        },
        {
          "output_type": "stream",
          "name": "stderr",
          "text": [
            "\n",
            "Batches:   0%|          | 0/16 [00:00<?, ?it/s]\u001b[A\n",
            "Batches:  12%|█▎        | 2/16 [00:00<00:01,  9.40it/s]\u001b[A\n",
            "Batches:  19%|█▉        | 3/16 [00:00<00:01,  6.53it/s]\u001b[A\n",
            "Batches:  25%|██▌       | 4/16 [00:00<00:01,  6.23it/s]\u001b[A\n",
            "Batches:  31%|███▏      | 5/16 [00:00<00:01,  5.80it/s]\u001b[A\n",
            "Batches:  38%|███▊      | 6/16 [00:01<00:01,  5.32it/s]\u001b[A\n",
            "Batches:  44%|████▍     | 7/16 [00:01<00:01,  5.26it/s]\u001b[A\n",
            "Batches:  50%|█████     | 8/16 [00:01<00:01,  5.07it/s]\u001b[A\n",
            "Batches:  56%|█████▋    | 9/16 [00:01<00:01,  5.20it/s]\u001b[A\n",
            "Batches:  62%|██████▎   | 10/16 [00:01<00:01,  5.67it/s]\u001b[A\n",
            "Batches:  69%|██████▉   | 11/16 [00:01<00:00,  5.40it/s]\u001b[A\n",
            "Batches:  75%|███████▌  | 12/16 [00:02<00:00,  5.01it/s]\u001b[A\n",
            "Batches:  81%|████████▏ | 13/16 [00:02<00:00,  4.99it/s]\u001b[A\n",
            "Batches:  88%|████████▊ | 14/16 [00:02<00:00,  5.39it/s]\u001b[A\n",
            "Batches:  94%|█████████▍| 15/16 [00:02<00:00,  5.52it/s]\u001b[A\n",
            "Batches: 100%|██████████| 16/16 [00:02<00:00,  5.44it/s]\n",
            " 84%|████████▎ | 167/200 [10:09<01:55,  3.49s/it]"
          ]
        },
        {
          "output_type": "stream",
          "name": "stdout",
          "text": [
            "cnt:  168\n"
          ]
        },
        {
          "output_type": "stream",
          "name": "stderr",
          "text": [
            "\n",
            "Batches:   0%|          | 0/16 [00:00<?, ?it/s]\u001b[A\n",
            "Batches:  12%|█▎        | 2/16 [00:00<00:01,  9.37it/s]\u001b[A\n",
            "Batches:  19%|█▉        | 3/16 [00:00<00:02,  5.43it/s]\u001b[A\n",
            "Batches:  25%|██▌       | 4/16 [00:00<00:02,  5.62it/s]\u001b[A\n",
            "Batches:  31%|███▏      | 5/16 [00:00<00:02,  5.09it/s]\u001b[A\n",
            "Batches:  38%|███▊      | 6/16 [00:01<00:01,  5.02it/s]\u001b[A\n",
            "Batches:  44%|████▍     | 7/16 [00:01<00:01,  5.58it/s]\u001b[A\n",
            "Batches:  50%|█████     | 8/16 [00:01<00:01,  5.61it/s]\u001b[A\n",
            "Batches:  56%|█████▋    | 9/16 [00:01<00:01,  4.65it/s]\u001b[A\n",
            "Batches:  62%|██████▎   | 10/16 [00:01<00:01,  4.74it/s]\u001b[A\n",
            "Batches:  69%|██████▉   | 11/16 [00:02<00:01,  4.86it/s]\u001b[A\n",
            "Batches:  75%|███████▌  | 12/16 [00:02<00:00,  4.75it/s]\u001b[A\n",
            "Batches:  81%|████████▏ | 13/16 [00:02<00:00,  5.02it/s]\u001b[A\n",
            "Batches:  88%|████████▊ | 14/16 [00:02<00:00,  4.71it/s]\u001b[A\n",
            "Batches:  94%|█████████▍| 15/16 [00:02<00:00,  4.66it/s]\u001b[A\n",
            "Batches: 100%|██████████| 16/16 [00:03<00:00,  5.04it/s]\n",
            " 84%|████████▍ | 168/200 [10:13<01:50,  3.44s/it]"
          ]
        },
        {
          "output_type": "stream",
          "name": "stdout",
          "text": [
            "cnt:  169\n"
          ]
        },
        {
          "output_type": "stream",
          "name": "stderr",
          "text": [
            "\n",
            "Batches:   0%|          | 0/16 [00:00<?, ?it/s]\u001b[A\n",
            "Batches:  12%|█▎        | 2/16 [00:00<00:01,  8.21it/s]\u001b[A\n",
            "Batches:  19%|█▉        | 3/16 [00:00<00:01,  6.88it/s]\u001b[A\n",
            "Batches:  25%|██▌       | 4/16 [00:00<00:01,  6.28it/s]\u001b[A\n",
            "Batches:  31%|███▏      | 5/16 [00:00<00:02,  5.17it/s]\u001b[A\n",
            "Batches:  38%|███▊      | 6/16 [00:01<00:02,  4.80it/s]\u001b[A\n",
            "Batches:  44%|████▍     | 7/16 [00:01<00:02,  4.22it/s]\u001b[A\n",
            "Batches:  50%|█████     | 8/16 [00:01<00:01,  4.58it/s]\u001b[A\n",
            "Batches:  56%|█████▋    | 9/16 [00:01<00:01,  4.66it/s]\u001b[A\n",
            "Batches:  62%|██████▎   | 10/16 [00:02<00:01,  4.57it/s]\u001b[A\n",
            "Batches:  69%|██████▉   | 11/16 [00:02<00:01,  4.61it/s]\u001b[A\n",
            "Batches:  75%|███████▌  | 12/16 [00:02<00:00,  4.51it/s]\u001b[A\n",
            "Batches:  81%|████████▏ | 13/16 [00:02<00:00,  4.59it/s]\u001b[A\n",
            "Batches:  88%|████████▊ | 14/16 [00:02<00:00,  4.78it/s]\u001b[A\n",
            "Batches:  94%|█████████▍| 15/16 [00:03<00:00,  4.70it/s]\u001b[A\n",
            "Batches: 100%|██████████| 16/16 [00:03<00:00,  4.85it/s]\n",
            " 84%|████████▍ | 169/200 [10:16<01:46,  3.45s/it]"
          ]
        },
        {
          "output_type": "stream",
          "name": "stdout",
          "text": [
            "cnt:  170\n"
          ]
        },
        {
          "output_type": "stream",
          "name": "stderr",
          "text": [
            "\n",
            "Batches:   0%|          | 0/16 [00:00<?, ?it/s]\u001b[A\n",
            "Batches:  12%|█▎        | 2/16 [00:00<00:02,  6.58it/s]\u001b[A\n",
            "Batches:  19%|█▉        | 3/16 [00:00<00:02,  5.15it/s]\u001b[A\n",
            "Batches:  25%|██▌       | 4/16 [00:00<00:02,  4.80it/s]\u001b[A\n",
            "Batches:  31%|███▏      | 5/16 [00:01<00:02,  4.42it/s]\u001b[A\n",
            "Batches:  38%|███▊      | 6/16 [00:01<00:02,  4.21it/s]\u001b[A\n",
            "Batches:  44%|████▍     | 7/16 [00:01<00:02,  4.29it/s]\u001b[A\n",
            "Batches:  50%|█████     | 8/16 [00:01<00:01,  4.20it/s]\u001b[A\n",
            "Batches:  56%|█████▋    | 9/16 [00:02<00:01,  3.95it/s]\u001b[A\n",
            "Batches:  62%|██████▎   | 10/16 [00:02<00:01,  3.87it/s]\u001b[A\n",
            "Batches:  69%|██████▉   | 11/16 [00:02<00:01,  4.07it/s]\u001b[A\n",
            "Batches:  75%|███████▌  | 12/16 [00:02<00:01,  3.80it/s]\u001b[A\n",
            "Batches:  81%|████████▏ | 13/16 [00:03<00:00,  3.76it/s]\u001b[A\n",
            "Batches:  88%|████████▊ | 14/16 [00:03<00:00,  3.96it/s]\u001b[A\n",
            "Batches:  94%|█████████▍| 15/16 [00:03<00:00,  3.87it/s]\u001b[A\n",
            "Batches: 100%|██████████| 16/16 [00:03<00:00,  4.11it/s]\n",
            " 85%|████████▌ | 170/200 [10:20<01:48,  3.62s/it]"
          ]
        },
        {
          "output_type": "stream",
          "name": "stdout",
          "text": [
            "cnt:  171\n"
          ]
        },
        {
          "output_type": "stream",
          "name": "stderr",
          "text": [
            "\n",
            "Batches:   0%|          | 0/16 [00:00<?, ?it/s]\u001b[A\n",
            "Batches:  12%|█▎        | 2/16 [00:00<00:01,  7.24it/s]\u001b[A\n",
            "Batches:  19%|█▉        | 3/16 [00:00<00:02,  5.70it/s]\u001b[A\n",
            "Batches:  25%|██▌       | 4/16 [00:00<00:02,  4.56it/s]\u001b[A\n",
            "Batches:  31%|███▏      | 5/16 [00:01<00:02,  3.87it/s]\u001b[A\n",
            "Batches:  38%|███▊      | 6/16 [00:01<00:02,  4.08it/s]\u001b[A\n",
            "Batches:  44%|████▍     | 7/16 [00:01<00:02,  3.93it/s]\u001b[A\n",
            "Batches:  50%|█████     | 8/16 [00:01<00:02,  3.96it/s]\u001b[A\n",
            "Batches:  56%|█████▋    | 9/16 [00:02<00:01,  3.93it/s]\u001b[A\n",
            "Batches:  62%|██████▎   | 10/16 [00:02<00:01,  3.90it/s]\u001b[A\n",
            "Batches:  69%|██████▉   | 11/16 [00:02<00:01,  3.79it/s]\u001b[A\n",
            "Batches:  75%|███████▌  | 12/16 [00:02<00:01,  3.80it/s]\u001b[A\n",
            "Batches:  81%|████████▏ | 13/16 [00:03<00:00,  3.96it/s]\u001b[A\n",
            "Batches:  88%|████████▊ | 14/16 [00:03<00:00,  4.13it/s]\u001b[A\n",
            "Batches:  94%|█████████▍| 15/16 [00:03<00:00,  4.04it/s]\u001b[A\n",
            "Batches: 100%|██████████| 16/16 [00:03<00:00,  4.05it/s]\n",
            " 86%|████████▌ | 171/200 [10:24<01:49,  3.78s/it]"
          ]
        },
        {
          "output_type": "stream",
          "name": "stdout",
          "text": [
            "cnt:  172\n"
          ]
        },
        {
          "output_type": "stream",
          "name": "stderr",
          "text": [
            "\n",
            "Batches:   0%|          | 0/16 [00:00<?, ?it/s]\u001b[A\n",
            "Batches:  12%|█▎        | 2/16 [00:00<00:01,  7.34it/s]\u001b[A\n",
            "Batches:  19%|█▉        | 3/16 [00:00<00:02,  5.04it/s]\u001b[A\n",
            "Batches:  25%|██▌       | 4/16 [00:00<00:02,  5.28it/s]\u001b[A\n",
            "Batches:  31%|███▏      | 5/16 [00:01<00:02,  4.35it/s]\u001b[A\n",
            "Batches:  38%|███▊      | 6/16 [00:01<00:02,  4.52it/s]\u001b[A\n",
            "Batches:  44%|████▍     | 7/16 [00:01<00:02,  4.35it/s]\u001b[A\n",
            "Batches:  50%|█████     | 8/16 [00:01<00:01,  4.66it/s]\u001b[A\n",
            "Batches:  56%|█████▋    | 9/16 [00:01<00:01,  4.72it/s]\u001b[A\n",
            "Batches:  62%|██████▎   | 10/16 [00:02<00:01,  4.48it/s]\u001b[A\n",
            "Batches:  69%|██████▉   | 11/16 [00:02<00:01,  4.08it/s]\u001b[A\n",
            "Batches:  75%|███████▌  | 12/16 [00:02<00:00,  4.31it/s]\u001b[A\n",
            "Batches:  81%|████████▏ | 13/16 [00:02<00:00,  4.08it/s]\u001b[A\n",
            "Batches:  88%|████████▊ | 14/16 [00:03<00:00,  4.05it/s]\u001b[A\n",
            "Batches:  94%|█████████▍| 15/16 [00:03<00:00,  4.38it/s]\u001b[A\n",
            "Batches: 100%|██████████| 16/16 [00:03<00:00,  4.45it/s]\n",
            " 86%|████████▌ | 172/200 [10:28<01:45,  3.77s/it]"
          ]
        },
        {
          "output_type": "stream",
          "name": "stdout",
          "text": [
            "cnt:  173\n"
          ]
        },
        {
          "output_type": "stream",
          "name": "stderr",
          "text": [
            "\n",
            "Batches:   0%|          | 0/16 [00:00<?, ?it/s]\u001b[A\n",
            "Batches:  12%|█▎        | 2/16 [00:00<00:02,  5.95it/s]\u001b[A\n",
            "Batches:  19%|█▉        | 3/16 [00:00<00:02,  4.67it/s]\u001b[A\n",
            "Batches:  25%|██▌       | 4/16 [00:00<00:02,  4.24it/s]\u001b[A\n",
            "Batches:  31%|███▏      | 5/16 [00:01<00:02,  3.82it/s]\u001b[A\n",
            "Batches:  38%|███▊      | 6/16 [00:01<00:02,  3.66it/s]\u001b[A\n",
            "Batches:  44%|████▍     | 7/16 [00:01<00:02,  3.54it/s]\u001b[A\n",
            "Batches:  50%|█████     | 8/16 [00:02<00:02,  3.64it/s]\u001b[A\n",
            "Batches:  56%|█████▋    | 9/16 [00:02<00:01,  3.58it/s]\u001b[A\n",
            "Batches:  62%|██████▎   | 10/16 [00:02<00:01,  3.51it/s]\u001b[A\n",
            "Batches:  69%|██████▉   | 11/16 [00:02<00:01,  3.78it/s]\u001b[A\n",
            "Batches:  75%|███████▌  | 12/16 [00:03<00:01,  3.52it/s]\u001b[A\n",
            "Batches:  81%|████████▏ | 13/16 [00:03<00:00,  3.80it/s]\u001b[A\n",
            "Batches:  88%|████████▊ | 14/16 [00:03<00:00,  4.13it/s]\u001b[A\n",
            "Batches:  94%|█████████▍| 15/16 [00:03<00:00,  4.02it/s]\u001b[A\n",
            "Batches: 100%|██████████| 16/16 [00:04<00:00,  3.91it/s]\n",
            " 86%|████████▋ | 173/200 [10:32<01:45,  3.91s/it]"
          ]
        },
        {
          "output_type": "stream",
          "name": "stdout",
          "text": [
            "cnt:  174\n"
          ]
        },
        {
          "output_type": "stream",
          "name": "stderr",
          "text": [
            "\n",
            "Batches:   0%|          | 0/16 [00:00<?, ?it/s]\u001b[A\n",
            "Batches:  12%|█▎        | 2/16 [00:00<00:02,  6.77it/s]\u001b[A\n",
            "Batches:  19%|█▉        | 3/16 [00:00<00:02,  6.38it/s]\u001b[A\n",
            "Batches:  25%|██▌       | 4/16 [00:00<00:02,  5.64it/s]\u001b[A\n",
            "Batches:  31%|███▏      | 5/16 [00:00<00:02,  4.71it/s]\u001b[A\n",
            "Batches:  38%|███▊      | 6/16 [00:01<00:02,  4.16it/s]\u001b[A\n",
            "Batches:  44%|████▍     | 7/16 [00:01<00:02,  4.37it/s]\u001b[A\n",
            "Batches:  50%|█████     | 8/16 [00:01<00:01,  4.27it/s]\u001b[A\n",
            "Batches:  56%|█████▋    | 9/16 [00:01<00:01,  4.29it/s]\u001b[A\n",
            "Batches:  62%|██████▎   | 10/16 [00:02<00:01,  3.93it/s]\u001b[A\n",
            "Batches:  69%|██████▉   | 11/16 [00:02<00:01,  4.24it/s]\u001b[A\n",
            "Batches:  75%|███████▌  | 12/16 [00:02<00:00,  4.37it/s]\u001b[A\n",
            "Batches:  81%|████████▏ | 13/16 [00:02<00:00,  3.96it/s]\u001b[A\n",
            "Batches:  88%|████████▊ | 14/16 [00:03<00:00,  4.04it/s]\u001b[A\n",
            "Batches:  94%|█████████▍| 15/16 [00:03<00:00,  4.43it/s]\u001b[A\n",
            "Batches: 100%|██████████| 16/16 [00:03<00:00,  4.52it/s]\n",
            " 87%|████████▋ | 174/200 [10:36<01:39,  3.84s/it]"
          ]
        },
        {
          "output_type": "stream",
          "name": "stdout",
          "text": [
            "cnt:  175\n"
          ]
        },
        {
          "output_type": "stream",
          "name": "stderr",
          "text": [
            "\n",
            "Batches:   0%|          | 0/16 [00:00<?, ?it/s]\u001b[A\n",
            "Batches:  12%|█▎        | 2/16 [00:00<00:01,  7.79it/s]\u001b[A\n",
            "Batches:  19%|█▉        | 3/16 [00:00<00:02,  5.83it/s]\u001b[A\n",
            "Batches:  25%|██▌       | 4/16 [00:00<00:02,  5.47it/s]\u001b[A\n",
            "Batches:  31%|███▏      | 5/16 [00:00<00:02,  5.22it/s]\u001b[A\n",
            "Batches:  38%|███▊      | 6/16 [00:01<00:02,  4.75it/s]\u001b[A\n",
            "Batches:  44%|████▍     | 7/16 [00:01<00:02,  4.47it/s]\u001b[A\n",
            "Batches:  50%|█████     | 8/16 [00:01<00:01,  4.64it/s]\u001b[A\n",
            "Batches:  56%|█████▋    | 9/16 [00:01<00:01,  4.03it/s]\u001b[A\n",
            "Batches:  62%|██████▎   | 10/16 [00:02<00:01,  3.90it/s]\u001b[A\n",
            "Batches:  69%|██████▉   | 11/16 [00:02<00:01,  3.83it/s]\u001b[A\n",
            "Batches:  75%|███████▌  | 12/16 [00:02<00:01,  3.93it/s]\u001b[A\n",
            "Batches:  81%|████████▏ | 13/16 [00:02<00:00,  4.21it/s]\u001b[A\n",
            "Batches:  88%|████████▊ | 14/16 [00:03<00:00,  4.31it/s]\u001b[A\n",
            "Batches:  94%|█████████▍| 15/16 [00:03<00:00,  3.97it/s]\u001b[A\n",
            "Batches: 100%|██████████| 16/16 [00:03<00:00,  4.39it/s]\n",
            " 88%|████████▊ | 175/200 [10:40<01:35,  3.83s/it]"
          ]
        },
        {
          "output_type": "stream",
          "name": "stdout",
          "text": [
            "cnt:  176\n"
          ]
        },
        {
          "output_type": "stream",
          "name": "stderr",
          "text": [
            "\n",
            "Batches:   0%|          | 0/16 [00:00<?, ?it/s]\u001b[A\n",
            "Batches:  12%|█▎        | 2/16 [00:00<00:01,  7.66it/s]\u001b[A\n",
            "Batches:  19%|█▉        | 3/16 [00:00<00:02,  5.53it/s]\u001b[A\n",
            "Batches:  25%|██▌       | 4/16 [00:00<00:02,  5.16it/s]\u001b[A\n",
            "Batches:  31%|███▏      | 5/16 [00:01<00:02,  4.28it/s]\u001b[A\n",
            "Batches:  38%|███▊      | 6/16 [00:01<00:02,  4.05it/s]\u001b[A\n",
            "Batches:  44%|████▍     | 7/16 [00:01<00:02,  3.92it/s]\u001b[A\n",
            "Batches:  50%|█████     | 8/16 [00:01<00:02,  3.99it/s]\u001b[A\n",
            "Batches:  56%|█████▋    | 9/16 [00:02<00:01,  3.67it/s]\u001b[A\n",
            "Batches:  62%|██████▎   | 10/16 [00:02<00:01,  3.73it/s]\u001b[A\n",
            "Batches:  69%|██████▉   | 11/16 [00:02<00:01,  3.78it/s]\u001b[A\n",
            "Batches:  75%|███████▌  | 12/16 [00:02<00:01,  3.73it/s]\u001b[A\n",
            "Batches:  81%|████████▏ | 13/16 [00:03<00:00,  3.69it/s]\u001b[A\n",
            "Batches:  88%|████████▊ | 14/16 [00:03<00:00,  3.75it/s]\u001b[A\n",
            "Batches:  94%|█████████▍| 15/16 [00:03<00:00,  3.78it/s]\u001b[A\n",
            "Batches: 100%|██████████| 16/16 [00:04<00:00,  3.99it/s]\n",
            " 88%|████████▊ | 176/200 [10:44<01:34,  3.94s/it]"
          ]
        },
        {
          "output_type": "stream",
          "name": "stdout",
          "text": [
            "cnt:  177\n"
          ]
        },
        {
          "output_type": "stream",
          "name": "stderr",
          "text": [
            "\n",
            "Batches:   0%|          | 0/16 [00:00<?, ?it/s]\u001b[A\n",
            "Batches:  12%|█▎        | 2/16 [00:00<00:01,  9.63it/s]\u001b[A\n",
            "Batches:  19%|█▉        | 3/16 [00:00<00:01,  6.71it/s]\u001b[A\n",
            "Batches:  25%|██▌       | 4/16 [00:00<00:02,  5.95it/s]\u001b[A\n",
            "Batches:  31%|███▏      | 5/16 [00:00<00:01,  5.75it/s]\u001b[A\n",
            "Batches:  38%|███▊      | 6/16 [00:01<00:01,  5.21it/s]\u001b[A\n",
            "Batches:  44%|████▍     | 7/16 [00:01<00:01,  5.72it/s]\u001b[A\n",
            "Batches:  50%|█████     | 8/16 [00:01<00:01,  5.43it/s]\u001b[A\n",
            "Batches:  56%|█████▋    | 9/16 [00:01<00:01,  5.59it/s]\u001b[A\n",
            "Batches:  62%|██████▎   | 10/16 [00:01<00:01,  5.76it/s]\u001b[A\n",
            "Batches:  69%|██████▉   | 11/16 [00:01<00:00,  5.32it/s]\u001b[A\n",
            "Batches:  75%|███████▌  | 12/16 [00:02<00:00,  5.27it/s]\u001b[A\n",
            "Batches:  81%|████████▏ | 13/16 [00:02<00:00,  5.37it/s]\u001b[A\n",
            "Batches:  88%|████████▊ | 14/16 [00:02<00:00,  5.06it/s]\u001b[A\n",
            "Batches:  94%|█████████▍| 15/16 [00:02<00:00,  4.40it/s]\u001b[A\n",
            "Batches: 100%|██████████| 16/16 [00:03<00:00,  5.33it/s]\n",
            " 88%|████████▊ | 177/200 [10:47<01:24,  3.70s/it]"
          ]
        },
        {
          "output_type": "stream",
          "name": "stdout",
          "text": [
            "cnt:  178\n"
          ]
        },
        {
          "output_type": "stream",
          "name": "stderr",
          "text": [
            "\n",
            "Batches:   0%|          | 0/16 [00:00<?, ?it/s]\u001b[A\n",
            "Batches:  12%|█▎        | 2/16 [00:00<00:02,  5.93it/s]\u001b[A\n",
            "Batches:  19%|█▉        | 3/16 [00:00<00:02,  5.40it/s]\u001b[A\n",
            "Batches:  25%|██▌       | 4/16 [00:00<00:02,  5.12it/s]\u001b[A\n",
            "Batches:  31%|███▏      | 5/16 [00:00<00:02,  4.94it/s]\u001b[A\n",
            "Batches:  38%|███▊      | 6/16 [00:01<00:02,  4.60it/s]\u001b[A\n",
            "Batches:  44%|████▍     | 7/16 [00:01<00:01,  4.66it/s]\u001b[A\n",
            "Batches:  50%|█████     | 8/16 [00:01<00:01,  4.53it/s]\u001b[A\n",
            "Batches:  56%|█████▋    | 9/16 [00:01<00:01,  4.54it/s]\u001b[A\n",
            "Batches:  62%|██████▎   | 10/16 [00:02<00:01,  4.56it/s]\u001b[A\n",
            "Batches:  69%|██████▉   | 11/16 [00:02<00:01,  4.49it/s]\u001b[A\n",
            "Batches:  75%|███████▌  | 12/16 [00:02<00:00,  4.62it/s]\u001b[A\n",
            "Batches:  81%|████████▏ | 13/16 [00:02<00:00,  4.51it/s]\u001b[A\n",
            "Batches:  88%|████████▊ | 14/16 [00:02<00:00,  4.47it/s]\u001b[A\n",
            "Batches:  94%|█████████▍| 15/16 [00:03<00:00,  4.65it/s]\u001b[A\n",
            "Batches: 100%|██████████| 16/16 [00:03<00:00,  4.73it/s]\n",
            " 89%|████████▉ | 178/200 [10:51<01:20,  3.64s/it]"
          ]
        },
        {
          "output_type": "stream",
          "name": "stdout",
          "text": [
            "cnt:  179\n"
          ]
        },
        {
          "output_type": "stream",
          "name": "stderr",
          "text": [
            "\n",
            "Batches:   0%|          | 0/16 [00:00<?, ?it/s]\u001b[A\n",
            "Batches:  12%|█▎        | 2/16 [00:00<00:02,  6.67it/s]\u001b[A\n",
            "Batches:  19%|█▉        | 3/16 [00:00<00:02,  4.79it/s]\u001b[A\n",
            "Batches:  25%|██▌       | 4/16 [00:00<00:02,  5.14it/s]\u001b[A\n",
            "Batches:  31%|███▏      | 5/16 [00:01<00:02,  4.70it/s]\u001b[A\n",
            "Batches:  38%|███▊      | 6/16 [00:01<00:02,  4.69it/s]\u001b[A\n",
            "Batches:  44%|████▍     | 7/16 [00:01<00:01,  4.84it/s]\u001b[A\n",
            "Batches:  50%|█████     | 8/16 [00:01<00:01,  4.76it/s]\u001b[A\n",
            "Batches:  56%|█████▋    | 9/16 [00:01<00:01,  4.70it/s]\u001b[A\n",
            "Batches:  62%|██████▎   | 10/16 [00:02<00:01,  4.71it/s]\u001b[A\n",
            "Batches:  69%|██████▉   | 11/16 [00:02<00:01,  4.91it/s]\u001b[A\n",
            "Batches:  75%|███████▌  | 12/16 [00:02<00:00,  4.92it/s]\u001b[A\n",
            "Batches:  81%|████████▏ | 13/16 [00:02<00:00,  4.95it/s]\u001b[A\n",
            "Batches:  88%|████████▊ | 14/16 [00:02<00:00,  4.73it/s]\u001b[A\n",
            "Batches:  94%|█████████▍| 15/16 [00:03<00:00,  4.46it/s]\u001b[A\n",
            "Batches: 100%|██████████| 16/16 [00:03<00:00,  4.72it/s]\n",
            " 90%|████████▉ | 179/200 [10:54<01:15,  3.61s/it]"
          ]
        },
        {
          "output_type": "stream",
          "name": "stdout",
          "text": [
            "cnt:  180\n"
          ]
        },
        {
          "output_type": "stream",
          "name": "stderr",
          "text": [
            "\n",
            "Batches:   0%|          | 0/16 [00:00<?, ?it/s]\u001b[A\n",
            "Batches:  12%|█▎        | 2/16 [00:00<00:02,  6.15it/s]\u001b[A\n",
            "Batches:  19%|█▉        | 3/16 [00:00<00:02,  4.56it/s]\u001b[A\n",
            "Batches:  25%|██▌       | 4/16 [00:00<00:02,  4.23it/s]\u001b[A\n",
            "Batches:  31%|███▏      | 5/16 [00:01<00:02,  4.13it/s]\u001b[A\n",
            "Batches:  38%|███▊      | 6/16 [00:01<00:02,  3.83it/s]\u001b[A\n",
            "Batches:  44%|████▍     | 7/16 [00:01<00:02,  3.83it/s]\u001b[A\n",
            "Batches:  50%|█████     | 8/16 [00:02<00:02,  3.55it/s]\u001b[A\n",
            "Batches:  56%|█████▋    | 9/16 [00:02<00:01,  3.82it/s]\u001b[A\n",
            "Batches:  62%|██████▎   | 10/16 [00:02<00:01,  3.68it/s]\u001b[A\n",
            "Batches:  69%|██████▉   | 11/16 [00:02<00:01,  3.76it/s]\u001b[A\n",
            "Batches:  75%|███████▌  | 12/16 [00:03<00:00,  4.03it/s]\u001b[A\n",
            "Batches:  81%|████████▏ | 13/16 [00:03<00:00,  3.90it/s]\u001b[A\n",
            "Batches:  88%|████████▊ | 14/16 [00:03<00:00,  3.87it/s]\u001b[A\n",
            "Batches:  94%|█████████▍| 15/16 [00:03<00:00,  3.65it/s]\u001b[A\n",
            "Batches: 100%|██████████| 16/16 [00:04<00:00,  3.87it/s]\n",
            " 90%|█████████ | 180/200 [10:59<01:16,  3.81s/it]"
          ]
        },
        {
          "output_type": "stream",
          "name": "stdout",
          "text": [
            "cnt:  181\n"
          ]
        },
        {
          "output_type": "stream",
          "name": "stderr",
          "text": [
            "\n",
            "Batches:   0%|          | 0/16 [00:00<?, ?it/s]\u001b[A\n",
            "Batches:  12%|█▎        | 2/16 [00:00<00:02,  6.90it/s]\u001b[A\n",
            "Batches:  19%|█▉        | 3/16 [00:00<00:02,  5.27it/s]\u001b[A\n",
            "Batches:  25%|██▌       | 4/16 [00:00<00:02,  5.05it/s]\u001b[A\n",
            "Batches:  31%|███▏      | 5/16 [00:01<00:02,  4.36it/s]\u001b[A\n",
            "Batches:  38%|███▊      | 6/16 [00:01<00:02,  4.53it/s]\u001b[A\n",
            "Batches:  44%|████▍     | 7/16 [00:01<00:02,  4.36it/s]\u001b[A\n",
            "Batches:  50%|█████     | 8/16 [00:01<00:01,  4.36it/s]\u001b[A\n",
            "Batches:  56%|█████▋    | 9/16 [00:01<00:01,  4.39it/s]\u001b[A\n",
            "Batches:  62%|██████▎   | 10/16 [00:02<00:01,  4.38it/s]\u001b[A\n",
            "Batches:  69%|██████▉   | 11/16 [00:02<00:01,  4.37it/s]\u001b[A\n",
            "Batches:  75%|███████▌  | 12/16 [00:02<00:00,  4.55it/s]\u001b[A\n",
            "Batches:  81%|████████▏ | 13/16 [00:02<00:00,  4.38it/s]\u001b[A\n",
            "Batches:  88%|████████▊ | 14/16 [00:03<00:00,  4.50it/s]\u001b[A\n",
            "Batches:  94%|█████████▍| 15/16 [00:03<00:00,  4.63it/s]\u001b[A\n",
            "Batches: 100%|██████████| 16/16 [00:03<00:00,  4.56it/s]\n",
            " 90%|█████████ | 181/200 [11:02<01:11,  3.77s/it]"
          ]
        },
        {
          "output_type": "stream",
          "name": "stdout",
          "text": [
            "cnt:  182\n"
          ]
        },
        {
          "output_type": "stream",
          "name": "stderr",
          "text": [
            "\n",
            "Batches:   0%|          | 0/16 [00:00<?, ?it/s]\u001b[A\n",
            "Batches:  12%|█▎        | 2/16 [00:00<00:02,  6.49it/s]\u001b[A\n",
            "Batches:  19%|█▉        | 3/16 [00:00<00:02,  5.36it/s]\u001b[A\n",
            "Batches:  25%|██▌       | 4/16 [00:00<00:02,  5.45it/s]\u001b[A\n",
            "Batches:  31%|███▏      | 5/16 [00:00<00:02,  5.10it/s]\u001b[A\n",
            "Batches:  38%|███▊      | 6/16 [00:01<00:02,  4.29it/s]\u001b[A\n",
            "Batches:  44%|████▍     | 7/16 [00:01<00:02,  4.38it/s]\u001b[A\n",
            "Batches:  50%|█████     | 8/16 [00:01<00:01,  4.69it/s]\u001b[A\n",
            "Batches:  56%|█████▋    | 9/16 [00:01<00:01,  4.69it/s]\u001b[A\n",
            "Batches:  62%|██████▎   | 10/16 [00:02<00:01,  4.37it/s]\u001b[A\n",
            "Batches:  69%|██████▉   | 11/16 [00:02<00:01,  4.72it/s]\u001b[A\n",
            "Batches:  75%|███████▌  | 12/16 [00:02<00:00,  4.61it/s]\u001b[A\n",
            "Batches:  81%|████████▏ | 13/16 [00:02<00:00,  4.51it/s]\u001b[A\n",
            "Batches:  88%|████████▊ | 14/16 [00:02<00:00,  4.50it/s]\u001b[A\n",
            "Batches:  94%|█████████▍| 15/16 [00:03<00:00,  4.70it/s]\u001b[A\n",
            "Batches: 100%|██████████| 16/16 [00:03<00:00,  4.72it/s]\n",
            " 91%|█████████ | 182/200 [11:06<01:06,  3.70s/it]"
          ]
        },
        {
          "output_type": "stream",
          "name": "stdout",
          "text": [
            "cnt:  183\n"
          ]
        },
        {
          "output_type": "stream",
          "name": "stderr",
          "text": [
            "\n",
            "Batches:   0%|          | 0/7 [00:00<?, ?it/s]\u001b[A\n",
            "Batches:  29%|██▊       | 2/7 [00:00<00:00,  9.75it/s]\u001b[A\n",
            "Batches:  43%|████▎     | 3/7 [00:00<00:00,  6.95it/s]\u001b[A\n",
            "Batches:  57%|█████▋    | 4/7 [00:00<00:00,  7.02it/s]\u001b[A\n",
            "Batches:  71%|███████▏  | 5/7 [00:00<00:00,  5.46it/s]\u001b[A\n",
            "Batches:  86%|████████▌ | 6/7 [00:01<00:00,  5.22it/s]\u001b[A\n",
            "Batches: 100%|██████████| 7/7 [00:01<00:00,  5.67it/s]\n",
            " 92%|█████████▏| 183/200 [11:07<00:50,  2.98s/it]"
          ]
        },
        {
          "output_type": "stream",
          "name": "stdout",
          "text": [
            "cnt:  184\n"
          ]
        },
        {
          "output_type": "stream",
          "name": "stderr",
          "text": [
            "\n",
            "Batches:   0%|          | 0/16 [00:00<?, ?it/s]\u001b[A\n",
            "Batches:  12%|█▎        | 2/16 [00:00<00:02,  6.72it/s]\u001b[A\n",
            "Batches:  19%|█▉        | 3/16 [00:00<00:02,  4.78it/s]\u001b[A\n",
            "Batches:  25%|██▌       | 4/16 [00:00<00:02,  5.17it/s]\u001b[A\n",
            "Batches:  31%|███▏      | 5/16 [00:00<00:02,  5.01it/s]\u001b[A\n",
            "Batches:  38%|███▊      | 6/16 [00:01<00:02,  4.85it/s]\u001b[A\n",
            "Batches:  44%|████▍     | 7/16 [00:01<00:01,  4.87it/s]\u001b[A\n",
            "Batches:  50%|█████     | 8/16 [00:01<00:01,  4.86it/s]\u001b[A\n",
            "Batches:  56%|█████▋    | 9/16 [00:01<00:01,  4.11it/s]\u001b[A\n",
            "Batches:  62%|██████▎   | 10/16 [00:02<00:01,  3.79it/s]\u001b[A\n",
            "Batches:  69%|██████▉   | 11/16 [00:02<00:01,  4.24it/s]\u001b[A\n",
            "Batches:  75%|███████▌  | 12/16 [00:02<00:00,  4.08it/s]\u001b[A\n",
            "Batches:  81%|████████▏ | 13/16 [00:02<00:00,  3.78it/s]\u001b[A\n",
            "Batches:  88%|████████▊ | 14/16 [00:03<00:00,  3.89it/s]\u001b[A\n",
            "Batches:  94%|█████████▍| 15/16 [00:03<00:00,  4.10it/s]\u001b[A\n",
            "Batches: 100%|██████████| 16/16 [00:03<00:00,  4.27it/s]\n",
            " 92%|█████████▏| 184/200 [11:11<00:52,  3.25s/it]"
          ]
        },
        {
          "output_type": "stream",
          "name": "stdout",
          "text": [
            "cnt:  185\n"
          ]
        },
        {
          "output_type": "stream",
          "name": "stderr",
          "text": [
            "\n",
            "Batches:   0%|          | 0/16 [00:00<?, ?it/s]\u001b[A\n",
            "Batches:  12%|█▎        | 2/16 [00:00<00:01,  9.01it/s]\u001b[A\n",
            "Batches:  19%|█▉        | 3/16 [00:00<00:01,  7.11it/s]\u001b[A\n",
            "Batches:  25%|██▌       | 4/16 [00:00<00:01,  6.10it/s]\u001b[A\n",
            "Batches:  31%|███▏      | 5/16 [00:00<00:01,  6.03it/s]\u001b[A\n",
            "Batches:  38%|███▊      | 6/16 [00:00<00:01,  5.65it/s]\u001b[A\n",
            "Batches:  44%|████▍     | 7/16 [00:01<00:01,  5.28it/s]\u001b[A\n",
            "Batches:  50%|█████     | 8/16 [00:01<00:01,  5.53it/s]\u001b[A\n",
            "Batches:  56%|█████▋    | 9/16 [00:01<00:01,  5.69it/s]\u001b[A\n",
            "Batches:  62%|██████▎   | 10/16 [00:01<00:01,  5.05it/s]\u001b[A\n",
            "Batches:  69%|██████▉   | 11/16 [00:01<00:00,  5.14it/s]\u001b[A\n",
            "Batches:  75%|███████▌  | 12/16 [00:02<00:00,  5.21it/s]\u001b[A\n",
            "Batches:  81%|████████▏ | 13/16 [00:02<00:00,  5.34it/s]\u001b[A\n",
            "Batches:  88%|████████▊ | 14/16 [00:02<00:00,  5.11it/s]\u001b[A\n",
            "Batches:  94%|█████████▍| 15/16 [00:02<00:00,  4.67it/s]\u001b[A\n",
            "Batches: 100%|██████████| 16/16 [00:03<00:00,  5.24it/s]\n",
            " 92%|█████████▎| 185/200 [11:14<00:48,  3.24s/it]"
          ]
        },
        {
          "output_type": "stream",
          "name": "stdout",
          "text": [
            "cnt:  186\n"
          ]
        },
        {
          "output_type": "stream",
          "name": "stderr",
          "text": [
            "\n",
            "Batches:   0%|          | 0/16 [00:00<?, ?it/s]\u001b[A\n",
            "Batches:  12%|█▎        | 2/16 [00:00<00:01,  7.76it/s]\u001b[A\n",
            "Batches:  19%|█▉        | 3/16 [00:00<00:02,  5.93it/s]\u001b[A\n",
            "Batches:  25%|██▌       | 4/16 [00:00<00:02,  5.42it/s]\u001b[A\n",
            "Batches:  31%|███▏      | 5/16 [00:00<00:02,  5.46it/s]\u001b[A\n",
            "Batches:  38%|███▊      | 6/16 [00:01<00:02,  4.89it/s]\u001b[A\n",
            "Batches:  44%|████▍     | 7/16 [00:01<00:01,  5.10it/s]\u001b[A\n",
            "Batches:  50%|█████     | 8/16 [00:01<00:01,  5.22it/s]\u001b[A\n",
            "Batches:  56%|█████▋    | 9/16 [00:01<00:01,  4.69it/s]\u001b[A\n",
            "Batches:  62%|██████▎   | 10/16 [00:02<00:01,  4.12it/s]\u001b[A\n",
            "Batches:  69%|██████▉   | 11/16 [00:02<00:01,  3.96it/s]\u001b[A\n",
            "Batches:  75%|███████▌  | 12/16 [00:02<00:00,  4.23it/s]\u001b[A\n",
            "Batches:  81%|████████▏ | 13/16 [00:02<00:00,  4.44it/s]\u001b[A\n",
            "Batches:  88%|████████▊ | 14/16 [00:03<00:00,  4.08it/s]\u001b[A\n",
            "Batches:  94%|█████████▍| 15/16 [00:03<00:00,  4.09it/s]\u001b[A\n",
            "Batches: 100%|██████████| 16/16 [00:03<00:00,  4.62it/s]\n",
            " 93%|█████████▎| 186/200 [11:18<00:46,  3.34s/it]"
          ]
        },
        {
          "output_type": "stream",
          "name": "stdout",
          "text": [
            "cnt:  187\n"
          ]
        },
        {
          "output_type": "stream",
          "name": "stderr",
          "text": [
            "\n",
            "Batches:   0%|          | 0/16 [00:00<?, ?it/s]\u001b[A\n",
            "Batches:  12%|█▎        | 2/16 [00:00<00:01,  8.83it/s]\u001b[A\n",
            "Batches:  19%|█▉        | 3/16 [00:00<00:01,  7.37it/s]\u001b[A\n",
            "Batches:  25%|██▌       | 4/16 [00:00<00:01,  6.51it/s]\u001b[A\n",
            "Batches:  31%|███▏      | 5/16 [00:00<00:02,  5.18it/s]\u001b[A\n",
            "Batches:  38%|███▊      | 6/16 [00:01<00:02,  4.71it/s]\u001b[A\n",
            "Batches:  44%|████▍     | 7/16 [00:01<00:02,  4.35it/s]\u001b[A\n",
            "Batches:  50%|█████     | 8/16 [00:01<00:01,  4.48it/s]\u001b[A\n",
            "Batches:  56%|█████▋    | 9/16 [00:01<00:01,  4.80it/s]\u001b[A\n",
            "Batches:  62%|██████▎   | 10/16 [00:01<00:01,  4.69it/s]\u001b[A\n",
            "Batches:  69%|██████▉   | 11/16 [00:02<00:01,  4.96it/s]\u001b[A\n",
            "Batches:  75%|███████▌  | 12/16 [00:02<00:00,  5.03it/s]\u001b[A\n",
            "Batches:  81%|████████▏ | 13/16 [00:02<00:00,  5.22it/s]\u001b[A\n",
            "Batches:  88%|████████▊ | 14/16 [00:02<00:00,  5.59it/s]\u001b[A\n",
            "Batches:  94%|█████████▍| 15/16 [00:02<00:00,  5.30it/s]\u001b[A\n",
            "Batches: 100%|██████████| 16/16 [00:03<00:00,  5.16it/s]\n",
            " 94%|█████████▎| 187/200 [11:21<00:42,  3.31s/it]"
          ]
        },
        {
          "output_type": "stream",
          "name": "stdout",
          "text": [
            "cnt:  188\n"
          ]
        },
        {
          "output_type": "stream",
          "name": "stderr",
          "text": [
            "\n",
            "Batches:   0%|          | 0/16 [00:00<?, ?it/s]\u001b[A\n",
            "Batches:  12%|█▎        | 2/16 [00:00<00:01,  9.45it/s]\u001b[A\n",
            "Batches:  19%|█▉        | 3/16 [00:00<00:02,  5.43it/s]\u001b[A\n",
            "Batches:  25%|██▌       | 4/16 [00:00<00:02,  5.23it/s]\u001b[A\n",
            "Batches:  31%|███▏      | 5/16 [00:00<00:02,  4.90it/s]\u001b[A\n",
            "Batches:  38%|███▊      | 6/16 [00:01<00:02,  4.79it/s]\u001b[A\n",
            "Batches:  44%|████▍     | 7/16 [00:01<00:01,  4.53it/s]\u001b[A\n",
            "Batches:  50%|█████     | 8/16 [00:01<00:01,  4.30it/s]\u001b[A\n",
            "Batches:  56%|█████▋    | 9/16 [00:01<00:01,  4.30it/s]\u001b[A\n",
            "Batches:  62%|██████▎   | 10/16 [00:02<00:01,  4.30it/s]\u001b[A\n",
            "Batches:  69%|██████▉   | 11/16 [00:02<00:01,  4.27it/s]\u001b[A\n",
            "Batches:  75%|███████▌  | 12/16 [00:02<00:00,  4.68it/s]\u001b[A\n",
            "Batches:  81%|████████▏ | 13/16 [00:02<00:00,  4.97it/s]\u001b[A\n",
            "Batches:  88%|████████▊ | 14/16 [00:02<00:00,  4.75it/s]\u001b[A\n",
            "Batches:  94%|█████████▍| 15/16 [00:03<00:00,  4.44it/s]\u001b[A\n",
            "Batches: 100%|██████████| 16/16 [00:03<00:00,  4.59it/s]\n",
            " 94%|█████████▍| 188/200 [11:25<00:40,  3.41s/it]"
          ]
        },
        {
          "output_type": "stream",
          "name": "stdout",
          "text": [
            "cnt:  189\n"
          ]
        },
        {
          "output_type": "stream",
          "name": "stderr",
          "text": [
            "\n",
            "Batches:   0%|          | 0/16 [00:00<?, ?it/s]\u001b[A\n",
            "Batches:  12%|█▎        | 2/16 [00:00<00:01, 12.53it/s]\u001b[A\n",
            "Batches:  25%|██▌       | 4/16 [00:00<00:01,  7.47it/s]\u001b[A\n",
            "Batches:  31%|███▏      | 5/16 [00:00<00:01,  7.05it/s]\u001b[A\n",
            "Batches:  38%|███▊      | 6/16 [00:00<00:01,  6.58it/s]\u001b[A\n",
            "Batches:  44%|████▍     | 7/16 [00:01<00:01,  5.12it/s]\u001b[A\n",
            "Batches:  50%|█████     | 8/16 [00:01<00:01,  5.33it/s]\u001b[A\n",
            "Batches:  56%|█████▋    | 9/16 [00:01<00:01,  5.13it/s]\u001b[A\n",
            "Batches:  62%|██████▎   | 10/16 [00:01<00:01,  5.42it/s]\u001b[A\n",
            "Batches:  69%|██████▉   | 11/16 [00:01<00:00,  5.72it/s]\u001b[A\n",
            "Batches:  75%|███████▌  | 12/16 [00:02<00:00,  5.38it/s]\u001b[A\n",
            "Batches:  81%|████████▏ | 13/16 [00:02<00:00,  4.78it/s]\u001b[A\n",
            "Batches:  88%|████████▊ | 14/16 [00:02<00:00,  5.22it/s]\u001b[A\n",
            "Batches:  94%|█████████▍| 15/16 [00:02<00:00,  5.27it/s]\u001b[A\n",
            "Batches: 100%|██████████| 16/16 [00:02<00:00,  5.58it/s]\n",
            " 94%|█████████▍| 189/200 [11:28<00:36,  3.29s/it]"
          ]
        },
        {
          "output_type": "stream",
          "name": "stdout",
          "text": [
            "cnt:  190\n"
          ]
        },
        {
          "output_type": "stream",
          "name": "stderr",
          "text": [
            "\n",
            "Batches:   0%|          | 0/16 [00:00<?, ?it/s]\u001b[A\n",
            "Batches:  12%|█▎        | 2/16 [00:00<00:02,  6.08it/s]\u001b[A\n",
            "Batches:  19%|█▉        | 3/16 [00:00<00:02,  5.57it/s]\u001b[A\n",
            "Batches:  25%|██▌       | 4/16 [00:00<00:02,  4.44it/s]\u001b[A\n",
            "Batches:  31%|███▏      | 5/16 [00:01<00:02,  4.29it/s]\u001b[A\n",
            "Batches:  38%|███▊      | 6/16 [00:01<00:02,  4.13it/s]\u001b[A\n",
            "Batches:  44%|████▍     | 7/16 [00:01<00:02,  4.29it/s]\u001b[A\n",
            "Batches:  50%|█████     | 8/16 [00:01<00:01,  4.18it/s]\u001b[A\n",
            "Batches:  56%|█████▋    | 9/16 [00:02<00:01,  4.38it/s]\u001b[A\n",
            "Batches:  62%|██████▎   | 10/16 [00:02<00:01,  4.31it/s]\u001b[A\n",
            "Batches:  69%|██████▉   | 11/16 [00:02<00:01,  4.43it/s]\u001b[A\n",
            "Batches:  75%|███████▌  | 12/16 [00:02<00:00,  4.72it/s]\u001b[A\n",
            "Batches:  81%|████████▏ | 13/16 [00:02<00:00,  4.72it/s]\u001b[A\n",
            "Batches:  88%|████████▊ | 14/16 [00:03<00:00,  4.06it/s]\u001b[A\n",
            "Batches:  94%|█████████▍| 15/16 [00:03<00:00,  4.37it/s]\u001b[A\n",
            "Batches: 100%|██████████| 16/16 [00:03<00:00,  4.50it/s]\n",
            " 95%|█████████▌| 190/200 [11:31<00:34,  3.43s/it]"
          ]
        },
        {
          "output_type": "stream",
          "name": "stdout",
          "text": [
            "cnt:  191\n"
          ]
        },
        {
          "output_type": "stream",
          "name": "stderr",
          "text": [
            "\n",
            "Batches: 100%|██████████| 1/1 [00:00<00:00, 15.47it/s]\n",
            " 96%|█████████▌| 191/200 [11:31<00:22,  2.45s/it]"
          ]
        },
        {
          "output_type": "stream",
          "name": "stdout",
          "text": [
            "cnt:  192\n"
          ]
        },
        {
          "output_type": "stream",
          "name": "stderr",
          "text": [
            "\n",
            "Batches:   0%|          | 0/5 [00:00<?, ?it/s]\u001b[A\n",
            "Batches:  40%|████      | 2/5 [00:00<00:00,  7.18it/s]\u001b[A\n",
            "Batches:  60%|██████    | 3/5 [00:00<00:00,  5.37it/s]\u001b[A\n",
            "Batches:  80%|████████  | 4/5 [00:00<00:00,  4.69it/s]\u001b[A\n",
            "Batches: 100%|██████████| 5/5 [00:01<00:00,  4.71it/s]\n",
            " 96%|█████████▌| 192/200 [11:33<00:16,  2.06s/it]"
          ]
        },
        {
          "output_type": "stream",
          "name": "stdout",
          "text": [
            "cnt:  193\n"
          ]
        },
        {
          "output_type": "stream",
          "name": "stderr",
          "text": [
            "\n",
            "Batches: 100%|██████████| 1/1 [00:00<00:00, 20.29it/s]\n",
            " 96%|█████████▋| 193/200 [11:33<00:10,  1.48s/it]"
          ]
        },
        {
          "output_type": "stream",
          "name": "stdout",
          "text": [
            "cnt:  194\n"
          ]
        },
        {
          "output_type": "stream",
          "name": "stderr",
          "text": [
            "\n",
            "Batches: 100%|██████████| 1/1 [00:00<00:00, 20.29it/s]\n",
            " 97%|█████████▋| 194/200 [11:33<00:06,  1.07s/it]"
          ]
        },
        {
          "output_type": "stream",
          "name": "stdout",
          "text": [
            "cnt:  195\n"
          ]
        },
        {
          "output_type": "stream",
          "name": "stderr",
          "text": [
            "\n",
            "Batches: 100%|██████████| 1/1 [00:00<00:00, 28.45it/s]\n"
          ]
        },
        {
          "output_type": "stream",
          "name": "stdout",
          "text": [
            "cnt:  196\n"
          ]
        },
        {
          "output_type": "stream",
          "name": "stderr",
          "text": [
            "\n",
            "Batches: 100%|██████████| 1/1 [00:00<00:00, 30.40it/s]\n"
          ]
        },
        {
          "output_type": "stream",
          "name": "stdout",
          "text": [
            "cnt:  197\n"
          ]
        },
        {
          "output_type": "stream",
          "name": "stderr",
          "text": [
            "\n",
            "Batches: 100%|██████████| 1/1 [00:00<00:00, 24.18it/s]\n",
            " 98%|█████████▊| 197/200 [11:33<00:01,  2.02it/s]"
          ]
        },
        {
          "output_type": "stream",
          "name": "stdout",
          "text": [
            "cnt:  198\n"
          ]
        },
        {
          "output_type": "stream",
          "name": "stderr",
          "text": [
            "\n",
            "Batches: 100%|██████████| 1/1 [00:00<00:00, 19.08it/s]\n",
            " 99%|█████████▉| 198/200 [11:33<00:00,  2.36it/s]"
          ]
        },
        {
          "output_type": "stream",
          "name": "stdout",
          "text": [
            "cnt:  199\n"
          ]
        },
        {
          "output_type": "stream",
          "name": "stderr",
          "text": [
            "\n",
            "Batches: 100%|██████████| 1/1 [00:00<00:00, 31.08it/s]\n"
          ]
        },
        {
          "output_type": "stream",
          "name": "stdout",
          "text": [
            "cnt:  200\n"
          ]
        },
        {
          "output_type": "stream",
          "name": "stderr",
          "text": [
            "\n",
            "Batches: 100%|██████████| 1/1 [00:00<00:00, 29.29it/s]\n",
            "100%|██████████| 200/200 [11:33<00:00,  3.47s/it]\n"
          ]
        },
        {
          "output_type": "stream",
          "name": "stdout",
          "text": [
            "metrics eval:  ndcg_cut.10: 0.710079666229353 | recall.10: 0.172690339906743 | map_cut.1000: 0.480418330348274 | \n",
            "measures_results:  {'ndcg_cut.10': 0.710079666229353, 'recall.10': 0.172690339906743, 'map_cut.1000': 0.480418330348274}\n"
          ]
        },
        {
          "output_type": "execute_result",
          "data": {
            "text/plain": [
              "'## BM25, MAP: 0.06\\n## LegalBERT-finetuned, MAP: 0.19\\n'"
            ],
            "application/vnd.google.colaboratory.intrinsic+json": {
              "type": "string"
            }
          },
          "metadata": {},
          "execution_count": 11
        }
      ]
    }
  ]
}